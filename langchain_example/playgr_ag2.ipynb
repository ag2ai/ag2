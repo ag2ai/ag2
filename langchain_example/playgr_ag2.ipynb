{
 "cells": [
  {
   "cell_type": "code",
   "execution_count": null,
   "metadata": {},
   "outputs": [],
   "source": [
    "from mcp import ClientSession, StdioServerParameters\n",
    "from mcp.client.stdio import stdio_client\n",
    "\n",
    "from autogen.agentchat import AssistantAgent\n",
    "from autogen.interop import (\n",
    "    Interoperability,  # noqa: F401\n",
    "    Interoperable,\n",
    "    MCPInteroperability,\n",
    ")\n",
    "from autogen.tools import Toolkit  # noqa: F401"
   ]
  },
  {
   "cell_type": "code",
   "execution_count": null,
   "metadata": {},
   "outputs": [],
   "source": [
    "interop: Interoperable = MCPInteroperability()\n",
    "\n",
    "# runtime check\n",
    "assert isinstance(interop, Interoperable)"
   ]
  },
  {
   "cell_type": "code",
   "execution_count": null,
   "metadata": {},
   "outputs": [],
   "source": [
    "import nest_asyncio\n",
    "\n",
    "nest_asyncio.apply()"
   ]
  },
  {
   "cell_type": "code",
   "execution_count": null,
   "metadata": {},
   "outputs": [],
   "source": [
    "server_params = StdioServerParameters(\n",
    "    command=\"python\",\n",
    "    # Make sure to update to the full absolute path to your math_server.py file\n",
    "    args=[\"math_server.py\"],\n",
    ")\n",
    "\n",
    "async with stdio_client(server_params) as (read, write):\n",
    "    async with ClientSession(read, write) as session:\n",
    "        # Initialize the connection\n",
    "        await session.initialize()\n",
    "\n",
    "        # mcp_tools = await session.list_tools()\n",
    "        # interop = Interoperability()\n",
    "        # tools = [interop.convert_tool(tool=mcp_tool, type=\"mcp\", session=session) for mcp_tool in mcp_tools.tools]\n",
    "        # toolkit = Toolkit(tools=tools)\n",
    "\n",
    "        toolkit = await MCPInteroperability.load_mcp_toolkit(session=session)\n",
    "\n",
    "        agent = AssistantAgent(name=\"assistant\", llm_config={\"model\": \"gpt-4o-mini\", \"api_type\": \"openai\"})\n",
    "        toolkit.register_for_llm(agent)\n",
    "\n",
    "        agent.run(\n",
    "            message=\"Add 123223 and 456789\",\n",
    "            tools=toolkit.tools,\n",
    "            max_turns=2,\n",
    "            user_input=False,\n",
    "        )"
   ]
  },
  {
   "cell_type": "code",
   "execution_count": null,
   "metadata": {},
   "outputs": [],
   "source": []
  }
 ],
 "metadata": {
  "kernelspec": {
   "display_name": ".venv",
   "language": "python",
   "name": "python3"
  },
  "language_info": {
   "codemirror_mode": {
    "name": "ipython",
    "version": 3
   },
   "file_extension": ".py",
   "mimetype": "text/x-python",
   "name": "python",
   "nbconvert_exporter": "python",
   "pygments_lexer": "ipython3",
   "version": "3.11.8"
  }
 },
 "nbformat": 4,
 "nbformat_minor": 2
}
