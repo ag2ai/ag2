{
 "cells": [
  {
   "cell_type": "markdown",
   "metadata": {},
   "source": [
    "# RFC 001: Global run function"
   ]
  },
  {
   "cell_type": "code",
   "execution_count": null,
   "metadata": {},
   "outputs": [],
   "source": [
    "from abc import ABC, abstractmethod\n",
    "from typing import Annotated, Any, Iterable, Literal, Optional, Protocol\n",
    "from unittest.mock import MagicMock\n",
    "from uuid import UUID, uuid4\n",
    "\n",
    "from pydantic import BaseModel, Field\n",
    "\n",
    "from autogen import Agent"
   ]
  },
  {
   "cell_type": "markdown",
   "metadata": {},
   "source": [
    "## Messages\n",
    "\n",
    "Eventually, we will move away from dictionaries and represent all messages with objects (dataclasses or Pydantic base models). For now, we will use existing implementation."
   ]
  },
  {
   "cell_type": "code",
   "execution_count": null,
   "metadata": {},
   "outputs": [],
   "source": [
    "Message = dict[str, Any]"
   ]
  },
  {
   "cell_type": "markdown",
   "metadata": {},
   "source": [
    "## Events\n",
    "\n",
    "These are six different abstract types of events used by the runtime."
   ]
  },
  {
   "cell_type": "code",
   "execution_count": null,
   "metadata": {},
   "outputs": [],
   "source": [
    "EventType = Literal[\"input_request\", \"async_input_request\", \"input_response\", \"agent_message\", \"output\", \"system\"]\n",
    "\n",
    "\n",
    "class Event(BaseModel, ABC):\n",
    "    uuid: Annotated[UUID, Field(default_factory=uuid4)]\n",
    "\n",
    "    type: EventType\n",
    "\n",
    "    @abstractmethod\n",
    "    def process(self, event_processor: \"EventProcessorProtocol\"): ...\n",
    "\n",
    "    @abstractmethod\n",
    "    async def a_process(self, event_processor: \"AsyncEventProcessorProtocol\"): ...\n",
    "\n",
    "\n",
    "class InputRequestEvent(Event):\n",
    "    prompt: str\n",
    "\n",
    "    def respond(self, response: \"InputResponseEvent\"):\n",
    "        pass\n",
    "\n",
    "    type: EventType = \"input_request\"\n",
    "\n",
    "    def process(self, event_processor: \"EventProcessorProtocol\"):\n",
    "        print(f\"InputRequestEvent.process: {self=}, {event_processor=}\")\n",
    "        event_processor.process_input_request_event(self)\n",
    "\n",
    "    async def a_process(self, event_processor: \"AsyncEventProcessorProtocol\"):\n",
    "        await event_processor.a_process_input_request_event(self)\n",
    "\n",
    "\n",
    "class AsyncInputRequestEvent(Event):\n",
    "    prompt: str\n",
    "\n",
    "    async def a_respond(self, response: \"InputResponseEvent\"):\n",
    "        pass\n",
    "\n",
    "    type: EventType = \"async_input_request\"\n",
    "\n",
    "    def process(self, event_processor: \"EventProcessorProtocol\"):\n",
    "        raise RuntimeError(\"Cannot process async input request synchronously\")\n",
    "\n",
    "    async def a_process(self, event_processor: \"AsyncEventProcessorProtocol\"):\n",
    "        await event_processor.a_process_async_input_request_event(self)\n",
    "\n",
    "\n",
    "class InputResponseEvent(Event):\n",
    "    type: EventType = \"input_response\"\n",
    "\n",
    "    value: str\n",
    "\n",
    "    def process(self, event_processor: \"EventProcessorProtocol\"):\n",
    "        event_processor.process_input_response_event(self)\n",
    "\n",
    "    async def a_process(self, event_processor: \"AsyncEventProcessorProtocol\"):\n",
    "        await event_processor.a_process_input_response_event(self)\n",
    "\n",
    "\n",
    "class AgentMessageEvent(Event):\n",
    "    message: Message\n",
    "\n",
    "    type: EventType = \"agent_message\"\n",
    "\n",
    "    def process(self, event_processor: \"EventProcessorProtocol\"):\n",
    "        event_processor.process_agent_message_event(self)\n",
    "\n",
    "    async def a_process(self, event_processor: \"AsyncEventProcessorProtocol\"):\n",
    "        await event_processor.a_process_agent_message_event(self)\n",
    "\n",
    "\n",
    "class OutputEvent(Event):\n",
    "    value: str\n",
    "\n",
    "    type: EventType = \"output\"\n",
    "\n",
    "    def process(self, event_processor: \"EventProcessorProtocol\"):\n",
    "        event_processor.process_output_event(self)\n",
    "\n",
    "    async def a_process(self, event_processor: \"AsyncEventProcessorProtocol\"):\n",
    "        await event_processor.a_process_output_event(self)\n",
    "\n",
    "\n",
    "class SystemEvent(Event):\n",
    "    value: str\n",
    "\n",
    "    type: EventType = \"system\"\n",
    "\n",
    "    def process(self, event_processor: \"EventProcessorProtocol\"):\n",
    "        event_processor.process_system_event(self)\n",
    "\n",
    "    async def a_process(self, event_processor: \"AsyncEventProcessorProtocol\"):\n",
    "        await event_processor.a_process_system_event(self)"
   ]
  },
  {
   "cell_type": "markdown",
   "metadata": {},
   "source": [
    "Helpers"
   ]
  },
  {
   "cell_type": "code",
   "execution_count": null,
   "metadata": {},
   "outputs": [],
   "source": [
    "def is_input_request(event: Event) -> bool:\n",
    "    return event.type == \"input_request\"\n",
    "\n",
    "\n",
    "def is_async_input_request(event: Event) -> bool:\n",
    "    return event.type == \"async_input_request\"\n",
    "\n",
    "\n",
    "def is_input_response(event: Event) -> bool:\n",
    "    return event.type == \"input_response\"\n",
    "\n",
    "\n",
    "def is_output(event: Event) -> bool:\n",
    "    return event.type == \"output\"\n",
    "\n",
    "\n",
    "def is_agent_message(event: Event) -> bool:\n",
    "    return event.type == \"agent_message\"\n",
    "\n",
    "\n",
    "def is_system_event(event: Event) -> bool:\n",
    "    return event.type == \"system\""
   ]
  },
  {
   "cell_type": "markdown",
   "metadata": {},
   "source": [
    "## Global run function"
   ]
  },
  {
   "cell_type": "code",
   "execution_count": null,
   "metadata": {},
   "outputs": [],
   "source": [
    "from typing import AsyncIterable\n",
    "\n",
    "\n",
    "class RunResponseProtocol(Protocol):\n",
    "    @property\n",
    "    def events(self) -> Iterable[Event]: ...\n",
    "\n",
    "    @property\n",
    "    def messages(self) -> Iterable[Message]: ...\n",
    "\n",
    "    @property\n",
    "    def summary(self) -> str: ...\n",
    "\n",
    "\n",
    "def process_run_response(run_response: RunResponseProtocol, processor: \"EventProcessorProtocol\") -> None:\n",
    "    for event in run_response.events:\n",
    "        event.process(processor)\n",
    "\n",
    "\n",
    "class AsyncRunResponseProtocol(Protocol):\n",
    "    @property\n",
    "    def events(self) -> AsyncIterable[Event]: ...\n",
    "\n",
    "    @property\n",
    "    def messages(self) -> AsyncIterable[Message]: ...\n",
    "\n",
    "    @property\n",
    "    async def summary(self) -> str: ..."
   ]
  },
  {
   "cell_type": "code",
   "execution_count": null,
   "metadata": {},
   "outputs": [],
   "source": []
  },
  {
   "cell_type": "code",
   "execution_count": null,
   "metadata": {},
   "outputs": [],
   "source": [
    "def run(\n",
    "    *agents: Agent, message: Optional[str] = None, previous_run: Optional[RunResponseProtocol] = None, **kwargs: Any\n",
    ") -> RunResponseProtocol:\n",
    "    \"\"\"Run the agents with the given initial message.\n",
    "\n",
    "    Args:\n",
    "        agents: The agents to run.\n",
    "        message: The initial message to send to the first agent.\n",
    "        previous_run: The previous run to continue.\n",
    "        kwargs: Additional arguments to pass to the agents.\n",
    "\n",
    "    \"\"\"\n",
    "    ...\n",
    "\n",
    "\n",
    "async def a_run(\n",
    "    *agents: Agent, message: Optional[str] = None, previous_run: Optional[RunResponseProtocol] = None, **kwargs: Any\n",
    ") -> AsyncRunResponseProtocol:\n",
    "    \"\"\"Run the agents with the given initial message.\n",
    "\n",
    "    Args:\n",
    "        agents: The agents to run.\n",
    "        message: The initial message to send to the first agent.\n",
    "        previous_run: The previous run to continue.\n",
    "        kwargs: Additional arguments to pass to the agents.\n",
    "\n",
    "    \"\"\"\n",
    "    ..."
   ]
  },
  {
   "cell_type": "markdown",
   "metadata": {},
   "source": [
    "## Event processing loop"
   ]
  },
  {
   "cell_type": "code",
   "execution_count": null,
   "metadata": {},
   "outputs": [],
   "source": [
    "import unittest\n",
    "\n",
    "from autogen import ConversableAgent\n",
    "\n",
    "agents: list[Agent] = [ConversableAgent(name=\"Alice\"), ConversableAgent(name=\"Bob\")]\n",
    "\n",
    "response = run(*agents, message=\"What is the meaning of life?\")\n",
    "\n",
    "# mocking response\n",
    "response = MagicMock(spec=RunResponseProtocol)\n",
    "response.events = [\n",
    "    InputRequestEvent(prompt=\"What is the meaning of life?\"),\n",
    "    InputResponseEvent(value=\"42\"),\n",
    "    AgentMessageEvent(message={\"text\": \"What is the meaning of life?\", \"sender\": \"Alice\"}),\n",
    "    OutputEvent(value=\"thinking about it...\"),\n",
    "    SystemEvent(value=\"done\"),\n",
    "]\n",
    "response.messages = [\n",
    "    {\"text\": \"What is the meaning of life?\", \"sender\": \"Alice\"},\n",
    "]\n",
    "response.summary = \"Alice and Bob had a conversation about the meaning of life.\"\n",
    "\n",
    "with unittest.mock.patch(\"builtins.input\", return_value=\"42\"):\n",
    "    for event in response.events:\n",
    "        print(f\"Event: {event}\")\n",
    "        if is_input_request(event):\n",
    "            print(f\"Input request: {event.prompt}\")\n",
    "            s = input(event.prompt)\n",
    "\n",
    "            print(f\"Response from UI: {s}\")\n",
    "            event.respond(s)\n",
    "\n",
    "        elif is_output(event):\n",
    "            print(f\"Output message: {event.value}\")\n",
    "\n",
    "        elif is_system_event(event):\n",
    "            print(f\"System event: {event}\")\n",
    "\n",
    "print()\n",
    "print(f\"Messages: {response.messages}\")\n",
    "\n",
    "print()\n",
    "print(f\"Summary: {response.summary}\")"
   ]
  },
  {
   "cell_type": "markdown",
   "metadata": {},
   "source": [
    "## Event processor classes"
   ]
  },
  {
   "cell_type": "code",
   "execution_count": null,
   "metadata": {},
   "outputs": [],
   "source": [
    "class EventProcessorProtocol(Protocol):\n",
    "    def process_input_request_event(self, event: Event): ...\n",
    "\n",
    "    def process_input_response_event(self, event: Event): ...\n",
    "\n",
    "    def process_agent_message_event(self, event: Event): ...\n",
    "\n",
    "    def process_output_event(self, event: Event): ...\n",
    "\n",
    "    def process_system_event(self, event: Event): ...\n",
    "\n",
    "\n",
    "class SimpleEventProcessor:\n",
    "    def process_input_request_event(self, event: Event):\n",
    "        print(f\"Input request: {event.prompt}\")\n",
    "        s = input(event.prompt)\n",
    "\n",
    "        print(f\"Response from UI: {s}\")\n",
    "        event.respond(s)\n",
    "\n",
    "    def process_input_response_event(self, event: Event):\n",
    "        print(f\"Input response: {event.value}\")\n",
    "\n",
    "    def process_agent_message_event(self, event: Event):\n",
    "        print(f\"Agent message: {event.message}\")\n",
    "\n",
    "    def process_output_event(self, event: Event):\n",
    "        print(f\"Output message: {event.value}\")\n",
    "\n",
    "    def process_system_event(self, event: Event):\n",
    "        print(f\"System event: {event}\")"
   ]
  },
  {
   "cell_type": "code",
   "execution_count": null,
   "metadata": {},
   "outputs": [],
   "source": [
    "with unittest.mock.patch(\"builtins.input\", return_value=\"42\"):\n",
    "    process_run_response(response, SimpleEventProcessor())"
   ]
  },
  {
   "cell_type": "markdown",
   "metadata": {},
   "source": [
    "## Examples runs"
   ]
  },
  {
   "cell_type": "markdown",
   "metadata": {},
   "source": [
    "### Single agent"
   ]
  },
  {
   "cell_type": "markdown",
   "metadata": {},
   "source": [
    "### Two agents"
   ]
  },
  {
   "cell_type": "markdown",
   "metadata": {},
   "source": [
    "### Group chat"
   ]
  },
  {
   "cell_type": "markdown",
   "metadata": {},
   "source": [
    "### Swarm"
   ]
  },
  {
   "cell_type": "markdown",
   "metadata": {},
   "source": []
  }
 ],
 "metadata": {
  "kernelspec": {
   "display_name": ".venv-3.10-core",
   "language": "python",
   "name": "python3"
  },
  "language_info": {
   "codemirror_mode": {
    "name": "ipython",
    "version": 3
   },
   "file_extension": ".py",
   "mimetype": "text/x-python",
   "name": "python",
   "nbconvert_exporter": "python",
   "pygments_lexer": "ipython3",
   "version": "3.10.10"
  }
 },
 "nbformat": 4,
 "nbformat_minor": 2
}
