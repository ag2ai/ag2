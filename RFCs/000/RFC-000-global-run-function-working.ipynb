{
 "cells": [
  {
   "cell_type": "markdown",
   "metadata": {},
   "source": [
    "# RFC 001: Global run function"
   ]
  },
  {
   "cell_type": "code",
   "execution_count": 1,
   "metadata": {},
   "outputs": [],
   "source": [
    "from abc import ABC, abstractmethod\n",
    "from typing import Annotated, Any, Iterable, Optional, Protocol, Union, runtime_checkable\n",
    "from unittest.mock import MagicMock\n",
    "from uuid import UUID\n",
    "\n",
    "from pydantic import BaseModel, Field\n",
    "\n",
    "from autogen import Agent"
   ]
  },
  {
   "cell_type": "markdown",
   "metadata": {},
   "source": [
    "## Events\n",
    "\n",
    "These are five different abstract types of events used by the runtime..."
   ]
  },
  {
   "cell_type": "code",
   "execution_count": 2,
   "metadata": {},
   "outputs": [],
   "source": [
    "@runtime_checkable\n",
    "class EventProtocol(Protocol):\n",
    "    @property\n",
    "    def uuid(self) -> UUID: ...\n",
    "\n",
    "\n",
    "@runtime_checkable\n",
    "class InputRequestProtocol(EventProtocol, Protocol):\n",
    "    @property\n",
    "    def prompt(self) -> str: ...\n",
    "\n",
    "    def respond(self, response: Union[str, \"InputResponseProtocol\"]) -> \"InputResponseProtocol\": ...\n",
    "\n",
    "\n",
    "@runtime_checkable\n",
    "class AsyncInputRequestProtocol(EventProtocol, Protocol):\n",
    "    @property\n",
    "    def prompt(self) -> str: ...\n",
    "\n",
    "    async def respond(self, response: Union[str, \"InputResponseProtocol\"]) -> \"InputResponseProtocol\": ...\n",
    "\n",
    "\n",
    "@runtime_checkable\n",
    "class InputResponseProtocol(EventProtocol, Protocol):\n",
    "    pass\n",
    "\n",
    "@runtime_checkable\n",
    "class AgentMessageProtocol(EventProtocol, Protocol):\n",
    "    @property\n",
    "    def message(self) -> str: ...\n",
    "\n",
    "\n",
    "@runtime_checkable\n",
    "class OutputProtocol(EventProtocol, Protocol):\n",
    "    @property\n",
    "    def message(self) -> str: ...\n",
    "\n",
    "\n",
    "@runtime_checkable\n",
    "class SystemEventProtocol(EventProtocol, Protocol):\n",
    "    pass"
   ]
  },
  {
   "cell_type": "markdown",
   "metadata": {},
   "source": [
    "Helpers"
   ]
  },
  {
   "cell_type": "code",
   "execution_count": 3,
   "metadata": {},
   "outputs": [],
   "source": [
    "def is_input_request(event: EventProtocol) -> bool:\n",
    "    return isinstance(event, InputRequestProtocol)\n",
    "\n",
    "\n",
    "def is_async_input_request(event: EventProtocol) -> bool:\n",
    "    return isinstance(event, AsyncInputRequestProtocol)\n",
    "\n",
    "\n",
    "def is_input_response(event: EventProtocol) -> bool:\n",
    "    return isinstance(event, InputResponseProtocol)\n",
    "\n",
    "\n",
    "def is_output(event: EventProtocol) -> bool:\n",
    "    return isinstance(event, OutputProtocol)\n",
    "\n",
    "def is_agent_message(event: EventProtocol) -> bool:\n",
    "    return isinstance(event, AgentMessageProtocol)\n",
    "\n",
    "def is_system_event(event: EventProtocol) -> bool:\n",
    "    return isinstance(event, SystemEventProtocol)"
   ]
  },
  {
   "cell_type": "markdown",
   "metadata": {},
   "source": [
    "The actual implementation could use Pydantic `BaseModel`:"
   ]
  },
  {
   "cell_type": "code",
   "execution_count": 4,
   "metadata": {},
   "outputs": [],
   "source": [
    "class Event(BaseModel, ABC):\n",
    "    uuid: Annotated[UUID, Field]\n",
    "\n",
    "\n",
    "class InputRequest(Event, ABC):\n",
    "    @property\n",
    "    @abstractmethod\n",
    "    def prompt(self) -> str: ...\n",
    "\n",
    "    @abstractmethod\n",
    "    def respond(self, response: \"InputResponseProtocol\"): ...\n",
    "\n",
    "\n",
    "class InputResponse(Event, ABC):\n",
    "    pass\n",
    "\n",
    "\n",
    "class Output(Event, ABC):\n",
    "    @property\n",
    "    @abstractmethod\n",
    "    def message(self) -> str: ...\n",
    "\n",
    "class AgentMessage(Event, ABC):\n",
    "    @property\n",
    "    @abstractmethod\n",
    "    def message(self) -> str: ...\n",
    "\n",
    "class SystemEvent(Event, ABC):\n",
    "    pass"
   ]
  },
  {
   "cell_type": "markdown",
   "metadata": {},
   "source": [
    "## Client will abstract from the actual LLM used"
   ]
  },
  {
   "cell_type": "code",
   "execution_count": 5,
   "metadata": {},
   "outputs": [],
   "source": [
    "class LLMClientProtocol(Protocol):\n",
    "    pass\n",
    "\n",
    "\n",
    "class LLMMessageProtocol(Protocol):\n",
    "    @property\n",
    "    def client(self) -> LLMClientProtocol: ...\n",
    "\n",
    "    @property\n",
    "    def raw_message(self) -> Any: ..."
   ]
  },
  {
   "cell_type": "markdown",
   "metadata": {},
   "source": [
    "## Global run function"
   ]
  },
  {
   "cell_type": "code",
   "execution_count": 6,
   "metadata": {},
   "outputs": [],
   "source": [
    "class RunResponseProtocol(Protocol):\n",
    "    @property\n",
    "    def events(self) -> list[EventProtocol]: ...\n",
    "\n",
    "    @property\n",
    "    def messages(self) -> list[LLMMessageProtocol]: ...\n",
    "\n",
    "    @property\n",
    "    def summary(self) -> str: ...\n"
   ]
  },
  {
   "cell_type": "code",
   "execution_count": 7,
   "metadata": {},
   "outputs": [],
   "source": [
    "class EventProcessorProtocol(Protocol):\n",
    "    def process(self, event: EventProtocol) -> None: ...\n",
    "\n",
    "class AsyncEventProcessorProtocol(Protocol):\n",
    "    async def process(self, event: EventProtocol) -> None: ...\n"
   ]
  },
  {
   "cell_type": "code",
   "execution_count": 8,
   "metadata": {},
   "outputs": [],
   "source": [
    "class ConsoleEventProcessor(EventProcessorProtocol):\n",
    "    def process(self, event: EventProtocol) -> None:\n",
    "        if is_input_request(event):\n",
    "            print(f\"Input request: {event.prompt}\")\n",
    "            s = input(event.prompt)\n",
    "\n",
    "            print(f\"Response: {s}\")\n",
    "            event.respond(s)\n",
    "\n",
    "        elif is_output(event):\n",
    "            print(f\"Output message: {event.message}\")\n",
    "\n",
    "        elif is_system_event(event):\n",
    "            print(f\"System event: {event}\")\n",
    "\n",
    "        elif is_agent_message(event):\n",
    "            print(f\"Agent message: {event.message}\")\n"
   ]
  },
  {
   "cell_type": "code",
   "execution_count": 11,
   "metadata": {},
   "outputs": [],
   "source": [
    "def run(\n",
    "    *agents: Agent,\n",
    "    message: Optional[str] = None,\n",
    "    previous_run: Optional[RunResponseProtocol] = None,\n",
    "    event_processor: Optional[EventProcessorProtocol] = None,\n",
    "    **kwargs: Any\n",
    ") -> RunResponseProtocol:\n",
    "    \"\"\"Run the agents with the given initial message.\n",
    "\n",
    "    Args:\n",
    "        agents: The agents to run.\n",
    "        message: The initial message to send to the first agent.\n",
    "        previous_run: The previous run to continue.\n",
    "        kwargs: Additional arguments to pass to the first agent\n",
    "\n",
    "    \"\"\"\n",
    "    event_processor = event_processor or ConsoleEventProcessor()\n",
    "\n",
    "    # we should get those from running the agents\n",
    "    events = [\n",
    "        MagicMock(spec=InputRequestProtocol),\n",
    "        MagicMock(spec=OutputProtocol),\n",
    "        MagicMock(spec=SystemEventProtocol),\n",
    "        MagicMock(spec=AgentMessageProtocol),\n",
    "    ]\n",
    "    # there will be IOStream class handling this\n",
    "    for event in events:\n",
    "        event_processor.process(event)\n",
    "\n",
    "    response = MagicMock(spec=RunResponseProtocol)\n",
    "    response.events = events\n",
    "    response.summary = \"42\"\n",
    "\n",
    "    return response\n",
    "\n",
    "\n",
    "async def a_run(\n",
    "    *agents: Agent,\n",
    "    message: Optional[str] = None,\n",
    "    previous_run: Optional[RunResponseProtocol] = None,\n",
    "    event_processor: Optional[AsyncEventProcessorProtocol] = None,\n",
    "    **kwargs: Any\n",
    ") -> RunResponseProtocol:\n",
    "    \"\"\"Run the agents with the given initial message.\n",
    "\n",
    "    Args:\n",
    "        agents: The agents to run.\n",
    "        message: The initial message to send to the first agent.\n",
    "        previous_run: The previous run to continue.\n",
    "        kwargs: Additional arguments to pass to the first agent\n",
    "\n",
    "    \"\"\"\n",
    "    ..."
   ]
  },
  {
   "cell_type": "markdown",
   "metadata": {},
   "source": [
    "## Event processing loop"
   ]
  },
  {
   "cell_type": "code",
   "execution_count": 13,
   "metadata": {},
   "outputs": [
    {
     "name": "stdout",
     "output_type": "stream",
     "text": [
      "Input request: <MagicMock name='mock.prompt' id='5739869424'>\n",
      "Response: hi\n",
      "Output message: <MagicMock name='mock.message' id='5740958992'>\n",
      "System event: <MagicMock spec='SystemEventProtocol' id='5739481216'>\n",
      "Output message: <MagicMock name='mock.message' id='5741096208'>\n",
      "Summary: 42\n"
     ]
    }
   ],
   "source": [
    "agents: list[Agent] = []\n",
    "\n",
    "response = run(*agents, message=\"What is the meaning of life?\")\n",
    "\n",
    "summary = response.summary\n",
    "\n",
    "print(f\"Summary: {summary}\")"
   ]
  },
  {
   "cell_type": "code",
   "execution_count": null,
   "metadata": {},
   "outputs": [],
   "source": []
  },
  {
   "cell_type": "code",
   "execution_count": null,
   "metadata": {},
   "outputs": [],
   "source": [
    "agents: list[Agent] = []\n",
    "\n",
    "response = await a_run(*agents, message=\"What is the meaning of life?\")\n",
    "\n",
    "response = MagicMock(spec=AsyncRunResponseProtocol)\n",
    "events = [\n",
    "    MagicMock(spec=AsyncInputRequestProtocol),\n",
    "    MagicMock(spec=OutputProtocol),\n",
    "    MagicMock(spec=SystemEventProtocol),\n",
    "    MagicMock(spec=AgentMessageProtocol),\n",
    "]\n",
    "\n",
    "\n",
    "async def _events():\n",
    "    for e in events:\n",
    "        yield e\n",
    "\n",
    "\n",
    "response.events = _events()\n",
    "\n",
    "async for event in response.events:\n",
    "    if is_input_request(event):\n",
    "        print(f\"Input request: {event.prompt}\")\n",
    "        s = input(event.prompt)\n",
    "\n",
    "        print(f\"Response: {s}\")\n",
    "        await event.respond(s)\n",
    "\n",
    "    elif is_output(event):\n",
    "        print(f\"Output message: {event.message}\")\n",
    "\n",
    "    elif is_system_event(event):\n",
    "        print(f\"System event: {event}\")\n",
    "\n",
    "    elif is_agent_message(event):\n",
    "        print(f\"Agent message: {event.message}\")\n",
    "\n",
    "summary = response.summary"
   ]
  },
  {
   "cell_type": "code",
   "execution_count": null,
   "metadata": {},
   "outputs": [],
   "source": []
  },
  {
   "cell_type": "markdown",
   "metadata": {},
   "source": [
    "## Examples"
   ]
  },
  {
   "cell_type": "code",
   "execution_count": null,
   "metadata": {},
   "outputs": [],
   "source": [
    "import autogen\n",
    "\n",
    "config_list = autogen.config_list_from_json(\"../../notebook/OAI_CONFIG_LIST\")\n",
    "\n",
    "assert config_list"
   ]
  }
 ],
 "metadata": {
  "kernelspec": {
   "display_name": ".venv-3.10-core",
   "language": "python",
   "name": "python3"
  },
  "language_info": {
   "codemirror_mode": {
    "name": "ipython",
    "version": 3
   },
   "file_extension": ".py",
   "mimetype": "text/x-python",
   "name": "python",
   "nbconvert_exporter": "python",
   "pygments_lexer": "ipython3",
   "version": "3.10.10"
  }
 },
 "nbformat": 4,
 "nbformat_minor": 2
}
