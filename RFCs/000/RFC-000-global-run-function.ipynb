{
 "cells": [
  {
   "cell_type": "markdown",
   "metadata": {},
   "source": [
    "# RFC 001: Global run function"
   ]
  },
  {
   "cell_type": "code",
   "execution_count": null,
   "metadata": {},
   "outputs": [],
   "source": [
    "from abc import ABC, abstractmethod\n",
    "from typing import Annotated, Any, Iterable, Optional, Protocol, Union, runtime_checkable\n",
    "from unittest.mock import MagicMock\n",
    "from uuid import UUID\n",
    "\n",
    "from pydantic import BaseModel, Field\n",
    "\n",
    "from autogen import Agent"
   ]
  },
  {
   "cell_type": "markdown",
   "metadata": {},
   "source": [
    "## Events\n",
    "\n",
    "These are four different abstract types of events used by the runtime."
   ]
  },
  {
   "cell_type": "code",
   "execution_count": null,
   "metadata": {},
   "outputs": [],
   "source": [
    "@runtime_checkable\n",
    "class EventProtocol(Protocol):\n",
    "    @property\n",
    "    def uuid(self) -> UUID: ...\n",
    "\n",
    "\n",
    "@runtime_checkable\n",
    "class InputRequestProtocol(EventProtocol, Protocol):\n",
    "    @property\n",
    "    def prompt(self) -> str: ...\n",
    "\n",
    "    def respond(self, response: Union[str, \"InputResponseProtocol\"]) -> \"InputResponseProtocol\": ...\n",
    "\n",
    "\n",
    "@runtime_checkable\n",
    "class AsyncInputRequestProtocol(EventProtocol, Protocol):\n",
    "    @property\n",
    "    def prompt(self) -> str: ...\n",
    "\n",
    "    async def respond(self, response: Union[str, \"InputResponseProtocol\"]) -> \"InputResponseProtocol\": ...\n",
    "\n",
    "\n",
    "@runtime_checkable\n",
    "class InputResponseProtocol(EventProtocol, Protocol):\n",
    "    pass\n",
    "\n",
    "\n",
    "@runtime_checkable\n",
    "class OutputProtocol(EventProtocol, Protocol):\n",
    "    @property\n",
    "    def message(self) -> str: ...\n",
    "\n",
    "\n",
    "@runtime_checkable\n",
    "class SystemEventProtocol(EventProtocol, Protocol):\n",
    "    pass"
   ]
  },
  {
   "cell_type": "markdown",
   "metadata": {},
   "source": [
    "Helpers"
   ]
  },
  {
   "cell_type": "code",
   "execution_count": null,
   "metadata": {},
   "outputs": [],
   "source": [
    "def is_input_request(event: EventProtocol) -> bool:\n",
    "    return isinstance(event, InputRequestProtocol)\n",
    "\n",
    "\n",
    "def is_async_input_request(event: EventProtocol) -> bool:\n",
    "    return isinstance(event, AsyncInputRequestProtocol)\n",
    "\n",
    "\n",
    "def is_input_response(event: EventProtocol) -> bool:\n",
    "    return isinstance(event, InputResponseProtocol)\n",
    "\n",
    "\n",
    "def is_output(event: EventProtocol) -> bool:\n",
    "    return isinstance(event, OutputProtocol)\n",
    "\n",
    "\n",
    "def is_system_event(event: EventProtocol) -> bool:\n",
    "    return isinstance(event, SystemEventProtocol)"
   ]
  },
  {
   "cell_type": "markdown",
   "metadata": {},
   "source": [
    "The actual implementation could use Pydantic `BaseModel`:"
   ]
  },
  {
   "cell_type": "code",
   "execution_count": null,
   "metadata": {},
   "outputs": [],
   "source": [
    "class Event(BaseModel, ABC):\n",
    "    uuid: Annotated[UUID, Field]\n",
    "\n",
    "\n",
    "class InputRequest(Event, ABC):\n",
    "    @property\n",
    "    @abstractmethod\n",
    "    def prompt(self) -> str: ...\n",
    "\n",
    "    @abstractmethod\n",
    "    def respond(self, response: \"InputResponseProtocol\"): ...\n",
    "\n",
    "\n",
    "class InputResponse(Event, ABC):\n",
    "    pass\n",
    "\n",
    "\n",
    "class Output(Event, ABC):\n",
    "    @property\n",
    "    @abstractmethod\n",
    "    def message(self) -> str: ...\n",
    "\n",
    "\n",
    "class SystemEvent(Event, ABC):\n",
    "    pass"
   ]
  },
  {
   "cell_type": "markdown",
   "metadata": {},
   "source": [
    "## Client will abstract from the actual LLM used"
   ]
  },
  {
   "cell_type": "code",
   "execution_count": null,
   "metadata": {},
   "outputs": [],
   "source": [
    "class LLMClientProtocol(Protocol):\n",
    "    pass\n",
    "\n",
    "\n",
    "class LLMMessageProtocol(Protocol):\n",
    "    @property\n",
    "    def client(self) -> LLMClientProtocol: ...\n",
    "\n",
    "    @property\n",
    "    def raw_message(self) -> Any: ..."
   ]
  },
  {
   "cell_type": "markdown",
   "metadata": {},
   "source": [
    "## Global run function"
   ]
  },
  {
   "cell_type": "code",
   "execution_count": null,
   "metadata": {},
   "outputs": [],
   "source": [
    "from typing import AsyncIterable\n",
    "\n",
    "\n",
    "class RunResponseProtocol(Protocol):\n",
    "    @property\n",
    "    def events(self) -> Iterable[EventProtocol]: ...\n",
    "\n",
    "    @property\n",
    "    def messages(self) -> Iterable[LLMMessageProtocol]: ...\n",
    "\n",
    "    @property\n",
    "    def summary(self) -> str: ...\n",
    "\n",
    "\n",
    "class AsyncRunResponseProtocol(Protocol):\n",
    "    @property\n",
    "    def events(self) -> AsyncIterable[EventProtocol]: ...\n",
    "\n",
    "    @property\n",
    "    def messages(self) -> AsyncIterable[LLMMessageProtocol]: ...\n",
    "\n",
    "    @property\n",
    "    async def summary(self) -> str: ..."
   ]
  },
  {
   "cell_type": "code",
   "execution_count": null,
   "metadata": {},
   "outputs": [],
   "source": [
    "def run(\n",
    "    *agents: Agent, message: Optional[str] = None, previous_run: Optional[RunResponseProtocol] = None, **kwargs: Any\n",
    ") -> RunResponseProtocol:\n",
    "    \"\"\"Run the agents with the given initial message.\n",
    "\n",
    "    Args:\n",
    "        agents: The agents to run.\n",
    "        message: The initial message to send to the first agent.\n",
    "        previous_run: The previous run to continue.\n",
    "        kwargs: Additional arguments to pass to the agents.\n",
    "\n",
    "    \"\"\"\n",
    "    ...\n",
    "\n",
    "\n",
    "async def a_run(\n",
    "    *agents: Agent, message: Optional[str] = None, previous_run: Optional[RunResponseProtocol] = None, **kwargs: Any\n",
    ") -> AsyncRunResponseProtocol:\n",
    "    \"\"\"Run the agents with the given initial message.\n",
    "\n",
    "    Args:\n",
    "        agents: The agents to run.\n",
    "        message: The initial message to send to the first agent.\n",
    "        previous_run: The previous run to continue.\n",
    "        kwargs: Additional arguments to pass to the agents.\n",
    "\n",
    "    \"\"\"\n",
    "    ..."
   ]
  },
  {
   "cell_type": "markdown",
   "metadata": {},
   "source": [
    "## Event processing loop"
   ]
  },
  {
   "cell_type": "code",
   "execution_count": null,
   "metadata": {},
   "outputs": [],
   "source": [
    "agents: list[Agent] = []\n",
    "\n",
    "response = run(*agents, message=\"What is the meaning of life?\")\n",
    "\n",
    "response = MagicMock(spec=RunResponseProtocol)\n",
    "response.events = [\n",
    "    MagicMock(spec=InputRequestProtocol),\n",
    "    MagicMock(spec=OutputProtocol),\n",
    "    MagicMock(spec=SystemEventProtocol),\n",
    "]\n",
    "\n",
    "for m in response.events:\n",
    "    if is_input_request(m):\n",
    "        print(f\"Input request: {m.prompt}\")\n",
    "        s = input(m.prompt)\n",
    "\n",
    "        print(f\"Response: {s}\")\n",
    "        m.respond(s)\n",
    "\n",
    "    elif is_output(m):\n",
    "        print(f\"Output message: {m.message}\")\n",
    "\n",
    "    elif is_system_event(m):\n",
    "        print(f\"System event: {m}\")\n",
    "\n",
    "summary = response.summary"
   ]
  },
  {
   "cell_type": "code",
   "execution_count": null,
   "metadata": {},
   "outputs": [],
   "source": [
    "agents: list[Agent] = []\n",
    "\n",
    "response = await a_run(*agents, message=\"What is the meaning of life?\")\n",
    "\n",
    "response = MagicMock(spec=AsyncRunResponseProtocol)\n",
    "events = [\n",
    "    MagicMock(spec=AsyncInputRequestProtocol),\n",
    "    MagicMock(spec=OutputProtocol),\n",
    "    MagicMock(spec=SystemEventProtocol),\n",
    "]\n",
    "\n",
    "\n",
    "async def _events():\n",
    "    for e in events:\n",
    "        yield e\n",
    "\n",
    "\n",
    "response.events = _events()\n",
    "\n",
    "async for m in response.events:\n",
    "    if is_input_request(m):\n",
    "        print(f\"Input request: {m.prompt}\")\n",
    "        s = input(m.prompt)\n",
    "\n",
    "        print(f\"Response: {s}\")\n",
    "        await m.respond(s)\n",
    "\n",
    "    elif is_output(m):\n",
    "        print(f\"Output message: {m.message}\")\n",
    "\n",
    "    elif is_system_event(m):\n",
    "        print(f\"System event: {m}\")\n",
    "\n",
    "summary = response.summary"
   ]
  },
  {
   "cell_type": "code",
   "execution_count": null,
   "metadata": {},
   "outputs": [],
   "source": []
  },
  {
   "cell_type": "markdown",
   "metadata": {},
   "source": [
    "## Examples"
   ]
  },
  {
   "cell_type": "code",
   "execution_count": null,
   "metadata": {},
   "outputs": [],
   "source": [
    "import autogen\n",
    "\n",
    "config_list = autogen.config_list_from_json(\"../../notebook/OAI_CONFIG_LIST\")\n",
    "\n",
    "assert config_list"
   ]
  },
  {
   "cell_type": "code",
   "execution_count": null,
   "metadata": {},
   "outputs": [],
   "source": [
    "class Cost:\n",
    "    def __init__(self, **kwargs: Any):\n",
    "        self._cost: dict[str, Any] = kwargs.copy()\n",
    "\n",
    "    @staticmethod\n",
    "    def _add_elements(key: str, x: dict[str, Any], y: dict[str, Any]) -> Any:\n",
    "        if key in x and key in y:\n",
    "            return x[key] + y[key]\n",
    "        elif key in x:\n",
    "            return x[key]\n",
    "        elif key in y:\n",
    "            return y[key]\n",
    "        else:\n",
    "            raise KeyError(f\"Key {key} not found in either dictionary\")\n",
    "\n",
    "    def __add__(self, other: \"Cost\") -> \"Cost\":\n",
    "        keys = set(self._cost.keys()) | set(other._cost.keys())\n",
    "        return Cost(**{key: self._add_elements(key, self._cost, other._cost) for key in keys})"
   ]
  }
 ],
 "metadata": {
  "kernelspec": {
   "display_name": ".venv-3.10-core",
   "language": "python",
   "name": "python3"
  },
  "language_info": {
   "codemirror_mode": {
    "name": "ipython",
    "version": 3
   },
   "file_extension": ".py",
   "mimetype": "text/x-python",
   "name": "python",
   "nbconvert_exporter": "python",
   "pygments_lexer": "ipython3",
   "version": "3.10.10"
  }
 },
 "nbformat": 4,
 "nbformat_minor": 2
}
