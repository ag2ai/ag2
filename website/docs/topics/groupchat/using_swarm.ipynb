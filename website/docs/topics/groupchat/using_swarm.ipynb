{
 "cells": [
  {
   "cell_type": "markdown",
   "metadata": {},
   "source": [
    "# Using Swarm Ochestration\n",
    "\n",
    "You can set the speaker selection method to `swarm` to use the swarm-like orchestration.\n",
    "\n",
    "- **Headoffs**: Agents can transfer control to another agent via function calls, enabling smooth transitions within workflows.\n",
    "- **Context Variables**: Agents can dynamically update shared variables through function calls, maintaining context and adaptability throughout the process.\n",
    "\n",
    "\n"
   ]
  },
  {
   "cell_type": "markdown",
   "metadata": {},
   "source": [
    "## SwarmAgent and SwarmResult\n",
    "\n",
    "To allow easier setup of the swarm, a `SwarmAgent` class is provided. When passing functions to this agent, the agent will execute any tool calls from LLMs directly. \n",
    "\n",
    "```python\n",
    "agent = SwarmAgent(\n",
    "    ..., # same arguments as AssistantAgent\n",
    "    functions=[func_1, func_2, ...] # a new parameter that allows passing a list of functions\n",
    ")\n",
    "```\n",
    "\n",
    "We also create a `SwarmResult` class, where you can return a value, the next agent to call and update context variables at the same time.\n",
    "\n",
    "```python\n",
    "def func_name() -> SwarmResult:\n",
    "    return SwarmResult(value=\"value\", agent=<swarmagent object>, context_variables={\"key\": \"value\"})\n",
    "```\n",
    "\n",
    "When defining function calls, you can return one of the following types:\n",
    "- `str`\n",
    "- `SwarmAgent`: if a `SwarmAgent` object is returned, it will be called next.\n",
    "- `SwarmResult`: if a `SwarmResult` object is returned, we will use it to update the context variables, return a value and call the next agent.\n",
    "\n",
    "\n",
    "**Notes for creating the function calls**\n",
    "- For input arguments, you must define the type of the argument, otherwise the registration will fail (e.g. `arg_name: str`). \n",
    "- The docstring of the function will be used as the prompt. So make sure to write a clear description.\n",
    "- The function name will be used as the tool name.\n"
   ]
  },
  {
   "cell_type": "code",
   "execution_count": null,
   "metadata": {},
   "outputs": [],
   "source": [
    "from autogen.agentchat.swarm.swarm_agent import SwarmAgent, SwarmResult\n",
    "\n",
    "llm_config = \"Setup your config here\"\n",
    "\n",
    "def update_context_1(context_variables: dict) -> str:\n",
    "    context_variables[\"1\"] = True\n",
    "    return SwarmResult(value=\"success\", context_variables=context_variables)\n",
    "\n",
    "def update_context_2_and_transfer_to_3(context_variables: dict) -> str:\n",
    "    context_variables[\"2\"] = True\n",
    "    return SwarmResult(value=\"success\", context_variables=context_variables, agent=agent_3)\n",
    "\n",
    "def update_context_3(context_variables: dict) -> str:\n",
    "    context_variables[\"3\"] = True\n",
    "    return SwarmResult(value=\"success\", context_variables=context_variables)\n",
    "\n",
    "def transfer_to_agent_2() -> SwarmAgent:\n",
    "    return agent_2\n",
    "\n",
    "agent_1 = SwarmAgent(\n",
    "    name=\"Agent_1\",\n",
    "    system_message=\"You are Agent 1, first, call the function to update context 1, and transfer to Agent 2\",\n",
    "    llm_config=llm_config,\n",
    "    functions=[update_context_1, transfer_to_agent_2],\n",
    ")\n",
    "\n",
    "agent_2 = SwarmAgent(\n",
    "    name=\"Agent_2\",\n",
    "    system_message=\"You are Agent 2, call the function that updates context 2 and transfer to Agent 3\",\n",
    "    llm_config=llm_config,\n",
    "    functions=[update_context_2_and_transfer_to_3],\n",
    ")\n",
    "agent_3 = SwarmAgent(\n",
    "    name=\"Agent_3\",\n",
    "    system_message=\"You are Agent 3, first, call the function to update context 3, and then reply TERMINATE\",\n",
    "    llm_config=llm_config,\n",
    "    functions=[update_context_3],\n",
    ")"
   ]
  },
  {
   "cell_type": "markdown",
   "metadata": {},
   "source": [
    "## Define a UserProxyAgent\n",
    "\n",
    "The `Swarm` orchestration require human involvement. When a user (human) sends requests, the swarm would transfer controls within agents so that the most suitable agent can respond.\n",
    "\n",
    "To use swarm, you need to define a `UserProxyAgent` class so that you can interact with the swarm. "
   ]
  },
  {
   "cell_type": "code",
   "execution_count": null,
   "metadata": {},
   "outputs": [],
   "source": [
    "from autogen import UserProxyAgent\n",
    "\n",
    "user = UserProxyAgent(\n",
    "    name=\"Human_User\",\n",
    "    system_message=\"Human user\",\n",
    "    human_input_mode=\"ALWAYS\",\n",
    "    code_execution_config=False,\n",
    ")"
   ]
  },
  {
   "cell_type": "markdown",
   "metadata": {},
   "source": [
    "## Start the GroupChat\n",
    "\n",
    "Follow the GroupChat convention to define the groupchat and start the conversation.\n",
    "\n",
    "You can pass in a `context_variables` dictionary to groupchat to initialize the context variables. Note this variable is only used for `swarm` orchestration.\n"
   ]
  },
  {
   "cell_type": "code",
   "execution_count": null,
   "metadata": {},
   "outputs": [],
   "source": [
    "from autogen import GroupChat, GroupChatManager\n",
    "\n",
    "context_variables = {\"1\": False, \"2\": False, \"3\": False}\n",
    "\n",
    "groupchat = GroupChat(\n",
    "    agents=[user, agent_1, agent_2, agent_3],\n",
    "    messages=[],\n",
    "    max_round=10,\n",
    "    speaker_selection_method=\"swarm\",\n",
    "    context_variables=context_variables,\n",
    ")\n",
    "manager = GroupChatManager(groupchat=groupchat, llm_config=None)\n",
    "chat_result = user.initiate_chat(manager, message=\"start\")"
   ]
  }
 ],
 "metadata": {
  "kernelspec": {
   "display_name": "autodev",
   "language": "python",
   "name": "python3"
  },
  "language_info": {
   "codemirror_mode": {
    "name": "ipython",
    "version": 3
   },
   "file_extension": ".py",
   "mimetype": "text/x-python",
   "name": "python",
   "nbconvert_exporter": "python",
   "pygments_lexer": "ipython3",
   "version": "3.9.19"
  }
 },
 "nbformat": 4,
 "nbformat_minor": 2
}
