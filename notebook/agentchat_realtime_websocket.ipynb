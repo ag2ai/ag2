{
 "cells": [
  {
   "cell_type": "markdown",
   "metadata": {},
   "source": [
    "# RealtimeAgent with local websocket connection\n",
    "\n",
    "\n",
    "AG2 supports **RealtimeAgent**, a powerful agent type that connects seamlessly to OpenAI's [Realtime API](https://openai.com/index/introducing-the-realtime-api). In this example we will start a local RealtimeAgent and register a mock get_weather function that the agent will be able to call.\n",
    "\n",
    "**Note**: This notebook cannot be run in Google Colab because it depends on local JavaScript files and HTML templates. To execute the notebook successfully, run it locally within the cloned project so that the `notebooks/agentchat_realtime_websocket/static` and `notebooks/agentchat_realtime_websocket/templates` folders are available in the correct relative paths.\n",
    "\n",
    "````{=mdx}\n",
    ":::info Requirements\n",
    "Install `ag2`:\n",
    "```bash\n",
    "git clone https://github.com/ag2ai/ag2.git\n",
    "cd ag2\n",
    "```\n",
    ":::\n",
    "````\n"
   ]
  },
  {
   "cell_type": "markdown",
   "metadata": {},
   "source": [
    "\n",
    "## Install AG2 and dependencies\n",
    "\n",
    "To use the realtime agent we will connect it to a local websocket trough the browser.\n",
    "\n",
    "We have prepared a `WebSocketAudioAdapter` to enable you to connect your realtime agent to a websocket service.\n",
    "\n",
    "To be able to run this notebook, you will need to install ag2, fastapi and uvicorn.\n",
    "````{=mdx}\n",
    ":::info Requirements\n",
    "Install `ag2`:\n",
    "```bash\n",
    "pip install \"ag2\", \"fastapi>=0.115.0,<1\", \"uvicorn>=0.30.6,<1\" \"flaml[automl]\"\n",
    "```\n",
    "For more information, please refer to the [installation guide](/docs/installation/Installation).\n",
    ":::\n",
    "````"
   ]
  },
  {
   "cell_type": "code",
   "execution_count": 1,
   "metadata": {},
   "outputs": [
    {
     "name": "stdout",
     "output_type": "stream",
     "text": [
      "Requirement already satisfied: ag2 in /Users/tvrtko/Documents/projects/AG2/ag2/.venv/lib/python3.10/site-packages (0.6.1)\n",
      "Requirement already satisfied: fastapi<1,>=0.115.0 in /Users/tvrtko/Documents/projects/AG2/ag2/.venv/lib/python3.10/site-packages (0.115.6)\n",
      "Requirement already satisfied: uvicorn<1,>=0.30.6 in /Users/tvrtko/Documents/projects/AG2/ag2/.venv/lib/python3.10/site-packages (0.30.6)\n",
      "Requirement already satisfied: pyautogen==0.6.1 in /Users/tvrtko/Documents/projects/AG2/ag2/.venv/lib/python3.10/site-packages (from ag2) (0.6.1)\n",
      "Requirement already satisfied: asyncer>=0.0.8 in /Users/tvrtko/Documents/projects/AG2/ag2/.venv/lib/python3.10/site-packages (from pyautogen==0.6.1->ag2) (0.0.8)\n",
      "Requirement already satisfied: diskcache in /Users/tvrtko/Documents/projects/AG2/ag2/.venv/lib/python3.10/site-packages (from pyautogen==0.6.1->ag2) (5.6.3)\n",
      "Requirement already satisfied: docker in /Users/tvrtko/Documents/projects/AG2/ag2/.venv/lib/python3.10/site-packages (from pyautogen==0.6.1->ag2) (7.1.0)\n",
      "Requirement already satisfied: flaml in /Users/tvrtko/Documents/projects/AG2/ag2/.venv/lib/python3.10/site-packages (from pyautogen==0.6.1->ag2) (2.3.2)\n",
      "Requirement already satisfied: openai>=1.58 in /Users/tvrtko/Documents/projects/AG2/ag2/.venv/lib/python3.10/site-packages (from pyautogen==0.6.1->ag2) (1.58.1)\n",
      "Requirement already satisfied: packaging in /Users/tvrtko/Documents/projects/AG2/ag2/.venv/lib/python3.10/site-packages (from pyautogen==0.6.1->ag2) (24.2)\n",
      "Requirement already satisfied: pydantic!=2.6.0,<3,>=1.10 in /Users/tvrtko/Documents/projects/AG2/ag2/.venv/lib/python3.10/site-packages (from pyautogen==0.6.1->ag2) (2.10.3)\n",
      "Requirement already satisfied: python-dotenv in /Users/tvrtko/Documents/projects/AG2/ag2/.venv/lib/python3.10/site-packages (from pyautogen==0.6.1->ag2) (1.0.1)\n",
      "Requirement already satisfied: termcolor in /Users/tvrtko/Documents/projects/AG2/ag2/.venv/lib/python3.10/site-packages (from pyautogen==0.6.1->ag2) (2.5.0)\n",
      "Requirement already satisfied: tiktoken in /Users/tvrtko/Documents/projects/AG2/ag2/.venv/lib/python3.10/site-packages (from pyautogen==0.6.1->ag2) (0.7.0)\n",
      "Requirement already satisfied: websockets<15,>=14 in /Users/tvrtko/Documents/projects/AG2/ag2/.venv/lib/python3.10/site-packages (from pyautogen==0.6.1->ag2) (14.1)\n",
      "Requirement already satisfied: numpy<2.0.0,>=1.24.0 in /Users/tvrtko/Documents/projects/AG2/ag2/.venv/lib/python3.10/site-packages (from pyautogen==0.6.1->ag2) (1.26.4)\n",
      "Requirement already satisfied: starlette<0.42.0,>=0.40.0 in /Users/tvrtko/Documents/projects/AG2/ag2/.venv/lib/python3.10/site-packages (from fastapi<1,>=0.115.0) (0.41.3)\n",
      "Requirement already satisfied: typing-extensions>=4.8.0 in /Users/tvrtko/Documents/projects/AG2/ag2/.venv/lib/python3.10/site-packages (from fastapi<1,>=0.115.0) (4.12.2)\n",
      "Requirement already satisfied: click>=7.0 in /Users/tvrtko/Documents/projects/AG2/ag2/.venv/lib/python3.10/site-packages (from uvicorn<1,>=0.30.6) (8.1.7)\n",
      "Requirement already satisfied: h11>=0.8 in /Users/tvrtko/Documents/projects/AG2/ag2/.venv/lib/python3.10/site-packages (from uvicorn<1,>=0.30.6) (0.14.0)\n",
      "Requirement already satisfied: annotated-types>=0.6.0 in /Users/tvrtko/Documents/projects/AG2/ag2/.venv/lib/python3.10/site-packages (from pydantic!=2.6.0,<3,>=1.10->pyautogen==0.6.1->ag2) (0.7.0)\n",
      "Requirement already satisfied: pydantic-core==2.27.1 in /Users/tvrtko/Documents/projects/AG2/ag2/.venv/lib/python3.10/site-packages (from pydantic!=2.6.0,<3,>=1.10->pyautogen==0.6.1->ag2) (2.27.1)\n",
      "Requirement already satisfied: anyio<5,>=3.4.0 in /Users/tvrtko/Documents/projects/AG2/ag2/.venv/lib/python3.10/site-packages (from starlette<0.42.0,>=0.40.0->fastapi<1,>=0.115.0) (4.7.0)\n",
      "Requirement already satisfied: exceptiongroup>=1.0.2 in /Users/tvrtko/Documents/projects/AG2/ag2/.venv/lib/python3.10/site-packages (from anyio<5,>=3.4.0->starlette<0.42.0,>=0.40.0->fastapi<1,>=0.115.0) (1.2.2)\n",
      "Requirement already satisfied: idna>=2.8 in /Users/tvrtko/Documents/projects/AG2/ag2/.venv/lib/python3.10/site-packages (from anyio<5,>=3.4.0->starlette<0.42.0,>=0.40.0->fastapi<1,>=0.115.0) (3.10)\n",
      "Requirement already satisfied: sniffio>=1.1 in /Users/tvrtko/Documents/projects/AG2/ag2/.venv/lib/python3.10/site-packages (from anyio<5,>=3.4.0->starlette<0.42.0,>=0.40.0->fastapi<1,>=0.115.0) (1.3.1)\n",
      "Requirement already satisfied: distro<2,>=1.7.0 in /Users/tvrtko/Documents/projects/AG2/ag2/.venv/lib/python3.10/site-packages (from openai>=1.58->pyautogen==0.6.1->ag2) (1.9.0)\n",
      "Requirement already satisfied: httpx<1,>=0.23.0 in /Users/tvrtko/Documents/projects/AG2/ag2/.venv/lib/python3.10/site-packages (from openai>=1.58->pyautogen==0.6.1->ag2) (0.27.2)\n",
      "Requirement already satisfied: jiter<1,>=0.4.0 in /Users/tvrtko/Documents/projects/AG2/ag2/.venv/lib/python3.10/site-packages (from openai>=1.58->pyautogen==0.6.1->ag2) (0.8.2)\n",
      "Requirement already satisfied: tqdm>4 in /Users/tvrtko/Documents/projects/AG2/ag2/.venv/lib/python3.10/site-packages (from openai>=1.58->pyautogen==0.6.1->ag2) (4.67.1)\n",
      "Requirement already satisfied: requests>=2.26.0 in /Users/tvrtko/Documents/projects/AG2/ag2/.venv/lib/python3.10/site-packages (from docker->pyautogen==0.6.1->ag2) (2.32.3)\n",
      "Requirement already satisfied: urllib3>=1.26.0 in /Users/tvrtko/Documents/projects/AG2/ag2/.venv/lib/python3.10/site-packages (from docker->pyautogen==0.6.1->ag2) (2.2.3)\n",
      "Requirement already satisfied: regex>=2022.1.18 in /Users/tvrtko/Documents/projects/AG2/ag2/.venv/lib/python3.10/site-packages (from tiktoken->pyautogen==0.6.1->ag2) (2024.11.6)\n",
      "Requirement already satisfied: certifi in /Users/tvrtko/Documents/projects/AG2/ag2/.venv/lib/python3.10/site-packages (from httpx<1,>=0.23.0->openai>=1.58->pyautogen==0.6.1->ag2) (2024.8.30)\n",
      "Requirement already satisfied: httpcore==1.* in /Users/tvrtko/Documents/projects/AG2/ag2/.venv/lib/python3.10/site-packages (from httpx<1,>=0.23.0->openai>=1.58->pyautogen==0.6.1->ag2) (1.0.7)\n",
      "Requirement already satisfied: charset-normalizer<4,>=2 in /Users/tvrtko/Documents/projects/AG2/ag2/.venv/lib/python3.10/site-packages (from requests>=2.26.0->docker->pyautogen==0.6.1->ag2) (3.4.0)\n"
     ]
    }
   ],
   "source": [
    "!pip install \"ag2\" \"fastapi>=0.115.0,<1\" \"uvicorn>=0.30.6,<1\""
   ]
  },
  {
   "cell_type": "markdown",
   "metadata": {},
   "source": [
    "### Import the dependencies\n",
    "\n",
    "After installing the necessary requirements, we can import the necessary dependencies for the example"
   ]
  },
  {
   "cell_type": "code",
   "execution_count": 2,
   "metadata": {},
   "outputs": [
    {
     "name": "stderr",
     "output_type": "stream",
     "text": [
      "/Users/tvrtko/Documents/projects/AG2/ag2/.venv/lib/python3.10/site-packages/tqdm/auto.py:21: TqdmWarning: IProgress not found. Please update jupyter and ipywidgets. See https://ipywidgets.readthedocs.io/en/stable/user_install.html\n",
      "  from .autonotebook import tqdm as notebook_tqdm\n"
     ]
    }
   ],
   "source": [
    "import os\n",
    "from logging import getLogger\n",
    "from pathlib import Path\n",
    "from typing import Annotated\n",
    "\n",
    "import uvicorn\n",
    "from fastapi import FastAPI, Request, WebSocket\n",
    "from fastapi.responses import HTMLResponse, JSONResponse\n",
    "from fastapi.staticfiles import StaticFiles\n",
    "from fastapi.templating import Jinja2Templates\n",
    "\n",
    "import autogen\n",
    "from autogen.agentchat.realtime_agent import RealtimeAgent, WebSocketAudioAdapter"
   ]
  },
  {
   "cell_type": "markdown",
   "metadata": {},
   "source": [
    "## Prepare your `llm_config` and `realtime_llm_config`\n",
    "\n",
    "The [`config_list_from_json`](https://docs.ag2.ai/docs/reference/oai/openai_utils#config-list-from-json) function loads a list of configurations from an environment variable or a json file."
   ]
  },
  {
   "cell_type": "code",
   "execution_count": 3,
   "metadata": {},
   "outputs": [],
   "source": [
    "realtime_config_list = autogen.config_list_from_json(\n",
    "    \"OAI_CONFIG_LIST\",\n",
    "    filter_dict={\n",
    "        \"tags\": [\"gpt-4o-mini-realtime\"],\n",
    "    },\n",
    ")\n",
    "\n",
    "realtime_llm_config = {\n",
    "    \"timeout\": 600,\n",
    "    \"config_list\": realtime_config_list,\n",
    "    \"temperature\": 0.8,\n",
    "}\n",
    "\n",
    "assert realtime_config_list, (\n",
    "    \"No LLM found for the given model, please add the following lines to the OAI_CONFIG_LIST file:\"\n",
    "    \"\"\"\n",
    "    {\n",
    "        \"model\": \"gpt-4o-mini-realtime-preview\",\n",
    "        \"api_key\": \"sk-***********************...*\",\n",
    "        \"tags\": [\"gpt-4o-mini-realtime\", \"realtime\"]\n",
    "    }\"\"\"\n",
    ")"
   ]
  },
  {
   "cell_type": "markdown",
   "metadata": {},
   "source": [
    "### Before you start the server\n",
    "\n",
    "To run uvicorn server inside the notebook, you will need to use nest_asyncio. This is because Jupyter uses the asyncio event loop, and uvicorn uses its own event loop. nest_asyncio will allow uvicorn to run in Jupyter.\n",
    "\n",
    "Please install nest_asyncio by running the following cell."
   ]
  },
  {
   "cell_type": "code",
   "execution_count": 4,
   "metadata": {},
   "outputs": [
    {
     "name": "stdout",
     "output_type": "stream",
     "text": [
      "Requirement already satisfied: nest_asyncio in /Users/tvrtko/Documents/projects/AG2/ag2/.venv/lib/python3.10/site-packages (1.6.0)\n"
     ]
    }
   ],
   "source": [
    "!pip install nest_asyncio"
   ]
  },
  {
   "cell_type": "code",
   "execution_count": 5,
   "metadata": {},
   "outputs": [],
   "source": [
    "import nest_asyncio\n",
    "\n",
    "nest_asyncio.apply()"
   ]
  },
  {
   "cell_type": "markdown",
   "metadata": {},
   "source": [
    "# Implementing and Running a Basic App\n",
    "\n",
    "Let us set up and execute a FastAPI application that integrates real-time agent interactions."
   ]
  },
  {
   "cell_type": "markdown",
   "metadata": {},
   "source": [
    "### Define basic FastAPI app\n",
    "\n",
    "1. **Define Port**: Sets the `PORT` variable to `5050`, which will be used for the server.\n",
    "2. **Initialize FastAPI App**: Creates a `FastAPI` instance named `app`, which serves as the main application.\n",
    "3. **Define Root Endpoint**: Adds a `GET` endpoint at the root URL (`/`). When accessed, it returns a JSON response with the message `\"Websocket Audio Stream Server is running!\"`.\n",
    "\n",
    "This sets up a basic FastAPI server and provides a simple health-check endpoint to confirm that the server is operational."
   ]
  },
  {
   "cell_type": "code",
   "execution_count": 6,
   "metadata": {},
   "outputs": [],
   "source": [
    "PORT = 5050\n",
    "\n",
    "app = FastAPI()\n",
    "\n",
    "\n",
    "@app.get(\"/\", response_class=JSONResponse)\n",
    "async def index_page():\n",
    "    return {\"message\": \"Websocket Audio Stream Server is running!\"}"
   ]
  },
  {
   "cell_type": "markdown",
   "metadata": {},
   "source": [
    "### Prepare `start-chat` endpoint\n",
    "\n",
    "1. **Set the Working Directory**: Define `notebook_path` as the current working directory using `os.getcwd()`.\n",
    "2. **Mount Static Files**: Mount the `static` directory (inside `agentchat_realtime_websocket`) to serve JavaScript, CSS, and other static assets under the `/static` path.\n",
    "3. **Set Up Templates**: Configure Jinja2 to render HTML templates from the `templates` directory within `agentchat_realtime_websocket`.\n",
    "4. **Create the `/start-chat/` Endpoint**: Define a `GET` route that serves the `chat.html` template. Pass the client's `request` and the `port` variable to the template for rendering a dynamic page for the audio chat interface.\n",
    "\n",
    "This code sets up static file handling, template rendering, and a dedicated endpoint to deliver the chat interface.\n"
   ]
  },
  {
   "cell_type": "code",
   "execution_count": 7,
   "metadata": {},
   "outputs": [],
   "source": [
    "notebook_path = os.getcwd()\n",
    "\n",
    "app.mount(\n",
    "    \"/static\", StaticFiles(directory=Path(notebook_path) / \"agentchat_realtime_websocket\" / \"static\"), name=\"static\"\n",
    ")\n",
    "\n",
    "# Templates for HTML responses\n",
    "\n",
    "templates = Jinja2Templates(directory=Path(notebook_path) / \"agentchat_realtime_websocket\" / \"templates\")\n",
    "\n",
    "\n",
    "@app.get(\"/start-chat/\", response_class=HTMLResponse)\n",
    "async def start_chat(request: Request):\n",
    "    \"\"\"Endpoint to return the HTML page for audio chat.\"\"\"\n",
    "    port = PORT  # Extract the client's port\n",
    "    return templates.TemplateResponse(\"chat.html\", {\"request\": request, \"port\": port})"
   ]
  },
  {
   "cell_type": "markdown",
   "metadata": {},
   "source": [
    "### Prepare endpint for converstion audio stream\n",
    "\n",
    "1. **Set Up the WebSocket Endpoint**: Define the `/media-stream` WebSocket route to handle audio streaming.\n",
    "2. **Accept WebSocket Connections**: Accept incoming WebSocket connections from clients.\n",
    "3. **Initialize Logger**: Retrieve a logger instance for logging purposes.\n",
    "4. **Configure Audio Adapter**: Instantiate a `WebSocketAudioAdapter`, connecting the WebSocket to handle audio streaming with logging.\n",
    "5. **Set Up Realtime Agent**: Create a `RealtimeAgent` with the following:\n",
    "   - **Name**: `Weather Bot`.\n",
    "   - **System Message**: Introduces the AI assistant and its capabilities.\n",
    "   - **LLM Configuration**: Uses `realtime_llm_config` for language model settings.\n",
    "   - **Audio Adapter**: Leverages the previously created `audio_adapter`.\n",
    "   - **Logger**: Logs activities for debugging and monitoring.\n",
    "6. **Register a Realtime Function**: Add a function `get_weather` to the agent, allowing it to respond with basic weather information based on the provided `location`.\n",
    "7. **Run the Agent**: Start the `realtime_agent` to handle interactions in real time.\n"
   ]
  },
  {
   "cell_type": "code",
   "execution_count": 8,
   "metadata": {},
   "outputs": [],
   "source": [
    "@app.websocket(\"/media-stream\")\n",
    "async def handle_media_stream(websocket: WebSocket):\n",
    "    \"\"\"Handle WebSocket connections providing audio stream and OpenAI.\"\"\"\n",
    "    await websocket.accept()\n",
    "\n",
    "    logger = getLogger(\"uvicorn.error\")\n",
    "\n",
    "    audio_adapter = WebSocketAudioAdapter(websocket, logger=logger)\n",
    "    realtime_agent = RealtimeAgent(\n",
    "        name=\"Weather Bot\",\n",
    "        system_message=\"Hello there! I am an AI voice assistant powered by Autogen and the OpenAI Realtime API. You can ask me about weather, jokes, or anything you can imagine. Start by saying 'How can I help you'?\",\n",
    "        llm_config=realtime_llm_config,\n",
    "        audio_adapter=audio_adapter,\n",
    "        logger=logger,\n",
    "    )\n",
    "\n",
    "    @realtime_agent.register_realtime_function(name=\"get_weather\", description=\"Get the current weather\")\n",
    "    def get_weather(location: Annotated[str, \"city\"]) -> str:\n",
    "        return \"The weather is cloudy.\" if location == \"Seattle\" else \"The weather is sunny.\"\n",
    "\n",
    "    await realtime_agent.run()"
   ]
  },
  {
   "cell_type": "markdown",
   "metadata": {},
   "source": [
    "### Run the app using uvicorn"
   ]
  },
  {
   "cell_type": "code",
   "execution_count": null,
   "metadata": {},
   "outputs": [
    {
     "name": "stderr",
     "output_type": "stream",
     "text": [
      "INFO:     Started server process [37851]\n",
      "INFO:     Waiting for application startup.\n",
      "INFO:     Application startup complete.\n",
      "INFO:     Uvicorn running on http://0.0.0.0:5050 (Press CTRL+C to quit)\n"
     ]
    },
    {
     "name": "stdout",
     "output_type": "stream",
     "text": [
      "INFO:     127.0.0.1:60225 - \"GET /start-chat/ HTTP/1.1\" 200 OK\n",
      "INFO:     127.0.0.1:60225 - \"GET /static/wavtools.js HTTP/1.1\" 404 Not Found\n",
      "INFO:     127.0.0.1:60227 - \"GET /static/main.js HTTP/1.1\" 304 Not Modified\n",
      "INFO:     127.0.0.1:60227 - \"GET /static/Audio.js HTTP/1.1\" 304 Not Modified\n"
     ]
    },
    {
     "name": "stderr",
     "output_type": "stream",
     "text": [
      "INFO:     ('127.0.0.1', 60232) - \"WebSocket /media-stream\" [accepted]\n",
      "INFO:     connection open\n",
      "INFO:     Sending session update: {'turn_detection': {'type': 'server_vad'}, 'voice': 'alloy', 'instructions': \"Hello there! I am an AI voice assistant powered by Autogen and the OpenAI Realtime API. You can ask me about weather, jokes, or anything you can imagine. Start by saying 'How can I help you'?\", 'modalities': ['audio', 'text'], 'temperature': 0.8}\n",
      "INFO:     Sending session update finished\n",
      "INFO:     Sending session update: {'tools': [{'description': 'Get the current weather', 'name': 'get_weather', 'parameters': {'type': 'object', 'properties': {'location': {'type': 'string', 'description': 'city'}}, 'required': ['location']}, 'type': 'function'}], 'tool_choice': 'auto'}\n",
      "INFO:     Sending session update finished\n",
      "INFO:     Sending session update: {'input_audio_format': 'pcm16', 'output_audio_format': 'pcm16'}\n",
      "INFO:     Sending session update finished\n",
      "INFO:     Incoming stream has started 94cfa55a-1e11-4717-8bbe-a4cebabac545\n",
      "INFO:     Received event: session.created\n",
      "INFO:     Received event: input_audio_buffer.speech_started\n",
      "INFO:     Speech started detected.\n",
      "INFO:     Received event: input_audio_buffer.speech_stopped\n",
      "INFO:     Received event: input_audio_buffer.committed\n",
      "INFO:     Received event: rate_limits.updated\n",
      "INFO:     Received event: response.done\n",
      "INFO:     Received event: input_audio_buffer.speech_started\n",
      "INFO:     Speech started detected.\n",
      "INFO:     Interrupting response with id: item_AnVxCRwOJJFodmBf4us9u\n",
      "INFO:     Handling speech started event.\n",
      "INFO:     Received event: input_audio_buffer.speech_stopped\n",
      "INFO:     Received event: input_audio_buffer.committed\n",
      "INFO:     Received event: rate_limits.updated\n",
      "INFO:     connection closed\n",
      "ERROR:    Exception in ASGI application\n",
      "Traceback (most recent call last):\n",
      "  File \"/Users/tvrtko/Documents/projects/AG2/ag2/.venv/lib/python3.10/site-packages/autogen/agentchat/realtime_agent/realtime_agent.py\", line 169, in run\n",
      "    await observer.on_event(event)\n",
      "  File \"/Users/tvrtko/Documents/projects/AG2/ag2/.venv/lib/python3.10/site-packages/autogen/agentchat/realtime_agent/websocket_audio_adapter.py\", line 59, in on_event\n",
      "    await self.websocket.send_json(audio_delta)\n",
      "  File \"/Users/tvrtko/Documents/projects/AG2/ag2/.venv/lib/python3.10/site-packages/starlette/websockets.py\", line 175, in send_json\n",
      "    await self.send({\"type\": \"websocket.send\", \"text\": text})\n",
      "  File \"/Users/tvrtko/Documents/projects/AG2/ag2/.venv/lib/python3.10/site-packages/starlette/websockets.py\", line 88, in send\n",
      "    raise WebSocketDisconnect(code=1006)\n",
      "starlette.websockets.WebSocketDisconnect\n",
      "\n",
      "During handling of the above exception, another exception occurred:\n",
      "\n",
      "  + Exception Group Traceback (most recent call last):\n",
      "  |   File \"/Users/tvrtko/Documents/projects/AG2/ag2/.venv/lib/python3.10/site-packages/uvicorn/protocols/websockets/websockets_impl.py\", line 244, in run_asgi\n",
      "  |     result = await self.app(self.scope, self.asgi_receive, self.asgi_send)  # type: ignore[func-returns-value]\n",
      "  |   File \"/Users/tvrtko/Documents/projects/AG2/ag2/.venv/lib/python3.10/site-packages/uvicorn/middleware/proxy_headers.py\", line 70, in __call__\n",
      "  |     return await self.app(scope, receive, send)\n",
      "  |   File \"/Users/tvrtko/Documents/projects/AG2/ag2/.venv/lib/python3.10/site-packages/fastapi/applications.py\", line 1054, in __call__\n",
      "  |     await super().__call__(scope, receive, send)\n",
      "  |   File \"/Users/tvrtko/Documents/projects/AG2/ag2/.venv/lib/python3.10/site-packages/starlette/applications.py\", line 113, in __call__\n",
      "  |     await self.middleware_stack(scope, receive, send)\n",
      "  |   File \"/Users/tvrtko/Documents/projects/AG2/ag2/.venv/lib/python3.10/site-packages/starlette/middleware/errors.py\", line 152, in __call__\n",
      "  |     await self.app(scope, receive, send)\n",
      "  |   File \"/Users/tvrtko/Documents/projects/AG2/ag2/.venv/lib/python3.10/site-packages/starlette/middleware/exceptions.py\", line 62, in __call__\n",
      "  |     await wrap_app_handling_exceptions(self.app, conn)(scope, receive, send)\n",
      "  |   File \"/Users/tvrtko/Documents/projects/AG2/ag2/.venv/lib/python3.10/site-packages/starlette/_exception_handler.py\", line 53, in wrapped_app\n",
      "  |     raise exc\n",
      "  |   File \"/Users/tvrtko/Documents/projects/AG2/ag2/.venv/lib/python3.10/site-packages/starlette/_exception_handler.py\", line 42, in wrapped_app\n",
      "  |     await app(scope, receive, sender)\n",
      "  |   File \"/Users/tvrtko/Documents/projects/AG2/ag2/.venv/lib/python3.10/site-packages/starlette/routing.py\", line 715, in __call__\n",
      "  |     await self.middleware_stack(scope, receive, send)\n",
      "  |   File \"/Users/tvrtko/Documents/projects/AG2/ag2/.venv/lib/python3.10/site-packages/starlette/routing.py\", line 735, in app\n",
      "  |     await route.handle(scope, receive, send)\n",
      "  |   File \"/Users/tvrtko/Documents/projects/AG2/ag2/.venv/lib/python3.10/site-packages/starlette/routing.py\", line 362, in handle\n",
      "  |     await self.app(scope, receive, send)\n",
      "  |   File \"/Users/tvrtko/Documents/projects/AG2/ag2/.venv/lib/python3.10/site-packages/starlette/routing.py\", line 95, in app\n",
      "  |     await wrap_app_handling_exceptions(app, session)(scope, receive, send)\n",
      "  |   File \"/Users/tvrtko/Documents/projects/AG2/ag2/.venv/lib/python3.10/site-packages/starlette/_exception_handler.py\", line 53, in wrapped_app\n",
      "  |     raise exc\n",
      "  |   File \"/Users/tvrtko/Documents/projects/AG2/ag2/.venv/lib/python3.10/site-packages/starlette/_exception_handler.py\", line 42, in wrapped_app\n",
      "  |     await app(scope, receive, sender)\n",
      "  |   File \"/Users/tvrtko/Documents/projects/AG2/ag2/.venv/lib/python3.10/site-packages/starlette/routing.py\", line 93, in app\n",
      "  |     await func(session)\n",
      "  |   File \"/Users/tvrtko/Documents/projects/AG2/ag2/.venv/lib/python3.10/site-packages/fastapi/routing.py\", line 383, in app\n",
      "  |     await dependant.call(**solved_result.values)\n",
      "  |   File \"/var/folders/2g/1kszmsjn6778gt_xzqdp_c180000gn/T/ipykernel_37851/3266062823.py\", line 21, in handle_media_stream\n",
      "  |     await realtime_agent.run()\n",
      "  |   File \"/Users/tvrtko/Documents/projects/AG2/ag2/.venv/lib/python3.10/site-packages/autogen/agentchat/realtime_agent/realtime_agent.py\", line 153, in run\n",
      "  |     async with create_task_group() as self._tg:\n",
      "  |   File \"/Users/tvrtko/Documents/projects/AG2/ag2/.venv/lib/python3.10/site-packages/anyio/_backends/_asyncio.py\", line 815, in __aexit__\n",
      "  |     raise BaseExceptionGroup(\n",
      "  | exceptiongroup.ExceptionGroup: unhandled errors in a TaskGroup (1 sub-exception)\n",
      "  +-+---------------- 1 ----------------\n",
      "    | Traceback (most recent call last):\n",
      "    |   File \"/Users/tvrtko/Documents/projects/AG2/ag2/.venv/lib/python3.10/site-packages/uvicorn/protocols/websockets/websockets_impl.py\", line 332, in asgi_send\n",
      "    |     await self.send(data)  # type: ignore[arg-type]\n",
      "    |   File \"/Users/tvrtko/Documents/projects/AG2/ag2/.venv/lib/python3.10/site-packages/websockets/legacy/protocol.py\", line 620, in send\n",
      "    |     await self.ensure_open()\n",
      "    |   File \"/Users/tvrtko/Documents/projects/AG2/ag2/.venv/lib/python3.10/site-packages/websockets/legacy/protocol.py\", line 930, in ensure_open\n",
      "    |     raise self.connection_closed_exc()\n",
      "    | websockets.exceptions.ConnectionClosedOK: received 1001 (going away); then sent 1001 (going away)\n",
      "    | \n",
      "    | The above exception was the direct cause of the following exception:\n",
      "    | \n",
      "    | Traceback (most recent call last):\n",
      "    |   File \"/Users/tvrtko/Documents/projects/AG2/ag2/.venv/lib/python3.10/site-packages/starlette/websockets.py\", line 85, in send\n",
      "    |     await self._send(message)\n",
      "    |   File \"/Users/tvrtko/Documents/projects/AG2/ag2/.venv/lib/python3.10/site-packages/starlette/_exception_handler.py\", line 39, in sender\n",
      "    |     await send(message)\n",
      "    |   File \"/Users/tvrtko/Documents/projects/AG2/ag2/.venv/lib/python3.10/site-packages/uvicorn/protocols/websockets/websockets_impl.py\", line 345, in asgi_send\n",
      "    |     raise ClientDisconnected from exc\n",
      "    | uvicorn.protocols.utils.ClientDisconnected\n",
      "    | \n",
      "    | During handling of the above exception, another exception occurred:\n",
      "    | \n",
      "    | Traceback (most recent call last):\n",
      "    |   File \"/Users/tvrtko/Documents/projects/AG2/ag2/.venv/lib/python3.10/site-packages/autogen/agentchat/realtime_agent/realtime_agent.py\", line 169, in run\n",
      "    |     await observer.on_event(event)\n",
      "    |   File \"/Users/tvrtko/Documents/projects/AG2/ag2/.venv/lib/python3.10/site-packages/autogen/agentchat/realtime_agent/websocket_audio_adapter.py\", line 59, in on_event\n",
      "    |     await self.websocket.send_json(audio_delta)\n",
      "    |   File \"/Users/tvrtko/Documents/projects/AG2/ag2/.venv/lib/python3.10/site-packages/starlette/websockets.py\", line 175, in send_json\n",
      "    |     await self.send({\"type\": \"websocket.send\", \"text\": text})\n",
      "    |   File \"/Users/tvrtko/Documents/projects/AG2/ag2/.venv/lib/python3.10/site-packages/starlette/websockets.py\", line 88, in send\n",
      "    |     raise WebSocketDisconnect(code=1006)\n",
      "    | starlette.websockets.WebSocketDisconnect\n",
      "    +------------------------------------\n"
     ]
    }
   ],
   "source": [
    "uvicorn.run(app, host=\"0.0.0.0\", port=PORT)"
   ]
  },
  {
   "cell_type": "markdown",
   "metadata": {},
   "source": []
  }
 ],
 "metadata": {
  "front_matter": {
   "description": "RealtimeAgent using websockets",
   "tags": [
    "realtime",
    "websockets"
   ]
  },
  "kernelspec": {
   "display_name": ".venv",
   "language": "python",
   "name": "python3"
  },
  "language_info": {
   "codemirror_mode": {
    "name": "ipython",
    "version": 3
   },
   "file_extension": ".py",
   "mimetype": "text/x-python",
   "name": "python",
   "nbconvert_exporter": "python",
   "pygments_lexer": "ipython3",
   "version": "3.10.16"
  }
 },
 "nbformat": 4,
 "nbformat_minor": 2
}
