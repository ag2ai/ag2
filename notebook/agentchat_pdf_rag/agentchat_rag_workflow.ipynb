{
 "cells": [
  {
   "cell_type": "code",
   "execution_count": null,
   "metadata": {},
   "outputs": [
    {
     "name": "stdout",
     "output_type": "stream",
     "text": [
      "Defaulting to user installation because normal site-packages is not writeable\n",
      "Requirement already satisfied: unstructured==0.16.11 in /home/autogen/.local/lib/python3.11/site-packages (0.16.11)\n",
      "Requirement already satisfied: pi-heif==0.21.0 in /home/autogen/.local/lib/python3.11/site-packages (0.21.0)\n",
      "Requirement already satisfied: unstructured_inference==0.8.1 in /home/autogen/.local/lib/python3.11/site-packages (0.8.1)\n",
      "Requirement already satisfied: unstructured.pytesseract==0.3.13 in /home/autogen/.local/lib/python3.11/site-packages (0.3.13)\n",
      "Collecting pytesseract==0.3.13\n",
      "  Downloading pytesseract-0.3.13-py3-none-any.whl.metadata (11 kB)\n",
      "Requirement already satisfied: chardet in /home/autogen/.local/lib/python3.11/site-packages (from unstructured==0.16.11) (5.2.0)\n",
      "Requirement already satisfied: filetype in /home/autogen/.local/lib/python3.11/site-packages (from unstructured==0.16.11) (1.2.0)\n",
      "Requirement already satisfied: python-magic in /home/autogen/.local/lib/python3.11/site-packages (from unstructured==0.16.11) (0.4.27)\n",
      "Requirement already satisfied: lxml in /home/autogen/.local/lib/python3.11/site-packages (from unstructured==0.16.11) (5.3.0)\n",
      "Requirement already satisfied: nltk in /home/autogen/.local/lib/python3.11/site-packages (from unstructured==0.16.11) (3.9.1)\n",
      "Requirement already satisfied: requests in /usr/local/lib/python3.11/site-packages (from unstructured==0.16.11) (2.32.3)\n",
      "Requirement already satisfied: beautifulsoup4 in /usr/local/lib/python3.11/site-packages (from unstructured==0.16.11) (4.12.3)\n",
      "Requirement already satisfied: emoji in /home/autogen/.local/lib/python3.11/site-packages (from unstructured==0.16.11) (2.14.0)\n",
      "Requirement already satisfied: dataclasses-json in /home/autogen/.local/lib/python3.11/site-packages (from unstructured==0.16.11) (0.6.7)\n",
      "Requirement already satisfied: python-iso639 in /home/autogen/.local/lib/python3.11/site-packages (from unstructured==0.16.11) (2024.10.22)\n",
      "Requirement already satisfied: langdetect in /home/autogen/.local/lib/python3.11/site-packages (from unstructured==0.16.11) (1.0.9)\n",
      "Requirement already satisfied: numpy<2 in /usr/local/lib/python3.11/site-packages (from unstructured==0.16.11) (1.26.4)\n",
      "Requirement already satisfied: rapidfuzz in /home/autogen/.local/lib/python3.11/site-packages (from unstructured==0.16.11) (3.11.0)\n",
      "Requirement already satisfied: backoff in /usr/local/lib/python3.11/site-packages (from unstructured==0.16.11) (2.2.1)\n",
      "Requirement already satisfied: typing-extensions in /usr/local/lib/python3.11/site-packages (from unstructured==0.16.11) (4.12.2)\n",
      "Requirement already satisfied: unstructured-client in /home/autogen/.local/lib/python3.11/site-packages (from unstructured==0.16.11) (0.28.1)\n",
      "Requirement already satisfied: wrapt in /usr/local/lib/python3.11/site-packages (from unstructured==0.16.11) (1.17.0)\n",
      "Requirement already satisfied: tqdm in /usr/local/lib/python3.11/site-packages (from unstructured==0.16.11) (4.67.1)\n",
      "Requirement already satisfied: psutil in /usr/local/lib/python3.11/site-packages (from unstructured==0.16.11) (6.1.0)\n",
      "Requirement already satisfied: python-oxmsg in /home/autogen/.local/lib/python3.11/site-packages (from unstructured==0.16.11) (0.0.1)\n",
      "Requirement already satisfied: html5lib in /home/autogen/.local/lib/python3.11/site-packages (from unstructured==0.16.11) (1.1)\n",
      "Requirement already satisfied: pillow>=10.1.0 in /home/autogen/.local/lib/python3.11/site-packages (from pi-heif==0.21.0) (10.4.0)\n",
      "Requirement already satisfied: layoutparser in /home/autogen/.local/lib/python3.11/site-packages (from unstructured_inference==0.8.1) (0.3.4)\n",
      "Requirement already satisfied: python-multipart in /home/autogen/.local/lib/python3.11/site-packages (from unstructured_inference==0.8.1) (0.0.20)\n",
      "Requirement already satisfied: huggingface-hub in /usr/local/lib/python3.11/site-packages (from unstructured_inference==0.8.1) (0.26.2)\n",
      "Requirement already satisfied: opencv-python!=4.7.0.68 in /home/autogen/.local/lib/python3.11/site-packages (from unstructured_inference==0.8.1) (4.10.0.84)\n",
      "Requirement already satisfied: onnx in /home/autogen/.local/lib/python3.11/site-packages (from unstructured_inference==0.8.1) (1.17.0)\n",
      "Requirement already satisfied: onnxruntime>=1.17.0 in /home/autogen/.local/lib/python3.11/site-packages (from unstructured_inference==0.8.1) (1.19.2)\n",
      "Requirement already satisfied: matplotlib in /home/autogen/.local/lib/python3.11/site-packages (from unstructured_inference==0.8.1) (3.9.2)\n",
      "Requirement already satisfied: torch in /usr/local/lib/python3.11/site-packages (from unstructured_inference==0.8.1) (2.5.1)\n",
      "Requirement already satisfied: timm in /home/autogen/.local/lib/python3.11/site-packages (from unstructured_inference==0.8.1) (1.0.12)\n",
      "Requirement already satisfied: transformers>=4.25.1 in /usr/local/lib/python3.11/site-packages (from unstructured_inference==0.8.1) (4.46.3)\n",
      "Requirement already satisfied: packaging>=21.3 in /usr/local/lib/python3.11/site-packages (from unstructured.pytesseract==0.3.13) (24.2)\n",
      "Requirement already satisfied: coloredlogs in /usr/local/lib/python3.11/site-packages (from onnxruntime>=1.17.0->unstructured_inference==0.8.1) (15.0.1)\n",
      "Requirement already satisfied: flatbuffers in /usr/local/lib/python3.11/site-packages (from onnxruntime>=1.17.0->unstructured_inference==0.8.1) (24.3.25)\n",
      "Requirement already satisfied: protobuf in /home/autogen/.local/lib/python3.11/site-packages (from onnxruntime>=1.17.0->unstructured_inference==0.8.1) (5.29.1)\n",
      "Requirement already satisfied: sympy in /usr/local/lib/python3.11/site-packages (from onnxruntime>=1.17.0->unstructured_inference==0.8.1) (1.13.1)\n",
      "Requirement already satisfied: filelock in /usr/local/lib/python3.11/site-packages (from transformers>=4.25.1->unstructured_inference==0.8.1) (3.16.1)\n",
      "Requirement already satisfied: pyyaml>=5.1 in /usr/local/lib/python3.11/site-packages (from transformers>=4.25.1->unstructured_inference==0.8.1) (6.0.2)\n",
      "Requirement already satisfied: regex!=2019.12.17 in /usr/local/lib/python3.11/site-packages (from transformers>=4.25.1->unstructured_inference==0.8.1) (2024.11.6)\n",
      "Requirement already satisfied: tokenizers<0.21,>=0.20 in /usr/local/lib/python3.11/site-packages (from transformers>=4.25.1->unstructured_inference==0.8.1) (0.20.3)\n",
      "Requirement already satisfied: safetensors>=0.4.1 in /usr/local/lib/python3.11/site-packages (from transformers>=4.25.1->unstructured_inference==0.8.1) (0.4.5)\n",
      "Requirement already satisfied: fsspec>=2023.5.0 in /usr/local/lib/python3.11/site-packages (from huggingface-hub->unstructured_inference==0.8.1) (2024.10.0)\n",
      "Requirement already satisfied: soupsieve>1.2 in /usr/local/lib/python3.11/site-packages (from beautifulsoup4->unstructured==0.16.11) (2.6)\n",
      "Requirement already satisfied: marshmallow<4.0.0,>=3.18.0 in /home/autogen/.local/lib/python3.11/site-packages (from dataclasses-json->unstructured==0.16.11) (3.23.1)\n",
      "Requirement already satisfied: typing-inspect<1,>=0.4.0 in /home/autogen/.local/lib/python3.11/site-packages (from dataclasses-json->unstructured==0.16.11) (0.9.0)\n",
      "Requirement already satisfied: six>=1.9 in /usr/local/lib/python3.11/site-packages (from html5lib->unstructured==0.16.11) (1.16.0)\n",
      "Requirement already satisfied: webencodings in /usr/local/lib/python3.11/site-packages (from html5lib->unstructured==0.16.11) (0.5.1)\n",
      "Requirement already satisfied: scipy in /usr/local/lib/python3.11/site-packages (from layoutparser->unstructured_inference==0.8.1) (1.14.1)\n",
      "Requirement already satisfied: pandas in /usr/local/lib/python3.11/site-packages (from layoutparser->unstructured_inference==0.8.1) (2.2.3)\n",
      "Requirement already satisfied: iopath in /home/autogen/.local/lib/python3.11/site-packages (from layoutparser->unstructured_inference==0.8.1) (0.1.10)\n",
      "Requirement already satisfied: pdfplumber in /home/autogen/.local/lib/python3.11/site-packages (from layoutparser->unstructured_inference==0.8.1) (0.11.5)\n",
      "Requirement already satisfied: pdf2image in /home/autogen/.local/lib/python3.11/site-packages (from layoutparser->unstructured_inference==0.8.1) (1.17.0)\n",
      "Requirement already satisfied: contourpy>=1.0.1 in /home/autogen/.local/lib/python3.11/site-packages (from matplotlib->unstructured_inference==0.8.1) (1.3.1)\n",
      "Requirement already satisfied: cycler>=0.10 in /home/autogen/.local/lib/python3.11/site-packages (from matplotlib->unstructured_inference==0.8.1) (0.12.1)\n",
      "Requirement already satisfied: fonttools>=4.22.0 in /home/autogen/.local/lib/python3.11/site-packages (from matplotlib->unstructured_inference==0.8.1) (4.55.0)\n",
      "Requirement already satisfied: kiwisolver>=1.3.1 in /home/autogen/.local/lib/python3.11/site-packages (from matplotlib->unstructured_inference==0.8.1) (1.4.7)\n",
      "Requirement already satisfied: pyparsing>=2.3.1 in /home/autogen/.local/lib/python3.11/site-packages (from matplotlib->unstructured_inference==0.8.1) (3.2.0)\n",
      "Requirement already satisfied: python-dateutil>=2.7 in /usr/local/lib/python3.11/site-packages (from matplotlib->unstructured_inference==0.8.1) (2.9.0.post0)\n",
      "Requirement already satisfied: click in /usr/local/lib/python3.11/site-packages (from nltk->unstructured==0.16.11) (8.1.7)\n",
      "Requirement already satisfied: joblib in /usr/local/lib/python3.11/site-packages (from nltk->unstructured==0.16.11) (1.4.2)\n",
      "Requirement already satisfied: olefile in /home/autogen/.local/lib/python3.11/site-packages (from python-oxmsg->unstructured==0.16.11) (0.47)\n",
      "Requirement already satisfied: charset-normalizer<4,>=2 in /usr/local/lib/python3.11/site-packages (from requests->unstructured==0.16.11) (3.4.0)\n",
      "Requirement already satisfied: idna<4,>=2.5 in /usr/local/lib/python3.11/site-packages (from requests->unstructured==0.16.11) (3.10)\n",
      "Requirement already satisfied: urllib3<3,>=1.21.1 in /usr/local/lib/python3.11/site-packages (from requests->unstructured==0.16.11) (2.2.3)\n",
      "Requirement already satisfied: certifi>=2017.4.17 in /usr/local/lib/python3.11/site-packages (from requests->unstructured==0.16.11) (2024.8.30)\n",
      "Requirement already satisfied: torchvision in /home/autogen/.local/lib/python3.11/site-packages (from timm->unstructured_inference==0.8.1) (0.20.1)\n",
      "Requirement already satisfied: networkx in /usr/local/lib/python3.11/site-packages (from torch->unstructured_inference==0.8.1) (3.4.2)\n",
      "Requirement already satisfied: jinja2 in /usr/local/lib/python3.11/site-packages (from torch->unstructured_inference==0.8.1) (3.1.4)\n",
      "Requirement already satisfied: mpmath<1.4,>=1.1.0 in /usr/local/lib/python3.11/site-packages (from sympy->onnxruntime>=1.17.0->unstructured_inference==0.8.1) (1.3.0)\n",
      "Requirement already satisfied: aiofiles>=24.1.0 in /home/autogen/.local/lib/python3.11/site-packages (from unstructured-client->unstructured==0.16.11) (24.1.0)\n",
      "Requirement already satisfied: cryptography>=3.1 in /home/autogen/.local/lib/python3.11/site-packages (from unstructured-client->unstructured==0.16.11) (44.0.0)\n",
      "Requirement already satisfied: eval-type-backport<0.3.0,>=0.2.0 in /home/autogen/.local/lib/python3.11/site-packages (from unstructured-client->unstructured==0.16.11) (0.2.0)\n",
      "Requirement already satisfied: httpx>=0.27.0 in /usr/local/lib/python3.11/site-packages (from unstructured-client->unstructured==0.16.11) (0.27.2)\n",
      "Requirement already satisfied: jsonpath-python<2.0.0,>=1.0.6 in /home/autogen/.local/lib/python3.11/site-packages (from unstructured-client->unstructured==0.16.11) (1.0.6)\n",
      "Requirement already satisfied: nest-asyncio>=1.6.0 in /usr/local/lib/python3.11/site-packages (from unstructured-client->unstructured==0.16.11) (1.6.0)\n",
      "Requirement already satisfied: pydantic<2.10.0,>=2.9.2 in /home/autogen/.local/lib/python3.11/site-packages (from unstructured-client->unstructured==0.16.11) (2.9.2)\n",
      "Requirement already satisfied: pypdf>=4.0 in /home/autogen/.local/lib/python3.11/site-packages (from unstructured-client->unstructured==0.16.11) (4.3.1)\n",
      "Requirement already satisfied: requests-toolbelt>=1.0.0 in /home/autogen/.local/lib/python3.11/site-packages (from unstructured-client->unstructured==0.16.11) (1.0.0)\n",
      "Requirement already satisfied: cffi>=1.12 in /home/autogen/.local/lib/python3.11/site-packages (from cryptography>=3.1->unstructured-client->unstructured==0.16.11) (1.17.1)\n",
      "Requirement already satisfied: anyio in /usr/local/lib/python3.11/site-packages (from httpx>=0.27.0->unstructured-client->unstructured==0.16.11) (4.6.2.post1)\n",
      "Requirement already satisfied: httpcore==1.* in /usr/local/lib/python3.11/site-packages (from httpx>=0.27.0->unstructured-client->unstructured==0.16.11) (1.0.7)\n",
      "Requirement already satisfied: sniffio in /usr/local/lib/python3.11/site-packages (from httpx>=0.27.0->unstructured-client->unstructured==0.16.11) (1.3.1)\n",
      "Requirement already satisfied: h11<0.15,>=0.13 in /usr/local/lib/python3.11/site-packages (from httpcore==1.*->httpx>=0.27.0->unstructured-client->unstructured==0.16.11) (0.14.0)\n",
      "Requirement already satisfied: annotated-types>=0.6.0 in /home/autogen/.local/lib/python3.11/site-packages (from pydantic<2.10.0,>=2.9.2->unstructured-client->unstructured==0.16.11) (0.7.0)\n",
      "Requirement already satisfied: pydantic-core==2.23.4 in /home/autogen/.local/lib/python3.11/site-packages (from pydantic<2.10.0,>=2.9.2->unstructured-client->unstructured==0.16.11) (2.23.4)\n",
      "Requirement already satisfied: mypy-extensions>=0.3.0 in /usr/local/lib/python3.11/site-packages (from typing-inspect<1,>=0.4.0->dataclasses-json->unstructured==0.16.11) (1.0.0)\n",
      "Requirement already satisfied: humanfriendly>=9.1 in /usr/local/lib/python3.11/site-packages (from coloredlogs->onnxruntime>=1.17.0->unstructured_inference==0.8.1) (10.0)\n",
      "Requirement already satisfied: portalocker in /home/autogen/.local/lib/python3.11/site-packages (from iopath->layoutparser->unstructured_inference==0.8.1) (2.10.1)\n",
      "Requirement already satisfied: MarkupSafe>=2.0 in /usr/local/lib/python3.11/site-packages (from jinja2->torch->unstructured_inference==0.8.1) (3.0.2)\n",
      "Requirement already satisfied: pytz>=2020.1 in /usr/local/lib/python3.11/site-packages (from pandas->layoutparser->unstructured_inference==0.8.1) (2024.2)\n",
      "Requirement already satisfied: tzdata>=2022.7 in /usr/local/lib/python3.11/site-packages (from pandas->layoutparser->unstructured_inference==0.8.1) (2024.2)\n",
      "Requirement already satisfied: pdfminer.six==20231228 in /home/autogen/.local/lib/python3.11/site-packages (from pdfplumber->layoutparser->unstructured_inference==0.8.1) (20231228)\n",
      "Requirement already satisfied: pypdfium2>=4.18.0 in /home/autogen/.local/lib/python3.11/site-packages (from pdfplumber->layoutparser->unstructured_inference==0.8.1) (4.30.1)\n",
      "Requirement already satisfied: pycparser in /home/autogen/.local/lib/python3.11/site-packages (from cffi>=1.12->cryptography>=3.1->unstructured-client->unstructured==0.16.11) (2.22)\n",
      "Downloading pytesseract-0.3.13-py3-none-any.whl (14 kB)\n",
      "Installing collected packages: pytesseract\n",
      "Successfully installed pytesseract-0.3.13\n",
      "Note: you may need to restart the kernel to use updated packages.\n"
     ]
    }
   ],
   "source": [
    "# need to install Poppler https://pdf2image.readthedocs.io/en/latest/installation.html\n",
    "# need to install Tesseract https://tesseract-ocr.github.io/tessdoc/Installation.html\n",
    "%pip install unstructured==0.16.11, pi-heif==0.21.0, unstructured_inference==0.8.1, unstructured.pytesseract==0.3.13, pytesseract==0.3.13"
   ]
  },
  {
   "cell_type": "code",
   "execution_count": 1,
   "metadata": {},
   "outputs": [],
   "source": [
    "import os\n",
    "\n",
    "import autogen\n",
    "\n",
    "config_list = autogen.config_list_from_json(\"../OAI_CONFIG_LIST\")\n",
    "os.environ[\"OPENAI_API_KEY\"] = config_list[0][\"api_key\"]"
   ]
  },
  {
   "cell_type": "markdown",
   "metadata": {},
   "source": [
    "Use [Nvidia 2024 10-K](https://investor.nvidia.com/financial-info/sec-filings/sec-filings-details/default.aspx?FilingId=17293267) as an example ([file download link](https://d18rn0p25nwr6d.cloudfront.net/CIK-0001045810/1cbe8fe7-e08a-46e3-8dcc-b429fc06c1a4.pdf))\n"
   ]
  },
  {
   "cell_type": "code",
   "execution_count": 2,
   "metadata": {},
   "outputs": [
    {
     "data": {
      "application/vnd.jupyter.widget-view+json": {
       "model_id": "584f040446bc45958bf2c6f7bf0b90e2",
       "version_major": 2,
       "version_minor": 0
      },
      "text/plain": [
       "config.json:   0%|          | 0.00/1.47k [00:00<?, ?B/s]"
      ]
     },
     "metadata": {},
     "output_type": "display_data"
    },
    {
     "data": {
      "application/vnd.jupyter.widget-view+json": {
       "model_id": "5368cd669f014437874bfdee5a969bf2",
       "version_major": 2,
       "version_minor": 0
      },
      "text/plain": [
       "model.safetensors:   0%|          | 0.00/115M [00:00<?, ?B/s]"
      ]
     },
     "metadata": {},
     "output_type": "display_data"
    },
    {
     "data": {
      "application/vnd.jupyter.widget-view+json": {
       "model_id": "3c9d222886c2459e8363167a902ac942",
       "version_major": 2,
       "version_minor": 0
      },
      "text/plain": [
       "model.safetensors:   0%|          | 0.00/46.8M [00:00<?, ?B/s]"
      ]
     },
     "metadata": {},
     "output_type": "display_data"
    }
   ],
   "source": [
    "from unstructured.partition.pdf import partition_pdf\n",
    "\n",
    "file_elements = partition_pdf(\n",
    "    filename=\"./input_files/nvidia_10k_2024.pdf\",\n",
    "    strategy=\"hi_res\",\n",
    "    languages=[\"eng\"],\n",
    "    infer_table_structure=True,\n",
    "    extract_images_in_pdf=True,\n",
    "    extract_image_block_output_dir=\"./parsed_pdf_info\",\n",
    "    extract_image_block_types=[\"Image\", \"Table\"],\n",
    "    extract_forms=False,\n",
    "    form_extraction_skip_tables=False,\n",
    ")"
   ]
  },
  {
   "cell_type": "code",
   "execution_count": 3,
   "metadata": {},
   "outputs": [],
   "source": [
    "import json\n",
    "\n",
    "elements_dict = [element.to_dict() for element in file_elements]\n",
    "\n",
    "with open(\"parsed_elements.json\", \"w\") as file:\n",
    "    json.dump(elements_dict, file, indent=4)"
   ]
  }
 ],
 "metadata": {
  "kernelspec": {
   "display_name": "Python 3",
   "language": "python",
   "name": "python3"
  },
  "language_info": {
   "codemirror_mode": {
    "name": "ipython",
    "version": 3
   },
   "file_extension": ".py",
   "mimetype": "text/x-python",
   "name": "python",
   "nbconvert_exporter": "python",
   "pygments_lexer": "ipython3",
   "version": "3.11.10"
  }
 },
 "nbformat": 4,
 "nbformat_minor": 2
}
