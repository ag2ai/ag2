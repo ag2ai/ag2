{
 "cells": [
  {
   "cell_type": "code",
   "execution_count": null,
   "metadata": {},
   "outputs": [],
   "source": [
    "import os\n",
    "\n",
    "from google import genai\n",
    "from google.genai import types\n",
    "\n",
    "client = genai.Client(api_key=os.environ[\"GEMINI_API_KEY\"])\n",
    "\n",
    "response = client.models.generate_content(\n",
    "    # model='gemini-1.5-flash',\n",
    "    model=\"gemini-2.0-flash\",\n",
    "    contents=\"Who won Wimbledon this year?\",\n",
    "    config=types.GenerateContentConfig(tools=[types.Tool(google_search=types.GoogleSearchRetrieval)]),\n",
    ")\n",
    "print(response)"
   ]
  },
  {
   "cell_type": "code",
   "execution_count": null,
   "metadata": {},
   "outputs": [],
   "source": [
    "from google.genai.types import FunctionDeclaration, Schema, Tool\n",
    "\n",
    "weather_tool = Tool(\n",
    "    function_declarations=[\n",
    "        FunctionDeclaration(\n",
    "            name=\"get_weather\",\n",
    "            description=\"Fetches the current weather for a given city.\",\n",
    "            parameters=Schema(\n",
    "                type=\"object\",\n",
    "                properties={\"city\": {\"type\": \"string\", \"description\": \"The city to get the weather for.\"}},\n",
    "                required=[\"city\"],\n",
    "            ),\n",
    "        )\n",
    "    ]\n",
    ")\n",
    "\n",
    "import requests\n",
    "\n",
    "\n",
    "def get_weather(city):\n",
    "    # Mock API URL (replace with a real weather API)\n",
    "    api_url = f\"https://api.weatherapi.com/v1/current.json?key=YOUR_API_KEY&q={city}\"\n",
    "\n",
    "    response = requests.get(api_url)\n",
    "    if response.status_code == 200:\n",
    "        data = response.json()\n",
    "        return f\"The weather in {city} is {data['current']['condition']['text']} with a temperature of {data['current']['temp_c']}°C.\"\n",
    "    else:\n",
    "        return \"Sorry, I couldn't fetch the weather.\"\n",
    "\n",
    "\n",
    "from google.genai.types import GenerateContentConfig, GoogleSearch\n",
    "\n",
    "client = genai.Client(api_key=os.environ[\"GEMINI_API_KEY\"])\n",
    "\n",
    "# tool_config=FunctionCallingConfig(mode=\"ANY\")\n",
    "\n",
    "# Define tools: Google Search + Custom Weather Tool\n",
    "google_search_tool = Tool(google_search=GoogleSearch())\n",
    "\n",
    "response = client.models.generate_content(\n",
    "    model=\"gemini-2.0-flash\",\n",
    "    contents=\"What's the weather like in New York and the latest AI news?\",\n",
    "    config=GenerateContentConfig(\n",
    "        tools=[{\"google_search\": {}}, weather_tool],\n",
    "    ),\n",
    ")\n",
    "\n",
    "# Process the response\n",
    "for part in response.candidates[0].content.parts:\n",
    "    print(part.text)"
   ]
  },
  {
   "cell_type": "code",
   "execution_count": null,
   "metadata": {},
   "outputs": [],
   "source": []
  }
 ],
 "metadata": {
  "kernelspec": {
   "display_name": ".venv",
   "language": "python",
   "name": "python3"
  },
  "language_info": {
   "codemirror_mode": {
    "name": "ipython",
    "version": 3
   },
   "file_extension": ".py",
   "mimetype": "text/x-python",
   "name": "python",
   "nbconvert_exporter": "python",
   "pygments_lexer": "ipython3",
   "version": "3.11.8"
  }
 },
 "nbformat": 4,
 "nbformat_minor": 2
}
