{
 "cells": [
  {
   "cell_type": "code",
   "execution_count": null,
   "metadata": {},
   "outputs": [],
   "source": [
    "# ! pip install google-api-python-client"
   ]
  },
  {
   "cell_type": "code",
   "execution_count": null,
   "metadata": {},
   "outputs": [],
   "source": [
    "# Search engine id is not project id!!!\n",
    "# https://programmablesearchengine.google.com/controlpanel/overview?cx=51d85f83655734b2a"
   ]
  },
  {
   "cell_type": "code",
   "execution_count": null,
   "metadata": {},
   "outputs": [],
   "source": [
    "import os\n",
    "\n",
    "from googleapiclient.discovery import build"
   ]
  },
  {
   "cell_type": "code",
   "execution_count": null,
   "metadata": {},
   "outputs": [],
   "source": [
    "API_KEY = os.getenv(\"GOOGLE_SEARCH_API_KEY\")\n",
    "SEARCH_ENGINE_ID = os.getenv(\"GOOGLE_SEARCH_ENGINE_ID\")\n",
    "\n",
    "assert API_KEY, \"GOOGLE_SEARCH_API_KEY is not set\"\n",
    "assert SEARCH_ENGINE_ID, \"GOOGLE_SEARCH_ENGINE_ID is not set\""
   ]
  },
  {
   "cell_type": "code",
   "execution_count": null,
   "metadata": {},
   "outputs": [],
   "source": [
    "def google_search(query, num_results=10):\n",
    "    service = build(\"customsearch\", \"v1\", developerKey=API_KEY)\n",
    "    res = service.cse().list(q=query, cx=SEARCH_ENGINE_ID, num=num_results).execute()\n",
    "\n",
    "    results = []\n",
    "    if \"items\" in res:\n",
    "        for item in res[\"items\"]:\n",
    "            results.append({\"title\": item[\"title\"], \"link\": item[\"link\"], \"snippet\": item.get(\"snippet\", \"\")})\n",
    "    return results\n",
    "\n",
    "\n",
    "# Example search\n",
    "query = \"Python programming\"\n",
    "search_results = google_search(query)\n",
    "\n",
    "# Print results\n",
    "for idx, result in enumerate(search_results, 1):\n",
    "    print(f\"{idx}. {result['title']}\\n   {result['link']}\\n   {result['snippet']}\\n\")"
   ]
  },
  {
   "cell_type": "code",
   "execution_count": null,
   "metadata": {},
   "outputs": [],
   "source": []
  }
 ],
 "metadata": {
  "kernelspec": {
   "display_name": ".venv",
   "language": "python",
   "name": "python3"
  },
  "language_info": {
   "codemirror_mode": {
    "name": "ipython",
    "version": 3
   },
   "file_extension": ".py",
   "mimetype": "text/x-python",
   "name": "python",
   "nbconvert_exporter": "python",
   "pygments_lexer": "ipython3",
   "version": "3.11.8"
  }
 },
 "nbformat": 4,
 "nbformat_minor": 2
}
