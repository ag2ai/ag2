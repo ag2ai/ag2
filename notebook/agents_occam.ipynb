{
 "cells": [
  {
   "cell_type": "markdown",
   "metadata": {},
   "source": [
    "# OccamAgent\n",
    "\n",
    "`OccamAgent` brings by [Occam AI's](https://occam.ai/) goal-oriented financial analyst and quant agents into AG2."
   ]
  },
  {
   "cell_type": "markdown",
   "metadata": {},
   "source": [
    "Occam AI has a diverse range of capable agents, including:\n",
    "\n",
    "- Email communicator (DESCRIPTION)\n",
    "- Web Browser (DESCRIPTION)\n",
    "- Human in the loop (DESCRIPTION)\n",
    "\n",
    "Through AG2's `OccamAgent` you can bring these agents into your AG2 workflows and have them interact with other AG2 agents."
   ]
  },
  {
   "cell_type": "markdown",
   "metadata": {},
   "source": [
    "## Installation\n",
    "\n",
    "**Note:** `OccamAgent` utilizes Occam AI's SDK which requires **Python 3.11 or higher**.\n",
    "\n",
    "\n",
    "To get started with the `OccamAgent`, install AG2 with the `occam` extra:\n",
    "```bash\n",
    "pip install -U ag2[occam]\n",
    "```\n",
    "> **Note:** If you have been using `autogen` or `pyautogen`, all you need to do is upgrade it using:  \n",
    "> ```bash\n",
    "> pip install -U autogen[occam]\n",
    "> ```\n",
    "> or  \n",
    "> ```bash\n",
    "> pip install -U pyautogen[occam]\n",
    "> ```\n",
    "> as `pyautogen`, `autogen`, and `ag2` are aliases for the same PyPI package.  "
   ]
  },
  {
   "cell_type": "markdown",
   "metadata": {},
   "source": [
    "# Occam AI credentials\n",
    "\n",
    "OccamAgent's require an Occam AI API key. You will find yours in your [occam.ai](https://occam.ai/) dashboard.\n",
    "\n",
    "You can store your key in an environment variable, `OCCAM_API_KEY`. See [our documentation](/docs/user-guide/basic-concepts/llm-configuration/llm-configuration#environment-variables) for further details on how to use environment variables."
   ]
  },
  {
   "cell_type": "markdown",
   "metadata": {},
   "source": [
    "# OccamAgent Parameters\n",
    "\n",
    "A key component of `OccamAgent`s are their Occam AI parameters. These parameters actually define the type of agent as well as their characteristics.\n",
    "\n",
    "(Put more info here)"
   ]
  },
  {
   "cell_type": "markdown",
   "metadata": {},
   "source": [
    "# Example\n",
    "\n",
    "## Creating an Occam agent\n",
    "\n",
    "Let's start by getting the available Occam AI agents from which we can create an `OccamAgent`."
   ]
  },
  {
   "cell_type": "code",
   "execution_count": null,
   "metadata": {},
   "outputs": [],
   "source": [
    "import os\n",
    "from autogen.agentchat.conversable_agent import ConversableAgent\n",
    "from autogen.agents.experimental.occam.occam import OccamAgent\n",
    "\n",
    "from occamai.api_client import AgentInstanceParamsModel, OccamClient\n",
    "\n",
    "# Establish Occam AI credentials\n",
    "api_key = os.getenv(\"OCCAM_API_KEY\")\n",
    "base_url = os.getenv(\"OCCAM_BASE_URL\", \"https://api.occam.ai\")\n",
    "\n",
    "# Create an Occam AI client and retrieve the available agents catalogue\n",
    "occam_client = OccamClient(api_key=api_key, base_url=base_url)\n",
    "agents_catalogue = occam_client.agents.get_agents_catalogue()\n",
    "\n",
    "# Print the available agents\n",
    "print(agents_catalogue)"
   ]
  },
  {
   "cell_type": "markdown",
   "metadata": {},
   "source": [
    "Using the agent's name and parameters we can create an `OccamAgent`"
   ]
  },
  {
   "cell_type": "code",
   "execution_count": null,
   "metadata": {},
   "outputs": [],
   "source": [
    "\n",
    "# TODO: Agent selection and param building\n",
    "...\n",
    "agent_name=\"DeepSeek: R1 Distill Llama 70B\"\n",
    "agent_params = AgentInstanceParamsModel()\n",
    "\n",
    "occam_agent = OccamAgent(\n",
    "    name=\"occam-agent\",\n",
    "    client=occam_client,\n",
    "    agent_name=agent_name,\n",
    "    agent_params=agent_params,\n",
    ")\n"
   ]
  },
  {
   "cell_type": "markdown",
   "metadata": {},
   "source": [
    "Now the `OccamAgent` is available to use amongst other AG2 agents in a workflow."
   ]
  },
  {
   "cell_type": "code",
   "execution_count": null,
   "metadata": {},
   "outputs": [],
   "source": [
    "# Any AG2 \n",
    "other_agent = ConversableAgent(\n",
    "    name=\"other-agent\",\n",
    "    human_input_mode=\"ALWAYS\"\n",
    "    )\n",
    "\n",
    "other_agent.initiate_chat(\n",
    "    recipient=occam_agent,\n",
    "    message=\"Hello, tell me an interesting fact about the moon.\",\n",
    "    max_turns=2,\n",
    ")"
   ]
  },
  {
   "cell_type": "markdown",
   "metadata": {},
   "source": [
    "## Notes\n",
    "\n",
    "- `OccamAgent` is a wrapper around Occam AI's agents, therefore you cannot associate AG2 tools with the agent."
   ]
  }
 ],
 "metadata": {
  "front_matter": {
   "description": "Occam AI agents with OccamAgent",
   "tags": [
    "agents",
    "occam"
   ]
  },
  "kernelspec": {
   "display_name": ".venv-browser-use",
   "language": "python",
   "name": "python3"
  },
  "language_info": {
   "codemirror_mode": {
    "name": "ipython",
    "version": 3
   },
   "file_extension": ".py",
   "mimetype": "text/x-python",
   "name": "python",
   "nbconvert_exporter": "python",
   "pygments_lexer": "ipython3",
   "version": "3.11.8"
  }
 },
 "nbformat": 4,
 "nbformat_minor": 2
}
