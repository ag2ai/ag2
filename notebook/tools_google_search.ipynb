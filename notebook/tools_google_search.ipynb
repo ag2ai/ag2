{
 "cells": [
  {
   "cell_type": "markdown",
   "metadata": {},
   "source": [
    "# Adding Google Search Capability to AG2"
   ]
  },
  {
   "cell_type": "markdown",
   "metadata": {},
   "source": [
    "## Installation\n",
    "\n",
    "To get started with the `Google Search` integration in AG2, follow these steps:\n",
    "\n",
    "1. Install AG2 with the `google-search` extra.\n",
    "   Since our examples also use `openai` and `gemini`, install them as well:\n",
    "   \n",
    "   ```bash\n",
    "   pip install -U ag2[openai,gemini,google-search]\n",
    "   ```\n",
    "   > **Note:** If you have been using `autogen` or `pyautogen`, all you need to do is upgrade it using:  \n",
    "   > ```bash\n",
    "   > pip install -U autogen[openai,gemini,google-search]\n",
    "   > ```\n",
    "   > or  \n",
    "   > ```bash\n",
    "   > pip install -U pyautogen[openai,gemini,google-search]\n",
    "   > ```\n",
    "   > as `pyautogen`, `autogen`, and `ag2` are aliases for the same PyPI package.\n",
    "2. Set up Playwright:\n",
    "   \n",
    "   ```bash\n",
    "   # Installs Playwright and browsers for all OS\n",
    "   playwright install\n",
    "   # Additional command, mandatory for Linux only\n",
    "   playwright install-deps\n",
    "   ```\n",
    "\n",
    "You're all set! Now you can start using browsing features in AG2.\n",
    "\n",
    "## Imports"
   ]
  },
  {
   "cell_type": "code",
   "execution_count": null,
   "metadata": {},
   "outputs": [],
   "source": [
    "import os\n",
    "import autogen\n",
    "from autogen import AssistantAgent\n",
    "from autogen.tools.experimental import GoogleSearchTool"
   ]
  },
  {
   "cell_type": "markdown",
   "metadata": {},
   "source": [
    "## GoogleSearchTool with Gemini GenAI prebuilt GoogleSearch implementation"
   ]
  },
  {
   "cell_type": "code",
   "execution_count": null,
   "metadata": {},
   "outputs": [],
   "source": [
    "config_list = autogen.config_list_from_json(\n",
    "    env_or_file=\"OAI_CONFIG_LIST\",\n",
    "    filter_dict={\n",
    "        \"model\": [\"gemini-2.0-flash\"],\n",
    "    },\n",
    ")\n",
    "\n",
    "assistant = AssistantAgent(\n",
    "    name=\"assistant\",\n",
    "    llm_config={\"config_list\": config_list},\n",
    ")"
   ]
  },
  {
   "cell_type": "code",
   "execution_count": null,
   "metadata": {},
   "outputs": [],
   "source": [
    "gs_tool = GoogleSearchTool(\n",
    "    use_genai_search_tool=True,\n",
    ")\n",
    "gs_tool.register_for_llm(assistant)\n"
   ]
  },
  {
   "cell_type": "code",
   "execution_count": null,
   "metadata": {},
   "outputs": [],
   "source": [
    "assistant.run(\n",
    "    message=\"What happened with stock prices after deepseek was launched, please search the web.\",\n",
    "    tools=assistant.tools,\n",
    "    max_turns=2,\n",
    "    user_input=False,\n",
    ")"
   ]
  },
  {
   "cell_type": "markdown",
   "metadata": {},
   "source": [
    "## GoogleSearchTool with AG2 GoogleSearch implementation"
   ]
  },
  {
   "cell_type": "code",
   "execution_count": null,
   "metadata": {},
   "outputs": [],
   "source": [
    "config_list = autogen.config_list_from_json(\n",
    "    env_or_file=\"OAI_CONFIG_LIST\",\n",
    "    filter_dict={\n",
    "        \"model\": [\"gpt-4o-mini\"],\n",
    "    },\n",
    ")\n",
    "\n",
    "assistant = AssistantAgent(\n",
    "    name=\"assistant\",\n",
    "    llm_config={\"config_list\": config_list},\n",
    ")"
   ]
  },
  {
   "cell_type": "code",
   "execution_count": null,
   "metadata": {},
   "outputs": [],
   "source": [
    "gs_tool = GoogleSearchTool(\n",
    "    search_api_key=os.getenv(\"GOOGLE_SEARCH_API_KEY\"),\n",
    "    search_engine_id=os.getenv(\"GOOGLE_SEARCH_ENGINE_ID\"),\n",
    ")\n",
    "\n",
    "gs_tool.register_for_llm(assistant)"
   ]
  },
  {
   "cell_type": "code",
   "execution_count": null,
   "metadata": {},
   "outputs": [],
   "source": [
    "assistant.run(\n",
    "    message=\"What happened with stock prices after deepseek was launched, please search the web.\",\n",
    "    tools=assistant.tools,\n",
    "    max_turns=2,\n",
    "    user_input=False,\n",
    ")"
   ]
  },
  {
   "cell_type": "code",
   "execution_count": null,
   "metadata": {},
   "outputs": [],
   "source": []
  }
 ],
 "metadata": {
  "kernelspec": {
   "display_name": ".venv-google-search",
   "language": "python",
   "name": "python3"
  },
  "language_info": {
   "codemirror_mode": {
    "name": "ipython",
    "version": 3
   },
   "file_extension": ".py",
   "mimetype": "text/x-python",
   "name": "python",
   "nbconvert_exporter": "python",
   "pygments_lexer": "ipython3",
   "version": "3.11.8"
  }
 },
 "nbformat": 4,
 "nbformat_minor": 2
}
