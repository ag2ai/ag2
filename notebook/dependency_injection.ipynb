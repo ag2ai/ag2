{
 "cells": [
  {
   "cell_type": "code",
   "execution_count": 1,
   "metadata": {},
   "outputs": [],
   "source": [
    "from abc import ABC, abstractmethod\n",
    "\n",
    "from pydantic import BaseModel"
   ]
  },
  {
   "cell_type": "code",
   "execution_count": 10,
   "metadata": {},
   "outputs": [],
   "source": [
    "from typing import Annotated, Any, Callable, Optional, TypeVar, Union\n",
    "\n",
    "from fast_depends import Depends as FastDepends\n",
    "from fast_depends import inject\n",
    "\n",
    "from autogen.tools import Tool\n",
    "\n",
    "\n",
    "class BaseContext(ABC):\n",
    "    pass\n",
    "\n",
    "\n",
    "class ChatContext(BaseContext):\n",
    "    messages: list[str] = []\n",
    "\n",
    "\n",
    "def Depends(x: Any) -> Any:\n",
    "    if isinstance(x, BaseContext):\n",
    "        return FastDepends(lambda: x)\n",
    "\n",
    "    return FastDepends(x)\n",
    "\n",
    "\n",
    "class Agent:\n",
    "    def __init__(self):\n",
    "        self.tools: dict[str, Callable[..., Any]] = {}\n",
    "\n",
    "    # Coopied from ConversableAgent\n",
    "    def _create_tool_if_needed(\n",
    "        self, func_or_tool: Union[Tool, Callable[..., Any]], name: Optional[str], description: Optional[str]\n",
    "    ) -> Tool:\n",
    "\n",
    "        if isinstance(func_or_tool, Tool):\n",
    "            tool: Tool = func_or_tool\n",
    "            tool._name = name or tool.name\n",
    "            tool._description = description or tool.description\n",
    "\n",
    "            return tool\n",
    "\n",
    "        if isinstance(func_or_tool, Callable):\n",
    "            # Only this line is different from the original\n",
    "            func: Callable[..., Any] = inject(func_or_tool)\n",
    "\n",
    "            name = name or func.__name__\n",
    "\n",
    "            tool = Tool(name=name, description=description, func=func)\n",
    "\n",
    "            return tool\n",
    "\n",
    "        raise ValueError(\n",
    "            \"Parameter 'func_or_tool' must be a function or a Tool instance, it is '{type(func_or_tool)}' instead.\"\n",
    "        )\n",
    "\n",
    "    def register_for_llm(\n",
    "        self, *, name: Optional[str] = None, description: Optional[str] = None\n",
    "    ) -> Callable[[Callable[..., Any]], Tool]:\n",
    "        def decorator(func_or_tool: Union[Callable[..., Any], Tool]) -> Tool:\n",
    "            nonlocal name, description\n",
    "\n",
    "            tool = self._create_tool_if_needed(func_or_tool, name, description)\n",
    "\n",
    "            return tool\n",
    "\n",
    "        return decorator\n",
    "\n",
    "    def register_for_execution(self, name: Optional[str] = None) -> Callable[[Tool], Tool]:\n",
    "        def decorator(func_or_tool: Tool) -> Tool:\n",
    "            nonlocal name\n",
    "\n",
    "            tool = self._create_tool_if_needed(func_or_tool, name, None)\n",
    "\n",
    "            self.tools[tool.name] = tool.func\n",
    "\n",
    "            return tool\n",
    "\n",
    "        return decorator"
   ]
  },
  {
   "cell_type": "markdown",
   "metadata": {},
   "source": [
    "## Context injection\n",
    "\n",
    "#### Title:\n",
    "As a developer, I want to assign a default context value for function parameters to streamline dependency injection in tool definitions.\n",
    "\n",
    "#### Description:\n",
    "This feature allows developers to define functions with parameters that include default values derived from a context object. The context object can be instantiated and injected without manual handling, simplifying API usage.\n",
    "\n",
    "#### Acceptance Criteria:\n",
    "- Functions can specify a default context value as part of their signature.\n",
    "- Context values are automatically injected during function execution.\n",
    "- The default context parameter must be compatible with the defined BaseContext.\n"
   ]
  },
  {
   "cell_type": "code",
   "execution_count": 11,
   "metadata": {},
   "outputs": [],
   "source": [
    "class MyContext(BaseContext, BaseModel):\n",
    "    b: int\n",
    "\n",
    "\n",
    "ctx = MyContext(b=2)\n",
    "\n",
    "agent = Agent()\n",
    "\n",
    "\n",
    "@agent.register_for_llm(description=\"Example function\")\n",
    "@agent.register_for_execution()\n",
    "def f(\n",
    "    a: int,\n",
    "    ctx: Annotated[\n",
    "        MyContext, Depends(ctx)\n",
    "    ],  # doodavanje lambde se da rijesiti iznutra (npr. ako je objekt unutra instanca od neke nase Context klase)\n",
    "    # syntaxe koje podrzavamo\n",
    "    # ctx: Annotated[MyContext, Depends(MyContext(b=2))],\n",
    "    # ctx: MyContext = Depends(MyContext(b=2)), # non-annotated version\n",
    "    # ctx: MyContext = MyContext(b=2), # non-annotated version for subclasses of BaseContext\n",
    ") -> int:\n",
    "    return a + ctx.b"
   ]
  },
  {
   "cell_type": "code",
   "execution_count": 12,
   "metadata": {},
   "outputs": [],
   "source": [
    "assert \"f\" in agent.tools\n",
    "assert isinstance(agent.tools[\"f\"], Callable)"
   ]
  },
  {
   "cell_type": "code",
   "execution_count": 13,
   "metadata": {},
   "outputs": [],
   "source": [
    "assert f(1) == 3\n",
    "ctx.b = 4\n",
    "assert f(1) == 5"
   ]
  },
  {
   "cell_type": "markdown",
   "metadata": {},
   "source": [
    "## Different agent context in each function invocation\n",
    "\n",
    "#### Title:\n",
    "As a developer, I want to inject context objects dynamically into functions without explicitly modifying their signatures.\n",
    "\n",
    "#### Description:\n",
    "This feature allows context objects to be dynamically assigned to functions during registration. The function signature remains unchanged, and the context is removed from the interface seen by LLMs or external users.\n",
    "\n",
    "#### Acceptance Criteria:\n",
    "- Context injection occurs transparently during function execution.\n",
    "- Registered functions do not expose the ctx parameter in their final API interface.\n",
    "- Functions retain full type safety and compatibility with the BaseContext.\n",
    "- Unit tests validate dynamic injection scenarios.\n"
   ]
  },
  {
   "cell_type": "code",
   "execution_count": 14,
   "metadata": {},
   "outputs": [],
   "source": [
    "agent1 = Agent()\n",
    "agent2 = Agent()\n",
    "user_proxy = Agent()\n",
    "\n",
    "\n",
    "def _f(\n",
    "    a: int,\n",
    "    ctx: MyContext,\n",
    ") -> int:\n",
    "    ctx.b = ctx.b + 1\n",
    "    return a + ctx.b\n",
    "\n",
    "\n",
    "@user_proxy.register_for_execution()\n",
    "@agent1.register_for_llm(description=\"Example function\")\n",
    "def f1(\n",
    "    a: int,\n",
    "    ctx: Annotated[MyContext, Depends(MyContext(b=2))],\n",
    ") -> int:\n",
    "    return _f(a, ctx)\n",
    "\n",
    "\n",
    "@user_proxy.register_for_execution()\n",
    "@agent1.register_for_llm(description=\"Example function\")\n",
    "def f2(\n",
    "    a: int,\n",
    "    ctx: Annotated[MyContext, Depends(MyContext(b=2))],\n",
    ") -> int:\n",
    "    return _f(a, ctx)"
   ]
  },
  {
   "cell_type": "code",
   "execution_count": 15,
   "metadata": {},
   "outputs": [],
   "source": [
    "assert \"f1\" in user_proxy.tools\n",
    "assert \"f2\" in user_proxy.tools\n",
    "assert isinstance(user_proxy.tools[\"f1\"], Callable)\n",
    "assert isinstance(user_proxy.tools[\"f2\"], Callable)"
   ]
  },
  {
   "cell_type": "code",
   "execution_count": 16,
   "metadata": {},
   "outputs": [],
   "source": [
    "assert f1(1) == 4\n",
    "assert f1(1) == 5\n",
    "assert f2(1) == 4"
   ]
  },
  {
   "cell_type": "markdown",
   "metadata": {},
   "source": [
    "## User Story 3\n",
    "\n",
    "#### Title:\n",
    "As a developer, I want multiple agents to share a single context object for efficient and synchronized execution.\n",
    "#### Description:\n",
    "Enable multiple agents or users to share the same context object. This allows for coordinated interactions and consistency in function behavior across users while minimizing resource overhead.\n",
    "#### Acceptance Criteria:\n",
    "- A shared context object can be assigned to multiple users.\n",
    "- Shared context updates reflect immediately across all agents.\n",
    "- Unit tests validate behavior with shared context across agents.\n"
   ]
  },
  {
   "cell_type": "code",
   "execution_count": 17,
   "metadata": {},
   "outputs": [],
   "source": [
    "# valjda radi"
   ]
  },
  {
   "cell_type": "code",
   "execution_count": null,
   "metadata": {},
   "outputs": [],
   "source": []
  },
  {
   "cell_type": "code",
   "execution_count": null,
   "metadata": {},
   "outputs": [],
   "source": []
  }
 ],
 "metadata": {
  "kernelspec": {
   "display_name": ".venv",
   "language": "python",
   "name": "python3"
  },
  "language_info": {
   "codemirror_mode": {
    "name": "ipython",
    "version": 3
   },
   "file_extension": ".py",
   "mimetype": "text/x-python",
   "name": "python",
   "nbconvert_exporter": "python",
   "pygments_lexer": "ipython3",
   "version": "3.10.16"
  }
 },
 "nbformat": 4,
 "nbformat_minor": 2
}
