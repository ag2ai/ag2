{
 "cells": [
  {
   "cell_type": "code",
   "execution_count": null,
   "metadata": {},
   "outputs": [],
   "source": [
    "import os\n",
    "from typing import Annotated, Literal\n",
    "\n",
    "from pydantic import BaseModel\n",
    "\n",
    "from autogen.agentchat import ConversableAgent, UserProxyAgent\n",
    "from autogen.tools.dependency_injection import BaseContext, ChatContext, Depends"
   ]
  },
  {
   "cell_type": "code",
   "execution_count": 2,
   "metadata": {},
   "outputs": [],
   "source": [
    "class Account(BaseContext, BaseModel):\n",
    "    username: str\n",
    "    password: str\n",
    "    currency: Literal[\"USD\", \"EUR\"] = \"USD\"\n",
    "\n",
    "\n",
    "alice_account = Account(username=\"alice\", password=\"password123\")\n",
    "bob_account = Account(username=\"bob\", password=\"password456\")\n",
    "\n",
    "account_ballace_dict = {\n",
    "    (alice_account.username, alice_account.password): 300,\n",
    "    (bob_account.username, bob_account.password): 200,\n",
    "}"
   ]
  },
  {
   "cell_type": "code",
   "execution_count": 3,
   "metadata": {},
   "outputs": [],
   "source": [
    "def _verify_account(account: Account):\n",
    "    if (account.username, account.password) not in account_ballace_dict:\n",
    "        raise ValueError(\"Invalid username or password\")\n",
    "\n",
    "\n",
    "def _get_balance(account: Account):\n",
    "    _verify_account(account)\n",
    "    return f\"Your balance is {account_ballace_dict[(account.username, account.password)]}{account.currency}\""
   ]
  },
  {
   "cell_type": "code",
   "execution_count": 4,
   "metadata": {},
   "outputs": [],
   "source": [
    "config_list = [{\"model\": \"gpt-4o-mini\", \"api_key\": os.environ[\"OPENAI_API_KEY\"]}]\n",
    "agent = ConversableAgent(\n",
    "    name=\"agent\",\n",
    "    llm_config={\"config_list\": config_list},\n",
    ")\n",
    "user_proxy = UserProxyAgent(\n",
    "    name=\"user_proxy_1\",\n",
    "    human_input_mode=\"NEVER\",\n",
    "    llm_config=False,\n",
    ")"
   ]
  },
  {
   "cell_type": "code",
   "execution_count": 5,
   "metadata": {},
   "outputs": [],
   "source": [
    "from logging import Logger\n",
    "\n",
    "\n",
    "@user_proxy.register_for_execution()\n",
    "@agent.register_for_llm(description=\"Login\")\n",
    "def login(\n",
    "    account: Annotated[Account, Depends(bob_account)],\n",
    "    logger: Logger,\n",
    ") -> str:\n",
    "    _verify_account(account)\n",
    "    logger.info(f\"User {account.username} logged in\")\n",
    "    return \"You are logged in\"\n",
    "\n",
    "\n",
    "\n",
    "\n",
    "@user_proxy.register_for_execution()\n",
    "@agent.register_for_llm(description=\"Get balance\")\n",
    "def get_balance_1(\n",
    "    account: Annotated[Account, Depends(bob_account)],\n",
    "    chat_context: ChatContext,\n",
    "    logger: Logger,\n",
    ") -> str:\n",
    "    logger.info(\"Hello, World!\")\n",
    "\n",
    "    messages_with_first_agent = list(chat_context.chat_messages.values())[0]\n",
    "\n",
    "    login_function_called = False\n",
    "    for message in messages_with_first_agent:\n",
    "        if \"tool_calls\" in message and message[\"tool_calls\"][0][\"function\"][\"name\"] == \"login\":\n",
    "            login_function_called = True\n",
    "            break\n",
    "\n",
    "    if not login_function_called:\n",
    "        logger.error(\"Login function was not called\")\n",
    "        raise ValueError(\"Login function was not called\")\n",
    "\n",
    "    balance = _get_balance(account)\n",
    "    logger.info(\"Successfully retrieved balance\")\n",
    "    return balance\n"
   ]
  },
  {
   "cell_type": "code",
   "execution_count": null,
   "metadata": {},
   "outputs": [],
   "source": [
    "user_proxy.initiate_chat(agent, message=\"Get users balance\", max_turns=5)"
   ]
  },
  {
   "cell_type": "code",
   "execution_count": 7,
   "metadata": {},
   "outputs": [],
   "source": [
    "messages_with_first_agent = list(user_proxy.chat_messages.values())[0]\n",
    "\n",
    "login_function_called = False\n",
    "for message in messages_with_first_agent:\n",
    "    if \"tool_calls\" in message and message[\"tool_calls\"][0][\"function\"][\"name\"] == \"login\":\n",
    "        login_function_called = True\n",
    "        break\n",
    "\n",
    "if not login_function_called:\n",
    "    raise ValueError(\"Login function was not called\")\n"
   ]
  },
  {
   "cell_type": "code",
   "execution_count": null,
   "metadata": {},
   "outputs": [],
   "source": []
  }
 ],
 "metadata": {
  "kernelspec": {
   "display_name": ".venv-develop",
   "language": "python",
   "name": "python3"
  },
  "language_info": {
   "codemirror_mode": {
    "name": "ipython",
    "version": 3
   },
   "file_extension": ".py",
   "mimetype": "text/x-python",
   "name": "python",
   "nbconvert_exporter": "python",
   "pygments_lexer": "ipython3",
   "version": "3.10.16"
  }
 },
 "nbformat": 4,
 "nbformat_minor": 2
}
