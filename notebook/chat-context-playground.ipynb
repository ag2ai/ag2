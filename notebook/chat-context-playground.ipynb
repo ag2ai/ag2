{
 "cells": [
  {
   "cell_type": "code",
   "execution_count": null,
   "metadata": {},
   "outputs": [],
   "source": [
    "import os\n",
    "from typing import Annotated, Literal\n",
    "\n",
    "from pydantic import BaseModel\n",
    "\n",
    "from autogen.agentchat import ConversableAgent, UserProxyAgent\n",
    "from autogen.tools.dependency_injection import BaseContext, ChatContext, Depends, inject_params"
   ]
  },
  {
   "cell_type": "code",
   "execution_count": 2,
   "metadata": {},
   "outputs": [],
   "source": [
    "class Account(BaseContext, BaseModel):\n",
    "    username: str\n",
    "    password: str\n",
    "    currency: Literal[\"USD\", \"EUR\"] = \"USD\"\n",
    "\n",
    "\n",
    "alice_account = Account(username=\"alice\", password=\"password123\")\n",
    "bob_account = Account(username=\"bob\", password=\"password456\")\n",
    "\n",
    "account_ballace_dict = {\n",
    "    (alice_account.username, alice_account.password): 300,\n",
    "    (bob_account.username, bob_account.password): 200,\n",
    "}"
   ]
  },
  {
   "cell_type": "code",
   "execution_count": 3,
   "metadata": {},
   "outputs": [],
   "source": [
    "def _verify_account(account: Account):\n",
    "    if (account.username, account.password) not in account_ballace_dict:\n",
    "        raise ValueError(\"Invalid username or password\")\n",
    "\n",
    "\n",
    "def _get_balance(account: Account):\n",
    "    _verify_account(account)\n",
    "    return f\"Your balance is {account_ballace_dict[(account.username, account.password)]}{account.currency}\""
   ]
  },
  {
   "cell_type": "code",
   "execution_count": 4,
   "metadata": {},
   "outputs": [],
   "source": [
    "config_list = [{\"model\": \"gpt-4o-mini\", \"api_key\": os.environ[\"OPENAI_API_KEY\"]}]\n",
    "agent = ConversableAgent(\n",
    "    name=\"agent\",\n",
    "    llm_config={\"config_list\": config_list},\n",
    ")"
   ]
  },
  {
   "cell_type": "code",
   "execution_count": 5,
   "metadata": {},
   "outputs": [],
   "source": [
    "def get_balance_1(\n",
    "    account: Annotated[Account, Depends(bob_account)],\n",
    "    chat_context: Annotated[ChatContext, \"description of chat context\"],\n",
    ") -> str:\n",
    "    print(f\"Chatcontext: {chat_context.chat_messages}\")\n",
    "    return _get_balance(account)"
   ]
  },
  {
   "cell_type": "code",
   "execution_count": 6,
   "metadata": {},
   "outputs": [],
   "source": [
    "func = inject_params(get_balance_1)"
   ]
  },
  {
   "cell_type": "code",
   "execution_count": 7,
   "metadata": {},
   "outputs": [],
   "source": [
    "from functools import wraps\n",
    "from typing import Any\n",
    "\n",
    "chat_contexts = {\"chat_context\": ChatContext(agent=agent)}\n",
    "\n",
    "\n",
    "def update_chat_context(func, agent: \"ConversableAgent\"):\n",
    "    @wraps(func)\n",
    "    def wrapper(*args: Any, **kwargs: Any) -> Any:\n",
    "        assert len(kwargs) == 0\n",
    "        for value in kwargs.values():\n",
    "            if isinstance(value, ChatContext):\n",
    "                value.chat_messages = agent.chat_messages()\n",
    "\n",
    "        return func(*args, **kwargs, **chat_contexts)\n",
    "\n",
    "    return wrapper"
   ]
  },
  {
   "cell_type": "code",
   "execution_count": null,
   "metadata": {},
   "outputs": [],
   "source": [
    "import inspect\n",
    "\n",
    "func = update_chat_context(func, agent)\n",
    "\n",
    "inspect.signature(func)"
   ]
  },
  {
   "cell_type": "code",
   "execution_count": null,
   "metadata": {},
   "outputs": [],
   "source": [
    "func()"
   ]
  },
  {
   "cell_type": "markdown",
   "metadata": {},
   "source": [
    "## Real chat"
   ]
  },
  {
   "cell_type": "code",
   "execution_count": 10,
   "metadata": {},
   "outputs": [],
   "source": [
    "config_list = [{\"model\": \"gpt-4o-mini\", \"api_key\": os.environ[\"OPENAI_API_KEY\"]}]\n",
    "agent = ConversableAgent(\n",
    "    name=\"agent\",\n",
    "    llm_config={\"config_list\": config_list},\n",
    ")\n",
    "user_proxy = UserProxyAgent(\n",
    "    name=\"user_proxy_1\",\n",
    "    human_input_mode=\"NEVER\",\n",
    "    llm_config=False,\n",
    ")"
   ]
  },
  {
   "cell_type": "code",
   "execution_count": 11,
   "metadata": {},
   "outputs": [],
   "source": [
    "from logging import Logger\n",
    "\n",
    "\n",
    "@user_proxy.register_for_execution()\n",
    "@agent.register_for_llm(description=\"Get balance\")\n",
    "def get_balance_1(\n",
    "    account: Annotated[Account, Depends(bob_account)],\n",
    "    # chat_context: Annotated[ChatContext, \"Injected chat context\"],\n",
    "    chat_context: ChatContext,\n",
    "    logger: Logger,\n",
    ") -> str:\n",
    "    # _setup_logger_for_notebook(logger)\n",
    "    print(f\"context: {chat_context.chat_messages}\")\n",
    "    print(f\"Last message: {chat_context.last_message}\")\n",
    "    logger.info(\"Hello, World!\")\n",
    "    return _get_balance(account)"
   ]
  },
  {
   "cell_type": "code",
   "execution_count": null,
   "metadata": {},
   "outputs": [],
   "source": [
    "user_proxy.initiate_chat(agent, message=\"Get users balance, If balance is less then 500, get it again\", max_turns=5)"
   ]
  }
 ],
 "metadata": {
  "kernelspec": {
   "display_name": ".venv-develop",
   "language": "python",
   "name": "python3"
  },
  "language_info": {
   "codemirror_mode": {
    "name": "ipython",
    "version": 3
   },
   "file_extension": ".py",
   "mimetype": "text/x-python",
   "name": "python",
   "nbconvert_exporter": "python",
   "pygments_lexer": "ipython3",
   "version": "3.10.16"
  }
 },
 "nbformat": 4,
 "nbformat_minor": 2
}
