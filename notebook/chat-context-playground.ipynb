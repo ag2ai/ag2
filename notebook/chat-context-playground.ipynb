{
 "cells": [
  {
   "cell_type": "code",
   "execution_count": 13,
   "metadata": {},
   "outputs": [],
   "source": [
    "import os\n",
    "from typing import Annotated, Literal\n",
    "\n",
    "from pydantic import BaseModel\n",
    "\n",
    "from autogen.agentchat import ConversableAgent, UserProxyAgent\n",
    "from autogen.tools.dependency_injection import BaseContext, ChatContext, Depends, inject_params\n"
   ]
  },
  {
   "cell_type": "code",
   "execution_count": 14,
   "metadata": {},
   "outputs": [],
   "source": [
    "class Account(BaseContext, BaseModel):\n",
    "    username: str\n",
    "    password: str\n",
    "    currency: Literal[\"USD\", \"EUR\"] = \"USD\"\n",
    "\n",
    "\n",
    "alice_account = Account(username=\"alice\", password=\"password123\")\n",
    "bob_account = Account(username=\"bob\", password=\"password456\")\n",
    "\n",
    "account_ballace_dict = {\n",
    "    (alice_account.username, alice_account.password): 300,\n",
    "    (bob_account.username, bob_account.password): 200,\n",
    "}\n"
   ]
  },
  {
   "cell_type": "code",
   "execution_count": 15,
   "metadata": {},
   "outputs": [],
   "source": [
    "def _verify_account(account: Account):\n",
    "    if (account.username, account.password) not in account_ballace_dict:\n",
    "        raise ValueError(\"Invalid username or password\")\n",
    "\n",
    "\n",
    "def _get_balance(account: Account):\n",
    "    _verify_account(account)\n",
    "    return f\"Your balance is {account_ballace_dict[(account.username, account.password)]}{account.currency}\"\n"
   ]
  },
  {
   "cell_type": "code",
   "execution_count": 16,
   "metadata": {},
   "outputs": [],
   "source": [
    "\n",
    "config_list = [{\"model\": \"gpt-4o-mini\", \"api_key\": os.environ[\"OPENAI_API_KEY\"]}]\n",
    "agent = ConversableAgent(\n",
    "    name=\"agent\",\n",
    "    llm_config={\"config_list\": config_list},\n",
    ")"
   ]
  },
  {
   "cell_type": "code",
   "execution_count": 19,
   "metadata": {},
   "outputs": [],
   "source": [
    "def get_balance_1(\n",
    "    account: Annotated[Account, Depends(bob_account)],\n",
    "    chat_context: Annotated[ChatContext, \"description of chat context\"],\n",
    ") -> str:\n",
    "    print(f\"Chatcontext: {chat_context.chat_messages}\")\n",
    "    return _get_balance(account)"
   ]
  },
  {
   "cell_type": "code",
   "execution_count": 20,
   "metadata": {},
   "outputs": [],
   "source": [
    "func = inject_params(get_balance_1)"
   ]
  },
  {
   "cell_type": "code",
   "execution_count": 21,
   "metadata": {},
   "outputs": [],
   "source": [
    "from functools import wraps\n",
    "from typing import Any\n",
    "\n",
    "chat_contexts = {\"chat_context\": ChatContext(agent=agent)}\n",
    "\n",
    "def update_chat_context(func, agent: \"ConversableAgent\"):\n",
    "    @wraps(func)\n",
    "    def wrapper(*args: Any, **kwargs: Any) -> Any:\n",
    "        assert len(kwargs) == 0\n",
    "        for value in kwargs.values():\n",
    "            if isinstance(value, ChatContext):\n",
    "                value.chat_messages = agent.chat_messages()\n",
    "\n",
    "        return func(*args, **kwargs, **chat_contexts)\n",
    "\n",
    "    return wrapper"
   ]
  },
  {
   "cell_type": "code",
   "execution_count": 22,
   "metadata": {},
   "outputs": [
    {
     "data": {
      "text/plain": [
       "<Signature () -> str>"
      ]
     },
     "execution_count": 22,
     "metadata": {},
     "output_type": "execute_result"
    }
   ],
   "source": [
    "import inspect\n",
    "\n",
    "func = update_chat_context(func, agent)\n",
    "\n",
    "inspect.signature(func)"
   ]
  },
  {
   "cell_type": "code",
   "execution_count": 23,
   "metadata": {},
   "outputs": [
    {
     "name": "stdout",
     "output_type": "stream",
     "text": [
      "Chatcontext: defaultdict(<class 'list'>, {})\n"
     ]
    },
    {
     "data": {
      "text/plain": [
       "'Your balance is 200USD'"
      ]
     },
     "execution_count": 23,
     "metadata": {},
     "output_type": "execute_result"
    }
   ],
   "source": [
    "func()"
   ]
  },
  {
   "cell_type": "markdown",
   "metadata": {},
   "source": [
    "## Real chat"
   ]
  },
  {
   "cell_type": "code",
   "execution_count": 10,
   "metadata": {},
   "outputs": [],
   "source": [
    "config_list = [{\"model\": \"gpt-4o-mini\", \"api_key\": os.environ[\"OPENAI_API_KEY\"]}]\n",
    "agent = ConversableAgent(\n",
    "    name=\"agent\",\n",
    "    llm_config={\"config_list\": config_list},\n",
    ")\n",
    "user_proxy = UserProxyAgent(\n",
    "    name=\"user_proxy_1\",\n",
    "    human_input_mode=\"NEVER\",\n",
    "    llm_config=False,\n",
    ")"
   ]
  },
  {
   "cell_type": "code",
   "execution_count": 11,
   "metadata": {},
   "outputs": [],
   "source": [
    "@user_proxy.register_for_execution()\n",
    "@agent.register_for_llm(description=\"Get balance\")\n",
    "def get_balance_1(\n",
    "    account: Annotated[Account, Depends(bob_account)],\n",
    "    # chat_context: Annotated[ChatContext, Depends(ChatContext(agent=agent))],\n",
    "    chat_context: ChatContext = ChatContext(agent=user_proxy),\n",
    ") -> str:\n",
    "    print(f\"context: {chat_context.chat_messages}\")\n",
    "    print(f\"Last message: {chat_context.last_message}\")\n",
    "    return _get_balance(account)"
   ]
  },
  {
   "cell_type": "code",
   "execution_count": 12,
   "metadata": {},
   "outputs": [
    {
     "name": "stdout",
     "output_type": "stream",
     "text": [
      "\u001b[33muser_proxy_1\u001b[0m (to agent):\n",
      "\n",
      "Get users balance, If balance is less then 500, get it again\n",
      "\n",
      "--------------------------------------------------------------------------------\n",
      "\u001b[31m\n",
      ">>>>>>>> USING AUTO REPLY...\u001b[0m\n",
      "\u001b[33magent\u001b[0m (to user_proxy_1):\n",
      "\n",
      "\u001b[32m***** Suggested tool call (call_r8ftHgWq9eleuM8dcinJ8F7b): get_balance_1 *****\u001b[0m\n",
      "Arguments: \n",
      "{}\n",
      "\u001b[32m******************************************************************************\u001b[0m\n",
      "\n",
      "--------------------------------------------------------------------------------\n",
      "\u001b[35m\n",
      ">>>>>>>> EXECUTING FUNCTION get_balance_1...\n",
      "Call ID: call_r8ftHgWq9eleuM8dcinJ8F7b\n",
      "Input arguments: {}\u001b[0m\n",
      "context: defaultdict(<class 'list'>, {<autogen.agentchat.conversable_agent.ConversableAgent object at 0x148263820>: [{'content': 'Get users balance, If balance is less then 500, get it again', 'role': 'assistant', 'name': 'user_proxy_1'}, {'tool_calls': [{'id': 'call_r8ftHgWq9eleuM8dcinJ8F7b', 'function': {'arguments': '{}', 'name': 'get_balance_1'}, 'type': 'function'}], 'content': None, 'role': 'assistant'}]})\n",
      "Last message: {'tool_calls': [{'id': 'call_r8ftHgWq9eleuM8dcinJ8F7b', 'function': {'arguments': '{}', 'name': 'get_balance_1'}, 'type': 'function'}], 'content': None, 'role': 'assistant'}\n",
      "\u001b[33muser_proxy_1\u001b[0m (to agent):\n",
      "\n",
      "\u001b[32m***** Response from calling tool (call_r8ftHgWq9eleuM8dcinJ8F7b) *****\u001b[0m\n",
      "Your balance is 200USD\n",
      "\u001b[32m**********************************************************************\u001b[0m\n",
      "\n",
      "--------------------------------------------------------------------------------\n",
      "\u001b[31m\n",
      ">>>>>>>> USING AUTO REPLY...\u001b[0m\n",
      "\u001b[33magent\u001b[0m (to user_proxy_1):\n",
      "\n",
      "\u001b[32m***** Suggested tool call (call_u7gdmhB3VKU41RpHEAYFTycw): get_balance_1 *****\u001b[0m\n",
      "Arguments: \n",
      "{}\n",
      "\u001b[32m******************************************************************************\u001b[0m\n",
      "\n",
      "--------------------------------------------------------------------------------\n",
      "\u001b[35m\n",
      ">>>>>>>> EXECUTING FUNCTION get_balance_1...\n",
      "Call ID: call_u7gdmhB3VKU41RpHEAYFTycw\n",
      "Input arguments: {}\u001b[0m\n",
      "context: defaultdict(<class 'list'>, {<autogen.agentchat.conversable_agent.ConversableAgent object at 0x148263820>: [{'content': 'Get users balance, If balance is less then 500, get it again', 'role': 'assistant', 'name': 'user_proxy_1'}, {'tool_calls': [{'id': 'call_r8ftHgWq9eleuM8dcinJ8F7b', 'function': {'arguments': '{}', 'name': 'get_balance_1'}, 'type': 'function'}], 'content': None, 'role': 'assistant'}, {'content': 'Your balance is 200USD', 'tool_responses': [{'tool_call_id': 'call_r8ftHgWq9eleuM8dcinJ8F7b', 'role': 'tool', 'content': 'Your balance is 200USD'}], 'role': 'tool', 'name': 'user_proxy_1'}, {'tool_calls': [{'id': 'call_u7gdmhB3VKU41RpHEAYFTycw', 'function': {'arguments': '{}', 'name': 'get_balance_1'}, 'type': 'function'}], 'content': None, 'role': 'assistant'}]})\n",
      "Last message: {'tool_calls': [{'id': 'call_u7gdmhB3VKU41RpHEAYFTycw', 'function': {'arguments': '{}', 'name': 'get_balance_1'}, 'type': 'function'}], 'content': None, 'role': 'assistant'}\n",
      "\u001b[33muser_proxy_1\u001b[0m (to agent):\n",
      "\n",
      "\u001b[32m***** Response from calling tool (call_u7gdmhB3VKU41RpHEAYFTycw) *****\u001b[0m\n",
      "Your balance is 200USD\n",
      "\u001b[32m**********************************************************************\u001b[0m\n",
      "\n",
      "--------------------------------------------------------------------------------\n",
      "\u001b[31m\n",
      ">>>>>>>> USING AUTO REPLY...\u001b[0m\n",
      "\u001b[33magent\u001b[0m (to user_proxy_1):\n",
      "\n",
      "Your balance is currently 200 USD, which is less than 500 USD. I checked it again, but it remains the same at 200 USD.\n",
      "\n",
      "--------------------------------------------------------------------------------\n",
      "\u001b[33muser_proxy_1\u001b[0m (to agent):\n",
      "\n",
      "\n",
      "\n",
      "--------------------------------------------------------------------------------\n",
      "\u001b[31m\n",
      ">>>>>>>> USING AUTO REPLY...\u001b[0m\n",
      "\u001b[33magent\u001b[0m (to user_proxy_1):\n",
      "\n",
      "It seems like there was no follow-up request. If you need assistance with anything else, feel free to ask!\n",
      "\n",
      "--------------------------------------------------------------------------------\n",
      "\u001b[33muser_proxy_1\u001b[0m (to agent):\n",
      "\n",
      "\n",
      "\n",
      "--------------------------------------------------------------------------------\n",
      "\u001b[31m\n",
      ">>>>>>>> USING AUTO REPLY...\u001b[0m\n",
      "\u001b[33magent\u001b[0m (to user_proxy_1):\n",
      "\n",
      "It seems that there is no additional input from you. If you have any questions or need further assistance, please let me know!\n",
      "\n",
      "--------------------------------------------------------------------------------\n"
     ]
    },
    {
     "data": {
      "text/plain": [
       "ChatResult(chat_id=None, chat_history=[{'content': 'Get users balance, If balance is less then 500, get it again', 'role': 'assistant', 'name': 'user_proxy_1'}, {'tool_calls': [{'id': 'call_r8ftHgWq9eleuM8dcinJ8F7b', 'function': {'arguments': '{}', 'name': 'get_balance_1'}, 'type': 'function'}], 'content': None, 'role': 'assistant'}, {'content': 'Your balance is 200USD', 'tool_responses': [{'tool_call_id': 'call_r8ftHgWq9eleuM8dcinJ8F7b', 'role': 'tool', 'content': 'Your balance is 200USD'}], 'role': 'tool', 'name': 'user_proxy_1'}, {'tool_calls': [{'id': 'call_u7gdmhB3VKU41RpHEAYFTycw', 'function': {'arguments': '{}', 'name': 'get_balance_1'}, 'type': 'function'}], 'content': None, 'role': 'assistant'}, {'content': 'Your balance is 200USD', 'tool_responses': [{'tool_call_id': 'call_u7gdmhB3VKU41RpHEAYFTycw', 'role': 'tool', 'content': 'Your balance is 200USD'}], 'role': 'tool', 'name': 'user_proxy_1'}, {'content': 'Your balance is currently 200 USD, which is less than 500 USD. I checked it again, but it remains the same at 200 USD.', 'role': 'user', 'name': 'agent'}, {'content': '', 'role': 'assistant', 'name': 'user_proxy_1'}, {'content': 'It seems like there was no follow-up request. If you need assistance with anything else, feel free to ask!', 'role': 'user', 'name': 'agent'}, {'content': '', 'role': 'assistant', 'name': 'user_proxy_1'}, {'content': 'It seems that there is no additional input from you. If you have any questions or need further assistance, please let me know!', 'role': 'user', 'name': 'agent'}], summary='It seems that there is no additional input from you. If you have any questions or need further assistance, please let me know!', cost={'usage_including_cached_inference': {'total_cost': 0.00016214999999999998, 'gpt-4o-mini-2024-07-18': {'cost': 0.00016214999999999998, 'prompt_tokens': 633, 'completion_tokens': 112, 'total_tokens': 745}}, 'usage_excluding_cached_inference': {'total_cost': 0}}, human_input=[])"
      ]
     },
     "execution_count": 12,
     "metadata": {},
     "output_type": "execute_result"
    }
   ],
   "source": [
    "user_proxy.initiate_chat(agent, message=\"Get users balance, If balance is less then 500, get it again\", max_turns=5)"
   ]
  },
  {
   "cell_type": "code",
   "execution_count": null,
   "metadata": {},
   "outputs": [],
   "source": []
  }
 ],
 "metadata": {
  "kernelspec": {
   "display_name": ".venv",
   "language": "python",
   "name": "python3"
  },
  "language_info": {
   "codemirror_mode": {
    "name": "ipython",
    "version": 3
   },
   "file_extension": ".py",
   "mimetype": "text/x-python",
   "name": "python",
   "nbconvert_exporter": "python",
   "pygments_lexer": "ipython3",
   "version": "3.10.16"
  }
 },
 "nbformat": 4,
 "nbformat_minor": 2
}
