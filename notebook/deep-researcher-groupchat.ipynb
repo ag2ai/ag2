{
 "cells": [
  {
   "cell_type": "code",
   "execution_count": 1,
   "metadata": {},
   "outputs": [],
   "source": [
    "import nest_asyncio\n",
    "\n",
    "import autogen\n",
    "from autogen.agents.experimental import WebSurferAgent\n",
    "\n",
    "nest_asyncio.apply()"
   ]
  },
  {
   "cell_type": "code",
   "execution_count": 2,
   "metadata": {},
   "outputs": [],
   "source": [
    "config_list = autogen.config_list_from_json(\n",
    "    \"OAI_CONFIG_LIST\",\n",
    "    filter_dict={\"tags\": [\"gpt-4o-mini\"]},\n",
    ")\n",
    "llm_config = {\"config_list\": config_list}"
   ]
  },
  {
   "cell_type": "code",
   "execution_count": null,
   "metadata": {},
   "outputs": [],
   "source": [
    "from autogen import ConversableAgent, GroupChat, GroupChatManager, UserProxyAgent\n",
    "\n",
    "# Swarm Agents, similar to ConversableAgent, but with functions and hand offs (specified later)\n",
    "initial_analyser = ConversableAgent(\n",
    "    name=\"InitialAnalysisAgent\",\n",
    "    system_message=\"\"\"You are an expert at breaking down complex questions into smaller, focused subquestions.\n",
    "Your task is to take any question provided and divide it into clear, actionable subquestions that can be individually answered.\n",
    "Ensure the subquestions are logical, non-redundant, and cover all key aspects of the original question.\n",
    "Avoid providing answers or interpretations—focus solely on decomposition.\n",
    "\n",
    "Do NOT forward the initial task without breaking it down into subquestions!!!\n",
    "\"\"\",\n",
    "    llm_config=llm_config,\n",
    ")\n",
    "\n",
    "websurfer = WebSurferAgent(\n",
    "    llm_config=llm_config,\n",
    "    name=\"WebSurferAgent\",\n",
    "    system_message=\"\"\"You are a web surfer agent responsible for gathering information from the web to answer the subquestions provided.\n",
    "Always perform searches one subquestion at a time. You are allowed to perform a new search only after you receive a new subquestion.\n",
    "\"\"\",\n",
    "    web_tool=\"crawl4ai\",\n",
    ")\n",
    "\n",
    "summarizer = ConversableAgent(\n",
    "    name=\"SummarizerAgent\",\n",
    "    system_message=\"\"\"You are a summarizer agent responsible for gathering and synthesizing answers to subquestions to provide a complete and concise response to the original question.\n",
    "If the gathered information is insufficient to answer the original question, request further analysis from the initial analysis agent by specifying what is missing.\n",
    "Otherwise, combine the information into a clear and comprehensive summary that addresses the original question.\"\"\",\n",
    "    llm_config=llm_config,\n",
    ")\n",
    "\n",
    "for tool in websurfer.tools:\n",
    "    websurfer.register_for_execution()(tool)\n",
    "\n",
    "\n",
    "user_proxy = UserProxyAgent(\n",
    "    name=\"user_proxy\",\n",
    "    human_input_mode=\"NEVER\",\n",
    ")\n",
    "\n",
    "groupchat = GroupChat(\n",
    "    agents=[user_proxy, initial_analyser, websurfer, summarizer],\n",
    "    messages=[],\n",
    "    max_round=20,\n",
    ")\n",
    "\n",
    "manager = GroupChatManager(\n",
    "    groupchat=groupchat,\n",
    "    llm_config=llm_config,\n",
    "    # is_termination_msg=lambda x: \"GROUPCHAT_TERMINATE\" in x.get(\"content\", \"\"),\n",
    ")\n",
    "\n",
    "user_proxy.initiate_chat(\n",
    "    manager,\n",
    "    message=\"Which are the best cryptocurrencies to invest in? Do the web research first and make som conclusions\",  # Initial message\n",
    ")"
   ]
  }
 ],
 "metadata": {
  "kernelspec": {
   "display_name": ".venv-crawl4ai",
   "language": "python",
   "name": "python3"
  },
  "language_info": {
   "codemirror_mode": {
    "name": "ipython",
    "version": 3
   },
   "file_extension": ".py",
   "mimetype": "text/x-python",
   "name": "python",
   "nbconvert_exporter": "python",
   "pygments_lexer": "ipython3",
   "version": "3.11.8"
  }
 },
 "nbformat": 4,
 "nbformat_minor": 2
}
