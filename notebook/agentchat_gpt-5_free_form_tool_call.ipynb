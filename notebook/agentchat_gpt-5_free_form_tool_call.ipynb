{
 "cells": [
  {
   "cell_type": "markdown",
   "id": "0",
   "metadata": {},
   "source": [
    "# Exploring GPT-5: GPT-5 Free-Form Tool Call\n"
   ]
  },
  {
   "cell_type": "code",
   "execution_count": null,
   "id": "1",
   "metadata": {},
   "outputs": [],
   "source": [
    "import os\n",
    "\n",
    "from dotenv import load_dotenv\n",
    "\n",
    "from autogen import ConversableAgent, LLMConfig\n",
    "from autogen.agentchat import initiate_group_chat\n",
    "from autogen.agentchat.group.patterns import AutoPattern\n",
    "\n",
    "load_dotenv()"
   ]
  },
  {
   "cell_type": "markdown",
   "id": "2",
   "metadata": {},
   "source": [
    "### Free‑Form Function Calling"
   ]
  },
  {
   "cell_type": "markdown",
   "id": "3",
   "metadata": {},
   "source": [
    " GPT‑5 can now send raw text payloads—such as Python scripts, SQL queries, or shell commands—directly to your custom tool using the new `\"type\": \"custom\"` tool interface. \n",
    " \n",
    " Unlike classic structured function calls (which wrap arguments in JSON), the custom tool type gives you maximum flexibility for interacting with external runtimes, including:\n",
    " \n",
    " - Code execution sandboxes (Python, C++, Java, etc.)\n",
    " - SQL databases\n",
    " - Shell environments\n",
    " - Configuration generators\n",
    " \n",
    " **Note:** The custom tool type does *not* support parallel tool calling.\n",
    " \n",
    " This notebook demonstrates how to use GPT-5's free-form tool call capability to send and process raw text payloads."
   ]
  },
  {
   "cell_type": "markdown",
   "id": "4",
   "metadata": {},
   "source": [
    "**Use when structured JSON isn’t needed and raw text is more natural for the target tool.**\n"
   ]
  },
  {
   "cell_type": "markdown",
   "id": "5",
   "metadata": {},
   "source": [
    " ### Agent Setup"
   ]
  },
  {
   "cell_type": "markdown",
   "id": "6",
   "metadata": {},
   "source": [
    "\n",
    " In this section, we define the agents that will participate in the multi-agent chat. Each agent is configured with a specific role and behavior:\n",
    "\n",
    " - **code_agent**: Responsible for generating code based on the user's request.\n",
    " - **reviewer_agent**: Reviews the code produced by the code_agent and provides feedback.\n",
    " - **user**: Acts as the initiator of the conversation, providing tasks and interacting with the agents.\n",
    "\n",
    " We use the `ConversableAgent` class to create these agents, specifying their names, system messages, and interaction modes. The agents are configured to communicate using the GPT-5 model, and their behaviors are tailored to support free-form tool calls and collaborative workflows.\n"
   ]
  },
  {
   "cell_type": "code",
   "execution_count": null,
   "id": "7",
   "metadata": {},
   "outputs": [],
   "source": [
    "llm_config = LLMConfig(\n",
    "    model=\"gpt-5\",\n",
    "    api_key=os.getenv(\"OPENAI_API_KEY\"),\n",
    "    api_type=\"openai\",\n",
    ")\n",
    "\n",
    "with llm_config:\n",
    "    code_agent = ConversableAgent(\n",
    "        name=\"code_agent\",\n",
    "        system_message=\"you are a coding agent. you need to code the task given to you\",\n",
    "        max_consecutive_auto_reply=5,\n",
    "        human_input_mode=\"NEVER\",\n",
    "    )\n",
    "\n",
    "    reviewer_agent = ConversableAgent(\n",
    "        name=\"reviewer_agent\",\n",
    "        human_input_mode=\"NEVER\",\n",
    "        system_message=\"you are a reviewer agent. you need to review the code given to you\",\n",
    "    )\n",
    "\n",
    "user = ConversableAgent(\n",
    "    name=\"user\",\n",
    "    human_input_mode=\"ALWAYS\",\n",
    "    llm_config=llm_config,\n",
    ")"
   ]
  },
  {
   "cell_type": "markdown",
   "id": "8",
   "metadata": {},
   "source": [
    "### Register a free-form tool for the LLM by setting free_form=True"
   ]
  },
  {
   "cell_type": "code",
   "execution_count": null,
   "id": "9",
   "metadata": {},
   "outputs": [],
   "source": [
    "@reviewer_agent.register_for_llm(description=\"This tool is used to review the code.\", free_form=True)\n",
    "@user.register_for_execution()\n",
    "def review_the_code_tool(review: str):\n",
    "    \"\"\"\n",
    "    This tool is used to review the code.\n",
    "    Args:\n",
    "        review: The review of the code.\n",
    "    Returns:\n",
    "        The review of the code.\n",
    "    \"\"\"\n",
    "    return review"
   ]
  },
  {
   "cell_type": "markdown",
   "id": "10",
   "metadata": {},
   "source": [
    "Execute the orchestration utilizing the free-form tool"
   ]
  },
  {
   "cell_type": "code",
   "execution_count": null,
   "id": "11",
   "metadata": {},
   "outputs": [],
   "source": [
    "pattern = AutoPattern(\n",
    "    initial_agent=code_agent,\n",
    "    agents=[code_agent, reviewer_agent],\n",
    "    user_agent=user,\n",
    "    group_manager_args={\"llm_config\": llm_config},\n",
    ")\n",
    "\n",
    "result, context_variables, last_agent = initiate_group_chat(\n",
    "    pattern=pattern,\n",
    "    messages=\"write a python code to solve the 2 sums problem\",\n",
    "    max_rounds=5,\n",
    ")"
   ]
  }
 ],
 "metadata": {
  "front_matter": {
   "description": "GPT5 free-form tool call example",
   "tags": [
    "gpt5",
    "free-form tool call"
   ]
  },
  "kernelspec": {
   "display_name": "Python 3",
   "language": "python",
   "name": "python3"
  },
  "language_info": {
   "codemirror_mode": {
    "name": "ipython",
    "version": 3
   },
   "file_extension": ".py",
   "mimetype": "text/x-python",
   "name": "python",
   "nbconvert_exporter": "python",
   "pygments_lexer": "ipython3",
   "version": "3.13.5"
  }
 },
 "nbformat": 4,
 "nbformat_minor": 5
}
