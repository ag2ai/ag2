{
 "cells": [
  {
   "cell_type": "markdown",
   "metadata": {},
   "source": [
    "# Integrating CrewAI Tools with the AG2 Framework\n",
    "\n",
    "In this tutorial, we demonstrate how to integrate [CrewAI Tools](https://github.com/crewAIInc/crewAI-tools/tree/main) into the AG2 framework. This process enables smooth interoperability between the two systems, allowing developers to leverage CrewAI's powerful tools within AG2's flexible agent-based architecture. By the end of this guide, you will understand how to configure agents, convert CrewAI tools for use in AG2, and validate the integration with a practical example.\n"
   ]
  },
  {
   "cell_type": "markdown",
   "metadata": {},
   "source": [
    "## Installation\n",
    "Install the required packages for integrating CrewAI tools into the AG2 framework.\n",
    "This ensures all dependencies for both frameworks are installed.\n",
    "\n",
    "```bash\n",
    "pip install ag2[interop-crewai]\n",
    "```"
   ]
  },
  {
   "cell_type": "markdown",
   "metadata": {},
   "source": [
    "## Imports\n",
    "\n",
    "Import necessary modules and tools.\n",
    "- `os` is used to access environment variables.\n",
    "- `Path` helps in handling file paths.\n",
    "- `TemporaryDirectory` is used for creating a temporary workspace.\n",
    "- `FileWriterTool` and `ScrapeWebsiteTool` are the CrewAI tools we will integrate.\n",
    "- `AssistantAgent` and `UserProxyAgent` are core AG2 classes.\n",
    "- `CrewAIInteroperability` facilitates the interoperability between AG2 and CrewAI."
   ]
  },
  {
   "cell_type": "code",
   "execution_count": null,
   "metadata": {},
   "outputs": [],
   "source": [
    "import os\n",
    "from pathlib import Path\n",
    "from tempfile import TemporaryDirectory\n",
    "\n",
    "from crewai_tools import FileWriterTool, ScrapeWebsiteTool\n",
    "\n",
    "from autogen import AssistantAgent, UserProxyAgent\n",
    "from autogen.interoperability.crewai import CrewAIInteroperability"
   ]
  },
  {
   "cell_type": "markdown",
   "metadata": {},
   "source": [
    "## Agent Configuration\n",
    "\n",
    "Configure the agents for the interaction.\n",
    "- `config_list` defines the LLM configurations, including the model and API key.\n",
    "- `UserProxyAgent` simulates user inputs without requiring actual human interaction (set to `NEVER`).\n",
    "- `AssistantAgent` represents the AI agent, configured with the LLM settings."
   ]
  },
  {
   "cell_type": "code",
   "execution_count": 2,
   "metadata": {},
   "outputs": [],
   "source": [
    "config_list = [{\"model\": \"gpt-4o-mini\", \"api_key\": os.environ[\"OPENAI_API_KEY\"]}]\n",
    "user_proxy = UserProxyAgent(\n",
    "    name=\"User\",\n",
    "    human_input_mode=\"NEVER\",\n",
    ")\n",
    "\n",
    "chatbot = AssistantAgent(\n",
    "    name=\"chatbot\",\n",
    "    llm_config={\"config_list\": config_list},\n",
    ")"
   ]
  },
  {
   "cell_type": "markdown",
   "metadata": {},
   "source": [
    "## Tool Integration\n",
    "\n",
    "Initialize and register the CrewAI tool with AG2.\n",
    "- `crewai_tool` is an instance of the `FileWriterTool` from CrewAI.\n",
    "- `CrewAIInteroperability` converts the CrewAI tool to make it usable in AG2.\n",
    "- `register_for_execution` and `register_for_llm` allow the tool to work with the UserProxyAgent and AssistantAgent."
   ]
  },
  {
   "cell_type": "code",
   "execution_count": 3,
   "metadata": {},
   "outputs": [],
   "source": [
    "crewai_tool = FileWriterTool()\n",
    "crewai_interop = CrewAIInteroperability()\n",
    "ag2_tool = crewai_interop.convert_tool(crewai_tool)\n",
    "\n",
    "ag2_tool.register_for_execution(user_proxy)\n",
    "ag2_tool.register_for_llm(chatbot)"
   ]
  },
  {
   "cell_type": "markdown",
   "metadata": {},
   "source": [
    "## File creation\n",
    "\n",
    "Demonstrate the integration by writing to a file using the converted CrewAI tool.\n",
    "- A temporary directory is created to simulate a file operation environment.\n",
    "- The `message` instructs the chatbot to use the tool to write a specific string into a file.\n",
    "- `user_proxy.initiate_chat` starts the interaction, with the chatbot processing the request and using the tool.\n",
    "- Finally, the output file is verified to ensure the integration works correctly."
   ]
  },
  {
   "cell_type": "code",
   "execution_count": null,
   "metadata": {},
   "outputs": [],
   "source": [
    "with TemporaryDirectory() as tmpdirname:\n",
    "    filename = \"tool_result.txt\"\n",
    "    message = f\"\"\"Write 'Easy Migration :)' into {filename}.\n",
    "Use {tmpdirname} dir.\n",
    "\"\"\"\n",
    "\n",
    "    user_proxy.initiate_chat(recipient=chatbot, message=message, max_turns=2)\n",
    "\n",
    "    assert Path(tmpdirname, filename).read_text() == \"Easy Migration :)\""
   ]
  },
  {
   "cell_type": "code",
   "execution_count": null,
   "metadata": {},
   "outputs": [],
   "source": [
    "crewai_scrape_tool = ScrapeWebsiteTool()\n",
    "ag2_tool = crewai_interop.convert_tool(crewai_scrape_tool)\n",
    "\n",
    "ag2_tool.register_for_execution(user_proxy)\n",
    "ag2_tool.register_for_llm(chatbot)\n",
    "\n",
    "message = \"Scape the website https://ag2.ai/\"\n",
    "\n",
    "chat_result = user_proxy.initiate_chat(recipient=chatbot, message=message, max_turns=2)"
   ]
  },
  {
   "cell_type": "code",
   "execution_count": null,
   "metadata": {},
   "outputs": [],
   "source": [
    "print(chat_result.summary)"
   ]
  }
 ],
 "metadata": {
  "kernelspec": {
   "display_name": "Python 3",
   "language": "python",
   "name": "python3"
  },
  "language_info": {
   "codemirror_mode": {
    "name": "ipython",
    "version": 3
   },
   "file_extension": ".py",
   "mimetype": "text/x-python",
   "name": "python",
   "nbconvert_exporter": "python",
   "pygments_lexer": "ipython3",
   "version": "3.11.10"
  }
 },
 "nbformat": 4,
 "nbformat_minor": 2
}
