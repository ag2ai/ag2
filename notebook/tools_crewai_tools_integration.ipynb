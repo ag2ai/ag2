{
 "cells": [
  {
   "cell_type": "markdown",
   "metadata": {},
   "source": [
    "# Integrating CrewAI Tools with the Autogen Framework\n",
    "\n",
    "In this tutorial, we demonstrate how to integrate [CrewAI Tools](https://github.com/crewAIInc/crewAI-tools/tree/main) into the Autogen framework. This process enables smooth interoperability between the two systems, allowing developers to leverage CrewAI's powerful tools within Autogen's flexible agent-based architecture. By the end of this guide, you will understand how to configure agents, convert CrewAI tools for use in Autogen, and validate the integration with a practical example.\n"
   ]
  },
  {
   "cell_type": "markdown",
   "metadata": {},
   "source": [
    "## Installation\n",
    "Install the required packages for integrating CrewAI tools into the Autogen framework.\n",
    "This ensures all dependencies for both frameworks are installed.\n",
    "\n",
    "```bash\n",
    "pip install autogen[interop-crewai]\n",
    "```"
   ]
  },
  {
   "cell_type": "markdown",
   "metadata": {},
   "source": [
    "## Imports\n",
    "\n",
    "Import necessary modules and tools.\n",
    "- `os` is used to access environment variables.\n",
    "- `TemporaryDirectory` is used for creating a temporary workspace.\n",
    "- `Path` helps in handling file paths.\n",
    "- `FileWriterTool` is the CrewAI tool we will integrate.\n",
    "- `AssistantAgent` and `UserProxyAgent` are core Autogen classes.\n",
    "- `CrewAIInteroperability` facilitates the interoperability between Autogen and CrewAI."
   ]
  },
  {
   "cell_type": "code",
   "execution_count": 1,
   "metadata": {},
   "outputs": [
    {
     "name": "stderr",
     "output_type": "stream",
     "text": [
      "2024-12-13 12:45:47,330 - 8269089792 - __init__.py-__init__:18 - WARNING: flaml.automl is not available. Please install flaml[automl] to enable AutoML functionalities.\n"
     ]
    }
   ],
   "source": [
    "import os\n",
    "from pathlib import Path\n",
    "from tempfile import TemporaryDirectory\n",
    "\n",
    "from crewai_tools import FileWriterTool\n",
    "\n",
    "from autogen import AssistantAgent, UserProxyAgent\n",
    "from autogen.interoperability.crewai import CrewAIInteroperability"
   ]
  },
  {
   "cell_type": "markdown",
   "metadata": {},
   "source": [
    "## Agent Configuration\n",
    "\n",
    "Configure the agents for the interaction.\n",
    "- `config_list` defines the LLM configurations, including the model and API key.\n",
    "- `UserProxyAgent` simulates user inputs without requiring actual human interaction (set to `NEVER`).\n",
    "- `AssistantAgent` represents the AI agent, configured with the LLM settings."
   ]
  },
  {
   "cell_type": "code",
   "execution_count": 2,
   "metadata": {},
   "outputs": [],
   "source": [
    "config_list = [{\"model\": \"gpt-4\", \"api_key\": os.environ[\"OPENAI_API_KEY\"]}]\n",
    "user_proxy = UserProxyAgent(\n",
    "    name=\"User\",\n",
    "    human_input_mode=\"NEVER\",\n",
    ")\n",
    "\n",
    "chatbot = AssistantAgent(\n",
    "    name=\"chatbot\",\n",
    "    llm_config={\"config_list\": config_list},\n",
    ")"
   ]
  },
  {
   "cell_type": "markdown",
   "metadata": {},
   "source": [
    "## Tool Integration\n",
    "\n",
    "Initialize and register the CrewAI tool with Autogen.\n",
    "- `crewai_tool` is an instance of the `FileWriterTool` from CrewAI.\n",
    "- `CrewAIInteroperability` converts the CrewAI tool to make it usable in Autogen.\n",
    "- `register_for_execution` and `register_for_llm` allow the tool to work with the UserProxyAgent and AssistantAgent."
   ]
  },
  {
   "cell_type": "code",
   "execution_count": 3,
   "metadata": {},
   "outputs": [],
   "source": [
    "crewai_tool = FileWriterTool()\n",
    "crewai_interop = CrewAIInteroperability()\n",
    "ag2_tool = crewai_interop.convert_tool(crewai_tool)\n",
    "\n",
    "ag2_tool.register_for_execution(user_proxy)\n",
    "ag2_tool.register_for_llm(chatbot)"
   ]
  },
  {
   "cell_type": "markdown",
   "metadata": {},
   "source": [
    "## Demonstration\n",
    "\n",
    "Demonstrate the integration by writing to a file using the converted CrewAI tool.\n",
    "- A temporary directory is created to simulate a file operation environment.\n",
    "- The `message` instructs the chatbot to use the tool to write a specific string into a file.\n",
    "- `user_proxy.initiate_chat` starts the interaction, with the chatbot processing the request and using the tool.\n",
    "- Finally, the output file is verified to ensure the integration works correctly."
   ]
  },
  {
   "cell_type": "code",
   "execution_count": 4,
   "metadata": {},
   "outputs": [
    {
     "name": "stdout",
     "output_type": "stream",
     "text": [
      "\u001b[33mUser\u001b[0m (to chatbot):\n",
      "\n",
      "Write 'Easy Migration :)' into tool_result.txt.\n",
      "Use /var/folders/79/kmq3y0pj0rbgrrnf4xlq8q0c0000gn/T/tmpwg6ibnmg dir.\n",
      "\n",
      "\n",
      "--------------------------------------------------------------------------------\n",
      "\u001b[33mchatbot\u001b[0m (to User):\n",
      "\n",
      "\u001b[32m***** Suggested tool call (call_en1Jhr0uYnWnMdQCaZz0WxQq): File_Writer_Tool *****\u001b[0m\n",
      "Arguments: \n",
      "{\n",
      "  \"args\": {\n",
      "    \"filename\": \"tool_result.txt\",\n",
      "    \"directory\": \"/var/folders/79/kmq3y0pj0rbgrrnf4xlq8q0c0000gn/T/tmpwg6ibnmg\",\n",
      "    \"overwrite\": \"yes\",\n",
      "    \"content\": \"Easy Migration :)\"\n",
      "  }\n",
      "}\n",
      "\u001b[32m*********************************************************************************\u001b[0m\n",
      "\n",
      "--------------------------------------------------------------------------------\n",
      "\u001b[35m\n",
      ">>>>>>>> EXECUTING FUNCTION File_Writer_Tool...\u001b[0m\n",
      "Using Tool: File Writer Tool\n",
      "\u001b[33mUser\u001b[0m (to chatbot):\n",
      "\n",
      "\u001b[32m***** Response from calling tool (call_en1Jhr0uYnWnMdQCaZz0WxQq) *****\u001b[0m\n",
      "Content successfully written to /var/folders/79/kmq3y0pj0rbgrrnf4xlq8q0c0000gn/T/tmpwg6ibnmg/tool_result.txt\n",
      "\u001b[32m**********************************************************************\u001b[0m\n",
      "\n",
      "--------------------------------------------------------------------------------\n",
      "\u001b[33mchatbot\u001b[0m (to User):\n",
      "\n",
      "The text \"Easy Migration :)\" has been successfully written into the file \"tool_result.txt\" in the directory \"/var/folders/79/kmq3y0pj0rbgrrnf4xlq8q0c0000gn/T/tmpwg6ibnmg\".\n",
      "\n",
      "TERMINATE\n",
      "\n",
      "--------------------------------------------------------------------------------\n"
     ]
    }
   ],
   "source": [
    "with TemporaryDirectory() as tmpdirname:\n",
    "    filename = \"tool_result.txt\"\n",
    "    message = f\"\"\"Write 'Easy Migration :)' into {filename}.\n",
    "Use {tmpdirname} dir.\n",
    "\"\"\"\n",
    "    user_proxy.initiate_chat(recipient=chatbot, message=message, max_turns=2)\n",
    "\n",
    "    assert Path(tmpdirname, filename).read_text() == \"Easy Migration :)\"\n"
   ]
  },
  {
   "cell_type": "code",
   "execution_count": null,
   "metadata": {},
   "outputs": [],
   "source": []
  }
 ],
 "metadata": {
  "kernelspec": {
   "display_name": ".venv",
   "language": "python",
   "name": "python3"
  },
  "language_info": {
   "codemirror_mode": {
    "name": "ipython",
    "version": 3
   },
   "file_extension": ".py",
   "mimetype": "text/x-python",
   "name": "python",
   "nbconvert_exporter": "python",
   "pygments_lexer": "ipython3",
   "version": "3.10.16"
  }
 },
 "nbformat": 4,
 "nbformat_minor": 2
}
