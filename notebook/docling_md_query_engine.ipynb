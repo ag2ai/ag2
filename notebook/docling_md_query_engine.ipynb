{
 "cells": [
  {
   "cell_type": "markdown",
   "metadata": {},
   "source": [
    "# Query engine for Docling parsed Markdown files \n",
    "\n",
    "This notebook demonstrates the use of the `DoclingMdQueryEngine` for retrieval-augmented question answering over documents. It shows how to set up the engine with Docling parsed Markdown files, and execute natural language queries against the indexed data. \n",
    "\n",
    "The `DoclingMdQueryEngine` integrates persistent ChromaDB vector storage with LlamaIndex for efficient document retrieval."
   ]
  },
  {
   "cell_type": "code",
   "execution_count": 1,
   "metadata": {},
   "outputs": [],
   "source": [
    "# %pip install llama-index-vector-stores-chroma==0.4.1\n",
    "# %pip install llama-index==0.12.16"
   ]
  },
  {
   "cell_type": "code",
   "execution_count": 4,
   "metadata": {},
   "outputs": [
    {
     "name": "stdout",
     "output_type": "stream",
     "text": [
      "Requirement already satisfied: sentence_transformers in /root/miniconda3/envs/ag2/lib/python3.11/site-packages (3.4.1)\n",
      "Requirement already satisfied: transformers<5.0.0,>=4.41.0 in /root/miniconda3/envs/ag2/lib/python3.11/site-packages (from sentence_transformers) (4.48.3)\n",
      "Requirement already satisfied: tqdm in /root/miniconda3/envs/ag2/lib/python3.11/site-packages (from sentence_transformers) (4.67.1)\n",
      "Requirement already satisfied: torch>=1.11.0 in /root/miniconda3/envs/ag2/lib/python3.11/site-packages (from sentence_transformers) (2.6.0)\n",
      "Requirement already satisfied: scikit-learn in /root/miniconda3/envs/ag2/lib/python3.11/site-packages (from sentence_transformers) (1.6.1)\n",
      "Requirement already satisfied: scipy in /root/miniconda3/envs/ag2/lib/python3.11/site-packages (from sentence_transformers) (1.15.1)\n",
      "Requirement already satisfied: huggingface-hub>=0.20.0 in /root/miniconda3/envs/ag2/lib/python3.11/site-packages (from sentence_transformers) (0.28.1)\n",
      "Requirement already satisfied: Pillow in /root/miniconda3/envs/ag2/lib/python3.11/site-packages (from sentence_transformers) (11.1.0)\n",
      "Requirement already satisfied: filelock in /root/miniconda3/envs/ag2/lib/python3.11/site-packages (from huggingface-hub>=0.20.0->sentence_transformers) (3.17.0)\n",
      "Requirement already satisfied: fsspec>=2023.5.0 in /root/miniconda3/envs/ag2/lib/python3.11/site-packages (from huggingface-hub>=0.20.0->sentence_transformers) (2025.2.0)\n",
      "Requirement already satisfied: packaging>=20.9 in /root/miniconda3/envs/ag2/lib/python3.11/site-packages (from huggingface-hub>=0.20.0->sentence_transformers) (24.2)\n",
      "Requirement already satisfied: pyyaml>=5.1 in /root/miniconda3/envs/ag2/lib/python3.11/site-packages (from huggingface-hub>=0.20.0->sentence_transformers) (6.0.2)\n",
      "Requirement already satisfied: requests in /root/miniconda3/envs/ag2/lib/python3.11/site-packages (from huggingface-hub>=0.20.0->sentence_transformers) (2.32.3)\n",
      "Requirement already satisfied: typing-extensions>=3.7.4.3 in /root/miniconda3/envs/ag2/lib/python3.11/site-packages (from huggingface-hub>=0.20.0->sentence_transformers) (4.12.2)\n",
      "Requirement already satisfied: networkx in /root/miniconda3/envs/ag2/lib/python3.11/site-packages (from torch>=1.11.0->sentence_transformers) (3.4.2)\n",
      "Requirement already satisfied: jinja2 in /root/miniconda3/envs/ag2/lib/python3.11/site-packages (from torch>=1.11.0->sentence_transformers) (3.1.5)\n",
      "Requirement already satisfied: nvidia-cuda-nvrtc-cu12==12.4.127 in /root/miniconda3/envs/ag2/lib/python3.11/site-packages (from torch>=1.11.0->sentence_transformers) (12.4.127)\n",
      "Requirement already satisfied: nvidia-cuda-runtime-cu12==12.4.127 in /root/miniconda3/envs/ag2/lib/python3.11/site-packages (from torch>=1.11.0->sentence_transformers) (12.4.127)\n",
      "Requirement already satisfied: nvidia-cuda-cupti-cu12==12.4.127 in /root/miniconda3/envs/ag2/lib/python3.11/site-packages (from torch>=1.11.0->sentence_transformers) (12.4.127)\n",
      "Requirement already satisfied: nvidia-cudnn-cu12==9.1.0.70 in /root/miniconda3/envs/ag2/lib/python3.11/site-packages (from torch>=1.11.0->sentence_transformers) (9.1.0.70)\n",
      "Requirement already satisfied: nvidia-cublas-cu12==12.4.5.8 in /root/miniconda3/envs/ag2/lib/python3.11/site-packages (from torch>=1.11.0->sentence_transformers) (12.4.5.8)\n",
      "Requirement already satisfied: nvidia-cufft-cu12==11.2.1.3 in /root/miniconda3/envs/ag2/lib/python3.11/site-packages (from torch>=1.11.0->sentence_transformers) (11.2.1.3)\n",
      "Requirement already satisfied: nvidia-curand-cu12==10.3.5.147 in /root/miniconda3/envs/ag2/lib/python3.11/site-packages (from torch>=1.11.0->sentence_transformers) (10.3.5.147)\n",
      "Requirement already satisfied: nvidia-cusolver-cu12==11.6.1.9 in /root/miniconda3/envs/ag2/lib/python3.11/site-packages (from torch>=1.11.0->sentence_transformers) (11.6.1.9)\n",
      "Requirement already satisfied: nvidia-cusparse-cu12==12.3.1.170 in /root/miniconda3/envs/ag2/lib/python3.11/site-packages (from torch>=1.11.0->sentence_transformers) (12.3.1.170)\n",
      "Requirement already satisfied: nvidia-cusparselt-cu12==0.6.2 in /root/miniconda3/envs/ag2/lib/python3.11/site-packages (from torch>=1.11.0->sentence_transformers) (0.6.2)\n",
      "Requirement already satisfied: nvidia-nccl-cu12==2.21.5 in /root/miniconda3/envs/ag2/lib/python3.11/site-packages (from torch>=1.11.0->sentence_transformers) (2.21.5)\n",
      "Requirement already satisfied: nvidia-nvtx-cu12==12.4.127 in /root/miniconda3/envs/ag2/lib/python3.11/site-packages (from torch>=1.11.0->sentence_transformers) (12.4.127)\n",
      "Requirement already satisfied: nvidia-nvjitlink-cu12==12.4.127 in /root/miniconda3/envs/ag2/lib/python3.11/site-packages (from torch>=1.11.0->sentence_transformers) (12.4.127)\n",
      "Requirement already satisfied: triton==3.2.0 in /root/miniconda3/envs/ag2/lib/python3.11/site-packages (from torch>=1.11.0->sentence_transformers) (3.2.0)\n",
      "Requirement already satisfied: sympy==1.13.1 in /root/miniconda3/envs/ag2/lib/python3.11/site-packages (from torch>=1.11.0->sentence_transformers) (1.13.1)\n",
      "Requirement already satisfied: mpmath<1.4,>=1.1.0 in /root/miniconda3/envs/ag2/lib/python3.11/site-packages (from sympy==1.13.1->torch>=1.11.0->sentence_transformers) (1.3.0)\n",
      "Requirement already satisfied: numpy>=1.17 in /root/miniconda3/envs/ag2/lib/python3.11/site-packages (from transformers<5.0.0,>=4.41.0->sentence_transformers) (1.26.4)\n",
      "Requirement already satisfied: regex!=2019.12.17 in /root/miniconda3/envs/ag2/lib/python3.11/site-packages (from transformers<5.0.0,>=4.41.0->sentence_transformers) (2024.11.6)\n",
      "Collecting tokenizers<0.22,>=0.21 (from transformers<5.0.0,>=4.41.0->sentence_transformers)\n",
      "  Using cached tokenizers-0.21.0-cp39-abi3-manylinux_2_17_x86_64.manylinux2014_x86_64.whl.metadata (6.7 kB)\n",
      "Requirement already satisfied: safetensors>=0.4.1 in /root/miniconda3/envs/ag2/lib/python3.11/site-packages (from transformers<5.0.0,>=4.41.0->sentence_transformers) (0.5.2)\n",
      "Requirement already satisfied: joblib>=1.2.0 in /root/miniconda3/envs/ag2/lib/python3.11/site-packages (from scikit-learn->sentence_transformers) (1.4.2)\n",
      "Requirement already satisfied: threadpoolctl>=3.1.0 in /root/miniconda3/envs/ag2/lib/python3.11/site-packages (from scikit-learn->sentence_transformers) (3.5.0)\n",
      "Requirement already satisfied: MarkupSafe>=2.0 in /root/miniconda3/envs/ag2/lib/python3.11/site-packages (from jinja2->torch>=1.11.0->sentence_transformers) (3.0.2)\n",
      "Requirement already satisfied: charset-normalizer<4,>=2 in /root/miniconda3/envs/ag2/lib/python3.11/site-packages (from requests->huggingface-hub>=0.20.0->sentence_transformers) (3.4.1)\n",
      "Requirement already satisfied: idna<4,>=2.5 in /root/miniconda3/envs/ag2/lib/python3.11/site-packages (from requests->huggingface-hub>=0.20.0->sentence_transformers) (3.10)\n",
      "Requirement already satisfied: urllib3<3,>=1.21.1 in /root/miniconda3/envs/ag2/lib/python3.11/site-packages (from requests->huggingface-hub>=0.20.0->sentence_transformers) (2.3.0)\n",
      "Requirement already satisfied: certifi>=2017.4.17 in /root/miniconda3/envs/ag2/lib/python3.11/site-packages (from requests->huggingface-hub>=0.20.0->sentence_transformers) (2025.1.31)\n",
      "Using cached tokenizers-0.21.0-cp39-abi3-manylinux_2_17_x86_64.manylinux2014_x86_64.whl (3.0 MB)\n",
      "Installing collected packages: tokenizers\n",
      "  Attempting uninstall: tokenizers\n",
      "    Found existing installation: tokenizers 0.20.3\n",
      "    Uninstalling tokenizers-0.20.3:\n",
      "      Successfully uninstalled tokenizers-0.20.3\n",
      "\u001b[31mERROR: pip's dependency resolver does not currently take into account all the packages that are installed. This behaviour is the source of the following dependency conflicts.\n",
      "chromadb 0.5.23 requires tokenizers<=0.20.3,>=0.13.2, but you have tokenizers 0.21.0 which is incompatible.\u001b[0m\u001b[31m\n",
      "\u001b[0mSuccessfully installed tokenizers-0.21.0\n",
      "\u001b[33mWARNING: Running pip as the 'root' user can result in broken permissions and conflicting behaviour with the system package manager, possibly rendering your system unusable. It is recommended to use a virtual environment instead: https://pip.pypa.io/warnings/venv. Use the --root-user-action option if you know what you are doing and want to suppress this warning.\u001b[0m\u001b[33m\n",
      "\u001b[0m"
     ]
    }
   ],
   "source": [
    "# %pip install sentence_transformers"
   ]
  },
  {
   "cell_type": "code",
   "execution_count": 2,
   "metadata": {},
   "outputs": [
    {
     "name": "stdout",
     "output_type": "stream",
     "text": [
      "models to use:  ['gpt-4']\n"
     ]
    }
   ],
   "source": [
    "import os\n",
    "\n",
    "import autogen\n",
    "\n",
    "config_list = autogen.config_list_from_json(env_or_file=\"OAI_CONFIG_LIST\")\n",
    "\n",
    "assert len(config_list) > 0\n",
    "print(\"models to use: \", [config_list[i][\"model\"] for i in range(len(config_list))])\n",
    "\n",
    "# Put the OpenAI API key into the environment\n",
    "os.environ[\"OPENAI_API_KEY\"] = config_list[0][\"api_key\"]"
   ]
  },
  {
   "cell_type": "code",
   "execution_count": 3,
   "metadata": {},
   "outputs": [
    {
     "name": "stderr",
     "output_type": "stream",
     "text": [
      "/root/miniconda3/envs/ag2/lib/python3.11/site-packages/tqdm/auto.py:21: TqdmWarning: IProgress not found. Please update jupyter and ipywidgets. See https://ipywidgets.readthedocs.io/en/stable/user_install.html\n",
      "  from .autonotebook import tqdm as notebook_tqdm\n"
     ]
    }
   ],
   "source": [
    "from autogen.agentchat.contrib.rag.docling_query_engine import DoclingQueryEngine"
   ]
  },
  {
   "cell_type": "markdown",
   "metadata": {},
   "source": [
    "## Docling Chroma Query Engine"
   ]
  },
  {
   "cell_type": "code",
   "execution_count": 4,
   "metadata": {},
   "outputs": [
    {
     "name": "stderr",
     "output_type": "stream",
     "text": [
      "INFO:chromadb.telemetry.product.posthog:Anonymized telemetry enabled. See                     https://docs.trychroma.com/telemetry for more information.\n"
     ]
    }
   ],
   "source": [
    "query_engine = DoclingQueryEngine(\n",
    "    db_type=\"chroma\",\n",
    "    db_path=\"./tmp/chroma\",  # Directory where Chromadb will persist data.\n",
    ")"
   ]
  },
  {
   "cell_type": "code",
   "execution_count": 5,
   "metadata": {},
   "outputs": [
    {
     "name": "stderr",
     "output_type": "stream",
     "text": [
      "INFO:autogen.agentchat.contrib.rag.docling_query_engine:Chroma collection 'docling-parsed-docs' created or retrieved.\n",
      "INFO:autogen.agentchat.contrib.rag.docling_query_engine:Loading docs from directory: /root/ag2/test/agentchat/contrib/rag/pdf_parsed/\n",
      "INFO:autogen.agentchat.contrib.rag.docling_query_engine:Documents loaded successfully.\n",
      "INFO:autogen.agentchat.contrib.rag.docling_query_engine:Vector index created with input documents.\n"
     ]
    },
    {
     "name": "stdout",
     "output_type": "stream",
     "text": [
      "Chroma Collection Name: docling-parsed-docs\n"
     ]
    }
   ],
   "source": [
    "# Initialize the engine by loading documents from a directory.\n",
    "input_dir = \"/root/ag2/test/agentchat/contrib/rag/pdf_parsed/\"\n",
    "query_engine.init_db(input_dir=input_dir)\n",
    "\n",
    "# Display the collection name\n",
    "print(\"Chroma Collection Name:\", query_engine.get_collection_name())"
   ]
  },
  {
   "cell_type": "code",
   "execution_count": 6,
   "metadata": {},
   "outputs": [
    {
     "name": "stdout",
     "output_type": "stream",
     "text": [
      "Nvidia has invested over $45.3 billion in research and development since its inception.\n"
     ]
    }
   ],
   "source": [
    "question = \"How much money did Nvidia spend in research and development\"\n",
    "answer = query_engine.query(question)\n",
    "print(answer)"
   ]
  },
  {
   "cell_type": "code",
   "execution_count": 7,
   "metadata": {},
   "outputs": [
    {
     "name": "stderr",
     "output_type": "stream",
     "text": [
      "INFO:autogen.agentchat.contrib.rag.docling_query_engine:Chroma collection 'docling-parsed-docs' created or retrieved.\n",
      "INFO:autogen.agentchat.contrib.rag.docling_query_engine:Loading input doc: /root/ag2/test/agentchat/contrib/rag/pdf_parsed/nvidia_10k_2024.md\n",
      "INFO:autogen.agentchat.contrib.rag.docling_query_engine:Documents loaded successfully.\n",
      "INFO:autogen.agentchat.contrib.rag.docling_query_engine:Vector index created with input documents.\n"
     ]
    }
   ],
   "source": [
    "input_docs = [\"/root/ag2/test/agentchat/contrib/rag/pdf_parsed/nvidia_10k_2024.md\"]\n",
    "query_engine.init_db(input_doc_paths=input_docs)"
   ]
  },
  {
   "cell_type": "code",
   "execution_count": 8,
   "metadata": {},
   "outputs": [
    {
     "name": "stdout",
     "output_type": "stream",
     "text": [
      "NVIDIA has invested over $45.3 billion in research and development since its inception.\n"
     ]
    }
   ],
   "source": [
    "question = \"How much money did Nvidia spend in research and development\"\n",
    "answer = query_engine.query(question)\n",
    "print(answer)"
   ]
  },
  {
   "cell_type": "code",
   "execution_count": 9,
   "metadata": {},
   "outputs": [
    {
     "name": "stderr",
     "output_type": "stream",
     "text": [
      "INFO:autogen.agentchat.contrib.rag.docling_query_engine:Loading input doc: /root/ag2/test/agentchat/contrib/rag/pdf_parsed/Toast_financial_report.md\n",
      "INFO:autogen.agentchat.contrib.rag.docling_query_engine:Inserted a new document into the index.\n"
     ]
    }
   ],
   "source": [
    "new_docs = [\"/root/ag2/test/agentchat/contrib/rag/pdf_parsed/Toast_financial_report.md\"]\n",
    "query_engine.add_docs(new_doc_paths=new_docs)"
   ]
  },
  {
   "cell_type": "code",
   "execution_count": 10,
   "metadata": {},
   "outputs": [
    {
     "name": "stdout",
     "output_type": "stream",
     "text": [
      "In 2024, Toast reported a net income of $56 million for the three months ended September 30, and a net loss of $13 million for the nine months ended September 30.\n"
     ]
    }
   ],
   "source": [
    "question = \"How much money did Toast earn in 2024\"\n",
    "answer = query_engine.query(question)\n",
    "print(answer)"
   ]
  },
  {
   "cell_type": "markdown",
   "metadata": {},
   "source": [
    "## Docling Mongo Atlas Query Engine"
   ]
  },
  {
   "cell_type": "code",
   "execution_count": null,
   "metadata": {},
   "outputs": [
    {
     "name": "stderr",
     "output_type": "stream",
     "text": [
      "INFO:autogen.agentchat.contrib.rag.docling_query_engine:Connected to MongoDB Atlas.\n",
      "INFO:/root/miniconda3/envs/ag2/lib/python3.11/site-packages/llama_index/vector_stores/mongodb/index.py:Creating Search Index vector_index on my_mongo_collection\n",
      "WARNING:autogen.agentchat.contrib.rag.docling_query_engine:Vector search index may already exist or could not be created: An index named \"vector_index\" is already defined for collection my_mongo_collection. Index names must be unique for a source collection and all its views., full error: {'ok': 0.0, 'errmsg': 'An index named \"vector_index\" is already defined for collection my_mongo_collection. Index names must be unique for a source collection and all its views.', 'code': 68, 'codeName': 'IndexAlreadyExists', '$clusterTime': {'clusterTime': Timestamp(1739685915, 19), 'signature': {'hash': b';\\xbe\\xaf\\xd3`2?\\xab\\x84\\xea8.\\x8b\\xa9\\xf6\\xb2\\xaa|\\x99>', 'keyId': 7424213449195913223}}, 'operationTime': Timestamp(1739685915, 19)}\n"
     ]
    }
   ],
   "source": [
    "query_engine = DoclingQueryEngine(\n",
    "    db_type=\"mongodb\", connection_string=\"\", database_name=\"vector_db\", collection_name=\"my_mongo_collection\"\n",
    ")"
   ]
  },
  {
   "cell_type": "code",
   "execution_count": 12,
   "metadata": {},
   "outputs": [
    {
     "name": "stderr",
     "output_type": "stream",
     "text": [
      "INFO:autogen.agentchat.contrib.rag.docling_query_engine:Loading docs from directory: /root/ag2/test/agentchat/contrib/rag/pdf_parsed/\n",
      "INFO:autogen.agentchat.contrib.rag.docling_query_engine:Documents loaded successfully. Total docs loaded: 2\n",
      "INFO:autogen.agentchat.contrib.rag.docling_query_engine:Index created with 2 documents.\n",
      "INFO:autogen.agentchat.contrib.rag.docling_query_engine:Vector index created with input documents.\n"
     ]
    },
    {
     "name": "stdout",
     "output_type": "stream",
     "text": [
      "MongoDB Collection Name: my_mongo_collection\n"
     ]
    }
   ],
   "source": [
    "# Initialize the engine by loading documents from a directory.\n",
    "input_dir = \"/root/ag2/test/agentchat/contrib/rag/pdf_parsed/\"\n",
    "query_engine.init_db(input_dir=input_dir)\n",
    "\n",
    "# Display the collection name\n",
    "print(\"MongoDB Collection Name:\", query_engine.get_collection_name())"
   ]
  },
  {
   "cell_type": "code",
   "execution_count": 13,
   "metadata": {},
   "outputs": [
    {
     "name": "stdout",
     "output_type": "stream",
     "text": [
      "Answer: NVIDIA has invested over $45.3 billion in research and development since its inception.\n"
     ]
    }
   ],
   "source": [
    "question = \"How much money did Nvidia spend in research and development\"\n",
    "answer = query_engine.query(question)\n",
    "print(\"Answer:\", answer)"
   ]
  },
  {
   "cell_type": "code",
   "execution_count": 14,
   "metadata": {},
   "outputs": [
    {
     "name": "stderr",
     "output_type": "stream",
     "text": [
      "INFO:autogen.agentchat.contrib.rag.docling_query_engine:Loading input doc: /root/ag2/test/agentchat/contrib/rag/pdf_parsed/Toast_financial_report.md\n",
      "INFO:autogen.agentchat.contrib.rag.docling_query_engine:Inserted a new document into the index.\n"
     ]
    }
   ],
   "source": [
    "new_docs = [\"/root/ag2/test/agentchat/contrib/rag/pdf_parsed/Toast_financial_report.md\"]\n",
    "query_engine.add_docs(new_doc_paths=new_docs)"
   ]
  },
  {
   "cell_type": "code",
   "execution_count": 15,
   "metadata": {},
   "outputs": [
    {
     "name": "stdout",
     "output_type": "stream",
     "text": [
      "In 2024, Toast had a net income of $56 million for the three months ended September 30, and a net loss of $13 million for the nine months ended September 30.\n"
     ]
    }
   ],
   "source": [
    "question = \"How much money did Toast earn in 2024\"\n",
    "answer = query_engine.query(question)\n",
    "print(answer)"
   ]
  },
  {
   "cell_type": "code",
   "execution_count": 16,
   "metadata": {},
   "outputs": [
    {
     "name": "stdout",
     "output_type": "stream",
     "text": [
      "NVIDIA has invested over $45.3 billion in research and development since its inception.\n"
     ]
    }
   ],
   "source": [
    "question = \"How much money did Nvidia spend in research and development\"\n",
    "answer = query_engine.query(question)\n",
    "print(answer)"
   ]
  }
 ],
 "metadata": {
  "kernelspec": {
   "display_name": "ag2",
   "language": "python",
   "name": "python3"
  },
  "language_info": {
   "codemirror_mode": {
    "name": "ipython",
    "version": 3
   },
   "file_extension": ".py",
   "mimetype": "text/x-python",
   "name": "python",
   "nbconvert_exporter": "python",
   "pygments_lexer": "ipython3",
   "version": "3.11.11"
  }
 },
 "nbformat": 4,
 "nbformat_minor": 2
}
