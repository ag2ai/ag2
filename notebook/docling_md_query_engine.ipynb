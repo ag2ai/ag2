{
 "cells": [
  {
   "cell_type": "markdown",
   "metadata": {},
   "source": [
    "# Query engine for Docling parsed Markdown files \n",
    "\n",
    "This notebook demonstrates the use of the `DoclingMdQueryEngine` for retrieval-augmented question answering over documents. It shows how to set up the engine with Docling parsed Markdown files, and execute natural language queries against the indexed data. \n",
    "\n",
    "The `DoclingMdQueryEngine` integrates persistent ChromaDB vector storage with LlamaIndex for efficient document retrieval."
   ]
  },
  {
   "cell_type": "code",
   "execution_count": 1,
   "metadata": {},
   "outputs": [],
   "source": [
    "# %pip install llama-index-vector-stores-chroma==0.4.1\n",
    "# %pip install llama-index==0.12.16"
   ]
  },
  {
   "cell_type": "code",
   "execution_count": 2,
   "metadata": {},
   "outputs": [
    {
     "name": "stdout",
     "output_type": "stream",
     "text": [
      "models to use:  ['gpt-4']\n"
     ]
    }
   ],
   "source": [
    "import os\n",
    "\n",
    "import autogen\n",
    "\n",
    "config_list = autogen.config_list_from_json(env_or_file=\"OAI_CONFIG_LIST\")\n",
    "\n",
    "assert len(config_list) > 0\n",
    "print(\"models to use: \", [config_list[i][\"model\"] for i in range(len(config_list))])\n",
    "\n",
    "# Put the OpenAI API key into the environment\n",
    "os.environ[\"OPENAI_API_KEY\"] = config_list[0][\"api_key\"]"
   ]
  },
  {
   "cell_type": "markdown",
   "metadata": {},
   "source": [
    "## Docling Chroma Query Engine"
   ]
  },
  {
   "cell_type": "code",
   "execution_count": 3,
   "metadata": {},
   "outputs": [
    {
     "name": "stderr",
     "output_type": "stream",
     "text": [
      "/root/miniconda3/envs/ag2/lib/python3.11/site-packages/tqdm/auto.py:21: TqdmWarning: IProgress not found. Please update jupyter and ipywidgets. See https://ipywidgets.readthedocs.io/en/stable/user_install.html\n",
      "  from .autonotebook import tqdm as notebook_tqdm\n",
      "INFO:chromadb.telemetry.product.posthog:Anonymized telemetry enabled. See                     https://docs.trychroma.com/telemetry for more information.\n"
     ]
    }
   ],
   "source": [
    "from autogen.agentchat.contrib.rag.docling_query_engine import DoclingChromaMdQueryEngine\n",
    "\n",
    "query_engine = DoclingChromaMdQueryEngine(db_path=\"./tmp/chroma\")"
   ]
  },
  {
   "cell_type": "code",
   "execution_count": 4,
   "metadata": {},
   "outputs": [
    {
     "name": "stderr",
     "output_type": "stream",
     "text": [
      "INFO:autogen.agentchat.contrib.rag.docling_query_engine:Collection None was created in the database.\n",
      "INFO:autogen.agentchat.contrib.rag.docling_query_engine:Loading docs from directory: /root/ag2/test/agentchat/contrib/rag/pdf_parsed/\n",
      "INFO:autogen.agentchat.contrib.rag.docling_query_engine:Documents are loaded successfully.\n",
      "INFO:autogen.agentchat.contrib.rag.docling_query_engine:VectorDB index was created with input documents\n"
     ]
    }
   ],
   "source": [
    "input_dir = \"/root/ag2/test/agentchat/contrib/rag/pdf_parsed/\"\n",
    "query_engine.init_db(input_dir=input_dir)"
   ]
  },
  {
   "cell_type": "code",
   "execution_count": 5,
   "metadata": {},
   "outputs": [
    {
     "name": "stdout",
     "output_type": "stream",
     "text": [
      "docling-parsed-docs\n"
     ]
    }
   ],
   "source": [
    "print(query_engine.get_collection_name())"
   ]
  },
  {
   "cell_type": "code",
   "execution_count": 6,
   "metadata": {},
   "outputs": [
    {
     "name": "stdout",
     "output_type": "stream",
     "text": [
      "NVIDIA has invested over $45.3 billion in research and development since its inception.\n"
     ]
    }
   ],
   "source": [
    "question = \"How much money did Nvidia spend in research and development\"\n",
    "answer = query_engine.query(question)\n",
    "print(answer)"
   ]
  },
  {
   "cell_type": "code",
   "execution_count": 7,
   "metadata": {},
   "outputs": [
    {
     "name": "stderr",
     "output_type": "stream",
     "text": [
      "INFO:autogen.agentchat.contrib.rag.docling_query_engine:Collection None was created in the database.\n",
      "INFO:autogen.agentchat.contrib.rag.docling_query_engine:Loading input doc: /root/ag2/test/agentchat/contrib/rag/pdf_parsed/nvidia_10k_2024.md\n",
      "INFO:autogen.agentchat.contrib.rag.docling_query_engine:Documents are loaded successfully.\n",
      "INFO:autogen.agentchat.contrib.rag.docling_query_engine:VectorDB index was created with input documents\n"
     ]
    }
   ],
   "source": [
    "input_docs = [\"/root/ag2/test/agentchat/contrib/rag/pdf_parsed/nvidia_10k_2024.md\"]\n",
    "query_engine.init_db(input_doc_paths=input_docs)"
   ]
  },
  {
   "cell_type": "code",
   "execution_count": 8,
   "metadata": {},
   "outputs": [
    {
     "name": "stdout",
     "output_type": "stream",
     "text": [
      "NVIDIA has invested over $45.3 billion in research and development since its inception.\n"
     ]
    }
   ],
   "source": [
    "question = \"How much money did Nvidia spend in research and development\"\n",
    "answer = query_engine.query(question)\n",
    "print(answer)"
   ]
  },
  {
   "cell_type": "code",
   "execution_count": 9,
   "metadata": {},
   "outputs": [
    {
     "name": "stderr",
     "output_type": "stream",
     "text": [
      "INFO:autogen.agentchat.contrib.rag.docling_query_engine:Loading input doc: /root/ag2/test/agentchat/contrib/rag/pdf_parsed/Toast_financial_report.md\n"
     ]
    }
   ],
   "source": [
    "new_docs = [\"/root/ag2/test/agentchat/contrib/rag/pdf_parsed/Toast_financial_report.md\"]\n",
    "query_engine.add_docs(new_doc_paths=new_docs)"
   ]
  },
  {
   "cell_type": "code",
   "execution_count": 10,
   "metadata": {},
   "outputs": [
    {
     "name": "stdout",
     "output_type": "stream",
     "text": [
      "In 2024, Toast had a net income of $56 million for the three months ended September 30, and a net loss of $13 million for the nine months ended September 30.\n"
     ]
    }
   ],
   "source": [
    "question = \"How much money did Toast earn in 2024\"\n",
    "answer = query_engine.query(question)\n",
    "print(answer)"
   ]
  },
  {
   "cell_type": "markdown",
   "metadata": {},
   "source": [
    "## Docling Mongo Atlas Query Engine"
   ]
  },
  {
   "cell_type": "code",
   "execution_count": null,
   "metadata": {},
   "outputs": [
    {
     "name": "stderr",
     "output_type": "stream",
     "text": [
      "INFO:autogen.agentchat.contrib.rag.docling_query_engine:Connected to MongoDB Atlas.\n",
      "INFO:/root/miniconda3/envs/ag2/lib/python3.11/site-packages/llama_index/vector_stores/mongodb/index.py:Creating Search Index vector_index on test-collection\n",
      "WARNING:autogen.agentchat.contrib.rag.docling_query_engine:Vector search index may already exist or could not be created: An index named \"vector_index\" is already defined for collection test-collection. Index names must be unique for a source collection and all its views., full error: {'ok': 0.0, 'errmsg': 'An index named \"vector_index\" is already defined for collection test-collection. Index names must be unique for a source collection and all its views.', 'code': 68, 'codeName': 'IndexAlreadyExists', '$clusterTime': {'clusterTime': Timestamp(1739632893, 2), 'signature': {'hash': b\"\\xe1\\x9a-Y'Gg\\xb7R#\\xd1\\xef\\x87\\x9bF\\xd2\\xda@\\x90\\xd0\", 'keyId': 7424213449195913223}}, 'operationTime': Timestamp(1739632893, 2)}\n"
     ]
    }
   ],
   "source": [
    "from autogen.agentchat.contrib.rag.docling_query_engine import DoclingMongoAtlasMdQueryEngine\n",
    "\n",
    "query_engine = DoclingMongoAtlasMdQueryEngine(\n",
    "    connection_string=\"\",\n",
    "    database_name=\"test-vectordb\",\n",
    "    collection_name=\"test-collection\",\n",
    ")"
   ]
  },
  {
   "cell_type": "code",
   "execution_count": 12,
   "metadata": {},
   "outputs": [
    {
     "name": "stderr",
     "output_type": "stream",
     "text": [
      "INFO:autogen.agentchat.contrib.rag.docling_query_engine:Loading docs from directory: /root/ag2/test/agentchat/contrib/rag/pdf_parsed/\n",
      "INFO:autogen.agentchat.contrib.rag.docling_query_engine:Documents are loaded successfully. Total docs loaded: 2\n",
      "INFO:autogen.agentchat.contrib.rag.docling_query_engine:Index created with 2 documents.\n",
      "INFO:autogen.agentchat.contrib.rag.docling_query_engine:Vector index created with input documents.\n"
     ]
    }
   ],
   "source": [
    "input_dir = \"/root/ag2/test/agentchat/contrib/rag/pdf_parsed/\"\n",
    "query_engine.init_db(input_dir=input_dir)"
   ]
  },
  {
   "cell_type": "code",
   "execution_count": 13,
   "metadata": {},
   "outputs": [
    {
     "name": "stdout",
     "output_type": "stream",
     "text": [
      "test-collection\n"
     ]
    }
   ],
   "source": [
    "print(query_engine.get_collection_name())"
   ]
  },
  {
   "cell_type": "code",
   "execution_count": 14,
   "metadata": {},
   "outputs": [
    {
     "name": "stdout",
     "output_type": "stream",
     "text": [
      "The company is exposed to interest rate risk related to its fixed-rate investment portfolio and outstanding debt. A sensitivity analysis indicated that a 0.5% shift in the yield curve would change the fair value of investments by $93 million. The company has $9.7 billion in senior Notes, which are not affected by interest rate changes due to their fixed rate. \n",
      "\n",
      "Regarding foreign exchange rate risk, the company considers its direct exposure minimal as sales are in U.S. dollars and foreign currency forward contracts are used to offset exchange rate movements. A 10% strengthening of the U.S. dollar would have reduced accumulated other comprehensive income by $116 million and $112 million for the fiscal years ending January 28, 2024, and January 29, 2023, respectively. An adverse 10% foreign exchange rate change would have impacted income before taxes by $60 million and $36 million for the same periods, with these changes expected to be offset by corresponding changes in the value of hedged monetary assets and liabilities.\n"
     ]
    }
   ],
   "source": [
    "question = \"Quantitative and Qualitative Disclosures About Market Risk\"\n",
    "answer = query_engine.query(question)\n",
    "print(answer)"
   ]
  },
  {
   "cell_type": "code",
   "execution_count": 15,
   "metadata": {},
   "outputs": [
    {
     "name": "stderr",
     "output_type": "stream",
     "text": [
      "INFO:autogen.agentchat.contrib.rag.docling_query_engine:Loading input doc: /root/ag2/test/agentchat/contrib/rag/pdf_parsed/Toast_financial_report.md\n",
      "INFO:autogen.agentchat.contrib.rag.docling_query_engine:Inserted a new document into the index.\n"
     ]
    }
   ],
   "source": [
    "new_docs = [\"/root/ag2/test/agentchat/contrib/rag/pdf_parsed/Toast_financial_report.md\"]\n",
    "query_engine.add_docs(new_doc_paths=new_docs)"
   ]
  },
  {
   "cell_type": "code",
   "execution_count": 16,
   "metadata": {},
   "outputs": [
    {
     "name": "stdout",
     "output_type": "stream",
     "text": [
      "In 2024, Toast had a net income of $56 million for the three months ended September 30, and a net loss of $13 million for the nine months ended September 30.\n"
     ]
    }
   ],
   "source": [
    "question = \"How much money did Toast earn in 2024\"\n",
    "answer = query_engine.query(question)\n",
    "print(answer)"
   ]
  },
  {
   "cell_type": "code",
   "execution_count": null,
   "metadata": {},
   "outputs": [
    {
     "name": "stdout",
     "output_type": "stream",
     "text": [
      "NVIDIA has invested over $45.3 billion in research and development since its inception.\n"
     ]
    }
   ],
   "source": [
    "question = \"How much money did Nvidia spend in research and development\"\n",
    "answer = query_engine.query(question)\n",
    "print(answer)"
   ]
  }
 ],
 "metadata": {
  "kernelspec": {
   "display_name": "ag2",
   "language": "python",
   "name": "python3"
  },
  "language_info": {
   "codemirror_mode": {
    "name": "ipython",
    "version": 3
   },
   "file_extension": ".py",
   "mimetype": "text/x-python",
   "name": "python",
   "nbconvert_exporter": "python",
   "pygments_lexer": "ipython3",
   "version": "3.11.11"
  }
 },
 "nbformat": 4,
 "nbformat_minor": 2
}
