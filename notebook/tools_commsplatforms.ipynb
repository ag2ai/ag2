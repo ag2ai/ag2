{
 "cells": [
  {
   "cell_type": "markdown",
   "metadata": {},
   "source": [
    "# Adding Messaging capabilities to AG2 agents\n",
    "\n",
    "In this notebook we introduce send and retrieve message tools for 3 messaging platforms: Discord, Slack, and Telegram.\n",
    "\n",
    "These tools can be added to your AG2 agents, enabling them to send messages during a workflow and/or retrieve messages for use by the workflow.\n",
    "\n",
    "There's a two types of tools with one for each platform:\n",
    "- Sending a message (`DiscordSendTool`, `SlackSendTool`, `TelegramSendTool`)\n",
    "- Retrieving messages (`DiscordRetrieveTool`, `SlackRetrieveTool`, `TelegramRetrieveTool`)\n",
    "\n",
    "You can attach one or more of them to an agent and with multiple tool-calling capable LLMs, though it may be most typical that you create an agent for each platform and attach the send and/or retrieve tool. This allows you to tailor your system message for your agent to the messaging style used for the platform."
   ]
  },
  {
   "cell_type": "markdown",
   "metadata": {},
   "source": [
    "## Installation\n",
    "\n",
    "Each messaging platform requires installation of a package specifically for that platform.\n",
    "\n",
    "To use the Discord tools install AG2 with the `commsagent-discord` extra:\n",
    "```bash\n",
    "pip install ag2[commsagent-discord]\n",
    "```\n",
    "\n",
    "Similarly, for slack and/or telegram:\n",
    "```bash\n",
    "pip install ag2[commsagent-slack]\n",
    "```\n",
    "and\n",
    "```bash\n",
    "pip install ag2[commsagent-telegram]\n",
    "```\n",
    "\n",
    "You're all set! Now you can start sending to and retrieving messages from these platforms."
   ]
  },
  {
   "cell_type": "markdown",
   "metadata": {},
   "source": [
    "## Discord Send/Retrieve Messages\n",
    "\n",
    "### Tokens, Guilds, and Channels\n",
    "The Discord tools, `DiscordSendTool` and `DiscordRetrieveTool`, require authentication (bot token), server (guild name), and channel details in order to send/retrieve messages.\n",
    "\n",
    "Here are some references to help you establish those details:\n",
    "- [Creating a Bot Account](https://discordpy.readthedocs.io/en/latest/discord.html), and [another reference](https://gist.github.com/SinisterRectus/2d84025f51bc0be37d2f0d0c559c2e35#how-do-i-make-a-discord-bot)\n",
    "- [Adding a Bot to a server](https://gist.github.com/SinisterRectus/2d84025f51bc0be37d2f0d0c559c2e35#how-do-i-add-a-discord-bot-to-my-server)\n",
    "- Bot Permissions you will need:\n",
    "  - General Permissions: View Channels\n",
    "  - Text Permissions: Send Messages, Read Message History, Use Slash Commands\n",
    "- Server/Guild Name - Right-click the Server > Server Settings > Overview, see the Server Name at the top right (e.g. \"My Test Server\")\n",
    "- Channel name - The text after the hash (e.g. \"general\")"
   ]
  },
  {
   "cell_type": "markdown",
   "metadata": {},
   "source": [
    "### Sending a message to Discord\n",
    "\n",
    "Let's add the Discord Send and Retrieve tools to an agent and have them executed by another agent in as simple 2-agent chat."
   ]
  },
  {
   "cell_type": "code",
   "execution_count": null,
   "metadata": {},
   "outputs": [],
   "source": [
    "import os\n",
    "\n",
    "from autogen import AssistantAgent, UserProxyAgent\n",
    "from autogen.tools.experimental import BrowserUseTool"
   ]
  },
  {
   "cell_type": "markdown",
   "metadata": {},
   "source": [
    "## Imports"
   ]
  },
  {
   "cell_type": "code",
   "execution_count": null,
   "metadata": {},
   "outputs": [],
   "source": [
    "import os\n",
    "\n",
    "from autogen import AssistantAgent, UserProxyAgent\n",
    "from autogen.tools.experimental import BrowserUseTool"
   ]
  },
  {
   "cell_type": "markdown",
   "metadata": {},
   "source": [
    "### Agent Configuration\n",
    "\n",
    "Configure the agents for the interaction.\n",
    "\n",
    "- `config_list` defines the LLM configurations, including the model and API key.\n",
    "- `UserProxyAgent` simulates user inputs without requiring actual human interaction (set to `NEVER`).\n",
    "- `AssistantAgent` represents the AI agent, configured with the LLM settings."
   ]
  },
  {
   "cell_type": "code",
   "execution_count": 2,
   "metadata": {},
   "outputs": [],
   "source": [
    "config_list = [{\"model\": \"gpt-4o-mini\", \"api_key\": os.environ[\"OPENAI_API_KEY\"]}]\n",
    "\n",
    "llm_config = {\n",
    "    \"config_list\": config_list,\n",
    "}\n",
    "\n",
    "user_proxy = UserProxyAgent(name=\"user_proxy\", human_input_mode=\"NEVER\")\n",
    "assistant = AssistantAgent(name=\"assistant\", llm_config=llm_config)"
   ]
  },
  {
   "cell_type": "markdown",
   "metadata": {},
   "source": [
    "## Integrating Web Browsing with BrowserUseTool\n",
    "\n",
    "\n",
    "The `BrowserUseTool` enables agents to interact with web browsers, allowing them to access, navigate, and perform actions on websites as part of their tasks. It acts as a bridge between the language model and the browser, empowering the agent to browse the web, search for information, and interact with dynamic web content.\n",
    "\n",
    "To see what the agents are doing in real-time, set the `headless` option within the `browser_config` to `False`. This ensures that the browser runs in a visible window, allowing you to observe the agents' interactions with the websites. By default, setting `headless=True` would run the browser in the background without a GUI, useful for automated tasks where visibility is not necessary."
   ]
  },
  {
   "cell_type": "code",
   "execution_count": null,
   "metadata": {},
   "outputs": [],
   "source": [
    "browser_use_tool = BrowserUseTool(\n",
    "    llm_config=llm_config,\n",
    "    browser_config={\"headless\": False},\n",
    ")\n",
    "\n",
    "browser_use_tool.register_for_execution(user_proxy)\n",
    "browser_use_tool.register_for_llm(assistant)"
   ]
  },
  {
   "cell_type": "markdown",
   "metadata": {},
   "source": [
    "## Initiate Chat\n",
    "\n",
    "For running the code in Jupyther, use `nest_asyncio` to allow nested event loops.\n",
    "\n",
    "```bash\n",
    "pip install nest_asyncio\n",
    "```"
   ]
  },
  {
   "cell_type": "code",
   "execution_count": 4,
   "metadata": {},
   "outputs": [],
   "source": [
    "import nest_asyncio\n",
    "\n",
    "nest_asyncio.apply()"
   ]
  },
  {
   "cell_type": "markdown",
   "metadata": {},
   "source": [
    "The `user_proxy.initiate_chat()` method triggers the assistant to perform a web browsing task, such as searching for \"AG2\" on Reddit, clicking the first post, and extracting the first comment. The assistant then executes the task using the `BrowserUseTool` and returns the extracted content to the user."
   ]
  },
  {
   "cell_type": "code",
   "execution_count": null,
   "metadata": {},
   "outputs": [],
   "source": [
    "result = user_proxy.initiate_chat(\n",
    "    recipient=assistant,\n",
    "    message=\"Go to Reddit, search for 'ag2' in the search bar, click on the first post and return the first comment.\",\n",
    "    max_turns=2,\n",
    ")"
   ]
  }
 ],
 "metadata": {
  "front_matter": {
   "description": "Adding Browsing Capabilities to AG2",
   "tags": [
    "tools",
    "browser-use",
    "webscraping",
    "function calling"
   ]
  },
  "kernelspec": {
   "display_name": ".venv-browser-use",
   "language": "python",
   "name": "python3"
  },
  "language_info": {
   "codemirror_mode": {
    "name": "ipython",
    "version": 3
   },
   "file_extension": ".py",
   "mimetype": "text/x-python",
   "name": "python",
   "nbconvert_exporter": "python",
   "pygments_lexer": "ipython3",
   "version": "3.11.8"
  }
 },
 "nbformat": 4,
 "nbformat_minor": 2
}
