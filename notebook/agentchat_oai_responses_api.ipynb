{
 "cells": [
  {
   "cell_type": "code",
   "execution_count": null,
   "metadata": {},
   "outputs": [],
   "source": [
    "import base64\n",
    "import os\n",
    "\n",
    "from autogen.oai.client import OpenAIWrapper\n",
    "\n",
    "llm_cfg = {\n",
    "    \"api_type\": \"responses\",\n",
    "    \"model\": \"gpt-4o\",\n",
    "    \"api_key\": os.getenv(\"OPENAI_API_KEY\"),\n",
    "}\n",
    "\n",
    "wrapper = OpenAIWrapper(**llm_cfg)\n",
    "\n",
    "# ---------- IMAGE → TEXT ----------\n",
    "image_url = \"https://upload.wikimedia.org/wikipedia/commons/1/15/Cat_August_2010-4.jpg\"\n",
    "vision_req = {\n",
    "    \"model\": \"gpt-4o\",\n",
    "    \"messages\": [  # <── classic key\n",
    "        {\n",
    "            \"role\": \"user\",\n",
    "            \"content\": [\n",
    "                {\"type\": \"input_text\", \"text\": \"Describe the image in one concise sentence.\"},\n",
    "                {\"type\": \"input_image\", \"image_url\": image_url},\n",
    "            ],\n",
    "        }\n",
    "    ],\n",
    "}\n",
    "resp = wrapper.create(**vision_req)\n",
    "print(resp.output_text)"
   ]
  },
  {
   "cell_type": "code",
   "execution_count": null,
   "metadata": {},
   "outputs": [],
   "source": [
    "llm_cfg = {\n",
    "    \"api_type\": \"responses\",\n",
    "    \"model\": \"gpt-4o\",\n",
    "    \"api_key\": os.getenv(\"OPENAI_API_KEY\"),\n",
    "}\n",
    "\n",
    "\n",
    "# ---------- TEXT → IMAGE ----------\n",
    "imgen_req = {\n",
    "    # \"model\": \"gpt-image-1\",\n",
    "    \"messages\": [\n",
    "        {\n",
    "            \"role\": \"user\",\n",
    "            \"content\": \"Generate a watercolor painting of a lighthouse at sunset.\",\n",
    "        }\n",
    "    ],\n",
    "    \"tools\": [{\"type\": \"image_generation\"}],\n",
    "}\n",
    "resp2 = wrapper.create(**imgen_req)\n",
    "# find the first image_generation_call object\n",
    "img_call = next(o for o in resp2.output if o.type == \"image_generation_call\")\n",
    "\n",
    "# its .result field holds the base-64 PNG\n",
    "with open(\"lighthouse.png\", \"wb\") as f:\n",
    "    f.write(base64.b64decode(img_call.result))\n",
    "\n",
    "print(\"saved lighthouse.png\")"
   ]
  },
  {
   "cell_type": "code",
   "execution_count": null,
   "metadata": {},
   "outputs": [],
   "source": [
    "# find the first image_generation_call object\n",
    "img_call = next(o for o in resp2.output if o.type == \"image_generation_call\")\n",
    "\n",
    "# its .result field holds the base-64 PNG\n",
    "with open(\"lighthouse.png\", \"wb\") as f:\n",
    "    f.write(base64.b64decode(img_call.result))\n",
    "\n",
    "print(\"saved lighthouse.png\")"
   ]
  },
  {
   "cell_type": "code",
   "execution_count": null,
   "metadata": {},
   "outputs": [],
   "source": [
    "imgen_req = {\n",
    "    # \"model\": \"gpt-image-1\",\n",
    "    \"messages\": [\n",
    "        {\n",
    "            \"role\": \"user\",\n",
    "            \"content\": \"What is the weather today in San Jose?\",\n",
    "        }\n",
    "    ],\n",
    "    \"tools\": [{\"type\": \"image_generation\"}, {\"type\": \"web_search_preview\"}],\n",
    "}\n",
    "resp3 = wrapper.create(**imgen_req)"
   ]
  },
  {
   "cell_type": "code",
   "execution_count": null,
   "metadata": {},
   "outputs": [],
   "source": [
    "print(resp3.output_text)"
   ]
  },
  {
   "cell_type": "code",
   "execution_count": null,
   "metadata": {},
   "outputs": [],
   "source": [
    "img_call = next(o for o in resp3.output if o.type == \"image_generation_call\")\n",
    "\n",
    "with open(\"test.png\", \"wb\") as f:\n",
    "    f.write(base64.b64decode(img_call.result))\n",
    "\n",
    "print(\"saved test.png\")"
   ]
  },
  {
   "cell_type": "code",
   "execution_count": null,
   "metadata": {},
   "outputs": [],
   "source": [
    "resp3.output"
   ]
  },
  {
   "cell_type": "code",
   "execution_count": null,
   "metadata": {},
   "outputs": [],
   "source": [
    "import json\n",
    "import os\n",
    "\n",
    "from pydantic import BaseModel\n",
    "\n",
    "import autogen\n",
    "\n",
    "\n",
    "# ---------------------------------------------------------------------\n",
    "# 1. Define the response format (a Pydantic model)\n",
    "# ---------------------------------------------------------------------\n",
    "class QA(BaseModel):\n",
    "    question: str\n",
    "    answer: str\n",
    "    reasoning: str\n",
    "\n",
    "\n",
    "# ---------------------------------------------------------------------\n",
    "# 2. Build an llm_config that opts-in to the Responses endpoint\n",
    "#    and attaches the structured-output model\n",
    "# ---------------------------------------------------------------------\n",
    "llm_config = {\n",
    "    \"config_list\": [\n",
    "        {\n",
    "            \"api_type\": \"responses\",  # <─ use /responses\n",
    "            \"model\": \"gpt-4o\",  # any supported model\n",
    "            \"api_key\": os.getenv(\"OPENAI_API_KEY\"),\n",
    "            \"response_format\": QA,  # <─ structured output!\n",
    "        }\n",
    "    ]\n",
    "}\n",
    "\n",
    "# ---------------------------------------------------------------------\n",
    "# 3. Create two simple chat actors\n",
    "# ---------------------------------------------------------------------\n",
    "user = autogen.UserProxyAgent(\n",
    "    name=\"User\",\n",
    "    system_message=\"Human admin\",\n",
    "    human_input_mode=\"NEVER\",\n",
    ")\n",
    "\n",
    "assistant = autogen.AssistantAgent(\n",
    "    name=\"StructuredBot\",\n",
    "    llm_config=llm_config,\n",
    "    system_message=(\n",
    "        \"You are a Q&A bot. Always return a JSON object that matches the QA schema: {question, answer, reasoning}\"\n",
    "    ),\n",
    ")\n",
    "\n",
    "# ---------------------------------------------------------------------\n",
    "# 4. Start the conversation\n",
    "# ---------------------------------------------------------------------\n",
    "result = user.initiate_chat(\n",
    "    assistant,\n",
    "    message=\"What causes seasons on Earth?\",\n",
    "    max_turns=1,\n",
    "    summary_method=\"last_msg\",\n",
    ")"
   ]
  },
  {
   "cell_type": "code",
   "execution_count": null,
   "metadata": {},
   "outputs": [],
   "source": [
    "print(\"RAW LLM OUTPUT:\", result.summary)  # already parsed!\n",
    "print()\n",
    "print(\"Pretty-printed ➜\")\n",
    "obj = json.loads(result.summary)  # or result.summary if you added .format()\n",
    "print(json.dumps(obj, indent=2))\n",
    "\n",
    "# Expected output:\n",
    "# RAW LLM OUTPUT: {\"question\":\"What causes seasons on Earth?\",\"answer\":\"The tilt of Earth's rotational axis relative to its orbital plane.\",\"reasoning\":\"Earth’s axis is tilted about 23.5°...\"}"
   ]
  }
 ],
 "metadata": {
  "kernelspec": {
   "display_name": "Python 3",
   "language": "python",
   "name": "python3"
  },
  "language_info": {
   "codemirror_mode": {
    "name": "ipython",
    "version": 3
   },
   "file_extension": ".py",
   "mimetype": "text/x-python",
   "name": "python",
   "nbconvert_exporter": "python",
   "pygments_lexer": "ipython3",
   "version": "3.11.12"
  }
 },
 "nbformat": 4,
 "nbformat_minor": 2
}
