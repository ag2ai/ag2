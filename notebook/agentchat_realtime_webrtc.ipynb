{
 "cells": [
  {
   "cell_type": "markdown",
   "metadata": {},
   "source": [
    "# RealtimeAgent with WebRTC connection\n",
    "\n",
    "\n",
    "AG2 supports **RealtimeAgent**, a powerful agent type that connects seamlessly to OpenAI's [Realtime API](https://openai.com/index/introducing-the-realtime-api). In this example we will start a local RealtimeAgent and register a mock get_weather function that the agent will be able to call.\n",
    "\n",
    "**Note**: This notebook cannot be run in Google Colab because it depends on local JavaScript files and HTML templates. To execute the notebook successfully, run it locally within the cloned project so that the `notebooks/agentchat_realtime_websocket/static` and `notebooks/agentchat_realtime_websocket/templates` folders are available in the correct relative paths.\n",
    "\n",
    "````{=mdx}\n",
    ":::info Requirements\n",
    "Install `ag2`:\n",
    "```bash\n",
    "git clone https://github.com/ag2ai/ag2.git\n",
    "cd ag2\n",
    "```\n",
    ":::\n",
    "````\n"
   ]
  },
  {
   "cell_type": "markdown",
   "metadata": {},
   "source": [
    "\n",
    "## Install AG2 and dependencies\n",
    "\n",
    "To use the realtime agent we will connect it to a local websocket trough the browser.\n",
    "\n",
    "To be able to run this notebook, you will need to install ag2, fastapi and uvicorn.\n",
    "````{=mdx}\n",
    ":::info Requirements\n",
    "Install `ag2`:\n",
    "```bash\n",
    "pip install \"ag2\", \"fastapi>=0.115.0,<1\", \"uvicorn>=0.30.6,<1\" \"flaml[automl]\"\n",
    "```\n",
    "For more information, please refer to the [installation guide](/docs/installation/Installation).\n",
    ":::\n",
    "````"
   ]
  },
  {
   "cell_type": "code",
   "execution_count": 1,
   "metadata": {},
   "outputs": [
    {
     "name": "stdout",
     "output_type": "stream",
     "text": [
      "Requirement already satisfied: ag2 in /Users/tvrtko/Documents/projects/AG2/ag2/.venv/lib/python3.11/site-packages (0.7.1)\n",
      "Requirement already satisfied: fastapi<1,>=0.115.0 in /Users/tvrtko/Documents/projects/AG2/ag2/.venv/lib/python3.11/site-packages (0.115.6)\n",
      "Requirement already satisfied: uvicorn<1,>=0.30.6 in /Users/tvrtko/Documents/projects/AG2/ag2/.venv/lib/python3.11/site-packages (0.34.0)\n",
      "Requirement already satisfied: pyautogen==0.7.1 in /Users/tvrtko/Documents/projects/AG2/ag2/.venv/lib/python3.11/site-packages (from ag2) (0.7.1)\n",
      "Requirement already satisfied: asyncer==0.0.8 in /Users/tvrtko/Documents/projects/AG2/ag2/.venv/lib/python3.11/site-packages (from pyautogen==0.7.1->ag2) (0.0.8)\n",
      "Requirement already satisfied: diskcache in /Users/tvrtko/Documents/projects/AG2/ag2/.venv/lib/python3.11/site-packages (from pyautogen==0.7.1->ag2) (5.6.3)\n",
      "Requirement already satisfied: docker in /Users/tvrtko/Documents/projects/AG2/ag2/.venv/lib/python3.11/site-packages (from pyautogen==0.7.1->ag2) (7.1.0)\n",
      "Requirement already satisfied: fast-depends<3,>=2.4.12 in /Users/tvrtko/Documents/projects/AG2/ag2/.venv/lib/python3.11/site-packages (from pyautogen==0.7.1->ag2) (2.4.12)\n",
      "Requirement already satisfied: flaml in /Users/tvrtko/Documents/projects/AG2/ag2/.venv/lib/python3.11/site-packages (from pyautogen==0.7.1->ag2) (2.3.3)\n",
      "Requirement already satisfied: numpy<2.0.0,>=1.24.0 in /Users/tvrtko/Documents/projects/AG2/ag2/.venv/lib/python3.11/site-packages (from pyautogen==0.7.1->ag2) (1.26.4)\n",
      "Requirement already satisfied: openai>=1.58 in /Users/tvrtko/Documents/projects/AG2/ag2/.venv/lib/python3.11/site-packages (from pyautogen==0.7.1->ag2) (1.59.8)\n",
      "Requirement already satisfied: packaging in /Users/tvrtko/Documents/projects/AG2/ag2/.venv/lib/python3.11/site-packages (from pyautogen==0.7.1->ag2) (24.2)\n",
      "Requirement already satisfied: pydantic<3,>=2.6.1 in /Users/tvrtko/Documents/projects/AG2/ag2/.venv/lib/python3.11/site-packages (from pyautogen==0.7.1->ag2) (2.10.5)\n",
      "Requirement already satisfied: python-dotenv in /Users/tvrtko/Documents/projects/AG2/ag2/.venv/lib/python3.11/site-packages (from pyautogen==0.7.1->ag2) (1.0.1)\n",
      "Requirement already satisfied: termcolor in /Users/tvrtko/Documents/projects/AG2/ag2/.venv/lib/python3.11/site-packages (from pyautogen==0.7.1->ag2) (2.5.0)\n",
      "Requirement already satisfied: tiktoken in /Users/tvrtko/Documents/projects/AG2/ag2/.venv/lib/python3.11/site-packages (from pyautogen==0.7.1->ag2) (0.7.0)\n",
      "Requirement already satisfied: websockets<15,>=14 in /Users/tvrtko/Documents/projects/AG2/ag2/.venv/lib/python3.11/site-packages (from pyautogen==0.7.1->ag2) (14.2)\n",
      "Requirement already satisfied: anyio<5.0,>=3.4.0 in /Users/tvrtko/Documents/projects/AG2/ag2/.venv/lib/python3.11/site-packages (from asyncer==0.0.8->pyautogen==0.7.1->ag2) (4.8.0)\n",
      "Requirement already satisfied: starlette<0.42.0,>=0.40.0 in /Users/tvrtko/Documents/projects/AG2/ag2/.venv/lib/python3.11/site-packages (from fastapi<1,>=0.115.0) (0.41.3)\n",
      "Requirement already satisfied: typing-extensions>=4.8.0 in /Users/tvrtko/Documents/projects/AG2/ag2/.venv/lib/python3.11/site-packages (from fastapi<1,>=0.115.0) (4.12.2)\n",
      "Requirement already satisfied: click>=7.0 in /Users/tvrtko/Documents/projects/AG2/ag2/.venv/lib/python3.11/site-packages (from uvicorn<1,>=0.30.6) (8.1.8)\n",
      "Requirement already satisfied: h11>=0.8 in /Users/tvrtko/Documents/projects/AG2/ag2/.venv/lib/python3.11/site-packages (from uvicorn<1,>=0.30.6) (0.14.0)\n",
      "Requirement already satisfied: annotated-types>=0.6.0 in /Users/tvrtko/Documents/projects/AG2/ag2/.venv/lib/python3.11/site-packages (from pydantic<3,>=2.6.1->pyautogen==0.7.1->ag2) (0.7.0)\n",
      "Requirement already satisfied: pydantic-core==2.27.2 in /Users/tvrtko/Documents/projects/AG2/ag2/.venv/lib/python3.11/site-packages (from pydantic<3,>=2.6.1->pyautogen==0.7.1->ag2) (2.27.2)\n",
      "Requirement already satisfied: idna>=2.8 in /Users/tvrtko/Documents/projects/AG2/ag2/.venv/lib/python3.11/site-packages (from anyio<5.0,>=3.4.0->asyncer==0.0.8->pyautogen==0.7.1->ag2) (3.10)\n",
      "Requirement already satisfied: sniffio>=1.1 in /Users/tvrtko/Documents/projects/AG2/ag2/.venv/lib/python3.11/site-packages (from anyio<5.0,>=3.4.0->asyncer==0.0.8->pyautogen==0.7.1->ag2) (1.3.1)\n",
      "Requirement already satisfied: distro<2,>=1.7.0 in /Users/tvrtko/Documents/projects/AG2/ag2/.venv/lib/python3.11/site-packages (from openai>=1.58->pyautogen==0.7.1->ag2) (1.9.0)\n",
      "Requirement already satisfied: httpx<1,>=0.23.0 in /Users/tvrtko/Documents/projects/AG2/ag2/.venv/lib/python3.11/site-packages (from openai>=1.58->pyautogen==0.7.1->ag2) (0.27.2)\n",
      "Requirement already satisfied: jiter<1,>=0.4.0 in /Users/tvrtko/Documents/projects/AG2/ag2/.venv/lib/python3.11/site-packages (from openai>=1.58->pyautogen==0.7.1->ag2) (0.8.2)\n",
      "Requirement already satisfied: tqdm>4 in /Users/tvrtko/Documents/projects/AG2/ag2/.venv/lib/python3.11/site-packages (from openai>=1.58->pyautogen==0.7.1->ag2) (4.67.1)\n",
      "Requirement already satisfied: requests>=2.26.0 in /Users/tvrtko/Documents/projects/AG2/ag2/.venv/lib/python3.11/site-packages (from docker->pyautogen==0.7.1->ag2) (2.32.3)\n",
      "Requirement already satisfied: urllib3>=1.26.0 in /Users/tvrtko/Documents/projects/AG2/ag2/.venv/lib/python3.11/site-packages (from docker->pyautogen==0.7.1->ag2) (2.3.0)\n",
      "Requirement already satisfied: regex>=2022.1.18 in /Users/tvrtko/Documents/projects/AG2/ag2/.venv/lib/python3.11/site-packages (from tiktoken->pyautogen==0.7.1->ag2) (2024.11.6)\n",
      "Requirement already satisfied: certifi in /Users/tvrtko/Documents/projects/AG2/ag2/.venv/lib/python3.11/site-packages (from httpx<1,>=0.23.0->openai>=1.58->pyautogen==0.7.1->ag2) (2024.12.14)\n",
      "Requirement already satisfied: httpcore==1.* in /Users/tvrtko/Documents/projects/AG2/ag2/.venv/lib/python3.11/site-packages (from httpx<1,>=0.23.0->openai>=1.58->pyautogen==0.7.1->ag2) (1.0.7)\n",
      "Requirement already satisfied: charset-normalizer<4,>=2 in /Users/tvrtko/Documents/projects/AG2/ag2/.venv/lib/python3.11/site-packages (from requests>=2.26.0->docker->pyautogen==0.7.1->ag2) (3.4.1)\n"
     ]
    }
   ],
   "source": [
    "!pip install \"ag2\" \"fastapi>=0.115.0,<1\" \"uvicorn>=0.30.6,<1\""
   ]
  },
  {
   "cell_type": "markdown",
   "metadata": {},
   "source": [
    "### Import the dependencies\n",
    "\n",
    "After installing the necessary requirements, we can import the necessary dependencies for the example"
   ]
  },
  {
   "cell_type": "code",
   "execution_count": 2,
   "metadata": {},
   "outputs": [
    {
     "name": "stderr",
     "output_type": "stream",
     "text": [
      "/Users/tvrtko/Documents/projects/AG2/ag2/.venv/lib/python3.11/site-packages/flaml/__init__.py:20: UserWarning: flaml.automl is not available. Please install flaml[automl] to enable AutoML functionalities.\n",
      "  warnings.warn(\"flaml.automl is not available. Please install flaml[automl] to enable AutoML functionalities.\")\n"
     ]
    }
   ],
   "source": [
    "import os\n",
    "from logging import getLogger\n",
    "from pathlib import Path\n",
    "from typing import Annotated\n",
    "\n",
    "import uvicorn\n",
    "from fastapi import FastAPI, Request, WebSocket\n",
    "from fastapi.responses import HTMLResponse, JSONResponse\n",
    "from fastapi.staticfiles import StaticFiles\n",
    "from fastapi.templating import Jinja2Templates\n",
    "\n",
    "import autogen\n",
    "from autogen.agentchat.realtime_agent import RealtimeAgent"
   ]
  },
  {
   "cell_type": "markdown",
   "metadata": {},
   "source": [
    "## Prepare your `llm_config` and `realtime_llm_config`\n",
    "\n",
    "The [`config_list_from_json`](https://docs.ag2.ai/docs/reference/oai/openai_utils#config-list-from-json) function loads a list of configurations from an environment variable or a json file.\n",
    "\n",
    "## Important note\n",
    "\n",
    "Currenlty WebRTC can be used only by API keys the begin with:\n",
    "\n",
    "```\n",
    "sk-proj\n",
    "```\n",
    "\n",
    "and other keys may result internal server error  (500) on OpenAI server. For more details see:\n",
    "https://community.openai.com/t/realtime-api-create-sessions-results-in-500-internal-server-error/1060964/5\n",
    "\n"
   ]
  },
  {
   "cell_type": "code",
   "execution_count": 3,
   "metadata": {},
   "outputs": [],
   "source": [
    "realtime_config_list = autogen.config_list_from_json(\n",
    "    \"OAI_CONFIG_LIST\",\n",
    "    filter_dict={\n",
    "        \"tags\": [\"gpt-4o-mini-realtime\"],\n",
    "    },\n",
    ")\n",
    "\n",
    "realtime_llm_config = {\n",
    "    \"timeout\": 600,\n",
    "    \"config_list\": realtime_config_list,\n",
    "    \"temperature\": 0.8,\n",
    "}\n",
    "\n",
    "assert realtime_config_list, (\n",
    "    \"No LLM found for the given model, please add the following lines to the OAI_CONFIG_LIST file:\"\n",
    "    \"\"\"\n",
    "    {\n",
    "        \"model\": \"gpt-4o-mini-realtime-preview\",\n",
    "        \"api_key\": \"sk-prod*********************...*\",\n",
    "        \"tags\": [\"gpt-4o-mini-realtime\", \"realtime\"]\n",
    "    }\"\"\"\n",
    ")"
   ]
  },
  {
   "cell_type": "markdown",
   "metadata": {},
   "source": [
    "### Before you start the server\n",
    "\n",
    "To run uvicorn server inside the notebook, you will need to use nest_asyncio. This is because Jupyter uses the asyncio event loop, and uvicorn uses its own event loop. nest_asyncio will allow uvicorn to run in Jupyter.\n",
    "\n",
    "Please install nest_asyncio by running the following cell."
   ]
  },
  {
   "cell_type": "code",
   "execution_count": 4,
   "metadata": {},
   "outputs": [
    {
     "name": "stdout",
     "output_type": "stream",
     "text": [
      "Requirement already satisfied: nest_asyncio in /Users/tvrtko/Documents/projects/AG2/ag2/.venv/lib/python3.11/site-packages (1.6.0)\n"
     ]
    }
   ],
   "source": [
    "!pip install nest_asyncio"
   ]
  },
  {
   "cell_type": "code",
   "execution_count": 5,
   "metadata": {},
   "outputs": [],
   "source": [
    "import nest_asyncio\n",
    "\n",
    "nest_asyncio.apply()"
   ]
  },
  {
   "cell_type": "markdown",
   "metadata": {},
   "source": [
    "# Implementing and Running a Basic App\n",
    "\n",
    "Let us set up and execute a FastAPI application that integrates real-time agent interactions."
   ]
  },
  {
   "cell_type": "markdown",
   "metadata": {},
   "source": [
    "### Define basic FastAPI app\n",
    "\n",
    "1. **Define Port**: Sets the `PORT` variable to `5050`, which will be used for the server.\n",
    "2. **Initialize FastAPI App**: Creates a `FastAPI` instance named `app`, which serves as the main application.\n",
    "3. **Define Root Endpoint**: Adds a `GET` endpoint at the root URL (`/`). When accessed, it returns a JSON response with the message `\"WebRTC AG2 Server is running!\"`.\n",
    "\n",
    "This sets up a basic FastAPI server and provides a simple health-check endpoint to confirm that the server is operational."
   ]
  },
  {
   "cell_type": "code",
   "execution_count": 6,
   "metadata": {},
   "outputs": [],
   "source": [
    "PORT = 5050\n",
    "\n",
    "app = FastAPI()\n",
    "\n",
    "\n",
    "@app.get(\"/\", response_class=JSONResponse)\n",
    "async def index_page():\n",
    "    return {\"message\": \"WebRTC AG2 Server is running!\"}"
   ]
  },
  {
   "cell_type": "markdown",
   "metadata": {},
   "source": [
    "### Prepare `start-chat` endpoint\n",
    "\n",
    "1. **Set the Working Directory**: Define `notebook_path` as the current working directory using `os.getcwd()`.\n",
    "2. **Mount Static Files**: Mount the `static` directory (inside `agentchat_realtime_webrtc`) to serve JavaScript, CSS, and other static assets under the `/static` path.\n",
    "3. **Set Up Templates**: Configure Jinja2 to render HTML templates from the `templates` directory within `agentchat_realtime_webrtc`.\n",
    "4. **Create the `/start-chat/` Endpoint**: Define a `GET` route that serves the `chat.html` template. Pass the client's `request` and the `port` variable to the template for rendering a dynamic page for the audio chat interface.\n",
    "\n",
    "This code sets up static file handling, template rendering, and a dedicated endpoint to deliver the chat interface.\n"
   ]
  },
  {
   "cell_type": "code",
   "execution_count": 7,
   "metadata": {},
   "outputs": [],
   "source": [
    "notebook_path = os.getcwd()\n",
    "\n",
    "app.mount(\"/static\", StaticFiles(directory=Path(notebook_path) / \"agentchat_realtime_webrtc\" / \"static\"), name=\"static\")\n",
    "\n",
    "# Templates for HTML responses\n",
    "\n",
    "templates = Jinja2Templates(directory=Path(notebook_path) / \"agentchat_realtime_webrtc\" / \"templates\")\n",
    "\n",
    "\n",
    "@app.get(\"/start-chat/\", response_class=HTMLResponse)\n",
    "async def start_chat(request: Request):\n",
    "    \"\"\"Endpoint to return the HTML page for audio chat.\"\"\"\n",
    "    port = PORT  # Extract the client's port\n",
    "    return templates.TemplateResponse(\"chat.html\", {\"request\": request, \"port\": port})"
   ]
  },
  {
   "cell_type": "markdown",
   "metadata": {},
   "source": [
    "### Prepare endpoint for AG2 backend websocket\n",
    "\n",
    "1. **Set Up the WebSocket Endpoint**: Define the `/session` WebSocket route to handle audio streaming.\n",
    "2. **Accept WebSocket Connections**: Accept incoming WebSocket connections from clients.\n",
    "3. **Initialize Logger**: Retrieve a logger instance for logging purposes.\n",
    "4. **Set Up Realtime Agent**: Create a `RealtimeAgent` with the following:\n",
    "   - **Name**: `Weather Bot`.\n",
    "   - **System Message**: Introduces the AI assistant and its capabilities.\n",
    "   - **LLM Configuration**: Uses `realtime_llm_config` for language model settings.\n",
    "   - **Websocket**: Used by the RealtimeAgent backend to receive messages form WebRTC application.\n",
    "   - **Logger**: Logs activities for debugging and monitoring.\n",
    "6. **Register a Realtime Function**: Add a function `get_weather` to the agent, allowing it to respond with basic weather information based on the provided `location`.\n",
    "7. **Run the Agent**: Start the `realtime_agent` to handle interactions in real time.\n"
   ]
  },
  {
   "cell_type": "code",
   "execution_count": 8,
   "metadata": {},
   "outputs": [],
   "source": [
    "@app.websocket(\"/session\")\n",
    "async def handle_media_stream(websocket: WebSocket):\n",
    "    \"\"\"Handle WebSocket connections providing audio stream and OpenAI.\"\"\"\n",
    "    await websocket.accept()\n",
    "\n",
    "    logger = getLogger(\"uvicorn.error\")\n",
    "\n",
    "    realtime_agent = RealtimeAgent(\n",
    "        name=\"Weather Bot\",\n",
    "        system_message=\"Hello there! I am an AI voice assistant powered by Autogen and the OpenAI Realtime API. You can ask me about weather, jokes, or anything you can imagine. Start by saying 'How can I help you'?\",\n",
    "        llm_config=realtime_llm_config,\n",
    "        websocket=websocket,\n",
    "        logger=logger,\n",
    "    )\n",
    "\n",
    "    @realtime_agent.register_realtime_function(name=\"get_weather\", description=\"Get the current weather\")\n",
    "    def get_weather(location: Annotated[str, \"city\"]) -> str:\n",
    "        logger.info(f\"Checking the weather: {location}\")\n",
    "        return \"The weather is cloudy.\" if location == \"Rome\" else \"The weather is sunny.\"\n",
    "\n",
    "    await realtime_agent.run()"
   ]
  },
  {
   "cell_type": "markdown",
   "metadata": {},
   "source": [
    "### Run the app using uvicorn"
   ]
  },
  {
   "cell_type": "code",
   "execution_count": 9,
   "metadata": {},
   "outputs": [
    {
     "name": "stderr",
     "output_type": "stream",
     "text": [
      "INFO:     Started server process [53062]\n",
      "INFO:     Waiting for application startup.\n",
      "INFO:     Application startup complete.\n",
      "INFO:     Uvicorn running on http://0.0.0.0:5050 (Press CTRL+C to quit)\n"
     ]
    },
    {
     "name": "stdout",
     "output_type": "stream",
     "text": [
      "INFO:     127.0.0.1:62800 - \"GET /start-chat/ HTTP/1.1\" 200 OK\n"
     ]
    },
    {
     "name": "stderr",
     "output_type": "stream",
     "text": [
      "INFO:     ('127.0.0.1', 62804) - \"WebSocket /session\" [accepted]\n",
      "INFO:     connection open\n",
      "INFO:     Sending session update: {'turn_detection': {'type': 'server_vad'}, 'voice': 'alloy', 'modalities': ['audio', 'text'], 'temperature': 0.8}\n",
      "INFO:     Sending session update finished\n",
      "INFO:     Sending session update: {'instructions': \"Hello there! I am an AI voice assistant powered by Autogen and the OpenAI Realtime API. You can ask me about weather, jokes, or anything you can imagine. Start by saying 'How can I help you'?\"}\n",
      "INFO:     Sending session update finished\n",
      "INFO:     Sending session update: {'tools': [{'type': 'function', 'description': 'Get the current weather', 'name': 'get_weather', 'parameters': {'type': 'object', 'properties': {'location': {'type': 'string', 'description': 'city'}}, 'required': ['location']}}], 'tool_choice': 'auto'}\n",
      "INFO:     Sending session update finished\n",
      "INFO:     Shutting down\n",
      "INFO:     connection closed\n",
      "INFO:     Waiting for application shutdown.\n",
      "INFO:     Application shutdown complete.\n",
      "INFO:     Finished server process [53062]\n"
     ]
    }
   ],
   "source": [
    "uvicorn.run(app, host=\"0.0.0.0\", port=PORT)"
   ]
  },
  {
   "cell_type": "markdown",
   "metadata": {},
   "source": []
  }
 ],
 "metadata": {
  "front_matter": {
   "description": "RealtimeAgent using websockets",
   "tags": [
    "realtime",
    "websockets"
   ]
  },
  "kernelspec": {
   "display_name": ".venv",
   "language": "python",
   "name": "python3"
  },
  "language_info": {
   "codemirror_mode": {
    "name": "ipython",
    "version": 3
   },
   "file_extension": ".py",
   "mimetype": "text/x-python",
   "name": "python",
   "nbconvert_exporter": "python",
   "pygments_lexer": "ipython3",
   "version": "3.11.11"
  }
 },
 "nbformat": 4,
 "nbformat_minor": 2
}
