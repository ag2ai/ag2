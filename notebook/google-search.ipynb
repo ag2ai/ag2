{
 "cells": [
  {
   "cell_type": "code",
   "execution_count": null,
   "metadata": {},
   "outputs": [
    {
     "ename": "",
     "evalue": "",
     "output_type": "error",
     "traceback": [
      "\u001b[1;31mThe kernel failed to start as the Python Environment 'Python 3.11.11' is no longer available. Consider selecting another kernel or refreshing the list of Python Environments."
     ]
    }
   ],
   "source": [
    "import os\n",
    "\n",
    "from autogen import AssistantAgent, UserProxyAgent\n",
    "from autogen.oai.gemini import register_google_search"
   ]
  },
  {
   "cell_type": "code",
   "execution_count": null,
   "metadata": {},
   "outputs": [],
   "source": [
    "# config_list = [\n",
    "#     {\n",
    "#         \"model\": \"gemini-2.0-flash\",\n",
    "#         \"api_type\": \"google\",\n",
    "#         \"api_key\": os.getenv(\"GEMINI_API_KEY\"),\n",
    "#     },\n",
    "# ]\n",
    "\n",
    "\n",
    "config_list = autogen.config_list_from_json(\n",
    "    env_or_file=\"OAI_CONFIG_LIST\",\n",
    "    filter_dict={\n",
    "        \"model\": [\"gemini-2.0-flash\"],\n",
    "    },\n",
    ")\n",
    "# config_list = [\n",
    "#     {\n",
    "#         \"model\": \"gemini-2.0-flash\",\n",
    "#         \"api_type\": \"google\",\n",
    "#         \"project_id\": \"nice-storm-447413-f0\",\n",
    "#         \"location\": \"us-central1\",\n",
    "#     },\n",
    "# ]\n",
    "\n",
    "llm_config = {\n",
    "    \"config_list\": config_list,\n",
    "}\n"
   ]
  },
  {
   "cell_type": "code",
   "execution_count": null,
   "metadata": {},
   "outputs": [],
   "source": [
    "\n",
    "assistant = AssistantAgent(\n",
    "    name=\"assistant\",\n",
    "    llm_config=llm_config,\n",
    ")\n",
    "\n",
    "user_proxy_agent = UserProxyAgent(\n",
    "    name=\"user_proxy_agent\",\n",
    "    human_input_mode=\"NEVER\",\n",
    ")\n",
    "\n",
    "from autogen.tools.experimental import GoogleSearchTool\n",
    "\n",
    "gs_tool = GoogleSearchTool()  # api_key is Optional, not needed by Gemini\n",
    "\n",
    "gs_tool.register_for_llm(assistant)  # in case of gemini, use builtin google search\n",
    "gs_tool.register_for_execution(user_proxy_agent)  # in case of Gemini, it is not needed\n",
    "\n",
    "user_proxy_agent.initiate_chat(\n",
    "    recipient=assistant,\n",
    "    message=\"What happened with stock prices after deepseek was launched?\",\n",
    "    max_turns=1,\n",
    ")"
   ]
  }
 ],
 "metadata": {
  "kernelspec": {
   "display_name": ".venv-3.11-browser-use",
   "language": "python",
   "name": "python3"
  },
  "language_info": {
   "codemirror_mode": {
    "name": "ipython",
    "version": 3
   },
   "file_extension": ".py",
   "mimetype": "text/x-python",
   "name": "python",
   "nbconvert_exporter": "python",
   "pygments_lexer": "ipython3",
   "version": "3.11.11"
  }
 },
 "nbformat": 4,
 "nbformat_minor": 2
}
