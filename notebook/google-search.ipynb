{
 "cells": [
  {
   "cell_type": "code",
   "execution_count": null,
   "metadata": {},
   "outputs": [],
   "source": [
    "import os\n",
    "\n",
    "from autogen import AssistantAgent, UserProxyAgent\n",
    "from autogen.oai.gemini import register_google_search"
   ]
  },
  {
   "cell_type": "code",
   "execution_count": null,
   "metadata": {},
   "outputs": [],
   "source": [
    "config_list = [\n",
    "    {\n",
    "        \"model\": \"gemini-2.0-flash\",\n",
    "        \"api_type\": \"google\",\n",
    "        \"api_key\": os.getenv(\"GEMINI_API_KEY\"),\n",
    "    },\n",
    "]\n",
    "\n",
    "# config_list = [\n",
    "#     {\n",
    "#         \"model\": \"gemini-2.0-flash\",\n",
    "#         \"api_type\": \"google\",\n",
    "#         \"project_id\": \"nice-storm-447413-f0\",\n",
    "#         \"location\": \"us-central1\",\n",
    "#     },\n",
    "# ]\n",
    "\n",
    "llm_config = {\n",
    "    \"config_list\": config_list,\n",
    "}\n",
    "\n",
    "assistant = AssistantAgent(\n",
    "    name=\"assistant\",\n",
    "    llm_config=llm_config,\n",
    ")\n",
    "\n",
    "user_proxy_agent = UserProxyAgent(\n",
    "    name=\"user_proxy_agent\",\n",
    "    human_input_mode=\"NEVER\",\n",
    ")\n",
    "\n",
    "\n",
    "register_google_search(assistant)\n",
    "\n",
    "user_proxy_agent.initiate_chat(\n",
    "    recipient=assistant,\n",
    "    message=\"What happened with stock prices after deepseek was launched?\",\n",
    "    max_turns=1,\n",
    ")"
   ]
  },
  {
   "cell_type": "code",
   "execution_count": null,
   "metadata": {},
   "outputs": [],
   "source": []
  }
 ],
 "metadata": {
  "kernelspec": {
   "display_name": ".venv",
   "language": "python",
   "name": "python3"
  },
  "language_info": {
   "codemirror_mode": {
    "name": "ipython",
    "version": 3
   },
   "file_extension": ".py",
   "mimetype": "text/x-python",
   "name": "python",
   "nbconvert_exporter": "python",
   "pygments_lexer": "ipython3",
   "version": "3.11.8"
  }
 },
 "nbformat": 4,
 "nbformat_minor": 2
}
