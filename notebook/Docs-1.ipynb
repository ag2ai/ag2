{
 "cells": [
  {
   "cell_type": "code",
   "execution_count": null,
   "metadata": {},
   "outputs": [],
   "source": [
    "from autogen.tools.experimental.google.authentication import GoogleCredentialsLocalProvider\n",
    "from autogen.tools.experimental.google.docs.docs_functions import (\n",
    "    create_document_with_content_f,\n",
    "    list_folders_and_docs_files_f,\n",
    ")\n",
    "from autogen.tools.experimental.google.docs.model import CreateDocsFile"
   ]
  },
  {
   "cell_type": "code",
   "execution_count": null,
   "metadata": {},
   "outputs": [],
   "source": [
    "client_secret_file = \"../credentials.json\"\n",
    "token_file = \"../my_token.json\"\n",
    "\n",
    "provider = GoogleCredentialsLocalProvider(\n",
    "    client_secret_file=client_secret_file,\n",
    "    scopes=[\n",
    "        # \"https://www.googleapis.com/auth/documents.readonly\",\n",
    "        \"https://www.googleapis.com/auth/documents\",\n",
    "        \"https://www.googleapis.com/auth/drive\",\n",
    "    ],\n",
    "    token_file=token_file,\n",
    ")\n",
    "\n",
    "credentials = provider.get_credentials()"
   ]
  },
  {
   "cell_type": "code",
   "execution_count": null,
   "metadata": {},
   "outputs": [],
   "source": [
    "from googleapiclient.discovery import build\n",
    "\n",
    "service = build(\"docs\", \"v1\", credentials=credentials)\n",
    "service_drive = build(\"drive\", \"v3\", credentials=credentials)\n",
    "\n",
    "# document = get_document_content(service=service, document_id=\"1RlGQppnubcKPNCnm5O2MOP_7zm7D_xV9FB_5P0glYwg\")\n",
    "# document.keys()"
   ]
  },
  {
   "cell_type": "code",
   "execution_count": null,
   "metadata": {},
   "outputs": [],
   "source": [
    "list_folders_and_docs_files_f(service=service_drive, page_size=20, folder_id=None)"
   ]
  },
  {
   "cell_type": "code",
   "execution_count": null,
   "metadata": {},
   "outputs": [],
   "source": [
    "folder_id = \"1kQVQ4dasDtj58P2zfwY1GXhkg_MI5A6y\"\n",
    "list_folders_and_docs_files_f(service=service_drive, page_size=20, folder_id=folder_id)"
   ]
  },
  {
   "cell_type": "code",
   "execution_count": null,
   "metadata": {},
   "outputs": [],
   "source": [
    "# document_id = create_document(service=service, title=\"My new document\")\n",
    "# document_id"
   ]
  },
  {
   "cell_type": "code",
   "execution_count": null,
   "metadata": {},
   "outputs": [],
   "source": [
    "markdown_content = \"\"\"\n",
    "# My Document Title\n",
    "## Subtitle Goes Here\n",
    "\n",
    "This is **bold text** and this is *italic text*.\n",
    "\n",
    "- First bullet point\n",
    "- Second bullet point\n",
    "\"\"\""
   ]
  },
  {
   "cell_type": "code",
   "execution_count": null,
   "metadata": {},
   "outputs": [],
   "source": [
    "create_document_with_content_f(\n",
    "    service=service_drive,\n",
    "    docs_file=CreateDocsFile(name=\"My Markdown Document\", content=markdown_content, content_type=\"markdown\"),\n",
    ")"
   ]
  },
  {
   "cell_type": "code",
   "execution_count": null,
   "metadata": {},
   "outputs": [],
   "source": []
  },
  {
   "cell_type": "code",
   "execution_count": null,
   "metadata": {},
   "outputs": [],
   "source": []
  }
 ],
 "metadata": {
  "kernelspec": {
   "display_name": ".venv",
   "language": "python",
   "name": "python3"
  },
  "language_info": {
   "codemirror_mode": {
    "name": "ipython",
    "version": 3
   },
   "file_extension": ".py",
   "mimetype": "text/x-python",
   "name": "python",
   "nbconvert_exporter": "python",
   "pygments_lexer": "ipython3",
   "version": "3.11.8"
  }
 },
 "nbformat": 4,
 "nbformat_minor": 2
}
