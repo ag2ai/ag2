{
 "cells": [
  {
   "cell_type": "markdown",
   "id": "0",
   "metadata": {},
   "source": [
    "# Exploring GPT-5: Comparing Verbosity Levels in Autogen AgentChat\n"
   ]
  },
  {
   "cell_type": "markdown",
   "id": "1",
   "metadata": {},
   "source": [
    "This notebook demonstrates how to use different verbosity levels with GPT-5 in Autogen's AgentChat framework.\n",
    "It compares the outputs and behaviors of agents when the verbosity setting is changed.\n"
   ]
  },
  {
   "cell_type": "markdown",
   "id": "2",
   "metadata": {},
   "source": [
    " ## Key Feature: Verbosity Parameter\n",
    " \n",
    " The **verbosity** parameter allows you to control how detailed or concise the model's responses are, without needing to rewrite your prompts. This is especially useful for adapting the agent's communication style to different use cases.\n",
    " \n",
    " | Level   | Description                                      | When to Use                                 |\n",
    " |---------|--------------------------------------------------|---------------------------------------------|\n",
    " | **low**    | Short, minimal, and to-the-point responses.        | For UX, quick answers, or summaries.  |\n",
    " | **medium** | Balanced detail (default).                        | For general use and most conversations.     |\n",
    " | **high**   | Very detailed, explanatory, and verbose replies.   | For audits, teaching, documentation, or hand-offs. |\n",
    " \n",
    " **Tip:** Keep your prompts consistent and use the `verbosity` parameter to adjust response style as needed."
   ]
  },
  {
   "cell_type": "code",
   "execution_count": null,
   "id": "3",
   "metadata": {},
   "outputs": [],
   "source": [
    "import os\n",
    "\n",
    "from dotenv import load_dotenv\n",
    "\n",
    "from autogen import ConversableAgent, LLMConfig\n",
    "from autogen.agentchat import initiate_group_chat\n",
    "from autogen.agentchat.group.patterns import AutoPattern\n",
    "\n",
    "load_dotenv()\n",
    "\n",
    "llm_config = LLMConfig(\n",
    "    model=\"gpt-5\",\n",
    "    api_key=os.getenv(\"OPENAI_API_KEY\"),\n",
    "    api_type=\"openai\",\n",
    "    verbosity=\"low\",\n",
    ")"
   ]
  },
  {
   "cell_type": "markdown",
   "id": "4",
   "metadata": {},
   "source": [
    "### Agent Setup Instructions\n",
    "\n",
    " 1. **Install Required Packages**:\n",
    "    Make sure you have installed the required packages:\n",
    "    ```\n",
    "    pip install pyautogen python-dotenv\n",
    "    ```"
   ]
  },
  {
   "cell_type": "markdown",
   "id": "5",
   "metadata": {},
   "source": [
    " 2. **Set Up Environment Variables**:\n",
    "    Create a `.env` file in your project directory and add your OpenAI API key:\n",
    "    ```\n",
    "    OPENAI_API_KEY=your_openai_api_key_here\n",
    "    ```"
   ]
  },
  {
   "cell_type": "markdown",
   "id": "6",
   "metadata": {},
   "source": [
    "3. **Configure LLM and Agents**:\n",
    "  - The notebook demonstrates how to configure the `LLMConfig` for GPT-5 with different verbosity levels.\n",
    "  - It sets up three agents:\n",
    "    - `code_agent`: Codes the given task.\n",
    "    - `reviewer_agent`: Reviews the code.\n",
    "    - `user`: Initiates the conversation."
   ]
  },
  {
   "cell_type": "markdown",
   "id": "7",
   "metadata": {},
   "source": [
    "4. **Run the Notebook**:\n",
    "  Execute the cells in order to see how agent behavior changes with different verbosity settings."
   ]
  },
  {
   "cell_type": "code",
   "execution_count": null,
   "id": "8",
   "metadata": {},
   "outputs": [],
   "source": [
    "with llm_config:\n",
    "    code_agent = ConversableAgent(\n",
    "        name=\"code_agent\",\n",
    "        system_message=\"you are a coding agent. you need to code the task given to you\",\n",
    "        max_consecutive_auto_reply=5,\n",
    "        human_input_mode=\"NEVER\",\n",
    "    )\n",
    "\n",
    "    reviewer_agent = ConversableAgent(\n",
    "        name=\"reviewer_agent\",\n",
    "        human_input_mode=\"NEVER\",\n",
    "        system_message=\"you are a reviewer agent. you need to review the code given to you\",\n",
    "    )\n",
    "\n",
    "user = ConversableAgent(\n",
    "    name=\"user\",\n",
    "    human_input_mode=\"ALWAYS\",\n",
    "    llm_config=llm_config,\n",
    ")"
   ]
  },
  {
   "cell_type": "code",
   "execution_count": null,
   "id": "9",
   "metadata": {},
   "outputs": [],
   "source": [
    "pattern = AutoPattern(\n",
    "    initial_agent=code_agent,\n",
    "    agents=[code_agent, reviewer_agent],\n",
    "    user_agent=user,\n",
    "    group_manager_args={\"llm_config\": llm_config},\n",
    ")"
   ]
  },
  {
   "cell_type": "code",
   "execution_count": null,
   "id": "10",
   "metadata": {},
   "outputs": [],
   "source": [
    "result, context_variables, last_agent = initiate_group_chat(\n",
    "    pattern=pattern,\n",
    "    messages=\"write a python code to solve the 2 sums problem\",\n",
    "    max_rounds=3,\n",
    ")"
   ]
  },
  {
   "cell_type": "markdown",
   "id": "11",
   "metadata": {},
   "source": [
    "### With verbosity as 'medium'"
   ]
  },
  {
   "cell_type": "code",
   "execution_count": null,
   "id": "12",
   "metadata": {},
   "outputs": [],
   "source": [
    "llm_config = LLMConfig(\n",
    "    model=\"gpt-5\",\n",
    "    api_key=os.getenv(\"OPENAI_API_KEY\"),\n",
    "    api_type=\"openai\",\n",
    "    verbosity=\"medium\",\n",
    ")\n",
    "\n",
    "result, context_variables, last_agent = initiate_group_chat(\n",
    "    pattern=pattern,\n",
    "    messages=\"write a python code to solve the 2 sums problem\",\n",
    "    max_rounds=3,\n",
    ")"
   ]
  },
  {
   "cell_type": "markdown",
   "id": "13",
   "metadata": {},
   "source": [
    "With verbosity as 'High'"
   ]
  },
  {
   "cell_type": "code",
   "execution_count": null,
   "id": "14",
   "metadata": {},
   "outputs": [],
   "source": [
    "llm_config = LLMConfig(\n",
    "    model=\"gpt-5\",\n",
    "    api_key=os.getenv(\"OPENAI_API_KEY\"),\n",
    "    api_type=\"openai\",\n",
    "    verbosity=\"high\",\n",
    ")\n",
    "\n",
    "result, context_variables, last_agent = initiate_group_chat(\n",
    "    pattern=pattern,\n",
    "    messages=\"write a python code to solve the 2 sums problem\",\n",
    "    max_rounds=3,\n",
    ")"
   ]
  }
 ],
 "metadata": {
  "front_matter": {
   "description": "GPT5 verbosity example",
   "tags": [
    "gpt5",
    "verbosity"
   ]
  },
  "kernelspec": {
   "display_name": "Python 3",
   "language": "python",
   "name": "python3"
  },
  "language_info": {
   "codemirror_mode": {
    "name": "ipython",
    "version": 3
   },
   "file_extension": ".py",
   "mimetype": "text/x-python",
   "name": "python",
   "nbconvert_exporter": "python",
   "pygments_lexer": "ipython3",
   "version": "3.13.5"
  }
 },
 "nbformat": 4,
 "nbformat_minor": 5
}
