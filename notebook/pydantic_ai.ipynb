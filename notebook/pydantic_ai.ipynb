{
 "cells": [
  {
   "cell_type": "code",
   "execution_count": 1,
   "metadata": {},
   "outputs": [],
   "source": [
    "# ! pip install pydantic-ai"
   ]
  },
  {
   "cell_type": "markdown",
   "metadata": {},
   "source": [
    "## Tools WITHOUT Context "
   ]
  },
  {
   "cell_type": "code",
   "execution_count": 2,
   "metadata": {},
   "outputs": [],
   "source": [
    "import random\n",
    "\n",
    "from pydantic_ai import RunContext, Tool\n",
    "\n",
    "\n",
    "def roll_dice(name: str = \"Rolling dice\") -> str:\n",
    "    \"\"\"Roll a six-sided dice and return the result.\"\"\"\n",
    "    return str(random.randint(1, 6))\n",
    "\n",
    "\n",
    "rool_dice_tool = Tool(roll_dice)"
   ]
  },
  {
   "cell_type": "code",
   "execution_count": 3,
   "metadata": {},
   "outputs": [
    {
     "data": {
      "text/plain": [
       "'5'"
      ]
     },
     "execution_count": 3,
     "metadata": {},
     "output_type": "execute_result"
    }
   ],
   "source": [
    "rool_dice_tool.function()"
   ]
  },
  {
   "cell_type": "code",
   "execution_count": 4,
   "metadata": {},
   "outputs": [
    {
     "name": "stdout",
     "output_type": "stream",
     "text": [
      "roll_dice\n",
      "Roll a six-sided dice and return the result.\n"
     ]
    }
   ],
   "source": [
    "print(rool_dice_tool.name)\n",
    "print(rool_dice_tool.description)"
   ]
  },
  {
   "cell_type": "code",
   "execution_count": 5,
   "metadata": {},
   "outputs": [
    {
     "data": {
      "text/plain": [
       "{'properties': {'name': {'title': 'Name', 'type': 'string'}},\n",
       " 'required': ['name'],\n",
       " 'type': 'object',\n",
       " 'additionalProperties': False}"
      ]
     },
     "execution_count": 5,
     "metadata": {},
     "output_type": "execute_result"
    }
   ],
   "source": [
    "rool_dice_tool._parameters_json_schema"
   ]
  },
  {
   "cell_type": "code",
   "execution_count": 6,
   "metadata": {},
   "outputs": [
    {
     "name": "stdout",
     "output_type": "stream",
     "text": [
      "foobar\n",
      "Get me foobar.\n"
     ]
    }
   ],
   "source": [
    "from typing import Optional\n",
    "\n",
    "\n",
    "def foobar(a: int, b: str, c: Optional[dict[str, list[float]]] = None) -> str:\n",
    "    \"\"\"Get me foobar.\n",
    "\n",
    "    Args:\n",
    "        a: apple pie\n",
    "        b: banana cake\n",
    "        c: carrot smoothie\n",
    "    \"\"\"\n",
    "    return f\"{a} {b} {c}\"\n",
    "\n",
    "\n",
    "foobar_tool = Tool(foobar)\n",
    "\n",
    "print(foobar_tool.name)\n",
    "print(foobar_tool.description)"
   ]
  },
  {
   "cell_type": "code",
   "execution_count": 7,
   "metadata": {},
   "outputs": [
    {
     "data": {
      "text/plain": [
       "{'properties': {'a': {'description': 'apple pie',\n",
       "   'title': 'A',\n",
       "   'type': 'integer'},\n",
       "  'b': {'description': 'banana cake', 'title': 'B', 'type': 'string'},\n",
       "  'c': {'anyOf': [{'additionalProperties': {'items': {'type': 'number'},\n",
       "      'type': 'array'},\n",
       "     'type': 'object'},\n",
       "    {'type': 'null'}],\n",
       "   'description': 'carrot smoothie',\n",
       "   'title': 'C'}},\n",
       " 'required': ['a', 'b', 'c'],\n",
       " 'type': 'object',\n",
       " 'additionalProperties': False}"
      ]
     },
     "execution_count": 7,
     "metadata": {},
     "output_type": "execute_result"
    }
   ],
   "source": [
    "foobar_tool._parameters_json_schema"
   ]
  },
  {
   "cell_type": "markdown",
   "metadata": {},
   "source": [
    "## Tools WITH Context (simple string)"
   ]
  },
  {
   "cell_type": "code",
   "execution_count": 8,
   "metadata": {},
   "outputs": [],
   "source": [
    "def get_player_name(ctx: RunContext[str]) -> str:\n",
    "    \"\"\"Get the player's name.\"\"\"\n",
    "    return ctx.deps\n",
    "\n",
    "\n",
    "get_player_name_tool = Tool(get_player_name, takes_ctx=True)"
   ]
  },
  {
   "cell_type": "code",
   "execution_count": 9,
   "metadata": {},
   "outputs": [],
   "source": [
    "# ! pip install nest_asyncio"
   ]
  },
  {
   "cell_type": "code",
   "execution_count": 10,
   "metadata": {},
   "outputs": [],
   "source": [
    "import nest_asyncio\n",
    "\n",
    "nest_asyncio.apply()"
   ]
  },
  {
   "cell_type": "code",
   "execution_count": 11,
   "metadata": {},
   "outputs": [],
   "source": [
    "from pydantic_ai import Agent\n",
    "\n",
    "agent_a = Agent(\n",
    "    \"openai:gpt-4o\",\n",
    "    deps_type=str,\n",
    "    tools=[get_player_name_tool],\n",
    ")"
   ]
  },
  {
   "cell_type": "code",
   "execution_count": 12,
   "metadata": {},
   "outputs": [
    {
     "data": {
      "text/plain": [
       "RunResult(_all_messages=[ModelRequest(parts=[UserPromptPart(content='Get players name', timestamp=datetime.datetime(2024, 12, 17, 15, 1, 58, 163148, tzinfo=datetime.timezone.utc), part_kind='user-prompt')], kind='request'), ModelResponse(parts=[ToolCallPart(tool_name='get_player_name', args=ArgsJson(args_json='{}'), tool_call_id='call_410yrIwckDRCr9wSF0GXy8eL', part_kind='tool-call')], timestamp=datetime.datetime(2024, 12, 17, 15, 1, 58, tzinfo=datetime.timezone.utc), kind='response'), ModelRequest(parts=[ToolReturnPart(tool_name='get_player_name', content='Anne', tool_call_id='call_410yrIwckDRCr9wSF0GXy8eL', timestamp=datetime.datetime(2024, 12, 17, 15, 1, 59, 95607, tzinfo=datetime.timezone.utc), part_kind='tool-return')], kind='request'), ModelResponse(parts=[TextPart(content=\"The player's name is Anne.\", part_kind='text')], timestamp=datetime.datetime(2024, 12, 17, 15, 1, 59, tzinfo=datetime.timezone.utc), kind='response')], _new_message_index=0, data=\"The player's name is Anne.\", _cost=Cost(request_tokens=101, response_tokens=18, total_tokens=119, details={'accepted_prediction_tokens': 0, 'audio_tokens': 0, 'reasoning_tokens': 0, 'rejected_prediction_tokens': 0, 'cached_tokens': 0}))"
      ]
     },
     "execution_count": 12,
     "metadata": {},
     "output_type": "execute_result"
    }
   ],
   "source": [
    "result = agent_a.run_sync(\"Get players name\", deps=\"Anne\")\n",
    "result"
   ]
  },
  {
   "cell_type": "code",
   "execution_count": 13,
   "metadata": {},
   "outputs": [
    {
     "data": {
      "text/plain": [
       "[ModelRequest(parts=[UserPromptPart(content='Get players name', timestamp=datetime.datetime(2024, 12, 17, 15, 1, 58, 163148, tzinfo=datetime.timezone.utc), part_kind='user-prompt')], kind='request'),\n",
       " ModelResponse(parts=[ToolCallPart(tool_name='get_player_name', args=ArgsJson(args_json='{}'), tool_call_id='call_410yrIwckDRCr9wSF0GXy8eL', part_kind='tool-call')], timestamp=datetime.datetime(2024, 12, 17, 15, 1, 58, tzinfo=datetime.timezone.utc), kind='response'),\n",
       " ModelRequest(parts=[ToolReturnPart(tool_name='get_player_name', content='Anne', tool_call_id='call_410yrIwckDRCr9wSF0GXy8eL', timestamp=datetime.datetime(2024, 12, 17, 15, 1, 59, 95607, tzinfo=datetime.timezone.utc), part_kind='tool-return')], kind='request'),\n",
       " ModelResponse(parts=[TextPart(content=\"The player's name is Anne.\", part_kind='text')], timestamp=datetime.datetime(2024, 12, 17, 15, 1, 59, tzinfo=datetime.timezone.utc), kind='response')]"
      ]
     },
     "execution_count": 13,
     "metadata": {},
     "output_type": "execute_result"
    }
   ],
   "source": [
    "result.all_messages()"
   ]
  },
  {
   "cell_type": "markdown",
   "metadata": {},
   "source": [
    "## Tools WITH Context (pydantic)"
   ]
  },
  {
   "cell_type": "code",
   "execution_count": 14,
   "metadata": {},
   "outputs": [],
   "source": [
    "from pydantic import BaseModel\n",
    "\n",
    "\n",
    "class Player(BaseModel):\n",
    "    name: str\n",
    "    age: int\n",
    "\n",
    "\n",
    "def get_player(ctx: RunContext[Player], additional_info: Optional[str] = None) -> str:\n",
    "    \"\"\"Get the player's name.\n",
    "\n",
    "    Args:\n",
    "        additional_info: Additional information which can be used.\n",
    "    \"\"\"\n",
    "    return f\"Name: {ctx.deps.name}, Age: {ctx.deps.age}, Additional info: {additional_info}\"\n",
    "\n",
    "\n",
    "get_player_tool = Tool(get_player, takes_ctx=True)"
   ]
  },
  {
   "cell_type": "code",
   "execution_count": null,
   "metadata": {},
   "outputs": [],
   "source": []
  },
  {
   "cell_type": "code",
   "execution_count": 15,
   "metadata": {},
   "outputs": [
    {
     "name": "stdout",
     "output_type": "stream",
     "text": [
      "get_player\n",
      "Get the player's name.\n",
      "{'properties': {'additional_info': {'anyOf': [{'type': 'string'}, {'type': 'null'}], 'description': 'Additional information which can be used.', 'title': 'Additional Info'}}, 'required': ['additional_info'], 'type': 'object', 'additionalProperties': False}\n"
     ]
    }
   ],
   "source": [
    "print(get_player_tool.name)\n",
    "print(get_player_tool.description)\n",
    "print(get_player_tool._parameters_json_schema)"
   ]
  },
  {
   "cell_type": "code",
   "execution_count": 16,
   "metadata": {},
   "outputs": [
    {
     "data": {
      "text/plain": [
       "[ModelRequest(parts=[UserPromptPart(content='Get player', timestamp=datetime.datetime(2024, 12, 17, 15, 1, 59, 708795, tzinfo=datetime.timezone.utc), part_kind='user-prompt')], kind='request'),\n",
       " ModelResponse(parts=[TextPart(content=\"Could you please provide any additional information or context regarding the player you're interested in? This will help me deliver the most relevant details for you.\", part_kind='text')], timestamp=datetime.datetime(2024, 12, 17, 15, 2, tzinfo=datetime.timezone.utc), kind='response')]"
      ]
     },
     "execution_count": 16,
     "metadata": {},
     "output_type": "execute_result"
    }
   ],
   "source": [
    "agent_b = Agent(\n",
    "    \"openai:gpt-4o\",\n",
    "    deps_type=Player,\n",
    "    tools=[get_player_tool],\n",
    ")\n",
    "\n",
    "player = Player(name=\"Luka\", age=25)\n",
    "result_b = agent_b.run_sync(\"Get player\", deps=player)\n",
    "result_b.all_messages()"
   ]
  },
  {
   "cell_type": "markdown",
   "metadata": {},
   "source": [
    "## Dependency injection"
   ]
  },
  {
   "cell_type": "code",
   "execution_count": 17,
   "metadata": {},
   "outputs": [],
   "source": [
    "# Initial Source: https://github.com/airtai/fastagency/blob/main/fastagency/api/dependency_injection.py\n",
    "\n",
    "from functools import wraps\n",
    "from inspect import signature\n",
    "from typing import Any, Callable\n",
    "\n",
    "\n",
    "def inject_params(f: Callable[..., Any], ctx: Any) -> Callable[..., Any]:\n",
    "\n",
    "    @wraps(f)\n",
    "    def wrapper(*args: Any, **kwargs: Any) -> Any:\n",
    "        kwargs.pop(\"ctx\", None)\n",
    "        return f(**kwargs, ctx=ctx)\n",
    "\n",
    "    sig = signature(f)\n",
    "    new_params = [param for name, param in sig.parameters.items() if name != \"ctx\"]\n",
    "\n",
    "    wrapper.__signature__ = sig.replace(parameters=new_params)  # type: ignore[attr-defined]\n",
    "\n",
    "    return wrapper"
   ]
  },
  {
   "cell_type": "code",
   "execution_count": 18,
   "metadata": {},
   "outputs": [],
   "source": [
    "ctx = RunContext(\n",
    "    deps=Player(name=\"Luka\", age=25),\n",
    "    retry=get_player_tool.max_retries,  # Not sure\n",
    "    messages=[],  # Not sure\n",
    "    tool_name=get_player_tool.name,\n",
    ")\n",
    "f_injected = inject_params(f=get_player_tool.function, ctx=ctx)"
   ]
  },
  {
   "cell_type": "code",
   "execution_count": 19,
   "metadata": {},
   "outputs": [
    {
     "data": {
      "text/plain": [
       "<Signature (additional_info: Optional[str] = None) -> str>"
      ]
     },
     "execution_count": 19,
     "metadata": {},
     "output_type": "execute_result"
    }
   ],
   "source": [
    "f_injected.__signature__"
   ]
  },
  {
   "cell_type": "code",
   "execution_count": 20,
   "metadata": {},
   "outputs": [
    {
     "data": {
      "text/plain": [
       "'Name: Luka, Age: 25, Additional info: Hello'"
      ]
     },
     "execution_count": 20,
     "metadata": {},
     "output_type": "execute_result"
    }
   ],
   "source": [
    "f_injected(additional_info=\"Hello\")"
   ]
  },
  {
   "cell_type": "markdown",
   "metadata": {},
   "source": [
    "## AG2 Integration"
   ]
  },
  {
   "cell_type": "code",
   "execution_count": 21,
   "metadata": {},
   "outputs": [],
   "source": [
    "import os\n",
    "\n",
    "from autogen import AssistantAgent, UserProxyAgent"
   ]
  },
  {
   "cell_type": "code",
   "execution_count": 22,
   "metadata": {},
   "outputs": [],
   "source": [
    "config_list = [{\"model\": \"gpt-4o\", \"api_key\": os.environ[\"OPENAI_API_KEY\"]}]\n",
    "user_proxy = UserProxyAgent(\n",
    "    name=\"User\",\n",
    "    human_input_mode=\"NEVER\",\n",
    ")\n",
    "\n",
    "chatbot = AssistantAgent(\n",
    "    name=\"chatbot\",\n",
    "    llm_config={\"config_list\": config_list},\n",
    ")"
   ]
  },
  {
   "cell_type": "code",
   "execution_count": 23,
   "metadata": {},
   "outputs": [],
   "source": [
    "tool = get_player_tool\n",
    "\n",
    "f_injected_ctx = inject_params(f=tool.function, ctx=ctx)"
   ]
  },
  {
   "cell_type": "code",
   "execution_count": 24,
   "metadata": {},
   "outputs": [
    {
     "data": {
      "text/plain": [
       "<function __main__.get_player(additional_info: Optional[str] = None) -> str>"
      ]
     },
     "execution_count": 24,
     "metadata": {},
     "output_type": "execute_result"
    }
   ],
   "source": [
    "user_proxy.register_for_execution(name=tool.name)(f_injected_ctx)\n",
    "chatbot.register_for_llm(description=tool.description, name=tool.name)(f_injected_ctx)"
   ]
  },
  {
   "cell_type": "code",
   "execution_count": 25,
   "metadata": {},
   "outputs": [
    {
     "data": {
      "text/plain": [
       "[{'type': 'function',\n",
       "  'function': {'description': \"Get the player's name.\",\n",
       "   'name': 'get_player',\n",
       "   'parameters': {'type': 'object',\n",
       "    'properties': {'additional_info': {'anyOf': [{'type': 'string'},\n",
       "       {'type': 'null'}],\n",
       "      'default': None,\n",
       "      'description': 'additional_info'}},\n",
       "    'required': []}}}]"
      ]
     },
     "execution_count": 25,
     "metadata": {},
     "output_type": "execute_result"
    }
   ],
   "source": [
    "chatbot.llm_config[\"tools\"]"
   ]
  },
  {
   "cell_type": "code",
   "execution_count": 26,
   "metadata": {},
   "outputs": [
    {
     "name": "stdout",
     "output_type": "stream",
     "text": [
      "\u001b[33mUser\u001b[0m (to chatbot):\n",
      "\n",
      "Get player, for additional information use 'goal keeper'\n",
      "\n",
      "--------------------------------------------------------------------------------\n",
      "\u001b[33mchatbot\u001b[0m (to User):\n",
      "\n",
      "\u001b[32m***** Suggested tool call (call_S1wA3FAaTLFAt5aLv19xwOXJ): get_player *****\u001b[0m\n",
      "Arguments: \n",
      "{\"additional_info\":\"goal keeper\"}\n",
      "\u001b[32m***************************************************************************\u001b[0m\n",
      "\n",
      "--------------------------------------------------------------------------------\n",
      "\u001b[35m\n",
      ">>>>>>>> EXECUTING FUNCTION get_player...\u001b[0m\n",
      "\u001b[33mUser\u001b[0m (to chatbot):\n",
      "\n",
      "\u001b[32m***** Response from calling tool (call_S1wA3FAaTLFAt5aLv19xwOXJ) *****\u001b[0m\n",
      "Name: Luka, Age: 25, Additional info: goal keeper\n",
      "\u001b[32m**********************************************************************\u001b[0m\n",
      "\n",
      "--------------------------------------------------------------------------------\n",
      "\u001b[33mchatbot\u001b[0m (to User):\n",
      "\n",
      "The player's name is Luka, aged 25, and is a goal keeper. TERMINATE\n",
      "\n",
      "--------------------------------------------------------------------------------\n",
      "\u001b[33mUser\u001b[0m (to chatbot):\n",
      "\n",
      "\n",
      "\n",
      "--------------------------------------------------------------------------------\n",
      "\u001b[33mchatbot\u001b[0m (to User):\n",
      "\n",
      "It seems like there was no follow-up request. If there's anything else you need, feel free to ask! TERMINATE\n",
      "\n",
      "--------------------------------------------------------------------------------\n"
     ]
    },
    {
     "data": {
      "text/plain": [
       "ChatResult(chat_id=None, chat_history=[{'content': \"Get player, for additional information use 'goal keeper'\", 'role': 'assistant', 'name': 'User'}, {'tool_calls': [{'id': 'call_S1wA3FAaTLFAt5aLv19xwOXJ', 'function': {'arguments': '{\"additional_info\":\"goal keeper\"}', 'name': 'get_player'}, 'type': 'function'}], 'content': None, 'role': 'assistant'}, {'content': 'Name: Luka, Age: 25, Additional info: goal keeper', 'tool_responses': [{'tool_call_id': 'call_S1wA3FAaTLFAt5aLv19xwOXJ', 'role': 'tool', 'content': 'Name: Luka, Age: 25, Additional info: goal keeper'}], 'role': 'tool', 'name': 'User'}, {'content': \"The player's name is Luka, aged 25, and is a goal keeper. TERMINATE\", 'role': 'user', 'name': 'chatbot'}, {'content': '', 'role': 'assistant', 'name': 'User'}, {'content': \"It seems like there was no follow-up request. If there's anything else you need, feel free to ask! TERMINATE\", 'role': 'user', 'name': 'chatbot'}], summary=\"It seems like there was no follow-up request. If there's anything else you need, feel free to ask! \", cost={'usage_including_cached_inference': {'total_cost': 0.0047675, 'gpt-4o-2024-08-06': {'cost': 0.0047675, 'prompt_tokens': 1667, 'completion_tokens': 60, 'total_tokens': 1727}}, 'usage_excluding_cached_inference': {'total_cost': 0}}, human_input=[])"
      ]
     },
     "execution_count": 26,
     "metadata": {},
     "output_type": "execute_result"
    }
   ],
   "source": [
    "user_proxy.initiate_chat(\n",
    "    recipient=chatbot, message=\"Get player, for additional information use 'goal keeper'\", max_turns=3\n",
    ")"
   ]
  },
  {
   "cell_type": "code",
   "execution_count": null,
   "metadata": {},
   "outputs": [],
   "source": []
  }
 ],
 "metadata": {
  "kernelspec": {
   "display_name": ".venv",
   "language": "python",
   "name": "python3"
  },
  "language_info": {
   "codemirror_mode": {
    "name": "ipython",
    "version": 3
   },
   "file_extension": ".py",
   "mimetype": "text/x-python",
   "name": "python",
   "nbconvert_exporter": "python",
   "pygments_lexer": "ipython3",
   "version": "3.10.16"
  }
 },
 "nbformat": 4,
 "nbformat_minor": 2
}
