{
 "cells": [
  {
   "cell_type": "code",
   "execution_count": 1,
   "metadata": {},
   "outputs": [],
   "source": [
    "# ! pip install pydantic-ai"
   ]
  },
  {
   "cell_type": "markdown",
   "metadata": {},
   "source": [
    "## Tools WITHOUT Context "
   ]
  },
  {
   "cell_type": "code",
   "execution_count": 2,
   "metadata": {},
   "outputs": [],
   "source": [
    "import random\n",
    "\n",
    "from pydantic_ai import RunContext, Tool\n",
    "\n",
    "\n",
    "def roll_dice(name: str = \"Rolling dice\") -> str:\n",
    "    \"\"\"Roll a six-sided dice and return the result.\"\"\"\n",
    "    return str(random.randint(1, 6))\n",
    "\n",
    "\n",
    "rool_dice_tool = Tool(roll_dice)"
   ]
  },
  {
   "cell_type": "code",
   "execution_count": null,
   "metadata": {},
   "outputs": [],
   "source": [
    "rool_dice_tool.function()"
   ]
  },
  {
   "cell_type": "code",
   "execution_count": null,
   "metadata": {},
   "outputs": [],
   "source": [
    "print(rool_dice_tool.name)\n",
    "print(rool_dice_tool.description)"
   ]
  },
  {
   "cell_type": "code",
   "execution_count": null,
   "metadata": {},
   "outputs": [],
   "source": [
    "rool_dice_tool._parameters_json_schema"
   ]
  },
  {
   "cell_type": "code",
   "execution_count": null,
   "metadata": {},
   "outputs": [],
   "source": [
    "from typing import Optional\n",
    "\n",
    "\n",
    "def foobar(a: int, b: str, c: Optional[dict[str, list[float]]] = None) -> str:\n",
    "    \"\"\"Get me foobar.\n",
    "\n",
    "    Args:\n",
    "        a: apple pie\n",
    "        b: banana cake\n",
    "        c: carrot smoothie\n",
    "    \"\"\"\n",
    "    return f\"{a} {b} {c}\"\n",
    "\n",
    "\n",
    "foobar_tool = Tool(foobar)\n",
    "\n",
    "print(foobar_tool.name)\n",
    "print(foobar_tool.description)"
   ]
  },
  {
   "cell_type": "code",
   "execution_count": null,
   "metadata": {},
   "outputs": [],
   "source": [
    "foobar_tool._parameters_json_schema"
   ]
  },
  {
   "cell_type": "markdown",
   "metadata": {},
   "source": [
    "## Tools WITH Context (simple string)"
   ]
  },
  {
   "cell_type": "code",
   "execution_count": 8,
   "metadata": {},
   "outputs": [],
   "source": [
    "def get_player_name(ctx: RunContext[str]) -> str:\n",
    "    \"\"\"Get the player's name.\"\"\"\n",
    "    return ctx.deps\n",
    "\n",
    "\n",
    "get_player_name_tool = Tool(get_player_name, takes_ctx=True)"
   ]
  },
  {
   "cell_type": "code",
   "execution_count": 9,
   "metadata": {},
   "outputs": [],
   "source": [
    "# ! pip install nest_asyncio"
   ]
  },
  {
   "cell_type": "code",
   "execution_count": 10,
   "metadata": {},
   "outputs": [],
   "source": [
    "import nest_asyncio\n",
    "\n",
    "nest_asyncio.apply()"
   ]
  },
  {
   "cell_type": "code",
   "execution_count": 11,
   "metadata": {},
   "outputs": [],
   "source": [
    "from pydantic_ai import Agent\n",
    "\n",
    "agent_a = Agent(\n",
    "    \"openai:gpt-4o\",\n",
    "    deps_type=str,\n",
    "    tools=[get_player_name_tool],\n",
    ")"
   ]
  },
  {
   "cell_type": "code",
   "execution_count": null,
   "metadata": {},
   "outputs": [],
   "source": [
    "result = agent_a.run_sync(\"Get players name\", deps=\"Anne\")\n",
    "result"
   ]
  },
  {
   "cell_type": "code",
   "execution_count": null,
   "metadata": {},
   "outputs": [],
   "source": [
    "result.all_messages()"
   ]
  },
  {
   "cell_type": "markdown",
   "metadata": {},
   "source": [
    "## Tools WITH Context (pydantic)"
   ]
  },
  {
   "cell_type": "code",
   "execution_count": 14,
   "metadata": {},
   "outputs": [],
   "source": [
    "from pydantic import BaseModel\n",
    "\n",
    "\n",
    "class Player(BaseModel):\n",
    "    name: str\n",
    "    age: int\n",
    "\n",
    "\n",
    "def get_player(ctx: RunContext[Player], additional_info: Optional[str] = None) -> str:\n",
    "    \"\"\"Get the player's name.\n",
    "\n",
    "    Args:\n",
    "        additional_info: Additional information which can be used.\n",
    "    \"\"\"\n",
    "    return f\"Name: {ctx.deps.name}, Age: {ctx.deps.age}, Additional info: {additional_info}\"\n",
    "\n",
    "\n",
    "get_player_tool = Tool(get_player, takes_ctx=True)"
   ]
  },
  {
   "cell_type": "code",
   "execution_count": null,
   "metadata": {},
   "outputs": [],
   "source": []
  },
  {
   "cell_type": "code",
   "execution_count": null,
   "metadata": {},
   "outputs": [],
   "source": [
    "print(get_player_tool.name)\n",
    "print(get_player_tool.description)\n",
    "print(get_player_tool._parameters_json_schema)"
   ]
  },
  {
   "cell_type": "code",
   "execution_count": null,
   "metadata": {},
   "outputs": [],
   "source": [
    "agent_b = Agent(\n",
    "    \"openai:gpt-4o\",\n",
    "    deps_type=Player,\n",
    "    tools=[get_player_tool],\n",
    ")\n",
    "\n",
    "player = Player(name=\"Luka\", age=25)\n",
    "result_b = agent_b.run_sync(\"Get player\", deps=player)\n",
    "result_b.all_messages()"
   ]
  },
  {
   "cell_type": "markdown",
   "metadata": {},
   "source": [
    "## Dependency injection"
   ]
  },
  {
   "cell_type": "code",
   "execution_count": 17,
   "metadata": {},
   "outputs": [],
   "source": [
    "# Initial Source: https://github.com/airtai/fastagency/blob/main/fastagency/api/dependency_injection.py\n",
    "\n",
    "from functools import wraps\n",
    "from inspect import signature\n",
    "from typing import Any, Callable\n",
    "\n",
    "\n",
    "def inject_params(f: Callable[..., Any], ctx: Any) -> Callable[..., Any]:\n",
    "\n",
    "    @wraps(f)\n",
    "    def wrapper(*args: Any, **kwargs: Any) -> Any:\n",
    "        kwargs.pop(\"ctx\", None)\n",
    "        return f(**kwargs, ctx=ctx)\n",
    "\n",
    "    sig = signature(f)\n",
    "    new_params = [param for name, param in sig.parameters.items() if name != \"ctx\"]\n",
    "\n",
    "    wrapper.__signature__ = sig.replace(parameters=new_params)  # type: ignore[attr-defined]\n",
    "\n",
    "    return wrapper"
   ]
  },
  {
   "cell_type": "code",
   "execution_count": 18,
   "metadata": {},
   "outputs": [],
   "source": [
    "ctx = RunContext(\n",
    "    deps=Player(name=\"Luka\", age=25),\n",
    "    retry=get_player_tool.max_retries,  # Not sure\n",
    "    messages=[],  # Not sure\n",
    "    tool_name=get_player_tool.name,\n",
    ")\n",
    "f_injected = inject_params(f=get_player_tool.function, ctx=ctx)"
   ]
  },
  {
   "cell_type": "code",
   "execution_count": null,
   "metadata": {},
   "outputs": [],
   "source": [
    "f_injected.__signature__"
   ]
  },
  {
   "cell_type": "code",
   "execution_count": null,
   "metadata": {},
   "outputs": [],
   "source": [
    "f_injected(additional_info=\"Hello\")"
   ]
  },
  {
   "cell_type": "markdown",
   "metadata": {},
   "source": [
    "## AG2 Integration"
   ]
  },
  {
   "cell_type": "code",
   "execution_count": 21,
   "metadata": {},
   "outputs": [],
   "source": [
    "import os\n",
    "\n",
    "from autogen import AssistantAgent, UserProxyAgent"
   ]
  },
  {
   "cell_type": "code",
   "execution_count": 22,
   "metadata": {},
   "outputs": [],
   "source": [
    "config_list = [{\"model\": \"gpt-4o\", \"api_key\": os.environ[\"OPENAI_API_KEY\"]}]\n",
    "user_proxy = UserProxyAgent(\n",
    "    name=\"User\",\n",
    "    human_input_mode=\"NEVER\",\n",
    ")\n",
    "\n",
    "chatbot = AssistantAgent(\n",
    "    name=\"chatbot\",\n",
    "    llm_config={\"config_list\": config_list},\n",
    ")"
   ]
  },
  {
   "cell_type": "code",
   "execution_count": 28,
   "metadata": {},
   "outputs": [],
   "source": [
    "from typing import Dict\n",
    "\n",
    "\n",
    "def create_function_schema(name: str, description: str, parameters: Dict[str, Any]) -> Dict[str, Any]:\n",
    "    # parameters are:\n",
    "    #     {'properties': {'additional_info': {'anyOf': [{'type': 'string'},\n",
    "    #     {'type': 'null'}],\n",
    "    #    'description': 'Additional information which can be used.',\n",
    "    #    'title': 'Additional Info'}},\n",
    "    #  'required': ['additional_info'],\n",
    "    #  'type': 'object',\n",
    "    #  'additionalProperties': False}\n",
    "\n",
    "    # response should be:\n",
    "    # {'type': 'function', 'function': {'description': \"Get the player's name.\", 'name': 'get_player', 'parameters': {'type': 'object', 'properties': {'additional_info': {'anyOf': [{'type': 'string'}, {'type': 'null'}], 'default': None, 'description': 'additional_info'}}, 'required': []}}\n",
    "    return {\n",
    "        \"type\": \"function\",\n",
    "        \"function\": {\n",
    "            \"name\": name,\n",
    "            \"description\": description,\n",
    "            \"parameters\": parameters,\n",
    "        },\n",
    "    }"
   ]
  },
  {
   "cell_type": "code",
   "execution_count": null,
   "metadata": {},
   "outputs": [],
   "source": [
    "get_player_tool._parameters_json_schema"
   ]
  },
  {
   "cell_type": "code",
   "execution_count": null,
   "metadata": {},
   "outputs": [],
   "source": [
    "function_schema = create_function_schema(\n",
    "    name=get_player_tool.name,\n",
    "    description=get_player_tool.description,\n",
    "    parameters=get_player_tool._parameters_json_schema,\n",
    ")\n",
    "function_schema"
   ]
  },
  {
   "cell_type": "code",
   "execution_count": 33,
   "metadata": {},
   "outputs": [],
   "source": [
    "tool = get_player_tool\n",
    "\n",
    "f_injected_ctx = inject_params(f=tool.function, ctx=ctx)"
   ]
  },
  {
   "cell_type": "code",
   "execution_count": null,
   "metadata": {},
   "outputs": [],
   "source": [
    "user_proxy.register_for_execution(name=tool.name)(f_injected_ctx)\n",
    "# chatbot.register_for_llm(description=tool.description, name=tool.name)(f_injected_ctx)\n",
    "chatbot.update_tool_signature(function_schema, is_remove=False)"
   ]
  },
  {
   "cell_type": "code",
   "execution_count": null,
   "metadata": {},
   "outputs": [],
   "source": [
    "chatbot.llm_config[\"tools\"]"
   ]
  },
  {
   "cell_type": "code",
   "execution_count": null,
   "metadata": {},
   "outputs": [],
   "source": [
    "user_proxy.initiate_chat(\n",
    "    recipient=chatbot, message=\"Get player, for additional information use 'goal keeper'\", max_turns=3\n",
    ")"
   ]
  },
  {
   "cell_type": "code",
   "execution_count": null,
   "metadata": {},
   "outputs": [],
   "source": []
  }
 ],
 "metadata": {
  "kernelspec": {
   "display_name": ".venv",
   "language": "python",
   "name": "python3"
  },
  "language_info": {
   "codemirror_mode": {
    "name": "ipython",
    "version": 3
   },
   "file_extension": ".py",
   "mimetype": "text/x-python",
   "name": "python",
   "nbconvert_exporter": "python",
   "pygments_lexer": "ipython3",
   "version": "3.10.16"
  }
 },
 "nbformat": 4,
 "nbformat_minor": 2
}
