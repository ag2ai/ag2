{
 "cells": [
  {
   "cell_type": "markdown",
   "metadata": {},
   "source": [
    "# Google Drive Tools"
   ]
  },
  {
   "cell_type": "code",
   "execution_count": null,
   "metadata": {},
   "outputs": [],
   "source": [
    "from autogen import AssistantAgent, LLMConfig\n",
    "from autogen.tools import tool\n",
    "from autogen.tools.experimental.google import GoogleCredentialsLocalProvider, GoogleDriveToolMap"
   ]
  },
  {
   "cell_type": "code",
   "execution_count": null,
   "metadata": {},
   "outputs": [],
   "source": [
    "client_secret_file = \"../client_secret_ag2.json\"\n",
    "\n",
    "# This is the token file that will be created after the first run\n",
    "# of the script. It will be used to authenticate the user in the future.\n",
    "token_file = \"../my_token.json\"\n",
    "\n",
    "provider = GoogleCredentialsLocalProvider(\n",
    "    client_secret_file=client_secret_file,\n",
    "    scopes=GoogleDriveToolMap.recommended_scopes(),\n",
    "    token_file=token_file,\n",
    ")\n",
    "\n",
    "credentials = provider.get_credentials()"
   ]
  },
  {
   "cell_type": "code",
   "execution_count": null,
   "metadata": {},
   "outputs": [],
   "source": [
    "llm_config = LLMConfig.from_json(\n",
    "    path=\"OAI_CONFIG_LIST\",\n",
    ").where(model=\"gpt-4o-mini\")\n",
    "\n",
    "assistant = AssistantAgent(name=\"assistant\", llm_config=llm_config)"
   ]
  },
  {
   "cell_type": "code",
   "execution_count": null,
   "metadata": {},
   "outputs": [],
   "source": [
    "tool_map = GoogleDriveToolMap(\n",
    "    credentials=credentials,\n",
    "    download_folder=\"ag2_drive_downloads\",\n",
    ")\n",
    "\n",
    "tool_map.register_for_llm(assistant)"
   ]
  },
  {
   "cell_type": "code",
   "execution_count": null,
   "metadata": {},
   "outputs": [],
   "source": [
    "assistant.run(\n",
    "    message=\"\"\"Get me the last 5 files and download all google-apps.document meme types.\n",
    "Ignore subfolders for now.\n",
    "Once done, write 'TERMINATE'.\"\"\",\n",
    "    max_turns=5,\n",
    "    tools=tool_map.tools,\n",
    "    user_input=False,\n",
    ")"
   ]
  },
  {
   "cell_type": "code",
   "execution_count": null,
   "metadata": {},
   "outputs": [],
   "source": []
  },
  {
   "cell_type": "markdown",
   "metadata": {},
   "source": [
    "## Create Custom GoogleDriveToolMap"
   ]
  },
  {
   "cell_type": "code",
   "execution_count": null,
   "metadata": {},
   "outputs": [],
   "source": [
    "class MyGoogleDriveToolMap(GoogleDriveToolMap):\n",
    "    def __init__(\n",
    "        self,\n",
    "        *,\n",
    "        credentials,\n",
    "        download_folder,\n",
    "    ):\n",
    "        super().__init__(credentials=credentials, download_folder=download_folder)\n",
    "\n",
    "        @tool(description=\"Create summary of completed downloads\")\n",
    "        def create_summary(summary: str):\n",
    "            # Your implementation here\n",
    "            return \"Summary created\"\n",
    "\n",
    "        self.set_tool(create_summary)"
   ]
  },
  {
   "cell_type": "code",
   "execution_count": null,
   "metadata": {},
   "outputs": [],
   "source": [
    "assistant = AssistantAgent(name=\"assistant\", llm_config=llm_config)\n",
    "\n",
    "tool_map = MyGoogleDriveToolMap(\n",
    "    credentials=credentials,\n",
    "    download_folder=\"ag2_drive_downloads\",\n",
    ")\n",
    "\n",
    "tool_map.register_for_llm(assistant)\n",
    "\n",
    "assistant.run(\n",
    "    message=\"\"\"Get me the last 5 files and download all google-apps.document meme types.\n",
    "Ignore subfolders for now.\n",
    "Once done, create a summary of the downloads.\"\"\",\n",
    "    max_turns=5,\n",
    "    tools=tool_map.tools,\n",
    "    user_input=False,\n",
    ")"
   ]
  },
  {
   "cell_type": "code",
   "execution_count": null,
   "metadata": {},
   "outputs": [],
   "source": []
  }
 ],
 "metadata": {
  "kernelspec": {
   "display_name": ".venv",
   "language": "python",
   "name": "python3"
  },
  "language_info": {
   "codemirror_mode": {
    "name": "ipython",
    "version": 3
   },
   "file_extension": ".py",
   "mimetype": "text/x-python",
   "name": "python",
   "nbconvert_exporter": "python",
   "pygments_lexer": "ipython3",
   "version": "3.11.8"
  }
 },
 "nbformat": 4,
 "nbformat_minor": 2
}
