{
 "cells": [
  {
   "cell_type": "markdown",
   "metadata": {},
   "source": [
    "# Google Drive Tools\n",
    "\n",
    "The Google Drive integration in AG2 empowers users to seamlessly access and manage their files within the AG2 framework. With this integration, users can easily list, download, and interact with files stored in their Google Drive, providing a smooth and efficient way to handle documents, images, and other data in real time.\n",
    "\n",
    "## Installation\n",
    "\n",
    "Before using Google APIs, you need to enable them in your Google Cloud project. You can enable multiple APIs within a single project.\n",
    "\n",
    "1. Follow the [Setup environment](https://developers.google.com/workspace/drive/api/quickstart/python#set-up-environment) guide from Google Workspace to get started.\n",
    "2. Once you've completed the setup, you should have the `credentials.json` file downloaded to your local machine.\n",
    "3. Install AG2 with the `google-api` extra. Since our examples also use `openai`, install it as well:\n",
    "   \n",
    "    ```bash\n",
    "    pip install -U ag2[openai,google-api]\n",
    "    ```\n",
    "    > **Note:** If you have been using `autogen` or `pyautogen`, all you need to do is upgrade it using:  \n",
    "    > ```bash\n",
    "    > pip install -U autogen[openai,google-api]\n",
    "    > ```\n",
    "    > or  \n",
    "    > ```bash\n",
    "    > pip install -U pyautogen[openai,google-api]\n",
    "    > ```\n",
    "    > as `pyautogen`, `autogen`, and `ag2` are aliases for the same PyPI package.\n",
    "\n",
    "You're all set! Now you can start using Google Drive with AG2.\n",
    "\n",
    "## Imports"
   ]
  },
  {
   "cell_type": "code",
   "execution_count": null,
   "metadata": {},
   "outputs": [],
   "source": [
    "from autogen import AssistantAgent, LLMConfig\n",
    "from autogen.tools import tool\n",
    "from autogen.tools.experimental.google import GoogleCredentialsLocalProvider, GoogleDriveToolMap"
   ]
  },
  {
   "cell_type": "markdown",
   "metadata": {},
   "source": [
    "## Google Authentication\n",
    "\n",
    "This following code is part of the authentication process for integrating with `Google Drive` within the AG2 framework.\n",
    "- `client_secret_file`: The path to the client secret file, which you can download from the Google Cloud Console. This file contains the necessary credentials to authenticate the user with Google services.\n",
    "- `token_file`: The path to a file that will store the access token. After the first run of the script, this token will be saved and used for subsequent authentications, avoiding the need for repeated login processes.\n",
    "- `provider` (`GoogleCredentialsLocalProvider`): The provider is responsible for managing the authentication process.\n",
    "- `credentials`: This variable stores the credentials object, which will be used by the system to authenticate the user and gain access to their Google Drive resources."
   ]
  },
  {
   "cell_type": "code",
   "execution_count": null,
   "metadata": {},
   "outputs": [],
   "source": [
    "client_secret_file = \"../credentials.json\"\n",
    "token_file = \"../my_token.json\"\n",
    "\n",
    "provider = GoogleCredentialsLocalProvider(\n",
    "    client_secret_file=client_secret_file,\n",
    "    scopes=GoogleDriveToolMap.recommended_scopes(),\n",
    "    token_file=token_file,\n",
    ")\n",
    "\n",
    "credentials = provider.get_credentials()"
   ]
  },
  {
   "cell_type": "markdown",
   "metadata": {},
   "source": [
    "## Agent Configuration"
   ]
  },
  {
   "cell_type": "code",
   "execution_count": null,
   "metadata": {},
   "outputs": [],
   "source": [
    "llm_config = LLMConfig.from_json(\n",
    "    path=\"OAI_CONFIG_LIST\",\n",
    ").where(model=\"gpt-4o-mini\")\n",
    "\n",
    "assistant = AssistantAgent(name=\"assistant\", llm_config=llm_config)"
   ]
  },
  {
   "cell_type": "markdown",
   "metadata": {},
   "source": [
    "## Register Google Drive Tools\n",
    "\n",
    "The `GoogleDriveToolMap` class provides a set of predefined tools for seamless interaction with Google Drive. These tools include:\n",
    "- `list_drive_files_and_folders`: Allows the user to list all files and folders in their Google Drive.\n",
    "- `download_file_from_drive`: Enables downloading files directly from Google Drive to a specified local folder.\n",
    "\n",
    "Once the tool map is registered with the agent using `register_for_llm`, the agent becomes capable of suggesting these tool calls."
   ]
  },
  {
   "cell_type": "code",
   "execution_count": null,
   "metadata": {},
   "outputs": [],
   "source": [
    "google_drive_tool_map = GoogleDriveToolMap(\n",
    "    credentials=credentials,\n",
    "    download_folder=\"ag2_drive_downloads\",\n",
    ")\n",
    "\n",
    "google_drive_tool_map.register_for_llm(assistant)"
   ]
  },
  {
   "cell_type": "markdown",
   "metadata": {},
   "source": [
    "## Start the Conversation\n",
    "\n",
    "With the setup complete, you can now use the assistant to list and download files from your Google Drive."
   ]
  },
  {
   "cell_type": "code",
   "execution_count": null,
   "metadata": {},
   "outputs": [],
   "source": [
    "assistant.run(\n",
    "    message=\"\"\"Get me the last 5 files and download all google-apps.document meme types.\n",
    "Ignore subfolders for now.\n",
    "Once done, write 'TERMINATE'.\"\"\",\n",
    "    max_turns=5,\n",
    "    tools=google_drive_tool_map.tools,\n",
    "    user_input=False,\n",
    ")"
   ]
  },
  {
   "cell_type": "markdown",
   "metadata": {},
   "source": [
    "## Custom GoogleDriveToolMap\n",
    "You can easily customize the predefined `GoogleDriveToolMap` based on your specific requirements. By subclassing GoogleDriveToolMap, you can modify the toolset available to your agent.\n",
    "\n",
    "For example:\n",
    "- **Add custom tools**: You can add new tools, like a `create_summary` tool to generate some specific summary.\n",
    "- **Remove existing tools**: You can remove unwanted tools, such as the `download_file_from_drive` tool, to better suit your use case."
   ]
  },
  {
   "cell_type": "code",
   "execution_count": null,
   "metadata": {},
   "outputs": [],
   "source": [
    "class MyGoogleDriveToolMap(GoogleDriveToolMap):\n",
    "    def __init__(\n",
    "        self,\n",
    "        *,\n",
    "        credentials,\n",
    "        download_folder,\n",
    "    ):\n",
    "        super().__init__(credentials=credentials, download_folder=download_folder)\n",
    "\n",
    "        @tool(description=\"Create summary of completed downloads\")\n",
    "        def create_summary(summary: str):\n",
    "            # Your implementation here\n",
    "            return \"Summary created\"\n",
    "\n",
    "        self.set_tool(create_summary)\n",
    "        self.remove_tool(\"download_file_from_drive\")"
   ]
  },
  {
   "cell_type": "code",
   "execution_count": null,
   "metadata": {},
   "outputs": [],
   "source": [
    "assistant = AssistantAgent(name=\"assistant\", llm_config=llm_config)\n",
    "\n",
    "google_drive_tool_map = MyGoogleDriveToolMap(\n",
    "    credentials=credentials,\n",
    "    download_folder=\"ag2_drive_downloads\",\n",
    ")\n",
    "\n",
    "google_drive_tool_map.register_for_llm(assistant)\n",
    "\n",
    "assistant.run(\n",
    "    message=\"List the latest 10 files and write a short summary based on the file names and meme types.\",\n",
    "    max_turns=4,\n",
    "    tools=google_drive_tool_map.tools,\n",
    "    user_input=False,\n",
    ")"
   ]
  },
  {
   "cell_type": "code",
   "execution_count": null,
   "metadata": {},
   "outputs": [],
   "source": []
  }
 ],
 "metadata": {
  "kernelspec": {
   "display_name": ".venv",
   "language": "python",
   "name": "python3"
  },
  "language_info": {
   "codemirror_mode": {
    "name": "ipython",
    "version": 3
   },
   "file_extension": ".py",
   "mimetype": "text/x-python",
   "name": "python",
   "nbconvert_exporter": "python",
   "pygments_lexer": "ipython3",
   "version": "3.11.8"
  }
 },
 "nbformat": 4,
 "nbformat_minor": 2
}
