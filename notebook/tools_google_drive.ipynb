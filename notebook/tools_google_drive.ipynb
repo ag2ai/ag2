{
 "cells": [
  {
   "cell_type": "markdown",
   "metadata": {},
   "source": [
    "# Google Drive Tools"
   ]
  },
  {
   "cell_type": "code",
   "execution_count": null,
   "metadata": {},
   "outputs": [],
   "source": [
    "import os\n",
    "\n",
    "from autogen import AssistantAgent\n",
    "from autogen.tools.experimental.google.authentication.credentials_local_provider import (\n",
    "    GoogleCredentialsLocalProvider,\n",
    ")\n",
    "from autogen.tools.experimental.google.drive import GoogleDriveToolMap"
   ]
  },
  {
   "cell_type": "code",
   "execution_count": null,
   "metadata": {},
   "outputs": [],
   "source": [
    "client_secret_file = \"../client_secret_ag2.json\"\n",
    "\n",
    "# This is the token file that will be created after the first run\n",
    "# of the script. It will be used to authenticate the user in the future.\n",
    "token_file = \"../my_token.json\"\n",
    "\n",
    "provider = GoogleCredentialsLocalProvider(\n",
    "    client_secret_file=client_secret_file,\n",
    "    scopes=GoogleDriveToolMap.recommended_scopes(),\n",
    "    token_file=token_file,\n",
    ")\n",
    "\n",
    "credentials = provider.get_credentials()"
   ]
  },
  {
   "cell_type": "code",
   "execution_count": null,
   "metadata": {},
   "outputs": [],
   "source": [
    "config_list = [{\"api_type\": \"openai\", \"model\": \"gpt-4o-mini\", \"api_key\": os.environ[\"OPENAI_API_KEY\"]}]\n",
    "\n",
    "llm_config = {\n",
    "    \"config_list\": config_list,\n",
    "}\n",
    "\n",
    "assistant = AssistantAgent(name=\"assistant\", llm_config=llm_config)"
   ]
  },
  {
   "cell_type": "code",
   "execution_count": null,
   "metadata": {},
   "outputs": [],
   "source": [
    "tool_map = GoogleDriveToolMap(\n",
    "    credentials=credentials,\n",
    "    download_folder=\"ag2_drive_downloads\",\n",
    ")\n",
    "\n",
    "tool_map.register_for_llm(assistant)\n",
    "\n",
    "assistant.llm_config[\"tools\"]"
   ]
  },
  {
   "cell_type": "code",
   "execution_count": null,
   "metadata": {},
   "outputs": [],
   "source": [
    "assistant.run(\n",
    "    message=\"\"\"Get me the last 5 files and download all google-apps.document meme types.\n",
    "Ignore subfolders for now.\n",
    "Once done, write 'TERMINATE'.\"\"\",\n",
    "    max_turns=5,\n",
    "    tools=tool_map.tools,\n",
    "    user_input=False,\n",
    ")"
   ]
  },
  {
   "cell_type": "code",
   "execution_count": null,
   "metadata": {},
   "outputs": [],
   "source": []
  }
 ],
 "metadata": {
  "kernelspec": {
   "display_name": ".venv",
   "language": "python",
   "name": "python3"
  },
  "language_info": {
   "codemirror_mode": {
    "name": "ipython",
    "version": 3
   },
   "file_extension": ".py",
   "mimetype": "text/x-python",
   "name": "python",
   "nbconvert_exporter": "python",
   "pygments_lexer": "ipython3",
   "version": "3.11.8"
  }
 },
 "nbformat": 4,
 "nbformat_minor": 2
}
