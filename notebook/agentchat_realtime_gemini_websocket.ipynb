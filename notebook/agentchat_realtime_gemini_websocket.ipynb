{
 "cells": [
  {
   "cell_type": "markdown",
   "metadata": {},
   "source": [
    "# RealtimeAgent with gemini client\n",
    "\n",
    "\n",
    "AG2 supports **RealtimeAgent**, gemini is now supported also.\n",
    "\n",
    "**Note**: This notebook cannot be run in Google Colab because it depends on local JavaScript files and HTML templates. To execute the notebook successfully, run it locally within the cloned project so that the `notebooks/agentchat_realtime_websocket/static` and `notebooks/agentchat_realtime_websocket/templates` folders are available in the correct relative paths.\n",
    "\n",
    "````{=mdx}\n",
    ":::info Requirements\n",
    "Install `ag2`:\n",
    "```bash\n",
    "git clone https://github.com/ag2ai/ag2.git\n",
    "cd ag2\n",
    "```\n",
    ":::\n",
    "````\n"
   ]
  },
  {
   "cell_type": "markdown",
   "metadata": {},
   "source": [
    "\n",
    "## Install AG2 and dependencies\n",
    "\n",
    "To use the realtime agent we will connect it to a local websocket trough the browser.\n",
    "\n",
    "We have prepared a `WebSocketAudioAdapter` to enable you to connect your realtime agent to a websocket service.\n",
    "\n",
    "To be able to run this notebook, you will need to install ag2, fastapi and uvicorn.\n",
    "````{=mdx}\n",
    ":::info Requirements\n",
    "Install `ag2` with additional dependencies to run a fastAPI server:\n",
    "```bash\n",
    "pip install \"ag2\", \"fastapi>=0.115.0,<1\", \"uvicorn>=0.30.6,<1\" \"jinja2\"\n",
    "```\n",
    "For more information, please refer to the [installation guide](/docs/installation/Installation).\n",
    ":::\n",
    "````"
   ]
  },
  {
   "cell_type": "code",
   "execution_count": 1,
   "metadata": {},
   "outputs": [
    {
     "name": "stdout",
     "output_type": "stream",
     "text": [
      "Requirement already satisfied: fastapi<1,>=0.115.0 in /Users/tvrtko/Documents/projects/AG2/ag2/.venv/lib/python3.10/site-packages (0.115.6)\n",
      "Requirement already satisfied: uvicorn<1,>=0.30.6 in /Users/tvrtko/Documents/projects/AG2/ag2/.venv/lib/python3.10/site-packages (0.30.6)\n",
      "Requirement already satisfied: jinja2 in /Users/tvrtko/Documents/projects/AG2/ag2/.venv/lib/python3.10/site-packages (3.1.4)\n",
      "Requirement already satisfied: starlette<0.42.0,>=0.40.0 in /Users/tvrtko/Documents/projects/AG2/ag2/.venv/lib/python3.10/site-packages (from fastapi<1,>=0.115.0) (0.41.3)\n",
      "Requirement already satisfied: pydantic!=1.8,!=1.8.1,!=2.0.0,!=2.0.1,!=2.1.0,<3.0.0,>=1.7.4 in /Users/tvrtko/Documents/projects/AG2/ag2/.venv/lib/python3.10/site-packages (from fastapi<1,>=0.115.0) (2.10.3)\n",
      "Requirement already satisfied: typing-extensions>=4.8.0 in /Users/tvrtko/Documents/projects/AG2/ag2/.venv/lib/python3.10/site-packages (from fastapi<1,>=0.115.0) (4.12.2)\n",
      "Requirement already satisfied: click>=7.0 in /Users/tvrtko/Documents/projects/AG2/ag2/.venv/lib/python3.10/site-packages (from uvicorn<1,>=0.30.6) (8.1.7)\n",
      "Requirement already satisfied: h11>=0.8 in /Users/tvrtko/Documents/projects/AG2/ag2/.venv/lib/python3.10/site-packages (from uvicorn<1,>=0.30.6) (0.14.0)\n",
      "Requirement already satisfied: MarkupSafe>=2.0 in /Users/tvrtko/Documents/projects/AG2/ag2/.venv/lib/python3.10/site-packages (from jinja2) (3.0.2)\n",
      "Requirement already satisfied: annotated-types>=0.6.0 in /Users/tvrtko/Documents/projects/AG2/ag2/.venv/lib/python3.10/site-packages (from pydantic!=1.8,!=1.8.1,!=2.0.0,!=2.0.1,!=2.1.0,<3.0.0,>=1.7.4->fastapi<1,>=0.115.0) (0.7.0)\n",
      "Requirement already satisfied: pydantic-core==2.27.1 in /Users/tvrtko/Documents/projects/AG2/ag2/.venv/lib/python3.10/site-packages (from pydantic!=1.8,!=1.8.1,!=2.0.0,!=2.0.1,!=2.1.0,<3.0.0,>=1.7.4->fastapi<1,>=0.115.0) (2.27.1)\n",
      "Requirement already satisfied: anyio<5,>=3.4.0 in /Users/tvrtko/Documents/projects/AG2/ag2/.venv/lib/python3.10/site-packages (from starlette<0.42.0,>=0.40.0->fastapi<1,>=0.115.0) (4.7.0)\n",
      "Requirement already satisfied: exceptiongroup>=1.0.2 in /Users/tvrtko/Documents/projects/AG2/ag2/.venv/lib/python3.10/site-packages (from anyio<5,>=3.4.0->starlette<0.42.0,>=0.40.0->fastapi<1,>=0.115.0) (1.2.2)\n",
      "Requirement already satisfied: idna>=2.8 in /Users/tvrtko/Documents/projects/AG2/ag2/.venv/lib/python3.10/site-packages (from anyio<5,>=3.4.0->starlette<0.42.0,>=0.40.0->fastapi<1,>=0.115.0) (3.10)\n",
      "Requirement already satisfied: sniffio>=1.1 in /Users/tvrtko/Documents/projects/AG2/ag2/.venv/lib/python3.10/site-packages (from anyio<5,>=3.4.0->starlette<0.42.0,>=0.40.0->fastapi<1,>=0.115.0) (1.3.1)\n"
     ]
    }
   ],
   "source": [
    "!pip install \"fastapi>=0.115.0,<1\" \"uvicorn>=0.30.6,<1\" \"jinja2\""
   ]
  },
  {
   "cell_type": "markdown",
   "metadata": {},
   "source": [
    "### Import the dependencies\n",
    "\n",
    "After installing the necessary requirements, we can import the necessary dependencies for the example"
   ]
  },
  {
   "cell_type": "code",
   "execution_count": 2,
   "metadata": {},
   "outputs": [
    {
     "name": "stderr",
     "output_type": "stream",
     "text": [
      "/Users/tvrtko/Documents/projects/AG2/ag2/.venv/lib/python3.10/site-packages/tqdm/auto.py:21: TqdmWarning: IProgress not found. Please update jupyter and ipywidgets. See https://ipywidgets.readthedocs.io/en/stable/user_install.html\n",
      "  from .autonotebook import tqdm as notebook_tqdm\n"
     ]
    }
   ],
   "source": [
    "import os\n",
    "from logging import getLogger\n",
    "from pathlib import Path\n",
    "from typing import Annotated\n",
    "\n",
    "from fastapi import FastAPI, Request, WebSocket\n",
    "from fastapi.responses import HTMLResponse, JSONResponse\n",
    "from fastapi.staticfiles import StaticFiles\n",
    "from fastapi.templating import Jinja2Templates\n",
    "\n",
    "import autogen\n",
    "from autogen.agentchat.realtime_agent import RealtimeAgent, WebSocketAudioAdapter"
   ]
  },
  {
   "cell_type": "markdown",
   "metadata": {},
   "source": [
    "## Prepare your `llm_config` and `realtime_llm_config`\n",
    "\n",
    "The [`config_list_from_json`](https://docs.ag2.ai/docs/reference/oai/openai_utils#config-list-from-json) function loads a list of configurations from an environment variable or a json file."
   ]
  },
  {
   "cell_type": "code",
   "execution_count": 3,
   "metadata": {},
   "outputs": [],
   "source": [
    "realtime_config_list = autogen.config_list_from_json(\n",
    "    \"OAI_CONFIG_LIST\",\n",
    "    filter_dict={\n",
    "        \"tags\": [\"gemini-realtime\"],\n",
    "    },\n",
    ")\n",
    "\n",
    "realtime_llm_config = {\n",
    "    \"timeout\": 600,\n",
    "    \"config_list\": realtime_config_list,\n",
    "    \"temperature\": 0.8,\n",
    "}\n",
    "\n",
    "assert realtime_config_list, (\n",
    "    \"No LLM found for the given model, please add the following lines to the OAI_CONFIG_LIST file:\"\n",
    "    \"\"\"\n",
    "    {\n",
    "        \"model\": \"gemini-realtime\",\n",
    "        \"api_key\": \"sk-***********************...*\",\n",
    "        \"tags\": [\"gemini-realtime\", \"realtime\"]\n",
    "    }\"\"\"\n",
    ")"
   ]
  },
  {
   "cell_type": "markdown",
   "metadata": {},
   "source": [
    "### Before you start the server\n",
    "\n",
    "To run uvicorn server inside the notebook, you will need to use nest_asyncio. This is because Jupyter uses the asyncio event loop, and uvicorn uses its own event loop. nest_asyncio will allow uvicorn to run in Jupyter.\n",
    "\n",
    "Please install nest_asyncio by running the following cell."
   ]
  },
  {
   "cell_type": "code",
   "execution_count": 4,
   "metadata": {},
   "outputs": [
    {
     "name": "stdout",
     "output_type": "stream",
     "text": [
      "Requirement already satisfied: nest_asyncio in /Users/tvrtko/Documents/projects/AG2/ag2/.venv/lib/python3.10/site-packages (1.6.0)\n"
     ]
    }
   ],
   "source": [
    "!pip install nest_asyncio"
   ]
  },
  {
   "cell_type": "code",
   "execution_count": 5,
   "metadata": {},
   "outputs": [],
   "source": [
    "import nest_asyncio\n",
    "\n",
    "nest_asyncio.apply()"
   ]
  },
  {
   "cell_type": "markdown",
   "metadata": {},
   "source": [
    "# Implementing and Running a Basic App\n",
    "\n",
    "Let us set up and execute a FastAPI application that integrates real-time agent interactions."
   ]
  },
  {
   "cell_type": "markdown",
   "metadata": {},
   "source": [
    "### Define basic FastAPI app\n",
    "\n",
    "1. **Define Port**: Sets the `PORT` variable to `5050`, which will be used for the server.\n",
    "2. **Initialize FastAPI App**: Creates a `FastAPI` instance named `app`, which serves as the main application.\n",
    "3. **Define Root Endpoint**: Adds a `GET` endpoint at the root URL (`/`). When accessed, it returns a JSON response with the message `\"Websocket Audio Stream Server is running!\"`.\n",
    "\n",
    "This sets up a basic FastAPI server and provides a simple health-check endpoint to confirm that the server is operational."
   ]
  },
  {
   "cell_type": "code",
   "execution_count": 6,
   "metadata": {},
   "outputs": [],
   "source": [
    "PORT = 5050\n",
    "\n",
    "app = FastAPI()\n",
    "\n",
    "\n",
    "@app.get(\"/\", response_class=JSONResponse)\n",
    "async def index_page():\n",
    "    return {\"message\": \"Websocket Audio Stream Server is running!\"}"
   ]
  },
  {
   "cell_type": "markdown",
   "metadata": {},
   "source": [
    "### Prepare `start-chat` endpoint\n",
    "\n",
    "1. **Set the Working Directory**: Define `notebook_path` as the current working directory using `os.getcwd()`.\n",
    "2. **Mount Static Files**: Mount the `static` directory (inside `agentchat_realtime_websocket`) to serve JavaScript, CSS, and other static assets under the `/static` path.\n",
    "3. **Set Up Templates**: Configure Jinja2 to render HTML templates from the `templates` directory within `agentchat_realtime_websocket`.\n",
    "4. **Create the `/start-chat/` Endpoint**: Define a `GET` route that serves the `chat.html` template. Pass the client's `request` and the `port` variable to the template for rendering a dynamic page for the audio chat interface.\n",
    "\n",
    "This code sets up static file handling, template rendering, and a dedicated endpoint to deliver the chat interface.\n"
   ]
  },
  {
   "cell_type": "code",
   "execution_count": 7,
   "metadata": {},
   "outputs": [],
   "source": [
    "notebook_path = os.getcwd()\n",
    "\n",
    "app.mount(\n",
    "    \"/static\", StaticFiles(directory=Path(notebook_path) / \"agentchat_realtime_websocket\" / \"static\"), name=\"static\"\n",
    ")\n",
    "\n",
    "# Templates for HTML responses\n",
    "\n",
    "templates = Jinja2Templates(directory=Path(notebook_path) / \"agentchat_realtime_websocket\" / \"templates\")\n",
    "\n",
    "\n",
    "@app.get(\"/start-chat/\", response_class=HTMLResponse)\n",
    "async def start_chat(request: Request):\n",
    "    \"\"\"Endpoint to return the HTML page for audio chat.\"\"\"\n",
    "    port = PORT  # Extract the client's port\n",
    "    return templates.TemplateResponse(\"chat.html\", {\"request\": request, \"port\": port})"
   ]
  },
  {
   "cell_type": "markdown",
   "metadata": {},
   "source": [
    "### Prepare endpint for converstion audio stream\n",
    "\n",
    "1. **Set Up the WebSocket Endpoint**: Define the `/media-stream` WebSocket route to handle audio streaming.\n",
    "2. **Accept WebSocket Connections**: Accept incoming WebSocket connections from clients.\n",
    "3. **Initialize Logger**: Retrieve a logger instance for logging purposes.\n",
    "4. **Configure Audio Adapter**: Instantiate a `WebSocketAudioAdapter`, connecting the WebSocket to handle audio streaming with logging.\n",
    "5. **Set Up Realtime Agent**: Create a `RealtimeAgent` with the following:\n",
    "   - **Name**: `Weather Bot`.\n",
    "   - **System Message**: Introduces the AI assistant and its capabilities.\n",
    "   - **LLM Configuration**: Uses `realtime_llm_config` for language model settings.\n",
    "   - **Audio Adapter**: Leverages the previously created `audio_adapter`.\n",
    "   - **Logger**: Logs activities for debugging and monitoring.\n",
    "6. **Register a Realtime Function**: Add a function `get_weather` to the agent, allowing it to respond with basic weather information based on the provided `location`.\n",
    "7. **Run the Agent**: Start the `realtime_agent` to handle interactions in real time.\n"
   ]
  },
  {
   "cell_type": "code",
   "execution_count": 8,
   "metadata": {},
   "outputs": [],
   "source": [
    "@app.websocket(\"/media-stream\")\n",
    "async def handle_media_stream(websocket: WebSocket):\n",
    "    \"\"\"Handle WebSocket connections providing audio stream and OpenAI.\"\"\"\n",
    "    await websocket.accept()\n",
    "\n",
    "    logger = getLogger(\"uvicorn.error\")\n",
    "\n",
    "    audio_adapter = WebSocketAudioAdapter(websocket, logger=logger)\n",
    "    realtime_agent = RealtimeAgent(\n",
    "        name=\"Weather Bot\",\n",
    "        system_message=\"Hello there! I am an AI voice assistant powered by Autogen and the OpenAI Realtime API. You can ask me about weather, jokes, or anything you can imagine. Start by saying 'How can I help you'?\",\n",
    "        llm_config=realtime_llm_config,\n",
    "        audio_adapter=audio_adapter,\n",
    "        voice=\"charon\",\n",
    "        logger=logger,\n",
    "    )\n",
    "\n",
    "    # @realtime_agent.register_realtime_function(name=\"get_weather\", description=\"Get the current weather\")\n",
    "    # def get_weather(location: Annotated[str, \"city\"]) -> str:\n",
    "    #     return \"The weather is cloudy.\" if location == \"Seattle\" else \"The weather is sunny.\"\n",
    "\n",
    "    await realtime_agent.run()"
   ]
  },
  {
   "cell_type": "markdown",
   "metadata": {},
   "source": [
    "### Run the app using uvicorn"
   ]
  },
  {
   "cell_type": "markdown",
   "metadata": {},
   "source": [
    "uvicorn.run(app, host=\"0.0.0.0\", port=PORT)"
   ]
  },
  {
   "cell_type": "code",
   "execution_count": 10,
   "metadata": {},
   "outputs": [
    {
     "data": {
      "text/plain": [
       "{'get_weather': {'type': 'function',\n",
       "  'description': 'Get the current weather',\n",
       "  'name': 'get_weather',\n",
       "  'parameters': {'type': 'object',\n",
       "   'properties': {'location': {'type': 'string', 'description': 'city'}},\n",
       "   'required': ['location']}}}"
      ]
     },
     "execution_count": 10,
     "metadata": {},
     "output_type": "execute_result"
    }
   ],
   "source": [
    "from unittest.mock import MagicMock\n",
    "\n",
    "audio_adapter = WebSocketAudioAdapter(MagicMock(), logger=MagicMock())\n",
    "realtime_agent = RealtimeAgent(\n",
    "    name=\"Weather Bot\",\n",
    "    system_message=\"Hello there! I am an AI voice assistant powered by Autogen and the OpenAI Realtime API. You can ask me about weather, jokes, or anything you can imagine. Start by saying 'How can I help you'?\",\n",
    "    llm_config=realtime_llm_config,\n",
    "    audio_adapter=audio_adapter,\n",
    "    voice=\"charon\",\n",
    ")\n",
    "\n",
    "\n",
    "@realtime_agent.register_realtime_function(name=\"get_weather\", description=\"Get the current weather\")\n",
    "def get_weather(location: Annotated[str, \"city\"]) -> str:\n",
    "    return \"The weather is cloudy.\" if location == \"Seattle\" else \"The weather is sunny.\"\n",
    "\n",
    "\n",
    "{name: tool.realtime_tool_schema for name, tool in realtime_agent._registred_realtime_tools.items()}"
   ]
  },
  {
   "cell_type": "code",
   "execution_count": 17,
   "metadata": {},
   "outputs": [
    {
     "ename": "KeyError",
     "evalue": "'function'",
     "output_type": "error",
     "traceback": [
      "\u001b[0;31m---------------------------------------------------------------------------\u001b[0m",
      "\u001b[0;31mKeyError\u001b[0m                                  Traceback (most recent call last)",
      "Cell \u001b[0;32mIn[17], line 4\u001b[0m\n\u001b[1;32m      1\u001b[0m \u001b[38;5;28;01mfrom\u001b[39;00m \u001b[38;5;21;01mautogen\u001b[39;00m\u001b[38;5;21;01m.\u001b[39;00m\u001b[38;5;21;01moai\u001b[39;00m\u001b[38;5;21;01m.\u001b[39;00m\u001b[38;5;21;01mgemini\u001b[39;00m \u001b[38;5;28;01mimport\u001b[39;00m GeminiClient\n\u001b[0;32m----> 4\u001b[0m {\n\u001b[1;32m      5\u001b[0m     name: GeminiClient\u001b[38;5;241m.\u001b[39m_create_gemini_function_declaration(tool\u001b[38;5;241m.\u001b[39mrealtime_tool_schema) \n\u001b[1;32m      6\u001b[0m     \u001b[38;5;28;01mfor\u001b[39;00m name, tool \n\u001b[1;32m      7\u001b[0m     \u001b[38;5;129;01min\u001b[39;00m realtime_agent\u001b[38;5;241m.\u001b[39m_registred_realtime_tools\u001b[38;5;241m.\u001b[39mitems()\n\u001b[1;32m      8\u001b[0m }\n",
      "Cell \u001b[0;32mIn[17], line 5\u001b[0m, in \u001b[0;36m<dictcomp>\u001b[0;34m(.0)\u001b[0m\n\u001b[1;32m      1\u001b[0m \u001b[38;5;28;01mfrom\u001b[39;00m \u001b[38;5;21;01mautogen\u001b[39;00m\u001b[38;5;21;01m.\u001b[39;00m\u001b[38;5;21;01moai\u001b[39;00m\u001b[38;5;21;01m.\u001b[39;00m\u001b[38;5;21;01mgemini\u001b[39;00m \u001b[38;5;28;01mimport\u001b[39;00m GeminiClient\n\u001b[1;32m      4\u001b[0m {\n\u001b[0;32m----> 5\u001b[0m     name: \u001b[43mGeminiClient\u001b[49m\u001b[38;5;241;43m.\u001b[39;49m\u001b[43m_create_gemini_function_declaration\u001b[49m\u001b[43m(\u001b[49m\u001b[43mtool\u001b[49m\u001b[38;5;241;43m.\u001b[39;49m\u001b[43mrealtime_tool_schema\u001b[49m\u001b[43m)\u001b[49m \n\u001b[1;32m      6\u001b[0m     \u001b[38;5;28;01mfor\u001b[39;00m name, tool \n\u001b[1;32m      7\u001b[0m     \u001b[38;5;129;01min\u001b[39;00m realtime_agent\u001b[38;5;241m.\u001b[39m_registred_realtime_tools\u001b[38;5;241m.\u001b[39mitems()\n\u001b[1;32m      8\u001b[0m }\n",
      "File \u001b[0;32m~/Documents/projects/AG2/ag2/autogen/oai/gemini.py:536\u001b[0m, in \u001b[0;36mGeminiClient._create_gemini_function_declaration\u001b[0;34m(tool)\u001b[0m\n\u001b[1;32m    533\u001b[0m \u001b[38;5;129m@staticmethod\u001b[39m\n\u001b[1;32m    534\u001b[0m \u001b[38;5;28;01mdef\u001b[39;00m \u001b[38;5;21m_create_gemini_function_declaration\u001b[39m(tool: \u001b[38;5;28mdict\u001b[39m) \u001b[38;5;241m-\u001b[39m\u001b[38;5;241m>\u001b[39m FunctionDeclaration:\n\u001b[1;32m    535\u001b[0m     function_declaration \u001b[38;5;241m=\u001b[39m FunctionDeclaration()\n\u001b[0;32m--> 536\u001b[0m     function_declaration\u001b[38;5;241m.\u001b[39mname \u001b[38;5;241m=\u001b[39m \u001b[43mtool\u001b[49m\u001b[43m[\u001b[49m\u001b[38;5;124;43m\"\u001b[39;49m\u001b[38;5;124;43mfunction\u001b[39;49m\u001b[38;5;124;43m\"\u001b[39;49m\u001b[43m]\u001b[49m[\u001b[38;5;124m\"\u001b[39m\u001b[38;5;124mname\u001b[39m\u001b[38;5;124m\"\u001b[39m]\n\u001b[1;32m    537\u001b[0m     function_declaration\u001b[38;5;241m.\u001b[39mdescription \u001b[38;5;241m=\u001b[39m tool[\u001b[38;5;124m\"\u001b[39m\u001b[38;5;124mfunction\u001b[39m\u001b[38;5;124m\"\u001b[39m][\u001b[38;5;124m\"\u001b[39m\u001b[38;5;124mdescription\u001b[39m\u001b[38;5;124m\"\u001b[39m]\n\u001b[1;32m    538\u001b[0m     \u001b[38;5;28;01mif\u001b[39;00m \u001b[38;5;28mlen\u001b[39m(tool[\u001b[38;5;124m\"\u001b[39m\u001b[38;5;124mfunction\u001b[39m\u001b[38;5;124m\"\u001b[39m][\u001b[38;5;124m\"\u001b[39m\u001b[38;5;124mparameters\u001b[39m\u001b[38;5;124m\"\u001b[39m][\u001b[38;5;124m\"\u001b[39m\u001b[38;5;124mproperties\u001b[39m\u001b[38;5;124m\"\u001b[39m]) \u001b[38;5;241m!=\u001b[39m \u001b[38;5;241m0\u001b[39m:\n",
      "\u001b[0;31mKeyError\u001b[0m: 'function'"
     ]
    }
   ],
   "source": [
    "from autogen.oai.gemini import GeminiClient\n",
    "\n",
    "{\n",
    "    name: GeminiClient._create_gemini_function_declaration(tool.realtime_tool_schema)\n",
    "    for name, tool in realtime_agent._registred_realtime_tools.items()\n",
    "}"
   ]
  },
  {
   "cell_type": "code",
   "execution_count": 15,
   "metadata": {},
   "outputs": [
    {
     "ename": "TypeError",
     "evalue": "GeminiClient._tools_to_gemini_tools() missing 1 required positional argument: 'self'",
     "output_type": "error",
     "traceback": [
      "\u001b[0;31m---------------------------------------------------------------------------\u001b[0m",
      "\u001b[0;31mTypeError\u001b[0m                                 Traceback (most recent call last)",
      "Cell \u001b[0;32mIn[15], line 1\u001b[0m\n\u001b[0;32m----> 1\u001b[0m \u001b[43mGeminiClient\u001b[49m\u001b[38;5;241;43m.\u001b[39;49m\u001b[43m_tools_to_gemini_tools\u001b[49m\u001b[43m(\u001b[49m\u001b[43mtools\u001b[49m\u001b[38;5;241;43m=\u001b[39;49m\u001b[43mrealtime_agent\u001b[49m\u001b[38;5;241;43m.\u001b[39;49m\u001b[43m_registred_realtime_tools\u001b[49m\u001b[43m)\u001b[49m\n",
      "\u001b[0;31mTypeError\u001b[0m: GeminiClient._tools_to_gemini_tools() missing 1 required positional argument: 'self'"
     ]
    }
   ],
   "source": [
    "GeminiClient._tools_to_gemini_tools(tools=realtime_agent._registred_realtime_tools)"
   ]
  },
  {
   "cell_type": "code",
   "execution_count": null,
   "metadata": {},
   "outputs": [],
   "source": []
  }
 ],
 "metadata": {
  "front_matter": {
   "description": "RealtimeAgent with gemini client using websockets",
   "tags": [
    "realtime",
    "websockets",
    "gemini"
   ]
  },
  "kernelspec": {
   "display_name": ".venv",
   "language": "python",
   "name": "python3"
  },
  "language_info": {
   "codemirror_mode": {
    "name": "ipython",
    "version": 3
   },
   "file_extension": ".py",
   "mimetype": "text/x-python",
   "name": "python",
   "nbconvert_exporter": "python",
   "pygments_lexer": "ipython3",
   "version": "3.10.16"
  }
 },
 "nbformat": 4,
 "nbformat_minor": 2
}
