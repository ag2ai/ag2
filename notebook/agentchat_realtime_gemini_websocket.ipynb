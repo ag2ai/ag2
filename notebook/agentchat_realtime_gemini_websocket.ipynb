{
 "cells": [
  {
   "cell_type": "markdown",
   "metadata": {},
   "source": [
    "# RealtimeAgent with gemini client\n",
    "\n",
    "\n",
    "AG2 supports **RealtimeAgent**, gemini is now supported also.\n",
    "\n",
    "**Note**: This notebook cannot be run in Google Colab because it depends on local JavaScript files and HTML templates. To execute the notebook successfully, run it locally within the cloned project so that the `notebooks/agentchat_realtime_websocket/static` and `notebooks/agentchat_realtime_websocket/templates` folders are available in the correct relative paths.\n",
    "\n",
    "````{=mdx}\n",
    ":::info Requirements\n",
    "Install `ag2`:\n",
    "```bash\n",
    "git clone https://github.com/ag2ai/ag2.git\n",
    "cd ag2\n",
    "```\n",
    ":::\n",
    "````\n"
   ]
  },
  {
   "cell_type": "markdown",
   "metadata": {},
   "source": [
    "\n",
    "## Install AG2 and dependencies\n",
    "\n",
    "To use the realtime agent we will connect it to a local websocket trough the browser.\n",
    "\n",
    "We have prepared a `WebSocketAudioAdapter` to enable you to connect your realtime agent to a websocket service.\n",
    "\n",
    "To be able to run this notebook, you will need to install ag2, fastapi and uvicorn.\n",
    "````{=mdx}\n",
    ":::info Requirements\n",
    "Install `ag2` with additional dependencies to run a fastAPI server:\n",
    "```bash\n",
    "pip install \"ag2\", \"fastapi>=0.115.0,<1\", \"uvicorn>=0.30.6,<1\" \"jinja2\"\n",
    "```\n",
    "For more information, please refer to the [installation guide](/docs/installation/Installation).\n",
    ":::\n",
    "````"
   ]
  },
  {
   "cell_type": "code",
   "execution_count": 1,
   "metadata": {},
   "outputs": [
    {
     "name": "stdout",
     "output_type": "stream",
     "text": [
      "Requirement already satisfied: fastapi<1,>=0.115.0 in /Users/tvrtko/Documents/projects/AG2/ag2/.venv/lib/python3.10/site-packages (0.115.6)\n",
      "Requirement already satisfied: uvicorn<1,>=0.30.6 in /Users/tvrtko/Documents/projects/AG2/ag2/.venv/lib/python3.10/site-packages (0.30.6)\n",
      "Requirement already satisfied: jinja2 in /Users/tvrtko/Documents/projects/AG2/ag2/.venv/lib/python3.10/site-packages (3.1.4)\n",
      "Requirement already satisfied: starlette<0.42.0,>=0.40.0 in /Users/tvrtko/Documents/projects/AG2/ag2/.venv/lib/python3.10/site-packages (from fastapi<1,>=0.115.0) (0.41.3)\n",
      "Requirement already satisfied: pydantic!=1.8,!=1.8.1,!=2.0.0,!=2.0.1,!=2.1.0,<3.0.0,>=1.7.4 in /Users/tvrtko/Documents/projects/AG2/ag2/.venv/lib/python3.10/site-packages (from fastapi<1,>=0.115.0) (2.10.3)\n",
      "Requirement already satisfied: typing-extensions>=4.8.0 in /Users/tvrtko/Documents/projects/AG2/ag2/.venv/lib/python3.10/site-packages (from fastapi<1,>=0.115.0) (4.12.2)\n",
      "Requirement already satisfied: click>=7.0 in /Users/tvrtko/Documents/projects/AG2/ag2/.venv/lib/python3.10/site-packages (from uvicorn<1,>=0.30.6) (8.1.7)\n",
      "Requirement already satisfied: h11>=0.8 in /Users/tvrtko/Documents/projects/AG2/ag2/.venv/lib/python3.10/site-packages (from uvicorn<1,>=0.30.6) (0.14.0)\n",
      "Requirement already satisfied: MarkupSafe>=2.0 in /Users/tvrtko/Documents/projects/AG2/ag2/.venv/lib/python3.10/site-packages (from jinja2) (3.0.2)\n",
      "Requirement already satisfied: annotated-types>=0.6.0 in /Users/tvrtko/Documents/projects/AG2/ag2/.venv/lib/python3.10/site-packages (from pydantic!=1.8,!=1.8.1,!=2.0.0,!=2.0.1,!=2.1.0,<3.0.0,>=1.7.4->fastapi<1,>=0.115.0) (0.7.0)\n",
      "Requirement already satisfied: pydantic-core==2.27.1 in /Users/tvrtko/Documents/projects/AG2/ag2/.venv/lib/python3.10/site-packages (from pydantic!=1.8,!=1.8.1,!=2.0.0,!=2.0.1,!=2.1.0,<3.0.0,>=1.7.4->fastapi<1,>=0.115.0) (2.27.1)\n",
      "Requirement already satisfied: anyio<5,>=3.4.0 in /Users/tvrtko/Documents/projects/AG2/ag2/.venv/lib/python3.10/site-packages (from starlette<0.42.0,>=0.40.0->fastapi<1,>=0.115.0) (4.7.0)\n",
      "Requirement already satisfied: exceptiongroup>=1.0.2 in /Users/tvrtko/Documents/projects/AG2/ag2/.venv/lib/python3.10/site-packages (from anyio<5,>=3.4.0->starlette<0.42.0,>=0.40.0->fastapi<1,>=0.115.0) (1.2.2)\n",
      "Requirement already satisfied: idna>=2.8 in /Users/tvrtko/Documents/projects/AG2/ag2/.venv/lib/python3.10/site-packages (from anyio<5,>=3.4.0->starlette<0.42.0,>=0.40.0->fastapi<1,>=0.115.0) (3.10)\n",
      "Requirement already satisfied: sniffio>=1.1 in /Users/tvrtko/Documents/projects/AG2/ag2/.venv/lib/python3.10/site-packages (from anyio<5,>=3.4.0->starlette<0.42.0,>=0.40.0->fastapi<1,>=0.115.0) (1.3.1)\n"
     ]
    }
   ],
   "source": [
    "!pip install \"fastapi>=0.115.0,<1\" \"uvicorn>=0.30.6,<1\" \"jinja2\""
   ]
  },
  {
   "cell_type": "markdown",
   "metadata": {},
   "source": [
    "### Import the dependencies\n",
    "\n",
    "After installing the necessary requirements, we can import the necessary dependencies for the example"
   ]
  },
  {
   "cell_type": "code",
   "execution_count": 2,
   "metadata": {},
   "outputs": [
    {
     "name": "stderr",
     "output_type": "stream",
     "text": [
      "/Users/tvrtko/Documents/projects/AG2/ag2/.venv/lib/python3.10/site-packages/tqdm/auto.py:21: TqdmWarning: IProgress not found. Please update jupyter and ipywidgets. See https://ipywidgets.readthedocs.io/en/stable/user_install.html\n",
      "  from .autonotebook import tqdm as notebook_tqdm\n"
     ]
    }
   ],
   "source": [
    "import os\n",
    "from logging import getLogger\n",
    "from pathlib import Path\n",
    "from typing import Annotated\n",
    "\n",
    "import uvicorn\n",
    "from fastapi import FastAPI, Request, WebSocket\n",
    "from fastapi.responses import HTMLResponse, JSONResponse\n",
    "from fastapi.staticfiles import StaticFiles\n",
    "from fastapi.templating import Jinja2Templates\n",
    "\n",
    "import autogen\n",
    "from autogen.agentchat.realtime_agent import RealtimeAgent, WebSocketAudioAdapter"
   ]
  },
  {
   "cell_type": "markdown",
   "metadata": {},
   "source": [
    "## Prepare your `llm_config` and `realtime_llm_config`\n",
    "\n",
    "The [`config_list_from_json`](https://docs.ag2.ai/docs/reference/oai/openai_utils#config-list-from-json) function loads a list of configurations from an environment variable or a json file."
   ]
  },
  {
   "cell_type": "code",
   "execution_count": 3,
   "metadata": {},
   "outputs": [],
   "source": [
    "realtime_config_list = autogen.config_list_from_json(\n",
    "    \"OAI_CONFIG_LIST\",\n",
    "    filter_dict={\n",
    "        \"tags\": [\"gemini-realtime\"],\n",
    "    },\n",
    ")\n",
    "\n",
    "realtime_llm_config = {\n",
    "    \"timeout\": 600,\n",
    "    \"config_list\": realtime_config_list,\n",
    "    \"temperature\": 0.8,\n",
    "}\n",
    "\n",
    "assert realtime_config_list, (\n",
    "    \"No LLM found for the given model, please add the following lines to the OAI_CONFIG_LIST file:\"\n",
    "    \"\"\"\n",
    "    {\n",
    "        \"model\": \"gemini-realtime\",\n",
    "        \"api_key\": \"sk-***********************...*\",\n",
    "        \"tags\": [\"gemini-realtime\", \"realtime\"]\n",
    "    }\"\"\"\n",
    ")"
   ]
  },
  {
   "cell_type": "markdown",
   "metadata": {},
   "source": [
    "### Before you start the server\n",
    "\n",
    "To run uvicorn server inside the notebook, you will need to use nest_asyncio. This is because Jupyter uses the asyncio event loop, and uvicorn uses its own event loop. nest_asyncio will allow uvicorn to run in Jupyter.\n",
    "\n",
    "Please install nest_asyncio by running the following cell."
   ]
  },
  {
   "cell_type": "code",
   "execution_count": 4,
   "metadata": {},
   "outputs": [
    {
     "name": "stdout",
     "output_type": "stream",
     "text": [
      "Requirement already satisfied: nest_asyncio in /Users/tvrtko/Documents/projects/AG2/ag2/.venv/lib/python3.10/site-packages (1.6.0)\n"
     ]
    }
   ],
   "source": [
    "!pip install nest_asyncio"
   ]
  },
  {
   "cell_type": "code",
   "execution_count": 5,
   "metadata": {},
   "outputs": [],
   "source": [
    "import nest_asyncio\n",
    "\n",
    "nest_asyncio.apply()"
   ]
  },
  {
   "cell_type": "markdown",
   "metadata": {},
   "source": [
    "# Implementing and Running a Basic App\n",
    "\n",
    "Let us set up and execute a FastAPI application that integrates real-time agent interactions."
   ]
  },
  {
   "cell_type": "markdown",
   "metadata": {},
   "source": [
    "### Define basic FastAPI app\n",
    "\n",
    "1. **Define Port**: Sets the `PORT` variable to `5050`, which will be used for the server.\n",
    "2. **Initialize FastAPI App**: Creates a `FastAPI` instance named `app`, which serves as the main application.\n",
    "3. **Define Root Endpoint**: Adds a `GET` endpoint at the root URL (`/`). When accessed, it returns a JSON response with the message `\"Websocket Audio Stream Server is running!\"`.\n",
    "\n",
    "This sets up a basic FastAPI server and provides a simple health-check endpoint to confirm that the server is operational."
   ]
  },
  {
   "cell_type": "code",
   "execution_count": 6,
   "metadata": {},
   "outputs": [],
   "source": [
    "PORT = 5050\n",
    "\n",
    "app = FastAPI()\n",
    "\n",
    "\n",
    "@app.get(\"/\", response_class=JSONResponse)\n",
    "async def index_page():\n",
    "    return {\"message\": \"Websocket Audio Stream Server is running!\"}"
   ]
  },
  {
   "cell_type": "markdown",
   "metadata": {},
   "source": [
    "### Prepare `start-chat` endpoint\n",
    "\n",
    "1. **Set the Working Directory**: Define `notebook_path` as the current working directory using `os.getcwd()`.\n",
    "2. **Mount Static Files**: Mount the `static` directory (inside `agentchat_realtime_websocket`) to serve JavaScript, CSS, and other static assets under the `/static` path.\n",
    "3. **Set Up Templates**: Configure Jinja2 to render HTML templates from the `templates` directory within `agentchat_realtime_websocket`.\n",
    "4. **Create the `/start-chat/` Endpoint**: Define a `GET` route that serves the `chat.html` template. Pass the client's `request` and the `port` variable to the template for rendering a dynamic page for the audio chat interface.\n",
    "\n",
    "This code sets up static file handling, template rendering, and a dedicated endpoint to deliver the chat interface.\n"
   ]
  },
  {
   "cell_type": "code",
   "execution_count": 7,
   "metadata": {},
   "outputs": [],
   "source": [
    "notebook_path = os.getcwd()\n",
    "\n",
    "app.mount(\n",
    "    \"/static\", StaticFiles(directory=Path(notebook_path) / \"agentchat_realtime_websocket\" / \"static\"), name=\"static\"\n",
    ")\n",
    "\n",
    "# Templates for HTML responses\n",
    "\n",
    "templates = Jinja2Templates(directory=Path(notebook_path) / \"agentchat_realtime_websocket\" / \"templates\")\n",
    "\n",
    "\n",
    "@app.get(\"/start-chat/\", response_class=HTMLResponse)\n",
    "async def start_chat(request: Request):\n",
    "    \"\"\"Endpoint to return the HTML page for audio chat.\"\"\"\n",
    "    port = PORT  # Extract the client's port\n",
    "    return templates.TemplateResponse(\"chat.html\", {\"request\": request, \"port\": port})"
   ]
  },
  {
   "cell_type": "markdown",
   "metadata": {},
   "source": [
    "### Prepare endpint for converstion audio stream\n",
    "\n",
    "1. **Set Up the WebSocket Endpoint**: Define the `/media-stream` WebSocket route to handle audio streaming.\n",
    "2. **Accept WebSocket Connections**: Accept incoming WebSocket connections from clients.\n",
    "3. **Initialize Logger**: Retrieve a logger instance for logging purposes.\n",
    "4. **Configure Audio Adapter**: Instantiate a `WebSocketAudioAdapter`, connecting the WebSocket to handle audio streaming with logging.\n",
    "5. **Set Up Realtime Agent**: Create a `RealtimeAgent` with the following:\n",
    "   - **Name**: `Weather Bot`.\n",
    "   - **System Message**: Introduces the AI assistant and its capabilities.\n",
    "   - **LLM Configuration**: Uses `realtime_llm_config` for language model settings.\n",
    "   - **Audio Adapter**: Leverages the previously created `audio_adapter`.\n",
    "   - **Logger**: Logs activities for debugging and monitoring.\n",
    "6. **Register a Realtime Function**: Add a function `get_weather` to the agent, allowing it to respond with basic weather information based on the provided `location`.\n",
    "7. **Run the Agent**: Start the `realtime_agent` to handle interactions in real time.\n"
   ]
  },
  {
   "cell_type": "code",
   "execution_count": 8,
   "metadata": {},
   "outputs": [],
   "source": [
    "@app.websocket(\"/media-stream\")\n",
    "async def handle_media_stream(websocket: WebSocket):\n",
    "    \"\"\"Handle WebSocket connections providing audio stream and OpenAI.\"\"\"\n",
    "    await websocket.accept()\n",
    "\n",
    "    logger = getLogger(\"uvicorn.error\")\n",
    "\n",
    "    audio_adapter = WebSocketAudioAdapter(websocket, logger=logger)\n",
    "    realtime_agent = RealtimeAgent(\n",
    "        name=\"Weather Bot\",\n",
    "        system_message=\"Hello there! You are an AI voice assistant powered by AG2 and the Gemini Realtime API. You can ask me about weather, jokes, or anything you can imagine. Start by saying 'How can I help you'?\",\n",
    "        llm_config=realtime_llm_config,\n",
    "        audio_adapter=audio_adapter,\n",
    "        voice=\"charon\",\n",
    "        logger=logger,\n",
    "    )\n",
    "\n",
    "    @realtime_agent.register_realtime_function(name=\"get_weather\", description=\"Get the current weather\")\n",
    "    def get_weather(location: Annotated[str, \"city\"]) -> str:\n",
    "        return \"The weather is cloudy.\" if location == \"Seattle\" else \"The weather is sunny.\"\n",
    "\n",
    "    await realtime_agent.run()"
   ]
  },
  {
   "cell_type": "markdown",
   "metadata": {},
   "source": [
    "### Run the app using uvicorn"
   ]
  },
  {
   "cell_type": "code",
   "execution_count": null,
   "metadata": {},
   "outputs": [
    {
     "name": "stderr",
     "output_type": "stream",
     "text": [
      "INFO:     Started server process [27232]\n",
      "INFO:     Waiting for application startup.\n",
      "INFO:     Application startup complete.\n",
      "INFO:     Uvicorn running on http://0.0.0.0:5050 (Press CTRL+C to quit)\n"
     ]
    },
    {
     "name": "stdout",
     "output_type": "stream",
     "text": [
      "INFO:     127.0.0.1:62170 - \"GET /start-chat/ HTTP/1.1\" 200 OK\n",
      "INFO:     127.0.0.1:62170 - \"GET /static/wavtools.js?v=20250114.0 HTTP/1.1\" 404 Not Found\n"
     ]
    },
    {
     "name": "stderr",
     "output_type": "stream",
     "text": [
      "INFO:     ('127.0.0.1', 62174) - \"WebSocket /media-stream\" [accepted]\n",
      "INFO:     connection open\n",
      "INFO:     Incoming stream has started 02774932-65cd-4b42-834d-6c1f557659d7\n",
      "INFO:     Sending session update: {'setup': {'system_instruction': {'role': 'system', 'parts': [{'text': \"Hello there! You are an AI voice assistant powered by AG2 and the Gemini Realtime API. You can ask me about weather, jokes, or anything you can imagine. Start by saying 'How can I help you'?\"}]}, 'model': 'models/gemini-2.0-flash-exp', 'tools': [{'function_declarations': [{'name': 'get_weather', 'description': 'Get the current weather', 'parameters': {'type': 'object', 'properties': {'location': {'type': 'string', 'description': 'city'}}, 'required': ['location']}}]}], 'generation_config': {'response_modalities': ['AUDIO'], 'speech_config': {'voiceConfig': {'prebuiltVoiceConfig': {'voiceName': 'charon'}}}, 'temperature': 0.8}}}\n",
      "--- Logging error ---\n",
      "Traceback (most recent call last):\n",
      "  File \"/opt/homebrew/Cellar/python@3.10/3.10.16/Frameworks/Python.framework/Versions/3.10/lib/python3.10/logging/__init__.py\", line 1100, in emit\n",
      "    msg = self.format(record)\n",
      "  File \"/opt/homebrew/Cellar/python@3.10/3.10.16/Frameworks/Python.framework/Versions/3.10/lib/python3.10/logging/__init__.py\", line 943, in format\n",
      "    return fmt.format(record)\n",
      "  File \"/opt/homebrew/Cellar/python@3.10/3.10.16/Frameworks/Python.framework/Versions/3.10/lib/python3.10/logging/__init__.py\", line 678, in format\n",
      "    record.message = record.getMessage()\n",
      "  File \"/opt/homebrew/Cellar/python@3.10/3.10.16/Frameworks/Python.framework/Versions/3.10/lib/python3.10/logging/__init__.py\", line 368, in getMessage\n",
      "    msg = msg % self.args\n",
      "TypeError: not all arguments converted during string formatting\n",
      "Call stack:\n",
      "  File \"/opt/homebrew/Cellar/python@3.10/3.10.16/Frameworks/Python.framework/Versions/3.10/lib/python3.10/runpy.py\", line 196, in _run_module_as_main\n",
      "    return _run_code(code, main_globals, None,\n",
      "  File \"/opt/homebrew/Cellar/python@3.10/3.10.16/Frameworks/Python.framework/Versions/3.10/lib/python3.10/runpy.py\", line 86, in _run_code\n",
      "    exec(code, run_globals)\n",
      "  File \"/Users/tvrtko/Documents/projects/AG2/ag2/.venv/lib/python3.10/site-packages/ipykernel_launcher.py\", line 18, in <module>\n",
      "    app.launch_new_instance()\n",
      "  File \"/Users/tvrtko/Documents/projects/AG2/ag2/.venv/lib/python3.10/site-packages/traitlets/config/application.py\", line 1075, in launch_instance\n",
      "    app.start()\n",
      "  File \"/Users/tvrtko/Documents/projects/AG2/ag2/.venv/lib/python3.10/site-packages/ipykernel/kernelapp.py\", line 739, in start\n",
      "    self.io_loop.start()\n",
      "  File \"/Users/tvrtko/Documents/projects/AG2/ag2/.venv/lib/python3.10/site-packages/tornado/platform/asyncio.py\", line 205, in start\n",
      "    self.asyncio_loop.run_forever()\n",
      "  File \"/opt/homebrew/Cellar/python@3.10/3.10.16/Frameworks/Python.framework/Versions/3.10/lib/python3.10/asyncio/base_events.py\", line 603, in run_forever\n",
      "    self._run_once()\n",
      "  File \"/Users/tvrtko/Documents/projects/AG2/ag2/.venv/lib/python3.10/site-packages/nest_asyncio.py\", line 133, in _run_once\n",
      "    handle._run()\n",
      "  File \"/opt/homebrew/Cellar/python@3.10/3.10.16/Frameworks/Python.framework/Versions/3.10/lib/python3.10/asyncio/events.py\", line 80, in _run\n",
      "    self._context.run(self._callback, *self._args)\n",
      "  File \"/Users/tvrtko/Documents/projects/AG2/ag2/.venv/lib/python3.10/site-packages/ipykernel/kernelbase.py\", line 545, in dispatch_queue\n",
      "    await self.process_one()\n",
      "  File \"/Users/tvrtko/Documents/projects/AG2/ag2/.venv/lib/python3.10/site-packages/ipykernel/kernelbase.py\", line 534, in process_one\n",
      "    await dispatch(*args)\n",
      "  File \"/Users/tvrtko/Documents/projects/AG2/ag2/.venv/lib/python3.10/site-packages/ipykernel/kernelbase.py\", line 437, in dispatch_shell\n",
      "    await result\n",
      "  File \"/Users/tvrtko/Documents/projects/AG2/ag2/.venv/lib/python3.10/site-packages/ipykernel/ipkernel.py\", line 362, in execute_request\n",
      "    await super().execute_request(stream, ident, parent)\n",
      "  File \"/Users/tvrtko/Documents/projects/AG2/ag2/.venv/lib/python3.10/site-packages/ipykernel/kernelbase.py\", line 778, in execute_request\n",
      "    reply_content = await reply_content\n",
      "  File \"/Users/tvrtko/Documents/projects/AG2/ag2/.venv/lib/python3.10/site-packages/ipykernel/ipkernel.py\", line 449, in do_execute\n",
      "    res = shell.run_cell(\n",
      "  File \"/Users/tvrtko/Documents/projects/AG2/ag2/.venv/lib/python3.10/site-packages/ipykernel/zmqshell.py\", line 549, in run_cell\n",
      "    return super().run_cell(*args, **kwargs)\n",
      "  File \"/Users/tvrtko/Documents/projects/AG2/ag2/.venv/lib/python3.10/site-packages/IPython/core/interactiveshell.py\", line 3075, in run_cell\n",
      "    result = self._run_cell(\n",
      "  File \"/Users/tvrtko/Documents/projects/AG2/ag2/.venv/lib/python3.10/site-packages/IPython/core/interactiveshell.py\", line 3130, in _run_cell\n",
      "    result = runner(coro)\n",
      "  File \"/Users/tvrtko/Documents/projects/AG2/ag2/.venv/lib/python3.10/site-packages/IPython/core/async_helpers.py\", line 128, in _pseudo_sync_runner\n",
      "    coro.send(None)\n",
      "  File \"/Users/tvrtko/Documents/projects/AG2/ag2/.venv/lib/python3.10/site-packages/IPython/core/interactiveshell.py\", line 3334, in run_cell_async\n",
      "    has_raised = await self.run_ast_nodes(code_ast.body, cell_name,\n",
      "  File \"/Users/tvrtko/Documents/projects/AG2/ag2/.venv/lib/python3.10/site-packages/IPython/core/interactiveshell.py\", line 3517, in run_ast_nodes\n",
      "    if await self.run_code(code, result, async_=asy):\n",
      "  File \"/Users/tvrtko/Documents/projects/AG2/ag2/.venv/lib/python3.10/site-packages/IPython/core/interactiveshell.py\", line 3577, in run_code\n",
      "    exec(code_obj, self.user_global_ns, self.user_ns)\n",
      "  File \"/var/folders/2g/1kszmsjn6778gt_xzqdp_c180000gn/T/ipykernel_27232/2990916811.py\", line 1, in <module>\n",
      "    uvicorn.run(app, host=\"0.0.0.0\", port=PORT)\n",
      "  File \"/Users/tvrtko/Documents/projects/AG2/ag2/.venv/lib/python3.10/site-packages/uvicorn/main.py\", line 577, in run\n",
      "    server.run()\n",
      "  File \"/Users/tvrtko/Documents/projects/AG2/ag2/.venv/lib/python3.10/site-packages/uvicorn/server.py\", line 65, in run\n",
      "    return asyncio.run(self.serve(sockets=sockets))\n",
      "  File \"/Users/tvrtko/Documents/projects/AG2/ag2/.venv/lib/python3.10/site-packages/nest_asyncio.py\", line 30, in run\n",
      "    return loop.run_until_complete(task)\n",
      "  File \"/Users/tvrtko/Documents/projects/AG2/ag2/.venv/lib/python3.10/site-packages/nest_asyncio.py\", line 92, in run_until_complete\n",
      "    self._run_once()\n",
      "  File \"/Users/tvrtko/Documents/projects/AG2/ag2/.venv/lib/python3.10/site-packages/nest_asyncio.py\", line 133, in _run_once\n",
      "    handle._run()\n",
      "  File \"/opt/homebrew/Cellar/python@3.10/3.10.16/Frameworks/Python.framework/Versions/3.10/lib/python3.10/asyncio/events.py\", line 80, in _run\n",
      "    self._context.run(self._callback, *self._args)\n",
      "  File \"/opt/homebrew/Cellar/python@3.10/3.10.16/Frameworks/Python.framework/Versions/3.10/lib/python3.10/asyncio/tasks.py\", line 315, in __wakeup\n",
      "    self.__step()\n",
      "  File \"/opt/homebrew/Cellar/python@3.10/3.10.16/Frameworks/Python.framework/Versions/3.10/lib/python3.10/asyncio/tasks.py\", line 232, in __step\n",
      "    result = coro.send(None)\n",
      "  File \"/Users/tvrtko/Documents/projects/AG2/ag2/.venv/lib/python3.10/site-packages/uvicorn/protocols/websockets/websockets_impl.py\", line 244, in run_asgi\n",
      "    result = await self.app(self.scope, self.asgi_receive, self.asgi_send)  # type: ignore[func-returns-value]\n",
      "  File \"/Users/tvrtko/Documents/projects/AG2/ag2/.venv/lib/python3.10/site-packages/uvicorn/middleware/proxy_headers.py\", line 70, in __call__\n",
      "    return await self.app(scope, receive, send)\n",
      "  File \"/Users/tvrtko/Documents/projects/AG2/ag2/.venv/lib/python3.10/site-packages/fastapi/applications.py\", line 1054, in __call__\n",
      "    await super().__call__(scope, receive, send)\n",
      "  File \"/Users/tvrtko/Documents/projects/AG2/ag2/.venv/lib/python3.10/site-packages/starlette/applications.py\", line 113, in __call__\n",
      "    await self.middleware_stack(scope, receive, send)\n",
      "  File \"/Users/tvrtko/Documents/projects/AG2/ag2/.venv/lib/python3.10/site-packages/starlette/middleware/errors.py\", line 152, in __call__\n",
      "    await self.app(scope, receive, send)\n",
      "  File \"/Users/tvrtko/Documents/projects/AG2/ag2/.venv/lib/python3.10/site-packages/starlette/middleware/exceptions.py\", line 62, in __call__\n",
      "    await wrap_app_handling_exceptions(self.app, conn)(scope, receive, send)\n",
      "  File \"/Users/tvrtko/Documents/projects/AG2/ag2/.venv/lib/python3.10/site-packages/starlette/_exception_handler.py\", line 42, in wrapped_app\n",
      "    await app(scope, receive, sender)\n",
      "  File \"/Users/tvrtko/Documents/projects/AG2/ag2/.venv/lib/python3.10/site-packages/starlette/routing.py\", line 715, in __call__\n",
      "    await self.middleware_stack(scope, receive, send)\n",
      "  File \"/Users/tvrtko/Documents/projects/AG2/ag2/.venv/lib/python3.10/site-packages/starlette/routing.py\", line 735, in app\n",
      "    await route.handle(scope, receive, send)\n",
      "  File \"/Users/tvrtko/Documents/projects/AG2/ag2/.venv/lib/python3.10/site-packages/starlette/routing.py\", line 362, in handle\n",
      "    await self.app(scope, receive, send)\n",
      "  File \"/Users/tvrtko/Documents/projects/AG2/ag2/.venv/lib/python3.10/site-packages/starlette/routing.py\", line 95, in app\n",
      "    await wrap_app_handling_exceptions(app, session)(scope, receive, send)\n",
      "  File \"/Users/tvrtko/Documents/projects/AG2/ag2/.venv/lib/python3.10/site-packages/starlette/_exception_handler.py\", line 42, in wrapped_app\n",
      "    await app(scope, receive, sender)\n",
      "  File \"/Users/tvrtko/Documents/projects/AG2/ag2/.venv/lib/python3.10/site-packages/starlette/routing.py\", line 93, in app\n",
      "    await func(session)\n",
      "  File \"/Users/tvrtko/Documents/projects/AG2/ag2/.venv/lib/python3.10/site-packages/fastapi/routing.py\", line 383, in app\n",
      "    await dependant.call(**solved_result.values)\n",
      "  File \"/var/folders/2g/1kszmsjn6778gt_xzqdp_c180000gn/T/ipykernel_27232/492014770.py\", line 22, in handle_media_stream\n",
      "    await realtime_agent.run()\n",
      "  File \"/Users/tvrtko/Documents/projects/AG2/ag2/autogen/agentchat/realtime_agent/realtime_agent.py\", line 122, in run\n",
      "    await observer.on_event(event)\n",
      "  File \"/Users/tvrtko/Documents/projects/AG2/ag2/autogen/agentchat/realtime_agent/function_observer.py\", line 33, in on_event\n",
      "    self.logger.info(f\"Received event: {event.type}\", event)\n",
      "Message: 'Received event: response.function_call_arguments.done'\n",
      "Arguments: (FunctionCall(raw_message={'toolCall': {'functionCalls': [{'name': 'get_weather', 'args': {'location': 'Seattle'}, 'id': 'function-call-11442469720178038662'}]}}, type='response.function_call_arguments.done', name='get_weather', arguments={'location': 'Seattle'}, call_id='function-call-11442469720178038662'),)\n",
      "ERROR:    Failed to parse modelTurn: {'serverContent': {'modelTurn': {'parts': [{'executableCode': {'language': 'PYTHON', 'code': 'print(default_api.get_weather(location=\"Seattle\"))\\n'}}]}}}\n",
      "ERROR:    Failed to parse modelTurn: {'serverContent': {'modelTurn': {'parts': [{'codeExecutionResult': {'outcome': 'OUTCOME_OK', 'output': \"{'result': {'string_value': 'The weather is cloudy.'}}\\n\"}}]}}}\n",
      "INFO:     Shutting down\n",
      "INFO:     connection closed\n",
      "INFO:     Waiting for background tasks to complete. (CTRL+C to force quit)\n"
     ]
    }
   ],
   "source": [
    "uvicorn.run(app, host=\"0.0.0.0\", port=PORT)"
   ]
  }
 ],
 "metadata": {
  "front_matter": {
   "description": "RealtimeAgent with gemini client using websockets",
   "tags": [
    "realtime",
    "websockets",
    "gemini"
   ]
  },
  "kernelspec": {
   "display_name": ".venv",
   "language": "python",
   "name": "python3"
  },
  "language_info": {
   "codemirror_mode": {
    "name": "ipython",
    "version": 3
   },
   "file_extension": ".py",
   "mimetype": "text/x-python",
   "name": "python",
   "nbconvert_exporter": "python",
   "pygments_lexer": "ipython3",
   "version": "3.10.16"
  }
 },
 "nbformat": 4,
 "nbformat_minor": 2
}
