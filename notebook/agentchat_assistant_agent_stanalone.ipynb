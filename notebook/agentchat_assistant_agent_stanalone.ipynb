{
 "cells": [
  {
   "cell_type": "code",
   "execution_count": null,
   "metadata": {},
   "outputs": [],
   "source": [
    "import autogen\n",
    "from autogen import AssistantAgent"
   ]
  },
  {
   "cell_type": "code",
   "execution_count": 2,
   "metadata": {},
   "outputs": [],
   "source": [
    "import nest_asyncio\n",
    "\n",
    "nest_asyncio.apply()"
   ]
  },
  {
   "cell_type": "code",
   "execution_count": 3,
   "metadata": {},
   "outputs": [],
   "source": [
    "config_list = autogen.config_list_from_json(\n",
    "    \"OAI_CONFIG_LIST\",\n",
    "    filter_dict={\n",
    "        \"tags\": [\"gpt-4o-mini\"],\n",
    "    },\n",
    ")\n",
    "\n",
    "llm_config = {\n",
    "    \"timeout\": 600,\n",
    "    \"config_list\": config_list,\n",
    "    \"temperature\": 0.8,\n",
    "}"
   ]
  },
  {
   "cell_type": "code",
   "execution_count": null,
   "metadata": {},
   "outputs": [],
   "source": [
    "from autogen.tools.tool import tool\n",
    "\n",
    "x_assistant = AssistantAgent(name=\"x_assistant\", llm_config=llm_config)\n",
    "\n",
    "\n",
    "@tool()\n",
    "def get_twitter_hot_topic() -> str:\n",
    "    return \"Hot topic of the day on Twitter is #AI, and an influencer who is talking about it is @elonmusk\"\n",
    "\n",
    "\n",
    "arxiv_researcher = AssistantAgent(name=\"arxiv\", llm_config=llm_config)\n",
    "\n",
    "hot_topic_res = x_assistant.run(\n",
    "    \"Find out today's hot topic and an influencer who is talking about it on X\",\n",
    "    tools=get_twitter_hot_topic,\n",
    ")\n",
    "\n",
    "paper_abstract = arxiv_researcher.run(\n",
    "    \"Get the abstract of a relevant paper based on \" + hot_topic_res,\n",
    ")"
   ]
  },
  {
   "cell_type": "code",
   "execution_count": null,
   "metadata": {},
   "outputs": [],
   "source": [
    "paper_abstract"
   ]
  },
  {
   "cell_type": "code",
   "execution_count": null,
   "metadata": {},
   "outputs": [],
   "source": [
    "# Secneario 1. This task requires x_assistant's past state\n",
    "post = x_assistant.run(\n",
    "    \"Create an X post based on the hot topic and this \" + paper_abstract + \"and mention the influencer\",\n",
    ")\n",
    "\n",
    "\n",
    "# Scenario 2.  Doing another task that does not require history or past state\n",
    "influencer = x_assistant.run(\n",
    "    \"Find a influencer I should follow\",\n",
    "    clear_history=True,\n",
    "    tools=get_twitter_hot_topic,\n",
    ")"
   ]
  },
  {
   "cell_type": "code",
   "execution_count": null,
   "metadata": {},
   "outputs": [],
   "source": [
    "post"
   ]
  },
  {
   "cell_type": "code",
   "execution_count": null,
   "metadata": {},
   "outputs": [],
   "source": [
    "influencer"
   ]
  }
 ],
 "metadata": {
  "kernelspec": {
   "display_name": ".venv",
   "language": "python",
   "name": "python3"
  },
  "language_info": {
   "codemirror_mode": {
    "name": "ipython",
    "version": 3
   },
   "file_extension": ".py",
   "mimetype": "text/x-python",
   "name": "python",
   "nbconvert_exporter": "python",
   "pygments_lexer": "ipython3",
   "version": "3.11.11"
  }
 },
 "nbformat": 4,
 "nbformat_minor": 2
}
