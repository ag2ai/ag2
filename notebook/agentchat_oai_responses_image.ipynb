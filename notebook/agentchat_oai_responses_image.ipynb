{
 "cells": [
  {
   "cell_type": "code",
   "execution_count": null,
   "metadata": {},
   "outputs": [],
   "source": [
    "import base64\n",
    "import os\n",
    "import textwrap\n",
    "\n",
    "import autogen\n",
    "\n",
    "\n",
    "# ------------------------------------------------------------------ helpers\n",
    "def save_b64_png(b64_str, fname=\"generated.png\"):\n",
    "    with open(fname, \"wb\") as f:\n",
    "        f.write(base64.b64decode(b64_str))\n",
    "    print(f\"image saved → {fname}\")\n",
    "\n",
    "\n",
    "# ------------------------------------------------------------------ LLM config\n",
    "llm_cfg = {\n",
    "    \"config_list\": [\n",
    "        {\n",
    "            \"api_type\": \"responses\",  # use /responses\n",
    "            \"model\": \"gpt-4o\",  # supports vision + images\n",
    "            \"api_key\": os.getenv(\"OPENAI_API_KEY\"),\n",
    "        }\n",
    "    ]\n",
    "}\n",
    "\n",
    "# ------------------------------------------------------------------ agents\n",
    "user = autogen.UserProxyAgent(\n",
    "    name=\"User\",\n",
    "    human_input_mode=\"ALWAYS\",\n",
    ")\n",
    "\n",
    "assistant = autogen.AssistantAgent(\n",
    "    name=\"ArtBot\",\n",
    "    llm_config=llm_cfg,\n",
    "    system_message=textwrap.dedent(\"\"\"\n",
    "        You are an assistant that can reason over images and\n",
    "        use the built-in image_generation tool. When generating\n",
    "        an image, return ONLY the tool call result you receive.\n",
    "    \"\"\").strip(),\n",
    ")\n",
    "\n",
    "# ------------------------------------------------------------------ initial image (URL or data-URI)\n",
    "IMAGE_URL = \"https://upload.wikimedia.org/wikipedia/commons/3/3b/BlkStdSchnauzer2.jpg\"\n",
    "\n",
    "# ------------------------------------------------------------------ chat sequence\n",
    "chat1 = {\n",
    "    \"role\": \"user\",\n",
    "    \"content\": [\n",
    "        {\"type\": \"input_text\", \"text\": \"Describe this image in one sentence.\"},\n",
    "        {\"type\": \"input_image\", \"image_url\": IMAGE_URL},\n",
    "    ],\n",
    "}\n",
    "chat2 = {\"role\": \"user\", \"content\": \"Generate a watercolor painting of a lighthouse at sunset.\"}"
   ]
  },
  {
   "cell_type": "code",
   "execution_count": null,
   "metadata": {},
   "outputs": [],
   "source": [
    "# Start the first turn\n",
    "result1 = user.initiate_chat(\n",
    "    assistant,\n",
    "    message=chat1,\n",
    "    max_turns=1,\n",
    "    summary_method=\"last_msg\",\n",
    ")\n",
    "print(\"Assistant description →\", result1.summary)"
   ]
  },
  {
   "cell_type": "code",
   "execution_count": null,
   "metadata": {},
   "outputs": [],
   "source": [
    "#\n",
    "# Second turn: user asks for watercolor image\n",
    "result2 = user.initiate_chat(\n",
    "    assistant,\n",
    "    message=chat2,\n",
    "    max_turns=1,  # allow assistant’s tool call & follow-up\n",
    "    summary_method=\"last_msg\",\n",
    "    tools=[{\"type\": \"image_generation\"}],\n",
    ")\n",
    "# print(\"Assistant (raw) →\", result2.summary[:120], \"...\")\n",
    "#\n",
    "# ------------------------------------------------------------------ extract & save the generated image\n",
    "# The Responses API returns an output item of type \"image_generation_call\"\n",
    "# for item in result2.chat_history:\n",
    "# if isinstance(item, dict) and item.get(\"tool_responses\"):\n",
    "# Iterate through tool responses\n",
    "# for tr in item[\"tool_responses\"]:\n",
    "# if tr.get(\"type\") == \"image_generation_call\":\n",
    "# save_b64_png(tr[\"result\"])\n",
    "# break"
   ]
  },
  {
   "cell_type": "code",
   "execution_count": null,
   "metadata": {},
   "outputs": [],
   "source": [
    "result1 = user.initiate_chat(\n",
    "    assistant,\n",
    "    message=\"Describe this image https://upload.wikimedia.org/wikipedia/commons/3/3b/BlkStdSchnauzer2.jpg in one sentence.\",\n",
    "    max_turns=1,\n",
    "    summary_method=\"last_msg\",\n",
    ")\n",
    "print(result1)"
   ]
  },
  {
   "cell_type": "code",
   "execution_count": null,
   "metadata": {},
   "outputs": [],
   "source": [
    "result2 = user.initiate_chat(\n",
    "    assistant,\n",
    "    message=\"Generate a watercolor version of this image https://upload.wikimedia.org/wikipedia/commons/3/3b/BlkStdSchnauzer2.jpg\",\n",
    "    max_turns=2,  # allow assistant’s tool call & follow-up\n",
    "    summary_method=\"last_msg\",\n",
    "    tools=[{\"type\": \"image_generation\"}],\n",
    ")"
   ]
  }
 ],
 "metadata": {
  "kernelspec": {
   "display_name": "Python 3",
   "language": "python",
   "name": "python3"
  },
  "language_info": {
   "codemirror_mode": {
    "name": "ipython",
    "version": 3
   },
   "file_extension": ".py",
   "mimetype": "text/x-python",
   "name": "python",
   "nbconvert_exporter": "python",
   "pygments_lexer": "ipython3",
   "version": "3.11.12"
  }
 },
 "nbformat": 4,
 "nbformat_minor": 2
}
