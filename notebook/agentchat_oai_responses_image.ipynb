{
 "cells": [
  {
   "cell_type": "markdown",
   "metadata": {},
   "source": [
    "# Engaging Image Input/Output with OpenAI Responses API in AG2\n",
    "\n",
    "**Authors:** Yixuan Zhai\n",
    "\n",
    "This notebook demonstrates how to do image input and image generate through a two agent chat with OpenAI Responses API and their GPT-4o model."
   ]
  },
  {
   "cell_type": "markdown",
   "metadata": {},
   "source": [
    "### Set LLM config to use OpenAI response API"
   ]
  },
  {
   "cell_type": "code",
   "execution_count": null,
   "metadata": {},
   "outputs": [],
   "source": [
    "import base64\n",
    "import os\n",
    "import textwrap\n",
    "\n",
    "from autogen import AssistantAgent, UserProxyAgent\n",
    "\n",
    "# ------------------------------------------------------------------ LLM config\n",
    "llm_cfg = {\n",
    "    \"config_list\": [\n",
    "        {\n",
    "            \"api_type\": \"responses\",  # use /responses\n",
    "            \"model\": \"gpt-4o\",  # supports vision + images\n",
    "            \"api_key\": os.getenv(\"OPENAI_API_KEY\"),\n",
    "        }\n",
    "    ]\n",
    "}"
   ]
  },
  {
   "cell_type": "markdown",
   "metadata": {},
   "source": [
    "### Create an assistant for image processing"
   ]
  },
  {
   "cell_type": "code",
   "execution_count": null,
   "metadata": {},
   "outputs": [],
   "source": [
    "assistant = AssistantAgent(\n",
    "    name=\"ArtBot\",\n",
    "    llm_config=llm_cfg,\n",
    "    system_message=textwrap.dedent(\"\"\"\n",
    "        You are an assistant that can reason over images and\n",
    "        use the built-in image_generation tool. When generating\n",
    "        an image, return ONLY the tool call result you receive.\n",
    "    \"\"\").strip(),\n",
    ")\n",
    "\n",
    "#  initial image (URL or data-URI)\n",
    "IMAGE_URL = \"https://upload.wikimedia.org/wikipedia/commons/3/3b/BlkStdSchnauzer2.jpg\""
   ]
  },
  {
   "cell_type": "markdown",
   "metadata": {},
   "source": [
    "### Run chat\n",
    "\n",
    "Run the following cell and ask two follow up questions, separately, to have two new images created.\n",
    "1. Generate a watercolor painting of the image.\n",
    "2. Could you update the image to use Ghibli style?"
   ]
  },
  {
   "cell_type": "code",
   "execution_count": null,
   "metadata": {},
   "outputs": [],
   "source": [
    "response = assistant.run(\n",
    "    message=f\"Describe this image <{IMAGE_URL}> in one sentence\",\n",
    "    user_input=True\n",
    ")\n",
    "\n",
    "response.process()"
   ]
  },
  {
   "cell_type": "markdown",
   "metadata": {},
   "source": [
    "### Save generated images\n",
    "\n",
    "Run the following cell to save the generated images from the conversation. An image will be saved for each message in the chat history that had an image generated."
   ]
  },
  {
   "cell_type": "code",
   "execution_count": null,
   "metadata": {},
   "outputs": [],
   "source": [
    "# ----helper function to save image from base64 string----\n",
    "def save_b64_png(b64_str, fname=\"generated.png\"):\n",
    "    with open(fname, \"wb\") as f:\n",
    "        f.write(base64.b64decode(b64_str))\n",
    "    print(f\"image saved → {fname}\")\n",
    "\n",
    "messages = response.messages\n",
    "for i in range(len(messages)):\n",
    "    print(i)\n",
    "    message = messages[i]\n",
    "    # print(message)\n",
    "    if message.get(\"name\") == \"ArtBot\":\n",
    "        contents = message.get(\"content\", [])\n",
    "        for content in contents:\n",
    "            if (\n",
    "                content.get(\"type\") == \"tool_call\"\n",
    "                and content.get(\"name\") == \"image_generation\"\n",
    "                and \"content\" in content\n",
    "                and content[\"content\"]\n",
    "            ):\n",
    "                print(\"Saving image!\")\n",
    "                save_b64_png(content[\"content\"], f\"image{i}.png\")"
   ]
  }
 ],
 "metadata": {
  "front_matter": {
   "description": "This notebook demonstrates how to do image input and image generate through a two agent chat with OpenAI Responses API and gpt-4o.",
   "tags": [
    "multimodal"
   ]
  },
  "kernelspec": {
   "display_name": "Python 3",
   "language": "python",
   "name": "python3"
  },
  "language_info": {
   "codemirror_mode": {
    "name": "ipython",
    "version": 3
   },
   "file_extension": ".py",
   "mimetype": "text/x-python",
   "name": "python",
   "nbconvert_exporter": "python",
   "pygments_lexer": "ipython3",
   "version": "3.11.11"
  }
 },
 "nbformat": 4,
 "nbformat_minor": 2
}
