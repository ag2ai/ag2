{
 "cells": [
  {
   "cell_type": "markdown",
   "metadata": {},
   "source": [
    "# Engaging Image Input/Output with OpenAI Responses API in AG2\n",
    "\n",
    "**Authors:** Yixuan Zhai\n",
    "\n",
    "This notebook demonstrates how to do image input and image generate through a two agent chat with OpenAI Responses API and gpt-4o."
   ]
  },
  {
   "cell_type": "markdown",
   "metadata": {},
   "source": [
    "### Set LLM config to use OpenAI response API"
   ]
  },
  {
   "cell_type": "code",
   "execution_count": 4,
   "metadata": {},
   "outputs": [],
   "source": [
    "import base64\n",
    "import os\n",
    "import textwrap\n",
    "\n",
    "import autogen\n",
    "\n",
    "# ------------------------------------------------------------------ LLM config\n",
    "llm_cfg = {\n",
    "    \"config_list\": [\n",
    "        {\n",
    "            \"api_type\": \"responses\",  # use /responses\n",
    "            \"model\": \"gpt-4o\",  # supports vision + images\n",
    "            \"api_key\": os.getenv(\"OPENAI_API_KEY\"),\n",
    "        }\n",
    "    ]\n",
    "}"
   ]
  },
  {
   "cell_type": "markdown",
   "metadata": {},
   "source": [
    "### Create a two agent chat with a user agent and an assistant "
   ]
  },
  {
   "cell_type": "code",
   "execution_count": 5,
   "metadata": {},
   "outputs": [],
   "source": [
    "# agents\n",
    "user = autogen.UserProxyAgent(\n",
    "    name=\"User\",\n",
    "    human_input_mode=\"ALWAYS\",\n",
    ")\n",
    "\n",
    "assistant = autogen.AssistantAgent(\n",
    "    name=\"ArtBot\",\n",
    "    llm_config=llm_cfg,\n",
    "    system_message=textwrap.dedent(\"\"\"\n",
    "        You are an assistant that can reason over images and\n",
    "        use the built-in image_generation tool. When generating\n",
    "        an image, return ONLY the tool call result you receive.\n",
    "    \"\"\").strip(),\n",
    ")\n",
    "\n",
    "#  initial image (URL or data-URI)\n",
    "IMAGE_URL = \"https://upload.wikimedia.org/wikipedia/commons/3/3b/BlkStdSchnauzer2.jpg\"\n",
    "\n",
    "# initialize chat with image input\n",
    "chat = {\n",
    "    \"role\": \"user\",\n",
    "    \"content\": [\n",
    "        {\"type\": \"input_text\", \"text\": \"Describe this image in one sentence.\"},\n",
    "        {\"type\": \"input_image\", \"image_url\": IMAGE_URL},\n",
    "    ],\n",
    "}"
   ]
  },
  {
   "cell_type": "markdown",
   "metadata": {},
   "source": [
    "### Run chat\n",
    "\n",
    "Asks two follow up questions,\n",
    "1. Generate a watercolor painting of the image.\n",
    "2. Could you update the image to use Ghibli style?\n"
   ]
  },
  {
   "cell_type": "code",
   "execution_count": 6,
   "metadata": {},
   "outputs": [
    {
     "name": "stdout",
     "output_type": "stream",
     "text": [
      "\u001b[33mUser\u001b[0m (to ArtBot):\n",
      "\n",
      "Describe this image in one sentence.\n",
      "<image>\n",
      "\n",
      "--------------------------------------------------------------------------------\n",
      "\u001b[33mArtBot\u001b[0m (to User):\n",
      "\n",
      "A black Schnauzer stands alertly in a grassy field.\n",
      "\n",
      "--------------------------------------------------------------------------------\n",
      "\u001b[33mUser\u001b[0m (to ArtBot):\n",
      "\n",
      "Generate a watercolor painting of the image.\n",
      "\n",
      "--------------------------------------------------------------------------------\n",
      "\u001b[33mArtBot\u001b[0m (to User):\n",
      "\n",
      "<function>\n",
      "Here is the watercolor painting of the image.\n",
      "\n",
      "--------------------------------------------------------------------------------\n",
      "\u001b[33mUser\u001b[0m (to ArtBot):\n",
      "\n",
      "Could you update the image to use Ghibli style?\n",
      "\n",
      "--------------------------------------------------------------------------------\n",
      "\u001b[33mArtBot\u001b[0m (to User):\n",
      "\n",
      "<function>\n",
      "Here is the Schnauzer in a Ghibli style illustration.\n",
      "\n",
      "--------------------------------------------------------------------------------\n",
      "\u001b[31m\n",
      ">>>>>>>> TERMINATING RUN (458523e1-a25f-40bc-b48e-784ba41d867b): User requested to end the conversation\u001b[0m\n",
      "Assistant description → Here is the Schnauzer in a Ghibli style illustration.\n"
     ]
    }
   ],
   "source": [
    "# Start the first turn\n",
    "result = user.initiate_chat(\n",
    "    assistant,\n",
    "    message=chat,\n",
    "    summary_method=\"last_msg\",\n",
    ")\n",
    "print(\"Assistant description →\", result.summary)"
   ]
  },
  {
   "cell_type": "markdown",
   "metadata": {},
   "source": [
    "### Save generated images"
   ]
  },
  {
   "cell_type": "code",
   "execution_count": 7,
   "metadata": {},
   "outputs": [
    {
     "name": "stdout",
     "output_type": "stream",
     "text": [
      "image saved → image3.png\n",
      "image saved → image5.png\n"
     ]
    }
   ],
   "source": [
    "# ----helper function to save image from base64 string----\n",
    "def save_b64_png(b64_str, fname=\"generated.png\"):\n",
    "    with open(fname, \"wb\") as f:\n",
    "        f.write(base64.b64decode(b64_str))\n",
    "    print(f\"image saved → {fname}\")\n",
    "\n",
    "\n",
    "for i in range(len(result.chat_history)):\n",
    "    message = result.chat_history[i]\n",
    "    if message.get(\"name\") == \"ArtBot\":\n",
    "        contents = message.get(\"content\", [])\n",
    "        for content in contents:\n",
    "            if (\n",
    "                content.get(\"type\") == \"tool_call\"\n",
    "                and content.get(\"name\") == \"image_generation\"\n",
    "                and \"content\" in content\n",
    "                and content[\"content\"]\n",
    "            ):\n",
    "                save_b64_png(content[\"content\"], f\"image{i}.png\")"
   ]
  }
 ],
 "metadata": {
  "front_matter": {
   "description": "This notebook demonstrates how to do image input and image generate through a two agent chat with OpenAI Re
sponses API and gpt-4o.",
   "tags": [
     "multimodal",
    ]
  },
  "kernelspec": {
   "display_name": "Python 3",
   "language": "python",
   "name": "python3"
  },
  "language_info": {
   "codemirror_mode": {
    "name": "ipython",
    "version": 3
   },
   "file_extension": ".py",
   "mimetype": "text/x-python",
   "name": "python",
   "nbconvert_exporter": "python",
   "pygments_lexer": "ipython3",
   "version": "3.11.12"
  }
 },
 "nbformat": 4,
 "nbformat_minor": 2
}
