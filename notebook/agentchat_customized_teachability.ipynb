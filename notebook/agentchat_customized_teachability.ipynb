{
 "cells": [
  {
   "attachments": {},
   "cell_type": "markdown",
   "metadata": {},
   "source": [
    "# Chatting with a customized teachable agent\n",
    "\n",
    "A customized teachable agent is a personalized assistant who executes and memorizes various tasks. \\\n",
    "In this notebook, we see how this agent memorizes tasks by maintaining an internal context of each task."
   ]
  },
  {
   "attachments": {},
   "cell_type": "markdown",
   "metadata": {},
   "source": [
    "## Set your API Endpoint\n",
    "\n",
    "The [`config_list_from_json`](https://docs.ag2.ai/latest/docs/api-reference/autogen/config_list_from_json/#autogen.config_list_from_json) function loads a list of configurations from an environment variable or a json file."
   ]
  },
  {
   "cell_type": "code",
   "execution_count": null,
   "metadata": {},
   "outputs": [],
   "source": [
    "import autogen\n",
    "from autogen import ConversableAgent, UserProxyAgent\n",
    "from autogen.agentchat.contrib.capabilities.customized_teachability import CustomizedTeachability\n",
    "\n",
    "config_list = autogen.config_list_from_json(\n",
    "    env_or_file=\"OAI_CONFIG_LIST\",\n",
    "    file_location=\"..\",\n",
    "    filter_dict={\n",
    "        \"model\": [\n",
    "            \"gpt-4o\",\n",
    "        ],\n",
    "    },\n",
    ")\n",
    "\n",
    "print(config_list[0][\"model\"])"
   ]
  },
  {
   "attachments": {},
   "cell_type": "markdown",
   "metadata": {},
   "source": [
    "````{=mdx}\n",
    ":::tip\n",
    "Learn more about configuring LLMs for agents [here](https://docs.ag2.ai/latest/docs/user-guide/basic-concepts/llm-configuration).\n",
    ":::\n",
    "````"
   ]
  },
  {
   "attachments": {},
   "cell_type": "markdown",
   "metadata": {},
   "source": [
    "## Construct Agents"
   ]
  },
  {
   "cell_type": "code",
   "execution_count": null,
   "metadata": {},
   "outputs": [],
   "source": [
    "# Start by instantiating any agent that inherits from ConversableAgent.\n",
    "teachable_agent = ConversableAgent(\n",
    "    name=\"teachable_agent\",  # The name is flexible, but should not contain spaces to work in group chat.\n",
    "    llm_config={\"config_list\": config_list, \"timeout\": 120, \"cache_seed\": None},  # Disable caching.\n",
    ")\n",
    "\n",
    "regular_agent = ConversableAgent(\n",
    "    name=\"regular_agent\",  # The name is flexible, but should not contain spaces to work in group chat.\n",
    "    llm_config={\"config_list\": config_list, \"timeout\": 120, \"cache_seed\": None},  # Disable caching.\n",
    ")\n",
    "\n",
    "# Instantiate the Teachability capability. Its parameters are all optional.\n",
    "customized_teachability = CustomizedTeachability(\n",
    "    verbosity=0,  # 0 for basic info, 1 to add memory operations, 2 for analyzer messages, 3 for memo lists.\n",
    "    reset_db=True,\n",
    "    path_to_db_dir=\"./tmp/notebook/teachability_db\",\n",
    "    recall_threshold=1.5,  # Higher numbers allow more (but less relevant) memos to be recalled.\n",
    ")\n",
    "\n",
    "# Now add the Teachability capability to the agent.\n",
    "customized_teachability.add_to_agent(teachable_agent)\n",
    "\n",
    "# Instantiate a UserProxyAgent to represent the user. But in this notebook, all user input will be simulated.\n",
    "user = UserProxyAgent(\n",
    "    name=\"user\",\n",
    "    human_input_mode=\"NEVER\",\n",
    "    is_termination_msg=lambda x: \"TERMINATE\" in x.get(\"content\"),\n",
    "    max_consecutive_auto_reply=0,\n",
    "    code_execution_config={\n",
    "        \"use_docker\": False\n",
    "    },  # Please set use_docker=True if docker is available to run the generated code. Using docker is safer than running the generated code directly.\n",
    ")"
   ]
  },
  {
   "cell_type": "markdown",
   "metadata": {},
   "source": [
    "## Regular agent as a baseline\n",
    "First, we see how a regular agent forgets the context of a task.\n",
    "\n",
    "Imagine a user who asks for an itinerary of Hawaii."
   ]
  },
  {
   "cell_type": "code",
   "execution_count": null,
   "metadata": {},
   "outputs": [],
   "source": [
    "text = \"Would you plan the first day of a 5-day trip to Oahu, Hawaii for me?\"\n",
    "\n",
    "reply = user.initiate_chat(regular_agent, message=text, clear_history=True)"
   ]
  },
  {
   "cell_type": "markdown",
   "metadata": {},
   "source": [
    "An example reply can be (LLM's actual reply may vary):\n",
    "\n",
    "\n",
    "Morning **Arrival and Breakfast** ... **Breakfast at Azure in Waikiki** ... **Explore Waikiki Beach** ... \\\n",
    "Midday **Visit Diamond Head State Monument** ... **Lunch** ... \\\n",
    "Afternoon **Explore Honolulu** ... **Ala Moana Center** ... \\\n",
    "Evening **Dinner with a View** ... **Sunset at Waikiki Beach** ... **Nightlife in Waikiki**\n",
    "\n",
    "--------"
   ]
  },
  {
   "cell_type": "markdown",
   "metadata": {},
   "source": [
    "Next, the user is satisfied with the schedule but only asks for a small change to include snorkeling. \\\n",
    "However, the agent forgets the context and recommends something completely different. (Assume the user does not manually provide chat history in a session to the agent.)"
   ]
  },
  {
   "cell_type": "code",
   "execution_count": null,
   "metadata": {},
   "outputs": [],
   "source": [
    "text = \"Can you add snorkeling activities to this Oahu trip because I like snorkeling?\"\n",
    "\n",
    "reply = user.initiate_chat(regular_agent, message=text, clear_history=True)"
   ]
  },
  {
   "cell_type": "markdown",
   "metadata": {},
   "source": [
    "An example reply below cancels almost all Day-1 activities and discusses the irrelevant Day-2 to Day-7 schedule. \\\n",
    "It is because the agent forgets all context and reschedules a 7-day trip.\n",
    "\n",
    "\n",
    "**Day 1: Arrival in Oahu** - Arrive at Daniel K. Inouye International Airport. - Check into your hotel. - Enjoy a relaxing walk along Waikiki Beach to unwind. \\\n",
    "**Day 2: Hanauma Bay Snorkeling** - Morning: Head to Hanauma Bay Nature Preserve ... \\\n",
    "... \\\n",
    "**Day 7: ...**"
   ]
  },
  {
   "cell_type": "markdown",
   "metadata": {},
   "source": [
    "## Customized Teachable Agent\n",
    "\n",
    "In comparison, our customized teachable agent **memorizes the context** and makes changes accordingly."
   ]
  },
  {
   "cell_type": "code",
   "execution_count": null,
   "metadata": {},
   "outputs": [],
   "source": [
    "text = \"Would you plan the first day of a 5-day trip to Oahu, Hawaii for me?\"\n",
    "\n",
    "reply = user.initiate_chat(teachable_agent, message=text, clear_history=True)"
   ]
  },
  {
   "cell_type": "markdown",
   "metadata": {},
   "source": [
    "An example reply is:\n",
    "\n",
    "Morning: **Arrival and Breakfast:** ... **Koko Head Café or Heavenly Island Lifestyle for breakfast.** ...  **Diamond Head Hike:** ... \\\n",
    "Afternoon: **Lunch:** ... **Beach Time:** ... **Explore Waikiki:** ... \\\n",
    "Evening: **Dinner and Sunset:** ... **Nightlife or Relax:** ... \n",
    "  \n",
    "-----------\n"
   ]
  },
  {
   "cell_type": "code",
   "execution_count": null,
   "metadata": {},
   "outputs": [],
   "source": [
    "text = \"Can you add snorkeling activities to this Oahu trip because I like snorkeling?\"\n",
    "\n",
    "reply = user.initiate_chat(teachable_agent, message=text, clear_history=True)"
   ]
  },
  {
   "cell_type": "markdown",
   "metadata": {},
   "source": [
    "Our customized teachable agent **memorizes the context** and changes only one activity to snorkeling, like below:\n",
    "\n",
    "Morning: Arrival and Breakfast: ... Koko Head Café or Heavenly Island Lifestyle for breakfast. ...  Diamond Head Hike: ... \\\n",
    "Afternoon: **Snorkeling at Hanauma Bay:** ... Lunch: ... Beach Time: ... \\\n",
    "Evening: Dinner and Sunset: ... Nightlife or Relax: ... \n",
    "  \n",
    "-----------\n"
   ]
  },
  {
   "cell_type": "markdown",
   "metadata": {},
   "source": [
    "## Context Switch\n",
    "\n",
    "Our customized teachable agent maintains multiple tasks and their contexts, so it can switch context. \\\n",
    "For example, we can switch to an email writing task and then come back to the Hawaii scheduling task."
   ]
  },
  {
   "cell_type": "code",
   "execution_count": null,
   "metadata": {},
   "outputs": [],
   "source": [
    "text = \"Would you write an email to thank Mike for organizing the meet-up event for team members around US to get together on 5/1 at Boston?\"\n",
    "\n",
    "reply = user.initiate_chat(teachable_agent, message=text, clear_history=True)"
   ]
  },
  {
   "cell_type": "code",
   "execution_count": null,
   "metadata": {},
   "outputs": [],
   "source": [
    "text = \"Can you change the breakfast restaurant of Day 1 at Oahu?\"\n",
    "\n",
    "reply = user.initiate_chat(teachable_agent, message=text, clear_history=True)"
   ]
  },
  {
   "cell_type": "markdown",
   "metadata": {},
   "source": [
    "Our customized teachable agent **memorizes the context** again and changes only the breakfast restaurant, like below:\n",
    "\n",
    "Morning: Arrival and Breakfast: ... **Island Vintage Coffee or Over Easy for breakfast.** ...  \\\n",
    "  \n",
    "-----------"
   ]
  },
  {
   "cell_type": "code",
   "execution_count": null,
   "metadata": {},
   "outputs": [],
   "source": []
  }
 ],
 "metadata": {
  "front_matter": {
   "description": "Learn how to persist memories across chat sessions using the Teachability capability",
   "tags": [
    "teachability",
    "learning",
    "RAG",
    "capability"
   ]
  },
  "kernelspec": {
   "display_name": "Python 3 (ipykernel)",
   "language": "python",
   "name": "python3"
  },
  "language_info": {
   "codemirror_mode": {
    "name": "ipython",
    "version": 3
   },
   "file_extension": ".py",
   "mimetype": "text/x-python",
   "name": "python",
   "nbconvert_exporter": "python",
   "pygments_lexer": "ipython3",
   "version": "3.11.11"
  }
 },
 "nbformat": 4,
 "nbformat_minor": 4
}
