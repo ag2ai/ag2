{
 "cells": [
  {
   "attachments": {},
   "cell_type": "markdown",
   "metadata": {},
   "source": [
    "# Chatting with a customized teachable agent\n",
    "\n",
    "A customized teachable agent is a personalized assistant who executes and memorizes various tasks. \\\n",
    "In this notebook, we see how this agent memorizes tasks by maintaining an internal context of each task."
   ]
  },
  {
   "attachments": {},
   "cell_type": "markdown",
   "metadata": {},
   "source": [
    "## Set your API Endpoint\n",
    "\n",
    "The [`config_list_from_json`](https://docs.ag2.ai/latest/docs/api-reference/autogen/config_list_from_json/#autogen.config_list_from_json) function loads a list of configurations from an environment variable or a json file."
   ]
  },
  {
   "cell_type": "code",
   "execution_count": 1,
   "metadata": {},
   "outputs": [
    {
     "name": "stdout",
     "output_type": "stream",
     "text": [
      "gpt-4o\n"
     ]
    }
   ],
   "source": [
    "import autogen\n",
    "from autogen import ConversableAgent, UserProxyAgent\n",
    "from autogen.agentchat.contrib.capabilities.customized_teachability import CustomizedTeachability\n",
    "\n",
    "config_list = autogen.config_list_from_json(\n",
    "    env_or_file=\"OAI_CONFIG_LIST\",\n",
    "    file_location=\"..\",\n",
    "    filter_dict={\n",
    "        \"model\": [\"gpt-4o\", ],\n",
    "    },\n",
    ")\n",
    "\n",
    "print(config_list[0][\"model\"])"
   ]
  },
  {
   "attachments": {},
   "cell_type": "markdown",
   "metadata": {},
   "source": [
    "````{=mdx}\n",
    ":::tip\n",
    "Learn more about configuring LLMs for agents [here](https://docs.ag2.ai/latest/docs/user-guide/basic-concepts/llm-configuration).\n",
    ":::\n",
    "````"
   ]
  },
  {
   "attachments": {},
   "cell_type": "markdown",
   "metadata": {},
   "source": [
    "## Construct Agents"
   ]
  },
  {
   "cell_type": "code",
   "execution_count": 2,
   "metadata": {},
   "outputs": [
    {
     "name": "stdout",
     "output_type": "stream",
     "text": [
      "\u001b[92m\n",
      "CLEARING MEMORY\u001b[0m\n"
     ]
    }
   ],
   "source": [
    "# Start by instantiating any agent that inherits from ConversableAgent.\n",
    "teachable_agent = ConversableAgent(\n",
    "    name=\"teachable_agent\",  # The name is flexible, but should not contain spaces to work in group chat.\n",
    "    llm_config={\"config_list\": config_list, \"timeout\": 120, \"cache_seed\": None},  # Disable caching.\n",
    ")\n",
    "\n",
    "regular_agent = ConversableAgent(\n",
    "    name=\"regular_agent\",  # The name is flexible, but should not contain spaces to work in group chat.\n",
    "    llm_config={\"config_list\": config_list, \"timeout\": 120, \"cache_seed\": None},  # Disable caching.\n",
    ")\n",
    "\n",
    "# Instantiate the Teachability capability. Its parameters are all optional.\n",
    "customized_teachability = CustomizedTeachability(\n",
    "    verbosity=0,  # 0 for basic info, 1 to add memory operations, 2 for analyzer messages, 3 for memo lists.\n",
    "    reset_db=True,\n",
    "    path_to_db_dir=\"./tmp/notebook/teachability_db\",\n",
    "    recall_threshold=1.5,  # Higher numbers allow more (but less relevant) memos to be recalled.\n",
    ")\n",
    "\n",
    "# Now add the Teachability capability to the agent.\n",
    "customized_teachability.add_to_agent(teachable_agent)\n",
    "\n",
    "# Instantiate a UserProxyAgent to represent the user. But in this notebook, all user input will be simulated.\n",
    "user = UserProxyAgent(\n",
    "    name=\"user\",\n",
    "    human_input_mode=\"NEVER\",\n",
    "    is_termination_msg=lambda x: \"TERMINATE\" in x.get(\"content\"),\n",
    "    max_consecutive_auto_reply=0,\n",
    "    code_execution_config={\n",
    "        \"use_docker\": False\n",
    "    },  # Please set use_docker=True if docker is available to run the generated code. Using docker is safer than running the generated code directly.\n",
    ")"
   ]
  },
  {
   "cell_type": "markdown",
   "metadata": {},
   "source": [
    "## Regular agent as a baseline\n",
    "First, we see how a regular agent forgets the context of a task.\n",
    "\n",
    "Imagine a user who asks for an itinerary of Hawaii."
   ]
  },
  {
   "cell_type": "code",
   "execution_count": 3,
   "metadata": {},
   "outputs": [
    {
     "name": "stdout",
     "output_type": "stream",
     "text": [
      "\u001b[33muser\u001b[0m (to regular_agent):\n",
      "\n",
      "Would you plan the first day of a 5-day trip to Oahu, Hawaii for me?\n",
      "\n",
      "--------------------------------------------------------------------------------\n",
      "\u001b[31m\n",
      ">>>>>>>> USING AUTO REPLY...\u001b[0m\n",
      "\u001b[33mregular_agent\u001b[0m (to user):\n",
      "\n",
      "Certainly! Planning your first day in Oahu, Hawaii should be both exciting and relaxing. Here's a balanced itinerary, allowing you to experience the island's beauty, culture, and cuisine without feeling rushed:\n",
      "\n",
      "### Morning\n",
      "\n",
      "**1. Arrival and Breakfast**\n",
      "- **Arrival**: Aim to arrive in Oahu early in the morning to maximize your day. If you flew in the day before, even better!\n",
      "- **Breakfast**: Start with a hearty breakfast at *Azure* in Waikiki, which offers a beachfront setting. Try local specialties like loco moco or a fresh tropical fruit platter.\n",
      "\n",
      "**2. Explore Waikiki Beach**\n",
      "- After breakfast, take a leisurely stroll along Waikiki Beach. Depending on your interests, you can relax on the sand or try some water activities like surfing or paddleboarding. The beach has rental shops if you didn’t bring your gear.\n",
      "\n",
      "### Midday\n",
      "\n",
      "**3. Visit Diamond Head State Monument**\n",
      "- Head over to Diamond Head, one of Oahu's most iconic landmarks. The hike to the summit takes about 1.5 to 2 hours round-trip, including time to enjoy the panoramic views of Honolulu and the Pacific Ocean. Wear comfortable shoes and bring water!\n",
      "\n",
      "**4. Lunch**\n",
      "- After your hike, treat yourself to lunch at the *Diamond Head Market & Grill*. They offer a variety of local favorites like crab cakes and plate lunches.\n",
      "\n",
      "### Afternoon\n",
      "\n",
      "**5. Explore Honolulu**\n",
      "- Head into downtown Honolulu to explore some of the cultural landmarks. Visit the Iolani Palace, the only royal palace in the United States, and learn about Hawaii’s history.\n",
      "- Stop by the nearby King Kamehameha Statue for a photo opportunity and explore the surrounding historic district.\n",
      "\n",
      "**6. Ala Moana Center**\n",
      "- If you're interested in shopping, visit Ala Moana Center, one of the largest open-air shopping malls in the world. Even if you don't want to shop, it’s a good place to see local arts and crafts.\n",
      "\n",
      "### Evening\n",
      "\n",
      "**7. Dinner with a View**\n",
      "- Make reservations for dinner at *House Without a Key* at the Halekulani Hotel. It offers great sunset views and live Hawaiian music. Enjoy fresh seafood and traditional Hawaiian cuisine.\n",
      "\n",
      "**8. Sunset at Waikiki Beach**\n",
      "- End your evening back at Waikiki Beach. Catch a sunset from the beach or a nearby lounge. It’s a quintessential Oahu experience.\n",
      "\n",
      "**9. Nightlife in Waikiki**\n",
      "- If you still have energy, check out some of the nightlife in Waikiki. Bars such as *RumFire* or *Duke’s Waikiki* often have live music and a lively atmosphere.\n",
      "\n",
      "This itinerary offers a mix of relaxation and exploration, allowing you to ease into your vacation and soak in the beauty and culture of Oahu. Let me know if there are specific interests you have, and I can tailor the itinerary further!\n",
      "\n",
      "--------------------------------------------------------------------------------\n",
      "\u001b[31m\n",
      ">>>>>>>> TERMINATING RUN (9d5e8982-4ee0-48a2-a00f-e9363e9eb96d): Maximum number of consecutive auto-replies reached\u001b[0m\n"
     ]
    },
    {
     "data": {
      "text/plain": [
       "ChatResult(chat_id=None, chat_history=[{'content': 'Would you plan the first day of a 5-day trip to Oahu, Hawaii for me?', 'role': 'assistant', 'name': 'user'}, {'content': \"Certainly! Planning your first day in Oahu, Hawaii should be both exciting and relaxing. Here's a balanced itinerary, allowing you to experience the island's beauty, culture, and cuisine without feeling rushed:\\n\\n### Morning\\n\\n**1. Arrival and Breakfast**\\n- **Arrival**: Aim to arrive in Oahu early in the morning to maximize your day. If you flew in the day before, even better!\\n- **Breakfast**: Start with a hearty breakfast at *Azure* in Waikiki, which offers a beachfront setting. Try local specialties like loco moco or a fresh tropical fruit platter.\\n\\n**2. Explore Waikiki Beach**\\n- After breakfast, take a leisurely stroll along Waikiki Beach. Depending on your interests, you can relax on the sand or try some water activities like surfing or paddleboarding. The beach has rental shops if you didn’t bring your gear.\\n\\n### Midday\\n\\n**3. Visit Diamond Head State Monument**\\n- Head over to Diamond Head, one of Oahu's most iconic landmarks. The hike to the summit takes about 1.5 to 2 hours round-trip, including time to enjoy the panoramic views of Honolulu and the Pacific Ocean. Wear comfortable shoes and bring water!\\n\\n**4. Lunch**\\n- After your hike, treat yourself to lunch at the *Diamond Head Market & Grill*. They offer a variety of local favorites like crab cakes and plate lunches.\\n\\n### Afternoon\\n\\n**5. Explore Honolulu**\\n- Head into downtown Honolulu to explore some of the cultural landmarks. Visit the Iolani Palace, the only royal palace in the United States, and learn about Hawaii’s history.\\n- Stop by the nearby King Kamehameha Statue for a photo opportunity and explore the surrounding historic district.\\n\\n**6. Ala Moana Center**\\n- If you're interested in shopping, visit Ala Moana Center, one of the largest open-air shopping malls in the world. Even if you don't want to shop, it’s a good place to see local arts and crafts.\\n\\n### Evening\\n\\n**7. Dinner with a View**\\n- Make reservations for dinner at *House Without a Key* at the Halekulani Hotel. It offers great sunset views and live Hawaiian music. Enjoy fresh seafood and traditional Hawaiian cuisine.\\n\\n**8. Sunset at Waikiki Beach**\\n- End your evening back at Waikiki Beach. Catch a sunset from the beach or a nearby lounge. It’s a quintessential Oahu experience.\\n\\n**9. Nightlife in Waikiki**\\n- If you still have energy, check out some of the nightlife in Waikiki. Bars such as *RumFire* or *Duke’s Waikiki* often have live music and a lively atmosphere.\\n\\nThis itinerary offers a mix of relaxation and exploration, allowing you to ease into your vacation and soak in the beauty and culture of Oahu. Let me know if there are specific interests you have, and I can tailor the itinerary further!\", 'role': 'user', 'name': 'regular_agent'}], summary=\"Certainly! Planning your first day in Oahu, Hawaii should be both exciting and relaxing. Here's a balanced itinerary, allowing you to experience the island's beauty, culture, and cuisine without feeling rushed:\\n\\n### Morning\\n\\n**1. Arrival and Breakfast**\\n- **Arrival**: Aim to arrive in Oahu early in the morning to maximize your day. If you flew in the day before, even better!\\n- **Breakfast**: Start with a hearty breakfast at *Azure* in Waikiki, which offers a beachfront setting. Try local specialties like loco moco or a fresh tropical fruit platter.\\n\\n**2. Explore Waikiki Beach**\\n- After breakfast, take a leisurely stroll along Waikiki Beach. Depending on your interests, you can relax on the sand or try some water activities like surfing or paddleboarding. The beach has rental shops if you didn’t bring your gear.\\n\\n### Midday\\n\\n**3. Visit Diamond Head State Monument**\\n- Head over to Diamond Head, one of Oahu's most iconic landmarks. The hike to the summit takes about 1.5 to 2 hours round-trip, including time to enjoy the panoramic views of Honolulu and the Pacific Ocean. Wear comfortable shoes and bring water!\\n\\n**4. Lunch**\\n- After your hike, treat yourself to lunch at the *Diamond Head Market & Grill*. They offer a variety of local favorites like crab cakes and plate lunches.\\n\\n### Afternoon\\n\\n**5. Explore Honolulu**\\n- Head into downtown Honolulu to explore some of the cultural landmarks. Visit the Iolani Palace, the only royal palace in the United States, and learn about Hawaii’s history.\\n- Stop by the nearby King Kamehameha Statue for a photo opportunity and explore the surrounding historic district.\\n\\n**6. Ala Moana Center**\\n- If you're interested in shopping, visit Ala Moana Center, one of the largest open-air shopping malls in the world. Even if you don't want to shop, it’s a good place to see local arts and crafts.\\n\\n### Evening\\n\\n**7. Dinner with a View**\\n- Make reservations for dinner at *House Without a Key* at the Halekulani Hotel. It offers great sunset views and live Hawaiian music. Enjoy fresh seafood and traditional Hawaiian cuisine.\\n\\n**8. Sunset at Waikiki Beach**\\n- End your evening back at Waikiki Beach. Catch a sunset from the beach or a nearby lounge. It’s a quintessential Oahu experience.\\n\\n**9. Nightlife in Waikiki**\\n- If you still have energy, check out some of the nightlife in Waikiki. Bars such as *RumFire* or *Duke’s Waikiki* often have live music and a lively atmosphere.\\n\\nThis itinerary offers a mix of relaxation and exploration, allowing you to ease into your vacation and soak in the beauty and culture of Oahu. Let me know if there are specific interests you have, and I can tailor the itinerary further!\", cost={'usage_including_cached_inference': {'total_cost': 0.0059375, 'gpt-4o-2024-08-06': {'cost': 0.0059375, 'prompt_tokens': 39, 'completion_tokens': 584, 'total_tokens': 623}}, 'usage_excluding_cached_inference': {'total_cost': 0.0059375, 'gpt-4o-2024-08-06': {'cost': 0.0059375, 'prompt_tokens': 39, 'completion_tokens': 584, 'total_tokens': 623}}}, human_input=[])"
      ]
     },
     "execution_count": 3,
     "metadata": {},
     "output_type": "execute_result"
    }
   ],
   "source": [
    "text = \"Would you plan the first day of a 5-day trip to Oahu, Hawaii for me?\"\n",
    "\n",
    "user.initiate_chat(regular_agent, message=text, clear_history=True)"
   ]
  },
  {
   "cell_type": "markdown",
   "metadata": {},
   "source": [
    "An example reply can be (LLM's actual reply may vary):\n",
    "\n",
    "\n",
    "Morning **Arrival and Breakfast** ... **Breakfast at Azure in Waikiki** ... **Explore Waikiki Beach** ... \\\n",
    "Midday **Visit Diamond Head State Monument** ... **Lunch** ... \\\n",
    "Afternoon **Explore Honolulu** ... **Ala Moana Center** ... \\\n",
    "Evening **Dinner with a View** ... **Sunset at Waikiki Beach** ... **Nightlife in Waikiki**\n",
    "\n",
    "--------"
   ]
  },
  {
   "cell_type": "markdown",
   "metadata": {},
   "source": [
    "Next, the user is satisfied with the schedule but only asks for a small change to include snorkeling. \\\n",
    "However, the agent forgets the context and recommends something completely different. (Assume the user does not manually provide chat history in a session to the agent.)"
   ]
  },
  {
   "cell_type": "code",
   "execution_count": 4,
   "metadata": {},
   "outputs": [
    {
     "name": "stdout",
     "output_type": "stream",
     "text": [
      "\u001b[33muser\u001b[0m (to regular_agent):\n",
      "\n",
      "Can you add snorkeling activities to this Oahu trip because I like snorkeling?\n",
      "\n",
      "--------------------------------------------------------------------------------\n",
      "\u001b[31m\n",
      ">>>>>>>> USING AUTO REPLY...\u001b[0m\n",
      "\u001b[33mregular_agent\u001b[0m (to user):\n",
      "\n",
      "Of course! Here’s an itinerary that includes some snorkeling activities on your Oahu trip. Let me know if you'd like to adjust any part of it.\n",
      "\n",
      "**Day 1: Arrival in Oahu**\n",
      "- Arrive at Daniel K. Inouye International Airport.\n",
      "- Check into your hotel.\n",
      "- Enjoy a relaxing walk along Waikiki Beach to unwind.\n",
      "\n",
      "**Day 2: Hanauma Bay Snorkeling**\n",
      "- Morning: Head to Hanauma Bay Nature Preserve, one of the best snorkeling spots in Oahu. Arrive early, as it’s a popular destination.\n",
      "- Afternoon: Have a picnic lunch on the beach.\n",
      "- Evening: Return to Waikiki for dinner at a beachfront restaurant.\n",
      "\n",
      "**Day 3: North Shore and Shark's Cove**\n",
      "- Morning: Drive to the North Shore.\n",
      "- Late Morning: Snorkel at Shark's Cove, which is known for vibrant underwater life and volcanic formations.\n",
      "- Afternoon: Enjoy a famous shrimp truck lunch in Haleiwa.\n",
      "- Evening: Explore Haleiwa town and its shops.\n",
      "\n",
      "**Day 4: Exploring the West Side**\n",
      "- Morning: Visit the less-crowded Kahe Point Beach Park (Electric Beach) for more snorkeling, where you can see a variety of sea life near the power plant’s warm waters.\n",
      "- Afternoon: Relax on the beach or explore nearby Ko Olina Lagoons.\n",
      "- Evening: Return to your accommodation and relax.\n",
      "\n",
      "**Day 5: Lanikai Beach and Kailua**\n",
      "- Morning: Snorkel at Lanikai Beach, known for its clear turquoise waters and beautiful scenery.\n",
      "- Afternoon: Explore Kailua Town and grab lunch at a local café.\n",
      "- Evening: Enjoy sunset at any of the beautiful beaches in the area.\n",
      "\n",
      "**Day 6: Optional Snorkeling Tour**\n",
      "- Morning: Consider a guided snorkeling tour or catamaran cruise that takes you to secret spots around the island.\n",
      "- Afternoon: Return to your hotel to relax or explore other attractions of your choice.\n",
      "- Evening: Have dinner in downtown Honolulu or attend a traditional Hawaiian luau.\n",
      "\n",
      "**Day 7: Departure**\n",
      "- Morning: Enjoy a leisurely breakfast and some last-minute shopping or beach time.\n",
      "- Afternoon: Check out of your hotel and head to the airport for your departure.\n",
      "\n",
      "Please remember to check local conditions and availability for each location, as well as any necessary permits or reservations, especially for Hanauma Bay. Have a great snorkeling adventure in Oahu!\n",
      "\n",
      "--------------------------------------------------------------------------------\n",
      "\u001b[31m\n",
      ">>>>>>>> TERMINATING RUN (d233999c-72c2-454a-ac1d-54b3e649b1be): Maximum number of consecutive auto-replies reached\u001b[0m\n"
     ]
    },
    {
     "data": {
      "text/plain": [
       "ChatResult(chat_id=None, chat_history=[{'content': 'Can you add snorkeling activities to this Oahu trip because I like snorkeling?', 'role': 'assistant', 'name': 'user'}, {'content': \"Of course! Here’s an itinerary that includes some snorkeling activities on your Oahu trip. Let me know if you'd like to adjust any part of it.\\n\\n**Day 1: Arrival in Oahu**\\n- Arrive at Daniel K. Inouye International Airport.\\n- Check into your hotel.\\n- Enjoy a relaxing walk along Waikiki Beach to unwind.\\n\\n**Day 2: Hanauma Bay Snorkeling**\\n- Morning: Head to Hanauma Bay Nature Preserve, one of the best snorkeling spots in Oahu. Arrive early, as it’s a popular destination.\\n- Afternoon: Have a picnic lunch on the beach.\\n- Evening: Return to Waikiki for dinner at a beachfront restaurant.\\n\\n**Day 3: North Shore and Shark's Cove**\\n- Morning: Drive to the North Shore.\\n- Late Morning: Snorkel at Shark's Cove, which is known for vibrant underwater life and volcanic formations.\\n- Afternoon: Enjoy a famous shrimp truck lunch in Haleiwa.\\n- Evening: Explore Haleiwa town and its shops.\\n\\n**Day 4: Exploring the West Side**\\n- Morning: Visit the less-crowded Kahe Point Beach Park (Electric Beach) for more snorkeling, where you can see a variety of sea life near the power plant’s warm waters.\\n- Afternoon: Relax on the beach or explore nearby Ko Olina Lagoons.\\n- Evening: Return to your accommodation and relax.\\n\\n**Day 5: Lanikai Beach and Kailua**\\n- Morning: Snorkel at Lanikai Beach, known for its clear turquoise waters and beautiful scenery.\\n- Afternoon: Explore Kailua Town and grab lunch at a local café.\\n- Evening: Enjoy sunset at any of the beautiful beaches in the area.\\n\\n**Day 6: Optional Snorkeling Tour**\\n- Morning: Consider a guided snorkeling tour or catamaran cruise that takes you to secret spots around the island.\\n- Afternoon: Return to your hotel to relax or explore other attractions of your choice.\\n- Evening: Have dinner in downtown Honolulu or attend a traditional Hawaiian luau.\\n\\n**Day 7: Departure**\\n- Morning: Enjoy a leisurely breakfast and some last-minute shopping or beach time.\\n- Afternoon: Check out of your hotel and head to the airport for your departure.\\n\\nPlease remember to check local conditions and availability for each location, as well as any necessary permits or reservations, especially for Hanauma Bay. Have a great snorkeling adventure in Oahu!\", 'role': 'user', 'name': 'regular_agent'}], summary=\"Of course! Here’s an itinerary that includes some snorkeling activities on your Oahu trip. Let me know if you'd like to adjust any part of it.\\n\\n**Day 1: Arrival in Oahu**\\n- Arrive at Daniel K. Inouye International Airport.\\n- Check into your hotel.\\n- Enjoy a relaxing walk along Waikiki Beach to unwind.\\n\\n**Day 2: Hanauma Bay Snorkeling**\\n- Morning: Head to Hanauma Bay Nature Preserve, one of the best snorkeling spots in Oahu. Arrive early, as it’s a popular destination.\\n- Afternoon: Have a picnic lunch on the beach.\\n- Evening: Return to Waikiki for dinner at a beachfront restaurant.\\n\\n**Day 3: North Shore and Shark's Cove**\\n- Morning: Drive to the North Shore.\\n- Late Morning: Snorkel at Shark's Cove, which is known for vibrant underwater life and volcanic formations.\\n- Afternoon: Enjoy a famous shrimp truck lunch in Haleiwa.\\n- Evening: Explore Haleiwa town and its shops.\\n\\n**Day 4: Exploring the West Side**\\n- Morning: Visit the less-crowded Kahe Point Beach Park (Electric Beach) for more snorkeling, where you can see a variety of sea life near the power plant’s warm waters.\\n- Afternoon: Relax on the beach or explore nearby Ko Olina Lagoons.\\n- Evening: Return to your accommodation and relax.\\n\\n**Day 5: Lanikai Beach and Kailua**\\n- Morning: Snorkel at Lanikai Beach, known for its clear turquoise waters and beautiful scenery.\\n- Afternoon: Explore Kailua Town and grab lunch at a local café.\\n- Evening: Enjoy sunset at any of the beautiful beaches in the area.\\n\\n**Day 6: Optional Snorkeling Tour**\\n- Morning: Consider a guided snorkeling tour or catamaran cruise that takes you to secret spots around the island.\\n- Afternoon: Return to your hotel to relax or explore other attractions of your choice.\\n- Evening: Have dinner in downtown Honolulu or attend a traditional Hawaiian luau.\\n\\n**Day 7: Departure**\\n- Morning: Enjoy a leisurely breakfast and some last-minute shopping or beach time.\\n- Afternoon: Check out of your hotel and head to the airport for your departure.\\n\\nPlease remember to check local conditions and availability for each location, as well as any necessary permits or reservations, especially for Hanauma Bay. Have a great snorkeling adventure in Oahu!\", cost={'usage_including_cached_inference': {'total_cost': 0.0109425, 'gpt-4o-2024-08-06': {'cost': 0.0109425, 'prompt_tokens': 73, 'completion_tokens': 1076, 'total_tokens': 1149}}, 'usage_excluding_cached_inference': {'total_cost': 0.0109425, 'gpt-4o-2024-08-06': {'cost': 0.0109425, 'prompt_tokens': 73, 'completion_tokens': 1076, 'total_tokens': 1149}}}, human_input=[])"
      ]
     },
     "execution_count": 4,
     "metadata": {},
     "output_type": "execute_result"
    }
   ],
   "source": [
    "text = \"Can you add snorkeling activities to this Oahu trip because I like snorkeling?\"\n",
    "\n",
    "user.initiate_chat(regular_agent, message=text, clear_history=True)"
   ]
  },
  {
   "cell_type": "markdown",
   "metadata": {},
   "source": [
    "An example reply below cancels almost all Day-1 activities and discusses the irrelevant Day-2 to Day-7 schedule. \\\n",
    "It is because the agent forgets all context and reschedules a 7-day trip.\n",
    "\n",
    "\n",
    "**Day 1: Arrival in Oahu** - Arrive at Daniel K. Inouye International Airport. - Check into your hotel. - Enjoy a relaxing walk along Waikiki Beach to unwind. \\\n",
    "**Day 2: Hanauma Bay Snorkeling** - Morning: Head to Hanauma Bay Nature Preserve ... \\\n",
    "... \\\n",
    "**Day 7: ...**"
   ]
  },
  {
   "cell_type": "markdown",
   "metadata": {},
   "source": [
    "## Customized Teachable Agent\n",
    "\n",
    "In comparison, our customized teachable agent **memorizes the context** and makes changes accordingly."
   ]
  },
  {
   "cell_type": "code",
   "execution_count": 5,
   "metadata": {},
   "outputs": [
    {
     "name": "stdout",
     "output_type": "stream",
     "text": [
      "\u001b[33muser\u001b[0m (to teachable_agent):\n",
      "\n",
      "Would you plan the first day of a 5-day trip to Oahu, Hawaii for me?\n",
      "\n",
      "--------------------------------------------------------------------------------\n",
      "\u001b[33mteachable_agent\u001b[0m (to user):\n",
      "\n",
      "Certainly! Here’s a suggested plan for the first day of your 5-day trip to Oahu, Hawaii:\n",
      "\n",
      "**Morning:**\n",
      "\n",
      "1. **Arrival and Breakfast:**\n",
      "   - Arrive at Daniel K. Inouye International Airport in Honolulu.\n",
      "   - Pick up your rental car or arrange for transportation to your hotel.\n",
      "   - Check into your hotel, if available, or store your luggage.\n",
      "   - Head to a local breakfast spot like *Koko Head Café* or *Heavenly Island Lifestyle* for a delicious island-style breakfast.\n",
      "\n",
      "2. **Diamond Head Hike:**\n",
      "   - Head to Diamond Head State Monument for a hike. It's a popular trail and offers stunning views of Waikiki and the Pacific Ocean. Remember to bring water, sunscreen, and wear comfortable shoes.\n",
      "\n",
      "**Afternoon:**\n",
      "\n",
      "3. **Lunch:**\n",
      "   - Make your way back to Waikiki and enjoy lunch at *Duke’s Waikiki*, located right on the beach.\n",
      "\n",
      "4. **Beach Time:**\n",
      "   - Spend some time relaxing on Waikiki Beach. You can swim, sunbathe, or even try out some water sports like surfing or paddleboarding.\n",
      "\n",
      "5. **Explore Waikiki:**\n",
      "   - Take a stroll around Waikiki, where you can shop at the International Market Place or Kalakaua Avenue, filled with various stores and boutiques.\n",
      "\n",
      "**Evening:**\n",
      "\n",
      "6. **Dinner and Sunset:**\n",
      "   - Enjoy dinner at *House Without a Key* at the Halekulani Hotel, where you can catch a beautiful sunset and enjoy live Hawaiian music and hula dancing.\n",
      "\n",
      "7. **Nightlife or Relax:**\n",
      "   - If you're up for it, explore Waikiki’s nightlife with a drink at a local bar like *Mai Tai Bar Waikiki*. Alternatively, head back to your hotel for a relaxing evening.\n",
      "\n",
      "Let me know if you want to customize any part of this plan!\n",
      "\n",
      "--------------------------------------------------------------------------------\n",
      "\u001b[31m\n",
      ">>>>>>>> TERMINATING RUN (0d7cb31c-9a86-4adc-8834-17afa672d49e): Maximum number of consecutive auto-replies reached\u001b[0m\n"
     ]
    },
    {
     "data": {
      "text/plain": [
       "ChatResult(chat_id=None, chat_history=[{'content': 'Would you plan the first day of a 5-day trip to Oahu, Hawaii for me?', 'role': 'assistant', 'name': 'user'}, {'content': \"Certainly! Here’s a suggested plan for the first day of your 5-day trip to Oahu, Hawaii:\\n\\n**Morning:**\\n\\n1. **Arrival and Breakfast:**\\n   - Arrive at Daniel K. Inouye International Airport in Honolulu.\\n   - Pick up your rental car or arrange for transportation to your hotel.\\n   - Check into your hotel, if available, or store your luggage.\\n   - Head to a local breakfast spot like *Koko Head Café* or *Heavenly Island Lifestyle* for a delicious island-style breakfast.\\n\\n2. **Diamond Head Hike:**\\n   - Head to Diamond Head State Monument for a hike. It's a popular trail and offers stunning views of Waikiki and the Pacific Ocean. Remember to bring water, sunscreen, and wear comfortable shoes.\\n\\n**Afternoon:**\\n\\n3. **Lunch:**\\n   - Make your way back to Waikiki and enjoy lunch at *Duke’s Waikiki*, located right on the beach.\\n\\n4. **Beach Time:**\\n   - Spend some time relaxing on Waikiki Beach. You can swim, sunbathe, or even try out some water sports like surfing or paddleboarding.\\n\\n5. **Explore Waikiki:**\\n   - Take a stroll around Waikiki, where you can shop at the International Market Place or Kalakaua Avenue, filled with various stores and boutiques.\\n\\n**Evening:**\\n\\n6. **Dinner and Sunset:**\\n   - Enjoy dinner at *House Without a Key* at the Halekulani Hotel, where you can catch a beautiful sunset and enjoy live Hawaiian music and hula dancing.\\n\\n7. **Nightlife or Relax:**\\n   - If you're up for it, explore Waikiki’s nightlife with a drink at a local bar like *Mai Tai Bar Waikiki*. Alternatively, head back to your hotel for a relaxing evening.\\n\\nLet me know if you want to customize any part of this plan!\", 'role': 'user', 'name': 'teachable_agent'}], summary=\"Certainly! Here’s a suggested plan for the first day of your 5-day trip to Oahu, Hawaii:\\n\\n**Morning:**\\n\\n1. **Arrival and Breakfast:**\\n   - Arrive at Daniel K. Inouye International Airport in Honolulu.\\n   - Pick up your rental car or arrange for transportation to your hotel.\\n   - Check into your hotel, if available, or store your luggage.\\n   - Head to a local breakfast spot like *Koko Head Café* or *Heavenly Island Lifestyle* for a delicious island-style breakfast.\\n\\n2. **Diamond Head Hike:**\\n   - Head to Diamond Head State Monument for a hike. It's a popular trail and offers stunning views of Waikiki and the Pacific Ocean. Remember to bring water, sunscreen, and wear comfortable shoes.\\n\\n**Afternoon:**\\n\\n3. **Lunch:**\\n   - Make your way back to Waikiki and enjoy lunch at *Duke’s Waikiki*, located right on the beach.\\n\\n4. **Beach Time:**\\n   - Spend some time relaxing on Waikiki Beach. You can swim, sunbathe, or even try out some water sports like surfing or paddleboarding.\\n\\n5. **Explore Waikiki:**\\n   - Take a stroll around Waikiki, where you can shop at the International Market Place or Kalakaua Avenue, filled with various stores and boutiques.\\n\\n**Evening:**\\n\\n6. **Dinner and Sunset:**\\n   - Enjoy dinner at *House Without a Key* at the Halekulani Hotel, where you can catch a beautiful sunset and enjoy live Hawaiian music and hula dancing.\\n\\n7. **Nightlife or Relax:**\\n   - If you're up for it, explore Waikiki’s nightlife with a drink at a local bar like *Mai Tai Bar Waikiki*. Alternatively, head back to your hotel for a relaxing evening.\\n\\nLet me know if you want to customize any part of this plan!\", cost={'usage_including_cached_inference': {'total_cost': 0.0040275, 'gpt-4o-2024-08-06': {'cost': 0.0040275, 'prompt_tokens': 63, 'completion_tokens': 387, 'total_tokens': 450}}, 'usage_excluding_cached_inference': {'total_cost': 0.0040275, 'gpt-4o-2024-08-06': {'cost': 0.0040275, 'prompt_tokens': 63, 'completion_tokens': 387, 'total_tokens': 450}}}, human_input=[])"
      ]
     },
     "execution_count": 5,
     "metadata": {},
     "output_type": "execute_result"
    }
   ],
   "source": [
    "text = \"Would you plan the first day of a 5-day trip to Oahu, Hawaii for me?\"\n",
    "\n",
    "user.initiate_chat(teachable_agent, message=text, clear_history=True)"
   ]
  },
  {
   "cell_type": "markdown",
   "metadata": {},
   "source": [
    "An example reply is:\n",
    "\n",
    "Morning: **Arrival and Breakfast:** ... **Koko Head Café or Heavenly Island Lifestyle for breakfast.** ...  **Diamond Head Hike:** ... \\\n",
    "Afternoon: **Lunch:** ... **Beach Time:** ... **Explore Waikiki:** ... \\\n",
    "Evening: **Dinner and Sunset:** ... **Nightlife or Relax:** ... \n",
    "  \n",
    "-----------\n"
   ]
  },
  {
   "cell_type": "code",
   "execution_count": 6,
   "metadata": {},
   "outputs": [
    {
     "name": "stdout",
     "output_type": "stream",
     "text": [
      "\u001b[33muser\u001b[0m (to teachable_agent):\n",
      "\n",
      "Can you add snorkeling activities to this Oahu trip because I like snorkeling?\n",
      "\n",
      "--------------------------------------------------------------------------------\n"
     ]
    },
    {
     "name": "stderr",
     "output_type": "stream",
     "text": [
      "Add of existing embedding ID: 1\n",
      "Insert of existing embedding ID: 1\n"
     ]
    },
    {
     "name": "stdout",
     "output_type": "stream",
     "text": [
      "\u001b[33mteachable_agent\u001b[0m (to user):\n",
      "\n",
      "Certainly! Let's add some snorkeling activities to your first day in Oahu. Here's an updated itinerary:\n",
      "\n",
      "**Morning:**\n",
      "\n",
      "1. **Arrival and Breakfast:**\n",
      "   - Arrive at Daniel K. Inouye International Airport in Honolulu.\n",
      "   - Pick up your rental car or arrange for transportation to your hotel.\n",
      "   - Check into your hotel, if available, or store your luggage.\n",
      "   - Head to a local breakfast spot like *Koko Head Café* or *Heavenly Island Lifestyle* for a delicious island-style breakfast.\n",
      "\n",
      "2. **Diamond Head Hike:**\n",
      "   - Head to Diamond Head State Monument for a hike. It's a popular trail and offers stunning views of Waikiki and the Pacific Ocean. Remember to bring water, sunscreen, and wear comfortable shoes.\n",
      "\n",
      "**Afternoon:**\n",
      "\n",
      "3. **Snorkeling at Hanauma Bay:**\n",
      "   - After your hike, head over to Hanauma Bay Nature Preserve for a snorkeling adventure. It's one of the best spots on the island to see a variety of marine life. Be sure to check the preserve's schedule and watch the mandatory safety video before you start.\n",
      "\n",
      "4. **Lunch:**\n",
      "   - Enjoy a picnic lunch at Hanauma Bay, or on your return trip to Waikiki, you can stop by *Duke’s Waikiki* for a meal right on the beach.\n",
      "\n",
      "5. **Beach Time:**\n",
      "   - Spend some time relaxing on Waikiki Beach after snorkeling. Swim, sunbathe, or try out other water sports like surfing or paddleboarding.\n",
      "\n",
      "**Evening:**\n",
      "\n",
      "6. **Dinner and Sunset:**\n",
      "   - Enjoy dinner at *House Without a Key* at the Halekulani Hotel, where you can catch a beautiful sunset and enjoy live Hawaiian music and hula dancing.\n",
      "\n",
      "7. **Nightlife or Relax:**\n",
      "   - If you're up for it, explore Waikiki’s nightlife with a drink at a local bar like *Mai Tai Bar Waikiki*. Alternatively, head back to your hotel for a relaxing evening.\n",
      "\n",
      "Let me know if there are any further adjustments you'd like to make!\n",
      "\n",
      "--------------------------------------------------------------------------------\n",
      "\u001b[31m\n",
      ">>>>>>>> TERMINATING RUN (e679bf7f-3bdf-435c-9b72-afcb9e70f390): Maximum number of consecutive auto-replies reached\u001b[0m\n"
     ]
    },
    {
     "data": {
      "text/plain": [
       "ChatResult(chat_id=None, chat_history=[{'content': 'Can you add snorkeling activities to this Oahu trip because I like snorkeling?', 'role': 'assistant', 'name': 'user'}, {'content': \"Certainly! Let's add some snorkeling activities to your first day in Oahu. Here's an updated itinerary:\\n\\n**Morning:**\\n\\n1. **Arrival and Breakfast:**\\n   - Arrive at Daniel K. Inouye International Airport in Honolulu.\\n   - Pick up your rental car or arrange for transportation to your hotel.\\n   - Check into your hotel, if available, or store your luggage.\\n   - Head to a local breakfast spot like *Koko Head Café* or *Heavenly Island Lifestyle* for a delicious island-style breakfast.\\n\\n2. **Diamond Head Hike:**\\n   - Head to Diamond Head State Monument for a hike. It's a popular trail and offers stunning views of Waikiki and the Pacific Ocean. Remember to bring water, sunscreen, and wear comfortable shoes.\\n\\n**Afternoon:**\\n\\n3. **Snorkeling at Hanauma Bay:**\\n   - After your hike, head over to Hanauma Bay Nature Preserve for a snorkeling adventure. It's one of the best spots on the island to see a variety of marine life. Be sure to check the preserve's schedule and watch the mandatory safety video before you start.\\n\\n4. **Lunch:**\\n   - Enjoy a picnic lunch at Hanauma Bay, or on your return trip to Waikiki, you can stop by *Duke’s Waikiki* for a meal right on the beach.\\n\\n5. **Beach Time:**\\n   - Spend some time relaxing on Waikiki Beach after snorkeling. Swim, sunbathe, or try out other water sports like surfing or paddleboarding.\\n\\n**Evening:**\\n\\n6. **Dinner and Sunset:**\\n   - Enjoy dinner at *House Without a Key* at the Halekulani Hotel, where you can catch a beautiful sunset and enjoy live Hawaiian music and hula dancing.\\n\\n7. **Nightlife or Relax:**\\n   - If you're up for it, explore Waikiki’s nightlife with a drink at a local bar like *Mai Tai Bar Waikiki*. Alternatively, head back to your hotel for a relaxing evening.\\n\\nLet me know if there are any further adjustments you'd like to make!\", 'role': 'user', 'name': 'teachable_agent'}], summary=\"Certainly! Let's add some snorkeling activities to your first day in Oahu. Here's an updated itinerary:\\n\\n**Morning:**\\n\\n1. **Arrival and Breakfast:**\\n   - Arrive at Daniel K. Inouye International Airport in Honolulu.\\n   - Pick up your rental car or arrange for transportation to your hotel.\\n   - Check into your hotel, if available, or store your luggage.\\n   - Head to a local breakfast spot like *Koko Head Café* or *Heavenly Island Lifestyle* for a delicious island-style breakfast.\\n\\n2. **Diamond Head Hike:**\\n   - Head to Diamond Head State Monument for a hike. It's a popular trail and offers stunning views of Waikiki and the Pacific Ocean. Remember to bring water, sunscreen, and wear comfortable shoes.\\n\\n**Afternoon:**\\n\\n3. **Snorkeling at Hanauma Bay:**\\n   - After your hike, head over to Hanauma Bay Nature Preserve for a snorkeling adventure. It's one of the best spots on the island to see a variety of marine life. Be sure to check the preserve's schedule and watch the mandatory safety video before you start.\\n\\n4. **Lunch:**\\n   - Enjoy a picnic lunch at Hanauma Bay, or on your return trip to Waikiki, you can stop by *Duke’s Waikiki* for a meal right on the beach.\\n\\n5. **Beach Time:**\\n   - Spend some time relaxing on Waikiki Beach after snorkeling. Swim, sunbathe, or try out other water sports like surfing or paddleboarding.\\n\\n**Evening:**\\n\\n6. **Dinner and Sunset:**\\n   - Enjoy dinner at *House Without a Key* at the Halekulani Hotel, where you can catch a beautiful sunset and enjoy live Hawaiian music and hula dancing.\\n\\n7. **Nightlife or Relax:**\\n   - If you're up for it, explore Waikiki’s nightlife with a drink at a local bar like *Mai Tai Bar Waikiki*. Alternatively, head back to your hotel for a relaxing evening.\\n\\nLet me know if there are any further adjustments you'd like to make!\", cost={'usage_including_cached_inference': {'total_cost': 0.009495, 'gpt-4o-2024-08-06': {'cost': 0.009495, 'prompt_tokens': 558, 'completion_tokens': 810, 'total_tokens': 1368}}, 'usage_excluding_cached_inference': {'total_cost': 0.009495, 'gpt-4o-2024-08-06': {'cost': 0.009495, 'prompt_tokens': 558, 'completion_tokens': 810, 'total_tokens': 1368}}}, human_input=[])"
      ]
     },
     "execution_count": 6,
     "metadata": {},
     "output_type": "execute_result"
    }
   ],
   "source": [
    "text = \"Can you add snorkeling activities to this Oahu trip because I like snorkeling?\"\n",
    "\n",
    "user.initiate_chat(teachable_agent, message=text, clear_history=True)"
   ]
  },
  {
   "cell_type": "markdown",
   "metadata": {},
   "source": [
    "Our customized teachable agent **memorizes the context** and changes only one activity to snorkeling, like below:\n",
    "\n",
    "Morning: Arrival and Breakfast: ... Koko Head Café or Heavenly Island Lifestyle for breakfast. ...  Diamond Head Hike: ... \\\n",
    "Afternoon: **Snorkeling at Hanauma Bay:** ... Lunch: ... Beach Time: ... \\\n",
    "Evening: Dinner and Sunset: ... Nightlife or Relax: ... \n",
    "  \n",
    "-----------\n"
   ]
  },
  {
   "cell_type": "markdown",
   "metadata": {},
   "source": [
    "## Context Switch\n",
    "\n",
    "Our customized teachable agent maintains multiple tasks and their contexts, so it can switch context. \\\n",
    "For example, we can switch to an email writing task and then come back to the Hawaii scheduling task."
   ]
  },
  {
   "cell_type": "code",
   "execution_count": 7,
   "metadata": {},
   "outputs": [
    {
     "name": "stdout",
     "output_type": "stream",
     "text": [
      "\u001b[33muser\u001b[0m (to teachable_agent):\n",
      "\n",
      "Would you write an email to thank Mike for organizing the meet-up event for team members around US to get together on 5/1 at Boston?\n",
      "\n",
      "--------------------------------------------------------------------------------\n",
      "\u001b[33mteachable_agent\u001b[0m (to user):\n",
      "\n",
      "Certainly! Here's a draft for your email:\n",
      "\n",
      "---\n",
      "\n",
      "Subject: Thank You for Organizing the Team Meet-Up in Boston!\n",
      "\n",
      "Hi Mike,\n",
      "\n",
      "I hope this message finds you well. I wanted to extend a heartfelt thank you for organizing the meet-up event for our team members from across the US on May 1st in Boston. Your efforts in bringing everyone together did not go unnoticed.\n",
      "\n",
      "The event was a fantastic opportunity for us all to connect face-to-face and strengthen our team bonds. I truly appreciate the time and effort you put into making this happen. From arranging the venue to coordinating all the details, everything was seamless and contributed to a successful and enjoyable gathering.\n",
      "\n",
      "Thank you once again for your hard work and dedication. Looking forward to more great events in the future!\n",
      "\n",
      "Best regards,\n",
      "\n",
      "[Your Name]\n",
      "\n",
      "--- \n",
      "\n",
      "Feel free to personalize this message further if needed!\n",
      "\n",
      "--------------------------------------------------------------------------------\n",
      "\u001b[31m\n",
      ">>>>>>>> TERMINATING RUN (0a7095ff-bb9f-474a-8ef4-75b1346de537): Maximum number of consecutive auto-replies reached\u001b[0m\n"
     ]
    },
    {
     "data": {
      "text/plain": [
       "ChatResult(chat_id=None, chat_history=[{'content': 'Would you write an email to thank Mike for organizing the meet-up event for team members around US to get together on 5/1 at Boston?', 'role': 'assistant', 'name': 'user'}, {'content': \"Certainly! Here's a draft for your email:\\n\\n---\\n\\nSubject: Thank You for Organizing the Team Meet-Up in Boston!\\n\\nHi Mike,\\n\\nI hope this message finds you well. I wanted to extend a heartfelt thank you for organizing the meet-up event for our team members from across the US on May 1st in Boston. Your efforts in bringing everyone together did not go unnoticed.\\n\\nThe event was a fantastic opportunity for us all to connect face-to-face and strengthen our team bonds. I truly appreciate the time and effort you put into making this happen. From arranging the venue to coordinating all the details, everything was seamless and contributed to a successful and enjoyable gathering.\\n\\nThank you once again for your hard work and dedication. Looking forward to more great events in the future!\\n\\nBest regards,\\n\\n[Your Name]\\n\\n--- \\n\\nFeel free to personalize this message further if needed!\", 'role': 'user', 'name': 'teachable_agent'}], summary=\"Certainly! Here's a draft for your email:\\n\\n---\\n\\nSubject: Thank You for Organizing the Team Meet-Up in Boston!\\n\\nHi Mike,\\n\\nI hope this message finds you well. I wanted to extend a heartfelt thank you for organizing the meet-up event for our team members from across the US on May 1st in Boston. Your efforts in bringing everyone together did not go unnoticed.\\n\\nThe event was a fantastic opportunity for us all to connect face-to-face and strengthen our team bonds. I truly appreciate the time and effort you put into making this happen. From arranging the venue to coordinating all the details, everything was seamless and contributed to a successful and enjoyable gathering.\\n\\nThank you once again for your hard work and dedication. Looking forward to more great events in the future!\\n\\nBest regards,\\n\\n[Your Name]\\n\\n--- \\n\\nFeel free to personalize this message further if needed!\", cost={'usage_including_cached_inference': {'total_cost': 0.0113975, 'gpt-4o-2024-08-06': {'cost': 0.0113975, 'prompt_tokens': 631, 'completion_tokens': 982, 'total_tokens': 1613}}, 'usage_excluding_cached_inference': {'total_cost': 0.0113975, 'gpt-4o-2024-08-06': {'cost': 0.0113975, 'prompt_tokens': 631, 'completion_tokens': 982, 'total_tokens': 1613}}}, human_input=[])"
      ]
     },
     "execution_count": 7,
     "metadata": {},
     "output_type": "execute_result"
    }
   ],
   "source": [
    "text = \"Would you write an email to thank Mike for organizing the meet-up event for team members around US to get together on 5/1 at Boston?\"\n",
    "\n",
    "user.initiate_chat(teachable_agent, message=text, clear_history=True)"
   ]
  },
  {
   "cell_type": "code",
   "execution_count": 8,
   "metadata": {},
   "outputs": [
    {
     "name": "stdout",
     "output_type": "stream",
     "text": [
      "\u001b[33muser\u001b[0m (to teachable_agent):\n",
      "\n",
      "Can you change the breakfast restaurant of Day 1 at Oahu?\n",
      "\n",
      "--------------------------------------------------------------------------------\n"
     ]
    },
    {
     "name": "stderr",
     "output_type": "stream",
     "text": [
      "Add of existing embedding ID: 1\n",
      "Insert of existing embedding ID: 1\n"
     ]
    },
    {
     "name": "stdout",
     "output_type": "stream",
     "text": [
      "\u001b[33mteachable_agent\u001b[0m (to user):\n",
      "\n",
      "Sure! Let's update the breakfast restaurant on Day 1 of your Oahu itinerary. Here’s the revised entry for your breakfast:\n",
      "\n",
      "**Morning:**\n",
      "\n",
      "1. **Arrival and Breakfast:**\n",
      "   - Arrive at Daniel K. Inouye International Airport in Honolulu.\n",
      "   - Pick up your rental car or arrange for transportation to your hotel.\n",
      "   - Check into your hotel, if available, or store your luggage.\n",
      "   - Head to a local breakfast spot like *Island Vintage Coffee* or *Over Easy* to kick off your day with a fantastic breakfast.\n",
      "\n",
      "Let me know if there's anything else you'd like to adjust!\n",
      "\n",
      "--------------------------------------------------------------------------------\n",
      "\u001b[31m\n",
      ">>>>>>>> TERMINATING RUN (73a40586-c31b-4aff-934d-4fe7eee54e21): Maximum number of consecutive auto-replies reached\u001b[0m\n"
     ]
    },
    {
     "data": {
      "text/plain": [
       "ChatResult(chat_id=None, chat_history=[{'content': 'Can you change the breakfast restaurant of Day 1 at Oahu?', 'role': 'assistant', 'name': 'user'}, {'content': \"Sure! Let's update the breakfast restaurant on Day 1 of your Oahu itinerary. Here’s the revised entry for your breakfast:\\n\\n**Morning:**\\n\\n1. **Arrival and Breakfast:**\\n   - Arrive at Daniel K. Inouye International Airport in Honolulu.\\n   - Pick up your rental car or arrange for transportation to your hotel.\\n   - Check into your hotel, if available, or store your luggage.\\n   - Head to a local breakfast spot like *Island Vintage Coffee* or *Over Easy* to kick off your day with a fantastic breakfast.\\n\\nLet me know if there's anything else you'd like to adjust!\", 'role': 'user', 'name': 'teachable_agent'}], summary=\"Sure! Let's update the breakfast restaurant on Day 1 of your Oahu itinerary. Here’s the revised entry for your breakfast:\\n\\n**Morning:**\\n\\n1. **Arrival and Breakfast:**\\n   - Arrive at Daniel K. Inouye International Airport in Honolulu.\\n   - Pick up your rental car or arrange for transportation to your hotel.\\n   - Check into your hotel, if available, or store your luggage.\\n   - Head to a local breakfast spot like *Island Vintage Coffee* or *Over Easy* to kick off your day with a fantastic breakfast.\\n\\nLet me know if there's anything else you'd like to adjust!\", cost={'usage_including_cached_inference': {'total_cost': 0.0140025, 'gpt-4o-2024-08-06': {'cost': 0.0140025, 'prompt_tokens': 1173, 'completion_tokens': 1107, 'total_tokens': 2280}}, 'usage_excluding_cached_inference': {'total_cost': 0.0140025, 'gpt-4o-2024-08-06': {'cost': 0.0140025, 'prompt_tokens': 1173, 'completion_tokens': 1107, 'total_tokens': 2280}}}, human_input=[])"
      ]
     },
     "execution_count": 8,
     "metadata": {},
     "output_type": "execute_result"
    }
   ],
   "source": [
    "text = \"Can you change the breakfast restaurant of Day 1 at Oahu?\"\n",
    "\n",
    "user.initiate_chat(teachable_agent, message=text, clear_history=True)"
   ]
  },
  {
   "cell_type": "markdown",
   "metadata": {},
   "source": [
    "Our customized teachable agent **memorizes the context** again and changes only the breakfast restaurant, like below:\n",
    "\n",
    "Morning: Arrival and Breakfast: ... **Island Vintage Coffee or Over Easy for breakfast.** ...  \\\n",
    "  \n",
    "-----------"
   ]
  },
  {
   "cell_type": "code",
   "execution_count": null,
   "metadata": {},
   "outputs": [],
   "source": []
  }
 ],
 "metadata": {
  "front_matter": {
   "description": "Learn how to persist memories across chat sessions using the Teachability capability",
   "tags": [
    "teachability",
    "learning",
    "RAG",
    "capability"
   ]
  },
  "kernelspec": {
   "display_name": "Python 3 (ipykernel)",
   "language": "python",
   "name": "python3"
  },
  "language_info": {
   "codemirror_mode": {
    "name": "ipython",
    "version": 3
   },
   "file_extension": ".py",
   "mimetype": "text/x-python",
   "name": "python",
   "nbconvert_exporter": "python",
   "pygments_lexer": "ipython3",
   "version": "3.11.11"
  }
 },
 "nbformat": 4,
 "nbformat_minor": 4
}
