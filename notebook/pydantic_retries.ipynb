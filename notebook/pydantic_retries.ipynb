{
 "cells": [
  {
   "cell_type": "code",
   "execution_count": 1,
   "metadata": {},
   "outputs": [],
   "source": [
    "from pydantic_ai import RunContext, Tool, ModelRetry\n",
    "import nest_asyncio"
   ]
  },
  {
   "cell_type": "code",
   "execution_count": 2,
   "metadata": {},
   "outputs": [],
   "source": [
    "nest_asyncio.apply()"
   ]
  },
  {
   "cell_type": "code",
   "execution_count": null,
   "metadata": {},
   "outputs": [],
   "source": [
    "from pydantic_ai import Agent\n",
    "\n",
    "\n",
    "def get_player_name(ctx: RunContext[str]) -> str:\n",
    "    \"\"\"Get the player's name.\"\"\"\n",
    "    # raise ValueError('Could not find player')\n",
    "    assert ctx.retry == 0\n",
    "    raise ModelRetry('Could not find player')\n",
    "\n",
    "agent = Agent(\n",
    "    \"openai:gpt-4o\",\n",
    "    deps_type=str,\n",
    "    tools=[get_player_name],\n",
    "    retries=1,\n",
    ")\n",
    "result1 = agent.run_sync(\"Get players name\", deps=\"Anne\")\n",
    "for message in result1.all_messages():\n",
    "    print(message)"
   ]
  },
  {
   "cell_type": "code",
   "execution_count": null,
   "metadata": {},
   "outputs": [],
   "source": [
    "result2 = agent.run_sync(\"Get players name\", deps=\"Anne\", message_history=result1.all_messages())\n",
    "for message in result2.all_messages():\n",
    "    print(message)\n",
    "\n",
    "print(agent._current_result_retry)"
   ]
  },
  {
   "cell_type": "code",
   "execution_count": null,
   "metadata": {},
   "outputs": [],
   "source": [
    "result = agent.run_sync(\"Get players name\", deps=\"Anne\", message_history=result2.all_messages())\n",
    "for message in result.all_messages():\n",
    "    print(message)"
   ]
  },
  {
   "cell_type": "code",
   "execution_count": null,
   "metadata": {},
   "outputs": [],
   "source": []
  }
 ],
 "metadata": {
  "kernelspec": {
   "display_name": ".venv",
   "language": "python",
   "name": "python3"
  },
  "language_info": {
   "codemirror_mode": {
    "name": "ipython",
    "version": 3
   },
   "file_extension": ".py",
   "mimetype": "text/x-python",
   "name": "python",
   "nbconvert_exporter": "python",
   "pygments_lexer": "ipython3",
   "version": "3.10.16"
  }
 },
 "nbformat": 4,
 "nbformat_minor": 2
}
