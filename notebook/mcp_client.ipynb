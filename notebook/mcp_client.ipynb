{
 "cells": [
  {
   "cell_type": "markdown",
   "metadata": {},
   "source": [
    "# MCP Clients\n",
    "\n",
    "[Model Context Protocol (MCP)](https://modelcontextprotocol.io/introduction) is an open protocol that standardizes how applications provide context to LLMs.\n",
    "\n",
    "In AG2, you can build a toolkit from the MCP tools available in an MCP session and these tools will be made available to the AG2 clients.\n",
    "\n",
    "This guide explains how to build MCP clients that connect to MCP servers.\n",
    "\n",
    "## Installation\n",
    "\n",
    "**Note: Python 3.10 and higher is required.**\n",
    "\n",
    "To integrate MCP tools into the AG2 framework, install the required dependencies (`openai` installs the OpenAI client for the examples in this notebook):\n",
    "\n",
    "```bash\n",
    "pip install -U ag2[openai,mcp]\n",
    "```\n",
    "\n",
    "> **Note:** If you have been using `autogen` or `pyautogen`, all you need to do is upgrade it using:  \n",
    "> ```bash\n",
    "> pip install -U autogen[openai,mcp]\n",
    "> ```\n",
    "> or  \n",
    "> ```bash\n",
    "> pip install -U pyautogen[openai,mcp]\n",
    "> ```\n",
    "> as `pyautogen`, `autogen`, and `ag2` are aliases for the same PyPI package.  \n",
    "\n",
    "## Imports"
   ]
  },
  {
   "cell_type": "code",
   "execution_count": null,
   "metadata": {},
   "outputs": [],
   "source": [
    "from pathlib import Path\n",
    "\n",
    "from mcp import ClientSession, StdioServerParameters\n",
    "from mcp.client.stdio import stdio_client\n",
    "\n",
    "from autogen.agentchat import AssistantAgent, ConversableAgent\n",
    "from autogen.mcp import create_toolkit"
   ]
  },
  {
   "cell_type": "code",
   "execution_count": null,
   "metadata": {},
   "outputs": [],
   "source": [
    "# Only needed for Jupyter notebooks\n",
    "import nest_asyncio\n",
    "\n",
    "nest_asyncio.apply()"
   ]
  },
  {
   "cell_type": "markdown",
   "metadata": {},
   "source": [
    "## Setting up an MCP Server\n",
    "\n",
    "We will create a simple MCP server that exposes two tools: `add` and `multiply`.\n",
    "\n",
    "For more details on creating MCP servers, visit the [MCP Python SDK documentation](https://github.com/modelcontextprotocol/python-sdk).\n",
    "\n",
    "Let's create a Python script (`math_server.py`) with the following content:"
   ]
  },
  {
   "cell_type": "code",
   "execution_count": null,
   "metadata": {},
   "outputs": [],
   "source": [
    "# Our server is a Python script that has two tools in it:\n",
    "# - add: adds two numbers\n",
    "# - multiply: multiplies two numbers\n",
    "# The docstrings will be utilised to describe the tools for our agents\n",
    "math_server_file_content = \"\"\"# math_server.py\n",
    "from mcp.server.fastmcp import FastMCP\n",
    "\n",
    "mcp = FastMCP(\"Math\")\n",
    "\n",
    "\n",
    "@mcp.tool()\n",
    "def add(a: int, b: int) -> int:\n",
    "    \\\"\\\"\\\"Add two numbers\\\"\\\"\\\"\n",
    "    return a + b\n",
    "\n",
    "\n",
    "@mcp.tool()\n",
    "def multiply(a: int, b: int) -> int:\n",
    "    \\\"\\\"\\\"Multiply two numbers\\\"\\\"\\\"\n",
    "    return a * b\n",
    "\n",
    "\n",
    "if __name__ == \"__main__\":\n",
    "    mcp.run(transport=\"stdio\")\n",
    "\"\"\"\n",
    "\n",
    "# Write content to a file\n",
    "math_server_path = Path(\"math_server.py\")\n",
    "math_server_path.write_text(math_server_file_content)"
   ]
  },
  {
   "cell_type": "markdown",
   "metadata": {},
   "source": [
    "## Connecting AG2 to the MCP Server\n",
    "\n",
    "To connect AG2 to the MCP server, follow these steps:\n",
    "- **Set up connection parameters** – Define how AG2 will communicate with the MCP server.\n",
    "- **Start a client session** – This session handles communication between AG2 and the server.\n",
    "- **Wrap MCP tools into a toolkit** – This makes them accessible to AG2.\n",
    "- **Register the toolkit with an AG2 agent** – This enables AG2 to use MCP tools.\n",
    "- **Start conversation** - Send a message with desired goal (e.g. adding two numbers)."
   ]
  },
  {
   "cell_type": "code",
   "execution_count": null,
   "metadata": {},
   "outputs": [],
   "source": [
    "# Create server parameters for stdio connection\n",
    "server_params = StdioServerParameters(\n",
    "    command=\"python\",  # Executable\n",
    "    args=[str(math_server_path)],  # Optional command line arguments\n",
    ")\n",
    "\n",
    "async with stdio_client(server_params) as (read, write), ClientSession(read, write) as session:\n",
    "    # Initialize the connection\n",
    "    await session.initialize()\n",
    "\n",
    "    # Create an AG2 toolkit with available MCP tools\n",
    "    toolkit = await create_toolkit(session=session)\n",
    "    agent = AssistantAgent(name=\"assistant\", llm_config={\"model\": \"gpt-4o-mini\", \"api_type\": \"openai\"})\n",
    "\n",
    "    # Register MCP tools with the agent\n",
    "    toolkit.register_for_llm(agent)\n",
    "\n",
    "    # Ask our agent to add two numbers (where it will choose the correct tool)\n",
    "    result = await agent.a_run(\n",
    "        message=\"Add 123223 and 456789\",\n",
    "        tools=toolkit.tools,\n",
    "        max_turns=2,\n",
    "        user_input=False,\n",
    "    )\n",
    "    await result.process()"
   ]
  },
  {
   "cell_type": "markdown",
   "metadata": {},
   "source": [
    "In the following example we'll have our agent utilize both of the tools in the tool kit, add and multiply.\n",
    "\n",
    "The agent will call add first, get the result, then call the multiply function with the result and 92 to get the final answer."
   ]
  },
  {
   "cell_type": "code",
   "execution_count": null,
   "metadata": {},
   "outputs": [],
   "source": [
    "# Create server parameters for stdio connection\n",
    "server_params = StdioServerParameters(\n",
    "    command=\"python\",  # Executable\n",
    "    args=[str(math_server_path)],  # Optional command line arguments\n",
    ")\n",
    "\n",
    "async with stdio_client(server_params) as (read, write), ClientSession(read, write) as session:\n",
    "    # Initialize the connection\n",
    "    await session.initialize()\n",
    "\n",
    "    # Create an AG2 toolkit with available MCP tools\n",
    "    toolkit = await create_toolkit(session=session)\n",
    "\n",
    "    # We'll turn off parallel tool calls so that the agent doesn't try to call both tools at the same time\n",
    "    # Reason: it needs the answer from the add tool before calling the multiply tool\n",
    "    agent = ConversableAgent(\n",
    "        name=\"assistant\", llm_config={\"model\": \"gpt-4o-mini\", \"api_type\": \"openai\", \"parallel_tool_calls\": False}\n",
    "    )\n",
    "\n",
    "    # Register MCP tools with the agent\n",
    "    toolkit.register_for_llm(agent)\n",
    "\n",
    "    # Ask our agent to add two numbers\n",
    "    result = await agent.a_run(\n",
    "        message=\"What is (123223 + 456789) * 92?\",\n",
    "        tools=toolkit.tools,\n",
    "        max_turns=3,\n",
    "        user_input=False,\n",
    "    )\n",
    "    await result.process()"
   ]
  }
 ],
 "metadata": {
  "front_matter": {
   "description": "MCP Clients",
   "tags": [
    "MCP",
    "Model Context Protocol",
    "tools",
    "toolkit"
   ]
  },
  "kernelspec": {
   "display_name": "Python 3",
   "language": "python",
   "name": "python3"
  },
  "language_info": {
   "codemirror_mode": {
    "name": "ipython",
    "version": 3
   },
   "file_extension": ".py",
   "mimetype": "text/x-python",
   "name": "python",
   "nbconvert_exporter": "python",
   "pygments_lexer": "ipython3",
   "version": "3.11.2"
  }
 },
 "nbformat": 4,
 "nbformat_minor": 2
}
