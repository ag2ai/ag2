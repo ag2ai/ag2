{
 "cells": [
  {
   "cell_type": "markdown",
   "metadata": {},
   "source": [
    "# Adding Perplexity Search Capability to AG2\n",
    "\n",
    "The Perplexity AI Search integration in AG2 allows users to perform real-time web searches within the AG2 framework. It uses advanced language models and real-time web search capabilities to provide users with up-to-date information and answers to their queries. Follow these steps to integrate Perplexity Search Tool with AG2 Agents and additional tools.\n",
    "\n",
    "\n",
    "### Configure Your Perplexity API Key\n",
    "\n",
    "1. Create a Perplexity Account:\n",
    "   - [Go to Perplexity API Page](https://sonar.perplexity.ai/)\n",
    "   - Click `Get Started` and create an account.\n",
    "   - Follow to steps and chose Free Tier when proposed.\n",
    "2. Get a Perplexity API Key:\n",
    "   - Go to [API Section](https://www.perplexity.ai/settings/api) after you create your account.\n",
    "   - Set up a payment method (you need to set up a payment method to create an API key).\n",
    "   - Navigate to **Settings > API**, search for **API Keys**, click on **Generate** and copy it.\n",
    "3. Export Perplexity API Key:\n",
    "    ```bash\n",
    "    export PERPLEXITY_API_KEY=\"your_api_key\"\n",
    "    ```\n",
    "\n",
    "### Installation\n",
    "\n",
    "To get started with the `Perplexity Search` integration in AG2, follow these steps:\n",
    "\n",
    "Install AG2 with the `perplexity-search` extra.\n",
    "Install `openai` as well since our examples use openai:\n",
    "   \n",
    "```bash\n",
    "pip install -U ag2[openai,perplexity-search]\n",
    "```\n",
    "> **Note:** If you have been using `autogen` or `pyautogen`, all you need to do is upgrade it using:  \n",
    "> ```bash\n",
    "> pip install -U autogen[openai,perplexity-search]\n",
    "> ```\n",
    "> or  \n",
    "> ```bash\n",
    "> pip install -U pyautogen[openai,perplexity-search]\n",
    "> ```\n",
    "> as `pyautogen`, `autogen`, and `ag2` are aliases for the same PyPI package.\n",
    "\n",
    "You're all set! Now you can start using Google Search with AG2."
   ]
  },
  {
   "cell_type": "markdown",
   "metadata": {},
   "source": [
    "## Using Perplexity Search Tool with Agents\n",
    "\n",
    "The `PerplexitySearchTool` enables agents to perform real time AI Powered web search."
   ]
  },
  {
   "cell_type": "markdown",
   "metadata": {},
   "source": [
    "### Imports"
   ]
  },
  {
   "cell_type": "code",
   "execution_count": null,
   "metadata": {},
   "outputs": [],
   "source": [
    "import os\n",
    "\n",
    "import autogen\n",
    "from autogen import AssistantAgent, UserProxyAgent\n",
    "from autogen.tools.experimental import PerplexitySearchTool"
   ]
  },
  {
   "cell_type": "markdown",
   "metadata": {},
   "source": [
    "### Agent Configuration"
   ]
  },
  {
   "cell_type": "code",
   "execution_count": null,
   "metadata": {},
   "outputs": [],
   "source": [
    "config_list = autogen.config_list_from_json(\n",
    "    env_or_file=\"OAI_CONFIG_LIST\",\n",
    "    filter_dict={\n",
    "        \"model\": [\"gpt-4o-mini\"],\n",
    "    },\n",
    ")\n",
    "\n",
    "assistant = AssistantAgent(\n",
    "    name=\"assistant\",\n",
    "    llm_config={\"config_list\": config_list},\n",
    ")\n",
    "\n",
    "user_proxy = UserProxyAgent(name=\"user_proxy\", llm_config={\"config_list\": config_list}, human_input_mode=\"NEVER\")"
   ]
  },
  {
   "cell_type": "markdown",
   "metadata": {},
   "source": [
    "### Tool Initialization"
   ]
  },
  {
   "cell_type": "code",
   "execution_count": null,
   "metadata": {},
   "outputs": [],
   "source": [
    "api_key = os.getenv(\"PERPLEXITY_API_KEY\")\n",
    "\n",
    "perplexity_search_tool = PerplexitySearchTool(api_key=api_key, max_tokens=1000)\n",
    "\n",
    "# Once initialized, register the tool for LLM recommendation and execution\n",
    "perplexity_search_tool.register_for_llm(assistant)\n",
    "perplexity_search_tool.register_for_execution(user_proxy)"
   ]
  },
  {
   "cell_type": "markdown",
   "metadata": {},
   "source": [
    "### Start the Conversation\n",
    "\n",
    "With the setup complete, you can now use the assistant to fetch live web search results."
   ]
  },
  {
   "cell_type": "code",
   "execution_count": null,
   "metadata": {},
   "outputs": [],
   "source": [
    "result = user_proxy.initiate_chat(\n",
    "    recipient=assistant,\n",
    "    message=\"What happened with stock prices after deepseek was launched? please search the web.\",\n",
    "    max_turns=2,\n",
    ")"
   ]
  },
  {
   "cell_type": "code",
   "execution_count": null,
   "metadata": {},
   "outputs": [],
   "source": []
  }
 ],
 "metadata": {
  "kernelspec": {
   "display_name": ".venv-google-search",
   "language": "python",
   "name": "python3"
  },
  "language_info": {
   "codemirror_mode": {
    "name": "ipython",
    "version": 3
   },
   "file_extension": ".py",
   "mimetype": "text/x-python",
   "name": "python",
   "nbconvert_exporter": "python",
   "pygments_lexer": "ipython3",
   "version": "3.11.8"
  }
 },
 "nbformat": 4,
 "nbformat_minor": 2
}
