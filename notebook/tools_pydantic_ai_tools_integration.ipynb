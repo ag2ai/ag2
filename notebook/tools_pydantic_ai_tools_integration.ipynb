{
 "cells": [
  {
   "cell_type": "markdown",
   "metadata": {},
   "source": [
    "# Integrating PydanticAI Tools with the AG2 Framework\n",
    "\n",
    "In this tutorial, we demonstrate how to integrate [PydanticAI Tools](https://ai.pydantic.dev/tools/) into the AG2 framework. This process enables smooth interoperability between the two systems, allowing developers to leverage PydanticAI's powerful tools within AG2's flexible agent-based architecture. By the end of this guide, you will understand how to configure agents, convert PydanticAI tools for use in AG2, and validate the integration with a practical example.\n"
   ]
  },
  {
   "cell_type": "markdown",
   "metadata": {},
   "source": [
    "## Installation\n",
    "To integrate LangChain tools into the AG2 framework, install the required dependencies:\n",
    "\n",
    "```bash\n",
    "pip install ag2[interop-pydantic-ai]\n",
    "```\n"
   ]
  },
  {
   "cell_type": "markdown",
   "metadata": {},
   "source": [
    "## Imports\n",
    "\n",
    "Import necessary modules and tools.\n",
    "- `BaseModel`: Used to define data structures for tool inputs and outputs.\n",
    "- `RunContext`: Provides context during the execution of tools.\n",
    "- `PydanticAITool`: Represents a tool in the PydanticAI framework.\n",
    "- `AssistantAgent` and `UserProxyAgent`: Agents that facilitate communication in the AG2 framework.\n",
    "- `PydanticAIInteroperability`: A bridge for integrating PydanticAI tools with the AG2 framework."
   ]
  },
  {
   "cell_type": "code",
   "execution_count": 1,
   "metadata": {},
   "outputs": [],
   "source": [
    "import os\n",
    "from typing import Optional\n",
    "\n",
    "from pydantic import BaseModel\n",
    "from pydantic_ai import RunContext\n",
    "from pydantic_ai.tools import Tool as PydanticAITool\n",
    "\n",
    "from autogen import AssistantAgent, UserProxyAgent\n",
    "from autogen.interop.pydantic_ai import PydanticAIInteroperability"
   ]
  },
  {
   "cell_type": "markdown",
   "metadata": {},
   "source": [
    "## Agent Configuration\n",
    "\n",
    "Configure the agents for the interaction.\n",
    "- `config_list` defines the LLM configurations, including the model and API key.\n",
    "- `UserProxyAgent` simulates user inputs without requiring actual human interaction (set to `NEVER`).\n",
    "- `AssistantAgent` represents the AI agent, configured with the LLM settings."
   ]
  },
  {
   "cell_type": "code",
   "execution_count": 2,
   "metadata": {},
   "outputs": [],
   "source": [
    "config_list = [{\"model\": \"gpt-4o\", \"api_key\": os.environ[\"OPENAI_API_KEY\"]}]\n",
    "user_proxy = UserProxyAgent(\n",
    "    name=\"User\",\n",
    "    human_input_mode=\"NEVER\",\n",
    ")\n",
    "\n",
    "chatbot = AssistantAgent(\n",
    "    name=\"chatbot\",\n",
    "    llm_config={\"config_list\": config_list},\n",
    ")"
   ]
  },
  {
   "cell_type": "markdown",
   "metadata": {},
   "source": [
    "## Tool Integration\n",
    "\n",
    "Integrate the PydanticAI tool with AG2.\n",
    "\n",
    "- Define a `Player` model using `BaseModel` to structure the input data.\n",
    "- Use `RunContext` to securely inject dependencies (like the `Player` instance) into the tool function without exposing them to the LLM.\n",
    "- Implement `get_player` to define the tool's functionality, accessing `ctx.deps` for injected data.\n",
    "- Convert the tool to an AG2-compatible format with `PydanticAIInteroperability` and register it for execution and LLM communication.\n",
    "- Convert the PydanticAI tool into an AG2-compatible format using `convert_tool`.\n",
    "- Register the tool for both execution and communication with the LLM by associating it with the `user_proxy` and `chatbot`."
   ]
  },
  {
   "cell_type": "code",
   "execution_count": 3,
   "metadata": {},
   "outputs": [],
   "source": [
    "class Player(BaseModel):\n",
    "    name: str\n",
    "    age: int\n",
    "\n",
    "\n",
    "def get_player(ctx: RunContext[Player], additional_info: Optional[str] = None) -> str:  # type: ignore[valid-type]\n",
    "    \"\"\"Get the player's name.\n",
    "\n",
    "    Args:\n",
    "        additional_info: Additional information which can be used.\n",
    "    \"\"\"\n",
    "    return f\"Name: {ctx.deps.name}, Age: {ctx.deps.age}, Additional info: {additional_info}\"  # type: ignore[attr-defined]\n",
    "\n",
    "\n",
    "pydantic_ai_interop = PydanticAIInteroperability()\n",
    "pydantic_ai_tool = PydanticAITool(get_player, takes_ctx=True)\n",
    "\n",
    "# player will be injected as a dependency\n",
    "player = Player(name=\"Luka\", age=25)\n",
    "ag2_tool = pydantic_ai_interop.convert_tool(tool=pydantic_ai_tool, deps=player)\n",
    "\n",
    "ag2_tool.register_for_execution(user_proxy)\n",
    "ag2_tool.register_for_llm(chatbot)"
   ]
  },
  {
   "cell_type": "markdown",
   "metadata": {},
   "source": [
    "Initiate a conversation between the `UserProxyAgent` and the `AssistantAgent`.\n",
    "\n",
    "- Use the `initiate_chat` method to send a message from the `user_proxy` to the `chatbot`.\n",
    "- In this example, the user requests the chatbot to retrieve player information, providing \"goal keeper\" as additional context.\n",
    "- The `Player` instance is securely injected into the tool using `RunContext`, ensuring the chatbot can retrieve and use this data during the interaction."
   ]
  },
  {
   "cell_type": "code",
   "execution_count": null,
   "metadata": {},
   "outputs": [],
   "source": [
    "user_proxy.initiate_chat(\n",
    "    recipient=chatbot, message=\"Get player, for additional information use 'goal keeper'\", max_turns=3\n",
    ")"
   ]
  },
  {
   "cell_type": "code",
   "execution_count": null,
   "metadata": {},
   "outputs": [],
   "source": []
  }
 ],
 "metadata": {
  "kernelspec": {
   "display_name": ".venv",
   "language": "python",
   "name": "python3"
  },
  "language_info": {
   "codemirror_mode": {
    "name": "ipython",
    "version": 3
   },
   "file_extension": ".py",
   "mimetype": "text/x-python",
   "name": "python",
   "nbconvert_exporter": "python",
   "pygments_lexer": "ipython3",
   "version": "3.10.16"
  }
 },
 "nbformat": 4,
 "nbformat_minor": 2
}
