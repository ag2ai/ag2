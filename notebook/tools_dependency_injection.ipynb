{
 "cells": [
  {
   "cell_type": "code",
   "execution_count": 1,
   "metadata": {},
   "outputs": [],
   "source": [
    "import os\n",
    "from typing import Annotated, Literal\n",
    "from pydantic import BaseModel\n",
    "\n",
    "from autogen.tools.dependency_injection import BaseContext, Depends\n",
    "from autogen.agentchat import UserProxyAgent, ConversableAgent\n",
    "from autogen import GroupChat, GroupChatManager"
   ]
  },
  {
   "cell_type": "code",
   "execution_count": 2,
   "metadata": {},
   "outputs": [],
   "source": [
    "config_list = [{\"model\": \"gpt-4o-mini\", \"api_key\": os.environ[\"OPENAI_API_KEY\"]}]\n",
    "assistant = ConversableAgent(\n",
    "    name=\"assistant\",\n",
    "    llm_config={\"config_list\": config_list},\n",
    ")\n",
    "user_proxy = UserProxyAgent(\n",
    "    name=\"user_proxy_1\",\n",
    "    human_input_mode=\"NEVER\",\n",
    "    llm_config=False,\n",
    ")"
   ]
  },
  {
   "cell_type": "code",
   "execution_count": 3,
   "metadata": {},
   "outputs": [],
   "source": [
    "account_ballace_dict = {\n",
    "    (\"alice\", \"password123\"): 300,\n",
    "    (\"bob\", \"password456\"): 200,\n",
    "    (\"charlie\", \"password789\"): 100,\n",
    "}\n",
    "\n",
    "class Account(BaseContext, BaseModel):\n",
    "    username: str\n",
    "    password: str\n",
    "    currency: Literal[\"USD\", \"EUR\"] = \"USD\"\n",
    "\n",
    "bob_account = Account(username=\"bob\", password=\"password456\")\n",
    "\n",
    "\n",
    "def _verify_account(account: Account):\n",
    "    if (account.username, account.password) not in account_ballace_dict:\n",
    "        raise ValueError(\"Invalid username or password\")\n",
    "\n",
    "@user_proxy.register_for_execution()\n",
    "@assistant.register_for_llm(description=\"Get the balance of the account\")\n",
    "def get_balance(\n",
    "    # Account which will be injected to the function\n",
    "    account: Annotated[Account, Depends(bob_account)],\n",
    "    # It is also possible to use the following syntax to define the dependency\n",
    "    # account: Account = Depends(bob_account), \n",
    ") -> str:\n",
    "    _verify_account(account)\n",
    "    return f\"Your balance is {account_ballace_dict[(account.username, account.password)]}{account.currency}\"\n",
    "\n",
    "@user_proxy.register_for_execution()\n",
    "@assistant.register_for_llm(description=\"Set the balance of the account\")\n",
    "def update_balance_with_interest(\n",
    "    amount: Annotated[float, \"Ammount of money to set\"],\n",
    "    # Account which will be injected to the function\n",
    "    account: Annotated[Account, Depends(bob_account)],\n",
    "    # Default interest which will be injected to the function\n",
    "    interest: Annotated[float, Depends(lambda: 0.02)],\n",
    "    # It is also possible to use the following syntax to define the dependency\n",
    "    # interest: float = Depends(lambda: 0.02),\n",
    ") -> str:\n",
    "    _verify_account(account)\n",
    "    account_ballace_dict[(account.username, account.password)] += amount * (1 + interest)\n",
    "\n",
    "    return f\"Balanace has been updated successfully\"\n",
    "    "
   ]
  },
  {
   "cell_type": "code",
   "execution_count": 4,
   "metadata": {},
   "outputs": [
    {
     "name": "stdout",
     "output_type": "stream",
     "text": [
      "\u001b[33muser_proxy_1\u001b[0m (to assistant):\n",
      "\n",
      "Update balance with 500 and verify if the balance was set correctly\n",
      "\n",
      "--------------------------------------------------------------------------------\n",
      "\u001b[31m\n",
      ">>>>>>>> USING AUTO REPLY...\u001b[0m\n",
      "\u001b[33massistant\u001b[0m (to user_proxy_1):\n",
      "\n",
      "\u001b[32m***** Suggested tool call (call_yB28Go7bKsgQ9vTHfmcmQrHH): update_balance_with_interest *****\u001b[0m\n",
      "Arguments: \n",
      "{\"amount\": 500}\n",
      "\u001b[32m*********************************************************************************************\u001b[0m\n",
      "\u001b[32m***** Suggested tool call (call_X4LAnU7KxrlrWdwL3BmUhbUj): get_balance *****\u001b[0m\n",
      "Arguments: \n",
      "{}\n",
      "\u001b[32m****************************************************************************\u001b[0m\n",
      "\n",
      "--------------------------------------------------------------------------------\n",
      "\u001b[35m\n",
      ">>>>>>>> EXECUTING FUNCTION update_balance_with_interest...\u001b[0m\n",
      "\u001b[35m\n",
      ">>>>>>>> EXECUTING FUNCTION get_balance...\u001b[0m\n",
      "\u001b[33muser_proxy_1\u001b[0m (to assistant):\n",
      "\n",
      "\u001b[32m***** Response from calling tool (call_yB28Go7bKsgQ9vTHfmcmQrHH) *****\u001b[0m\n",
      "Balanace has been updated successfully\n",
      "\u001b[32m**********************************************************************\u001b[0m\n",
      "\n",
      "--------------------------------------------------------------------------------\n",
      "\u001b[32m***** Response from calling tool (call_X4LAnU7KxrlrWdwL3BmUhbUj) *****\u001b[0m\n",
      "Your balance is 710.0USD\n",
      "\u001b[32m**********************************************************************\u001b[0m\n",
      "\n",
      "--------------------------------------------------------------------------------\n",
      "\u001b[31m\n",
      ">>>>>>>> USING AUTO REPLY...\u001b[0m\n",
      "\u001b[33massistant\u001b[0m (to user_proxy_1):\n",
      "\n",
      "The balance has been updated successfully with 500. Your current balance is 710.0 USD.\n",
      "\n",
      "--------------------------------------------------------------------------------\n"
     ]
    },
    {
     "data": {
      "text/plain": [
       "ChatResult(chat_id=None, chat_history=[{'content': 'Update balance with 500 and verify if the balance was set correctly', 'role': 'assistant', 'name': 'user_proxy_1'}, {'tool_calls': [{'id': 'call_yB28Go7bKsgQ9vTHfmcmQrHH', 'function': {'arguments': '{\"amount\": 500}', 'name': 'update_balance_with_interest'}, 'type': 'function'}, {'id': 'call_X4LAnU7KxrlrWdwL3BmUhbUj', 'function': {'arguments': '{}', 'name': 'get_balance'}, 'type': 'function'}], 'content': None, 'role': 'assistant'}, {'content': 'Balanace has been updated successfully\\n\\nYour balance is 710.0USD', 'tool_responses': [{'tool_call_id': 'call_yB28Go7bKsgQ9vTHfmcmQrHH', 'role': 'tool', 'content': 'Balanace has been updated successfully'}, {'tool_call_id': 'call_X4LAnU7KxrlrWdwL3BmUhbUj', 'role': 'tool', 'content': 'Your balance is 710.0USD'}], 'role': 'tool', 'name': 'user_proxy_1'}, {'content': 'The balance has been updated successfully with 500. Your current balance is 710.0 USD.', 'role': 'user', 'name': 'assistant'}], summary='The balance has been updated successfully with 500. Your current balance is 710.0 USD.', cost={'usage_including_cached_inference': {'total_cost': 7.905e-05, 'gpt-4o-mini-2024-07-18': {'cost': 7.905e-05, 'prompt_tokens': 259, 'completion_tokens': 67, 'total_tokens': 326}}, 'usage_excluding_cached_inference': {'total_cost': 0}}, human_input=[])"
      ]
     },
     "execution_count": 4,
     "metadata": {},
     "output_type": "execute_result"
    }
   ],
   "source": [
    "message = \"Update balance with 500 and verify if the balance was set correctly\"\n",
    "user_proxy.initiate_chat(assistant, message=message, max_turns=2)\n"
   ]
  },
  {
   "cell_type": "markdown",
   "metadata": {},
   "source": [
    "## Multiple Agents With Different Parameters"
   ]
  },
  {
   "cell_type": "code",
   "execution_count": 5,
   "metadata": {},
   "outputs": [],
   "source": [
    "config_list = [{\"model\": \"gpt-4o-mini\", \"api_key\": os.environ[\"OPENAI_API_KEY\"]}]\n",
    "llm_config = {\"config_list\": config_list}\n",
    "assistant_1 = ConversableAgent(\n",
    "    name=\"assistant_1\",\n",
    "    llm_config={\"config_list\": config_list},\n",
    ")\n",
    "assistant_2 = ConversableAgent(\n",
    "    name=\"assistant_2\",\n",
    "    llm_config={\"config_list\": config_list},\n",
    ")\n",
    "user_proxy = UserProxyAgent(\n",
    "    name=\"user_proxy_1\",\n",
    "    human_input_mode=\"NEVER\",\n",
    "    llm_config=False,\n",
    ")\n",
    "\n",
    "groupchat = GroupChat(agents=[user_proxy, assistant_1, assistant_2], messages=[], max_round=5)\n",
    "manager = GroupChatManager(groupchat=groupchat, llm_config=llm_config)"
   ]
  },
  {
   "cell_type": "code",
   "execution_count": 6,
   "metadata": {},
   "outputs": [],
   "source": [
    "account_ballace_dict = {\n",
    "    (\"alice\", \"password123\"): 300,\n",
    "    (\"bob\", \"password456\"): 200,\n",
    "    (\"charlie\", \"password789\"): 100,\n",
    "}\n",
    "\n",
    "class Account(BaseContext, BaseModel):\n",
    "    username: str\n",
    "    password: str\n",
    "    currency: Literal[\"USD\", \"EUR\"] = \"USD\"\n",
    "\n",
    "alice_account = Account(username=\"alice\", password=\"password123\")\n",
    "bob_account = Account(username=\"bob\", password=\"password456\")\n",
    "\n",
    "def _verify_account(account: Account):\n",
    "    if (account.username, account.password) not in account_ballace_dict:\n",
    "        raise ValueError(\"Invalid username or password\")\n",
    "    \n",
    "def _get_balance(account: Account):\n",
    "    _verify_account(account)\n",
    "    return f\"Your balance is {account_ballace_dict[(account.username, account.password)]}{account.currency}\"\n",
    "\n",
    "\n",
    "@user_proxy.register_for_execution()\n",
    "@assistant_1.register_for_llm(description=\"Get the balance of the account\")\n",
    "def get_balance_for_assistant_1(\n",
    "    account: Annotated[Account, Depends(alice_account)],\n",
    ") -> str:\n",
    "    return _get_balance(account)\n",
    "\n",
    "\n",
    "@user_proxy.register_for_execution()\n",
    "@assistant_2.register_for_llm(description=\"Get the balance of the account\")\n",
    "def get_balance_for_assistant_2(\n",
    "    account: Annotated[Account, Depends(bob_account)],\n",
    ") -> str:\n",
    "    return _get_balance(account)\n",
    "    "
   ]
  },
  {
   "cell_type": "code",
   "execution_count": 7,
   "metadata": {},
   "outputs": [
    {
     "name": "stdout",
     "output_type": "stream",
     "text": [
      "\u001b[33muser_proxy_1\u001b[0m (to chat_manager):\n",
      "\n",
      "Both assistants, please get the balance of the account\n",
      "\n",
      "--------------------------------------------------------------------------------\n",
      "\u001b[32m\n",
      "Next speaker: assistant_1\n",
      "\u001b[0m\n",
      "\u001b[31m\n",
      ">>>>>>>> USING AUTO REPLY...\u001b[0m\n",
      "\u001b[33massistant_1\u001b[0m (to chat_manager):\n",
      "\n",
      "\u001b[32m***** Suggested tool call (call_wfTGOY4O9mEDBuIOrajJDSNj): get_balance_for_assistant_1 *****\u001b[0m\n",
      "Arguments: \n",
      "{}\n",
      "\u001b[32m********************************************************************************************\u001b[0m\n",
      "\n",
      "--------------------------------------------------------------------------------\n",
      "\u001b[32m\n",
      "Next speaker: user_proxy_1\n",
      "\u001b[0m\n",
      "\u001b[35m\n",
      ">>>>>>>> EXECUTING FUNCTION get_balance_for_assistant_1...\u001b[0m\n",
      "\u001b[33muser_proxy_1\u001b[0m (to chat_manager):\n",
      "\n",
      "\u001b[32m***** Response from calling tool (call_wfTGOY4O9mEDBuIOrajJDSNj) *****\u001b[0m\n",
      "Your balance is 300USD\n",
      "\u001b[32m**********************************************************************\u001b[0m\n",
      "\n",
      "--------------------------------------------------------------------------------\n",
      "\u001b[32m\n",
      "Next speaker: assistant_2\n",
      "\u001b[0m\n",
      "\u001b[31m\n",
      ">>>>>>>> USING AUTO REPLY...\u001b[0m\n",
      "\u001b[33massistant_2\u001b[0m (to chat_manager):\n",
      "\n",
      "\u001b[32m***** Suggested tool call (call_QNO5v9vGRUfRsmUAjL9yV318): get_balance_for_assistant_2 *****\u001b[0m\n",
      "Arguments: \n",
      "{}\n",
      "\u001b[32m********************************************************************************************\u001b[0m\n",
      "\n",
      "--------------------------------------------------------------------------------\n",
      "\u001b[32m\n",
      "Next speaker: user_proxy_1\n",
      "\u001b[0m\n",
      "\u001b[35m\n",
      ">>>>>>>> EXECUTING FUNCTION get_balance_for_assistant_2...\u001b[0m\n",
      "\u001b[33muser_proxy_1\u001b[0m (to chat_manager):\n",
      "\n",
      "\u001b[32m***** Response from calling tool (call_QNO5v9vGRUfRsmUAjL9yV318) *****\u001b[0m\n",
      "Your balance is 200USD\n",
      "\u001b[32m**********************************************************************\u001b[0m\n",
      "\n",
      "--------------------------------------------------------------------------------\n"
     ]
    },
    {
     "data": {
      "text/plain": [
       "ChatResult(chat_id=None, chat_history=[{'content': 'Both assistants, please get the balance of the account', 'role': 'assistant', 'name': 'user_proxy_1'}, {'content': 'None', 'tool_calls': [{'id': 'call_wfTGOY4O9mEDBuIOrajJDSNj', 'function': {'arguments': '{}', 'name': 'get_balance_for_assistant_1'}, 'type': 'function'}], 'name': 'assistant_1', 'role': 'assistant'}, {'content': 'Your balance is 300USD', 'tool_responses': [{'tool_call_id': 'call_wfTGOY4O9mEDBuIOrajJDSNj', 'role': 'tool', 'content': 'Your balance is 300USD'}], 'role': 'tool', 'name': 'user_proxy_1'}, {'content': 'None', 'tool_calls': [{'id': 'call_QNO5v9vGRUfRsmUAjL9yV318', 'function': {'arguments': '{}', 'name': 'get_balance_for_assistant_2'}, 'type': 'function'}], 'name': 'assistant_2', 'role': 'assistant'}, {'content': 'Your balance is 200USD', 'tool_responses': [{'tool_call_id': 'call_QNO5v9vGRUfRsmUAjL9yV318', 'role': 'tool', 'content': 'Your balance is 200USD'}], 'role': 'tool', 'name': 'user_proxy_1'}], summary='Your balance is 200USD', cost={'usage_including_cached_inference': {'total_cost': 0}, 'usage_excluding_cached_inference': {'total_cost': 0}}, human_input=[])"
      ]
     },
     "execution_count": 7,
     "metadata": {},
     "output_type": "execute_result"
    }
   ],
   "source": [
    "message = \"Both assistants, please get the balance of the account\"\n",
    "user_proxy.initiate_chat(\n",
    "    manager, message=message, max_turns=1\n",
    ")"
   ]
  },
  {
   "cell_type": "code",
   "execution_count": null,
   "metadata": {},
   "outputs": [],
   "source": []
  }
 ],
 "metadata": {
  "kernelspec": {
   "display_name": ".venv",
   "language": "python",
   "name": "python3"
  },
  "language_info": {
   "codemirror_mode": {
    "name": "ipython",
    "version": 3
   },
   "file_extension": ".py",
   "mimetype": "text/x-python",
   "name": "python",
   "nbconvert_exporter": "python",
   "pygments_lexer": "ipython3",
   "version": "3.10.16"
  }
 },
 "nbformat": 4,
 "nbformat_minor": 2
}
