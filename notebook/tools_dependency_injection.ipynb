{
 "cells": [
  {
   "cell_type": "code",
   "execution_count": 1,
   "metadata": {},
   "outputs": [],
   "source": [
    "import os\n",
    "from typing import Annotated, Literal\n",
    "\n",
    "from pydantic import BaseModel\n",
    "\n",
    "from autogen import GroupChat, GroupChatManager\n",
    "from autogen.agentchat import ConversableAgent, UserProxyAgent\n",
    "from autogen.tools.dependency_injection import BaseContext, Depends"
   ]
  },
  {
   "cell_type": "code",
   "execution_count": 2,
   "metadata": {},
   "outputs": [],
   "source": [
    "config_list = [{\"model\": \"gpt-4o-mini\", \"api_key\": os.environ[\"OPENAI_API_KEY\"]}]\n",
    "assistant = ConversableAgent(\n",
    "    name=\"assistant\",\n",
    "    llm_config={\"config_list\": config_list},\n",
    ")\n",
    "user_proxy = UserProxyAgent(\n",
    "    name=\"user_proxy_1\",\n",
    "    human_input_mode=\"NEVER\",\n",
    "    llm_config=False,\n",
    ")"
   ]
  },
  {
   "cell_type": "code",
   "execution_count": 3,
   "metadata": {},
   "outputs": [],
   "source": [
    "account_ballace_dict = {\n",
    "    (\"alice\", \"password123\"): 300,\n",
    "    (\"bob\", \"password456\"): 200,\n",
    "    (\"charlie\", \"password789\"): 100,\n",
    "}\n",
    "\n",
    "\n",
    "class Account(BaseContext, BaseModel):\n",
    "    username: str\n",
    "    password: str\n",
    "    currency: Literal[\"USD\", \"EUR\"] = \"USD\"\n",
    "\n",
    "\n",
    "bob_account = Account(username=\"bob\", password=\"password456\")\n",
    "\n",
    "\n",
    "def _verify_account(account: Account):\n",
    "    if (account.username, account.password) not in account_ballace_dict:\n",
    "        raise ValueError(\"Invalid username or password\")\n",
    "\n",
    "\n",
    "@user_proxy.register_for_execution()\n",
    "@assistant.register_for_llm(description=\"Get the balance of the account\")\n",
    "def get_balance(\n",
    "    # Account which will be injected to the function\n",
    "    account: Annotated[Account, Depends(bob_account)],\n",
    "    # It is also possible to use the following syntax to define the dependency\n",
    "    # account: Account = Depends(bob_account),\n",
    ") -> str:\n",
    "    _verify_account(account)\n",
    "    return f\"Your balance is {account_ballace_dict[(account.username, account.password)]}{account.currency}\"\n",
    "\n",
    "\n",
    "@user_proxy.register_for_execution()\n",
    "@assistant.register_for_llm(description=\"Set the balance of the account\")\n",
    "def update_balance_with_interest(\n",
    "    amount: Annotated[float, \"Ammount of money to set\"],\n",
    "    # Account which will be injected to the function\n",
    "    account: Annotated[Account, Depends(bob_account)],\n",
    "    # Default interest which will be injected to the function\n",
    "    interest: Annotated[float, Depends(lambda: 0.02)],\n",
    "    # It is also possible to use the following syntax to define the dependency\n",
    "    # interest: float = Depends(lambda: 0.02),\n",
    ") -> str:\n",
    "    _verify_account(account)\n",
    "    account_ballace_dict[(account.username, account.password)] += amount * (1 + interest)\n",
    "\n",
    "    return \"Balanace has been updated successfully\""
   ]
  },
  {
   "cell_type": "code",
   "execution_count": null,
   "metadata": {},
   "outputs": [],
   "source": [
    "message = \"Update balance with 500 and verify if the balance was set correctly\"\n",
    "user_proxy.initiate_chat(assistant, message=message, max_turns=2)"
   ]
  },
  {
   "cell_type": "markdown",
   "metadata": {},
   "source": [
    "## Multiple Agents With Different Parameters"
   ]
  },
  {
   "cell_type": "code",
   "execution_count": 5,
   "metadata": {},
   "outputs": [],
   "source": [
    "config_list = [{\"model\": \"gpt-4o-mini\", \"api_key\": os.environ[\"OPENAI_API_KEY\"]}]\n",
    "llm_config = {\"config_list\": config_list}\n",
    "assistant_1 = ConversableAgent(\n",
    "    name=\"assistant_1\",\n",
    "    llm_config={\"config_list\": config_list},\n",
    ")\n",
    "assistant_2 = ConversableAgent(\n",
    "    name=\"assistant_2\",\n",
    "    llm_config={\"config_list\": config_list},\n",
    ")\n",
    "user_proxy = UserProxyAgent(\n",
    "    name=\"user_proxy_1\",\n",
    "    human_input_mode=\"NEVER\",\n",
    "    llm_config=False,\n",
    ")\n",
    "\n",
    "groupchat = GroupChat(agents=[user_proxy, assistant_1, assistant_2], messages=[], max_round=5)\n",
    "manager = GroupChatManager(groupchat=groupchat, llm_config=llm_config)"
   ]
  },
  {
   "cell_type": "code",
   "execution_count": 6,
   "metadata": {},
   "outputs": [],
   "source": [
    "account_ballace_dict = {\n",
    "    (\"alice\", \"password123\"): 300,\n",
    "    (\"bob\", \"password456\"): 200,\n",
    "    (\"charlie\", \"password789\"): 100,\n",
    "}\n",
    "\n",
    "\n",
    "class Account(BaseContext, BaseModel):\n",
    "    username: str\n",
    "    password: str\n",
    "    currency: Literal[\"USD\", \"EUR\"] = \"USD\"\n",
    "\n",
    "\n",
    "alice_account = Account(username=\"alice\", password=\"password123\")\n",
    "bob_account = Account(username=\"bob\", password=\"password456\")\n",
    "\n",
    "\n",
    "def _verify_account(account: Account):\n",
    "    if (account.username, account.password) not in account_ballace_dict:\n",
    "        raise ValueError(\"Invalid username or password\")\n",
    "\n",
    "\n",
    "def _get_balance(account: Account):\n",
    "    _verify_account(account)\n",
    "    return f\"Your balance is {account_ballace_dict[(account.username, account.password)]}{account.currency}\"\n",
    "\n",
    "\n",
    "@user_proxy.register_for_execution()\n",
    "@assistant_1.register_for_llm(description=\"Get the balance of the account\")\n",
    "def get_balance_for_assistant_1(\n",
    "    account: Annotated[Account, Depends(alice_account)],\n",
    ") -> str:\n",
    "    return _get_balance(account)\n",
    "\n",
    "\n",
    "@user_proxy.register_for_execution()\n",
    "@assistant_2.register_for_llm(description=\"Get the balance of the account\")\n",
    "def get_balance_for_assistant_2(\n",
    "    account: Annotated[Account, Depends(bob_account)],\n",
    ") -> str:\n",
    "    return _get_balance(account)"
   ]
  },
  {
   "cell_type": "code",
   "execution_count": null,
   "metadata": {},
   "outputs": [],
   "source": [
    "message = \"Both assistants, please get the balance of the account\"\n",
    "user_proxy.initiate_chat(manager, message=message, max_turns=1)"
   ]
  },
  {
   "cell_type": "code",
   "execution_count": null,
   "metadata": {},
   "outputs": [],
   "source": []
  }
 ],
 "metadata": {
  "kernelspec": {
   "display_name": ".venv",
   "language": "python",
   "name": "python3"
  },
  "language_info": {
   "codemirror_mode": {
    "name": "ipython",
    "version": 3
   },
   "file_extension": ".py",
   "mimetype": "text/x-python",
   "name": "python",
   "nbconvert_exporter": "python",
   "pygments_lexer": "ipython3",
   "version": "3.10.16"
  }
 },
 "nbformat": 4,
 "nbformat_minor": 2
}
