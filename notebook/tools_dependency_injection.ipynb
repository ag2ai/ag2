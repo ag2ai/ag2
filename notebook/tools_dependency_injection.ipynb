{
 "cells": [
  {
   "cell_type": "markdown",
   "metadata": {},
   "source": [
    "# Tools Dependency Injection\n",
    "\n",
    "[Dependency Injection](https://en.wikipedia.org/wiki/Dependency_injection) is a secure way to connect external functions to agents without exposing sensitive data such as passwords, tokens, or personal information. This approach ensures that sensitive information remains protected while still allowing agents to perform their tasks effectively, even when working with large language models (LLMs).\n",
    "\n",
    "In this guide, we’ll explore how to build secure workflows that handle sensitive data safely.\n",
    "\n",
    "As an example, we’ll create an agent that retrieves user's account balance. The best part is that sensitive data like username and password are never shared with the LLM. Instead, it’s securely injected directly into the function at runtime, keeping it safe while maintaining seamless functionality.\n",
    "\n",
    "\n",
    "## Why Dependency Injection Is Essential\n",
    "\n",
    "Here’s why dependency injection is a game-changer for secure LLM workflows:\n",
    "\n",
    "- **Enhanced Security**: Your sensitive data is never directly exposed to the LLM.\n",
    "- **Simplified Development**: Secure data can be seamlessly accessed by functions without requiring complex configurations.\n",
    "- **Unmatched Flexibility**: It supports safe integration of diverse workflows, allowing you to scale and adapt with ease.\n",
    "\n",
    "In this guide, we’ll explore how to set up dependency injection and build secure workflows. Let’s dive in!"
   ]
  },
  {
   "cell_type": "markdown",
   "metadata": {},
   "source": [
    "## Installation\n",
    "\n",
    "To install `AG2`, simply run the following command:\n",
    "\n",
    "```bash\n",
    "pip install ag2\n",
    "```\n",
    "\n",
    "\n",
    "## Imports\n",
    "\n",
    "The functionality demonstrated in this guide is located in the `autogen.tools.dependency_injection` module. This module provides key components for dependency injection:\n",
    "\n",
    "- `BaseContext`: abstract base class used to define and encapsulate data contexts, such as user account information, which can then be injected into functions or agents securely.\n",
    "- `Depends`: a function used to declare and inject dependencies, either from a context (like `BaseContext`) or a function, ensuring sensitive data is provided securely without direct exposure."
   ]
  },
  {
   "cell_type": "code",
   "execution_count": 1,
   "metadata": {},
   "outputs": [],
   "source": [
    "import os\n",
    "from typing import Annotated, Literal\n",
    "\n",
    "from pydantic import BaseModel\n",
    "\n",
    "from autogen import GroupChat, GroupChatManager\n",
    "from autogen.agentchat import ConversableAgent, UserProxyAgent\n",
    "from autogen.tools.dependency_injection import BaseContext, Depends"
   ]
  },
  {
   "cell_type": "markdown",
   "metadata": {},
   "source": [
    "## Define a BaseContext Class\n",
    "We start by defining a `BaseContext` class for accounts. This will act as the base structure for dependency injection. By using this approach, sensitive information like usernames and passwords is never exposed to the LLM."
   ]
  },
  {
   "cell_type": "code",
   "execution_count": 2,
   "metadata": {},
   "outputs": [],
   "source": [
    "class Account(BaseContext, BaseModel):\n",
    "    username: str\n",
    "    password: str\n",
    "    currency: Literal[\"USD\", \"EUR\"] = \"USD\"\n",
    "\n",
    "\n",
    "alice_account = Account(username=\"alice\", password=\"password123\")\n",
    "bob_account = Account(username=\"bob\", password=\"password456\")\n",
    "\n",
    "account_ballace_dict = {\n",
    "    (alice_account.username, alice_account.password): 300,\n",
    "    (bob_account.username, bob_account.password): 200,\n",
    "}\n"
   ]
  },
  {
   "cell_type": "markdown",
   "metadata": {},
   "source": [
    "## Helper Functions\n",
    "To ensure that the provided account is valid and retrieve its balance, we create two helper functions."
   ]
  },
  {
   "cell_type": "code",
   "execution_count": 3,
   "metadata": {},
   "outputs": [],
   "source": [
    "def _verify_account(account: Account):\n",
    "    if (account.username, account.password) not in account_ballace_dict:\n",
    "        raise ValueError(\"Invalid username or password\")\n",
    "\n",
    "\n",
    "def _get_balance(account: Account):\n",
    "    _verify_account(account)\n",
    "    return f\"Your balance is {account_ballace_dict[(account.username, account.password)]}{account.currency}\""
   ]
  },
  {
   "cell_type": "markdown",
   "metadata": {},
   "source": [
    "## Injecting BaseContext Parameter\n",
    "\n",
    "Dependency injection simplifies passing data to a function. Here, we'll inject an `Account` instance into a function automatically.\n"
   ]
  },
  {
   "cell_type": "markdown",
   "metadata": {},
   "source": [
    "### Agent Configuration\n",
    "\n",
    "Configure the agents for the interaction.\n",
    "\n",
    "- `config_list` defines the LLM configurations, including the model and API key.\n",
    "- `UserProxyAgent` simulates user inputs without requiring actual human interaction (set to `NEVER`).\n",
    "- `AssistantAgent` represents the AI agent, configured with the LLM settings."
   ]
  },
  {
   "cell_type": "code",
   "execution_count": 4,
   "metadata": {},
   "outputs": [],
   "source": [
    "config_list = [{\"model\": \"gpt-4o-mini\", \"api_key\": os.environ[\"OPENAI_API_KEY\"]}]\n",
    "assistant = ConversableAgent(\n",
    "    name=\"assistant\",\n",
    "    llm_config={\"config_list\": config_list},\n",
    ")\n",
    "user_proxy = UserProxyAgent(\n",
    "    name=\"user_proxy_1\",\n",
    "    human_input_mode=\"NEVER\",\n",
    "    llm_config=False,\n",
    ")\n"
   ]
  },
  {
   "cell_type": "markdown",
   "metadata": {},
   "source": [
    "### Register the Function with Dependency Injection\n",
    "We register a function where the account information for `bob` is injected as a dependency.\n",
    "\n",
    "**Note:** You can also use `account: Account = Depends(bob_account)` as an alternative syntax."
   ]
  },
  {
   "cell_type": "code",
   "execution_count": 5,
   "metadata": {},
   "outputs": [],
   "source": [
    "@user_proxy.register_for_execution()\n",
    "@assistant.register_for_llm(description=\"Get the balance of the account\")\n",
    "def get_balance_1(\n",
    "    # Account which will be injected to the function\n",
    "    account: Annotated[Account, Depends(bob_account)],\n",
    "    # It is also possible to use the following syntax to define the dependency\n",
    "    # account: Account = Depends(bob_account),\n",
    ") -> str:\n",
    "    return _get_balance(account)"
   ]
  },
  {
   "cell_type": "markdown",
   "metadata": {},
   "source": [
    "### Initiate the Chat\n",
    "Finally, we initiate a chat to retrieve the balance."
   ]
  },
  {
   "cell_type": "code",
   "execution_count": null,
   "metadata": {},
   "outputs": [],
   "source": [
    "user_proxy.initiate_chat(assistant, message=\"Get users balance\", max_turns=2)"
   ]
  },
  {
   "cell_type": "markdown",
   "metadata": {},
   "source": [
    "## Injecting Parameters Without BaseContext\n",
    "\n",
    "Sometimes, you might not want to use `BaseContext`. Here's how to inject simple parameters directly.\n",
    "\n",
    "### Agent Configuration\n",
    "\n",
    "Configure the agents for the interaction.\n",
    "\n",
    "- `config_list` defines the LLM configurations, including the model and API key.\n",
    "- `UserProxyAgent` simulates user inputs without requiring actual human interaction (set to `NEVER`).\n",
    "- `AssistantAgent` represents the AI agent, configured with the LLM settings."
   ]
  },
  {
   "cell_type": "code",
   "execution_count": 7,
   "metadata": {},
   "outputs": [],
   "source": [
    "config_list = [{\"model\": \"gpt-4o-mini\", \"api_key\": os.environ[\"OPENAI_API_KEY\"]}]\n",
    "assistant = ConversableAgent(\n",
    "    name=\"assistant\",\n",
    "    llm_config={\"config_list\": config_list},\n",
    ")\n",
    "user_proxy = UserProxyAgent(\n",
    "    name=\"user_proxy_1\",\n",
    "    human_input_mode=\"NEVER\",\n",
    "    llm_config=False,\n",
    ")"
   ]
  },
  {
   "cell_type": "markdown",
   "metadata": {},
   "source": [
    "### Register the Function with Direct Parameter Injection\n",
    "Instead of injecting a full context like `Account`, you can directly inject individual parameters, such as the username and password, into a function. This allows for more granular control over the data injected into the function, and still ensures that sensitive information is managed securely.\n",
    "\n",
    "Here’s how you can set it up:"
   ]
  },
  {
   "cell_type": "code",
   "execution_count": 8,
   "metadata": {},
   "outputs": [],
   "source": [
    "def get_username() -> str:\n",
    "    return \"bob\"\n",
    "\n",
    "def get_password() -> str:\n",
    "    return \"password456\"\n",
    "\n",
    "@user_proxy.register_for_execution()\n",
    "@assistant.register_for_llm(description=\"Get the balance of the account\")\n",
    "def get_balance_2(\n",
    "    username: Annotated[str, Depends(get_username)],\n",
    "    password: Annotated[str, Depends(get_password)],\n",
    "    # or use lambdas\n",
    "    # username: Annotated[str, Depends(lambda: \"bob\")],\n",
    "    # password: Annotated[str, Depends(lambda: \"password456\")],\n",
    ") -> str:\n",
    "    account = Account(username=username, password=password)\n",
    "    return _get_balance(account)"
   ]
  },
  {
   "cell_type": "markdown",
   "metadata": {},
   "source": [
    "### Initiate the Chat\n",
    "As before, initiate a chat to test the function."
   ]
  },
  {
   "cell_type": "code",
   "execution_count": null,
   "metadata": {},
   "outputs": [],
   "source": [
    "user_proxy.initiate_chat(assistant, message=\"Get users balance\", max_turns=2)"
   ]
  },
  {
   "cell_type": "markdown",
   "metadata": {},
   "source": [
    "## Assigning Different Contexts to Multiple Agents\n",
    "\n",
    "You can assign different contexts, such as distinct account data, to different agents within the same group chat. This ensures that each assistant works with its own unique set of data—e.g., one assistant can use `alice_account`, while another can use `bob_account`.\n",
    "\n",
    "\n",
    "### GroupChat Configuration\n",
    "Let's configure a `GroupChat` with two assistant agents.\n"
   ]
  },
  {
   "cell_type": "code",
   "execution_count": 10,
   "metadata": {},
   "outputs": [],
   "source": [
    "config_list = [{\"model\": \"gpt-4o-mini\", \"api_key\": os.environ[\"OPENAI_API_KEY\"]}]\n",
    "llm_config = {\"config_list\": config_list}\n",
    "assistant_1 = ConversableAgent(\n",
    "    name=\"assistant_1\",\n",
    "    llm_config={\"config_list\": config_list},\n",
    ")\n",
    "assistant_2 = ConversableAgent(\n",
    "    name=\"assistant_2\",\n",
    "    llm_config={\"config_list\": config_list},\n",
    ")\n",
    "user_proxy = UserProxyAgent(\n",
    "    name=\"user_proxy_1\",\n",
    "    human_input_mode=\"NEVER\",\n",
    "    llm_config=False,\n",
    ")\n",
    "\n",
    "groupchat = GroupChat(agents=[user_proxy, assistant_1, assistant_2], messages=[], max_round=5)\n",
    "manager = GroupChatManager(groupchat=groupchat, llm_config=llm_config)"
   ]
  },
  {
   "cell_type": "markdown",
   "metadata": {},
   "source": [
    "### Register Functions for Each Assistant\n",
    "\n",
    "- For `assistant_1`, we inject the `alice_account` context using `Depends(alice_account)`, ensuring that it retrieves the balance for Alice’s account.\n",
    "- For `assistant_2`, we inject the `bob_account` context using `Depends(bob_account)`, ensuring that it retrieves the balance for Bob’s account."
   ]
  },
  {
   "cell_type": "code",
   "execution_count": 11,
   "metadata": {},
   "outputs": [],
   "source": [
    "@user_proxy.register_for_execution()\n",
    "@assistant_1.register_for_llm(description=\"Get the balance of the account\")\n",
    "def get_balance_for_assistant_1(\n",
    "    account: Annotated[Account, Depends(alice_account)],\n",
    ") -> str:\n",
    "    return _get_balance(account)\n",
    "\n",
    "\n",
    "@user_proxy.register_for_execution()\n",
    "@assistant_2.register_for_llm(description=\"Get the balance of the account\")\n",
    "def get_balance_for_assistant_2(\n",
    "    account: Annotated[Account, Depends(bob_account)],\n",
    ") -> str:\n",
    "    return _get_balance(account)"
   ]
  },
  {
   "cell_type": "markdown",
   "metadata": {},
   "source": [
    "### Initiate the Chat\n",
    "Finally, initiate the group chat where both assistants respond by using their respective contexts. Each assistant will handle its own task — one will retrieve Alice’s balance, and the other will retrieve Bob’s balance"
   ]
  },
  {
   "cell_type": "code",
   "execution_count": null,
   "metadata": {},
   "outputs": [],
   "source": [
    "message = \"Both assistants, please get the balance of the account\"\n",
    "user_proxy.initiate_chat(manager, message=message, max_turns=1)"
   ]
  },
  {
   "cell_type": "code",
   "execution_count": null,
   "metadata": {},
   "outputs": [],
   "source": []
  }
 ],
 "metadata": {
  "front_matter": {
   "description": "Tools Dependency Injection",
   "tags": [
    "tools",
    "dependency injection",
    "function calling"
   ]
  },
  "kernelspec": {
   "display_name": ".venv",
   "language": "python",
   "name": "python3"
  },
  "language_info": {
   "codemirror_mode": {
    "name": "ipython",
    "version": 3
   },
   "file_extension": ".py",
   "mimetype": "text/x-python",
   "name": "python",
   "nbconvert_exporter": "python",
   "pygments_lexer": "ipython3",
   "version": "3.10.16"
  }
 },
 "nbformat": 4,
 "nbformat_minor": 2
}
