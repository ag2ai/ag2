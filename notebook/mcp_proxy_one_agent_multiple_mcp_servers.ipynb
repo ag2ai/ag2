{
 "cells": [
  {
   "cell_type": "markdown",
   "id": "0",
   "metadata": {},
   "source": [
    "# MCP Server example: One Agent Multiple Servers."
   ]
  },
  {
   "cell_type": "markdown",
   "id": "1",
   "metadata": {},
   "source": [
    "this notebook is an example where you can run multiple MCP server via an agent toolcall."
   ]
  },
  {
   "cell_type": "code",
   "execution_count": null,
   "id": "2",
   "metadata": {},
   "outputs": [],
   "source": [
    "# import necessary agent and client libraries\n",
    "import os\n",
    "from contextlib import asynccontextmanager\n",
    "from datetime import timedelta\n",
    "from pathlib import Path\n",
    "from typing import Any, AsyncIterator, Literal\n",
    "\n",
    "import dotenv\n",
    "import nest_asyncio\n",
    "from mcp.client.session import ClientSession\n",
    "from mcp.client.sse import sse_client\n",
    "from mcp.client.stdio import StdioServerParameters, stdio_client\n",
    "\n",
    "from autogen import LLMConfig\n",
    "from autogen.agentchat import AssistantAgent, ConversableAgent\n",
    "from autogen.agentchat.group import (\n",
    "    AgentTarget,\n",
    "    ReplyResult,\n",
    ")\n",
    "from autogen.mcp import create_toolkit\n",
    "\n",
    "nest_asyncio.apply()"
   ]
  },
  {
   "cell_type": "markdown",
   "id": "3",
   "metadata": {},
   "source": [
    "define LLMConfig for the agent. make sure to set the OPENAI_API_KEY in your environment variables. you can use a .env file or set it directly in your environment"
   ]
  },
  {
   "cell_type": "code",
   "execution_count": null,
   "id": "4",
   "metadata": {},
   "outputs": [],
   "source": [
    "dotenv.load_dotenv()\n",
    "llm_config = LLMConfig(model=\"o4-mini\", api_type=\"openai\", api_key=os.getenv(\"OPENAI_API_KEY\"))"
   ]
  },
  {
   "cell_type": "markdown",
   "id": "5",
   "metadata": {},
   "source": [
    "define server file paths for stdio client and server url for sse client."
   ]
  },
  {
   "cell_type": "code",
   "execution_count": null,
   "id": "6",
   "metadata": {},
   "outputs": [],
   "source": [
    "FILESYSTEM_SERVER_PATH = Path(\"mcp/mcp_filesystem.py\")\n",
    "WIKIPEDIA_SERVER_URL = \"http://localhost:8000/sse\""
   ]
  },
  {
   "cell_type": "code",
   "execution_count": null,
   "id": "7",
   "metadata": {},
   "outputs": [],
   "source": [
    "EncodingErrorHandlerType = Literal[\"strict\", \"ignore\", \"replace\"]\n",
    "\n",
    "DEFAULT_TEXT_ENCODING = \"utf-8\"\n",
    "DEFAULT_TEXT_ENCODING_ERROR_HANDLER: EncodingErrorHandlerType = \"strict\"\n",
    "\n",
    "DEFAULT_HTTP_REQUEST_TIMEOUT = 5\n",
    "DEFAULT_SSE_EVENT_READ_TIMEOUT = 60 * 5\n",
    "\n",
    "DEFAULT_STREAMABLE_HTTP_REQUEST_TIMEOUT = timedelta(seconds=30)\n",
    "DEFAULT_STREAMABLE_HTTP_SSE_EVENT_READ_TIMEOUT = timedelta(seconds=60 * 5)"
   ]
  },
  {
   "cell_type": "markdown",
   "id": "8",
   "metadata": {},
   "source": [
    "define connection params"
   ]
  },
  {
   "cell_type": "code",
   "execution_count": null,
   "id": "9",
   "metadata": {},
   "outputs": [],
   "source": [
    "# add MCP server params\n",
    "mcp_connections: dict = {\n",
    "    \"FilesystemServer\": {\n",
    "        \"command\": \"python3\",\n",
    "        \"args\": [FILESYSTEM_SERVER_PATH],\n",
    "        \"transport\": \"stdio\",\n",
    "    },\n",
    "    \"WikipediaServer\": {\n",
    "        \"url\": WIKIPEDIA_SERVER_URL,\n",
    "        \"transport\": \"sse\",\n",
    "    },\n",
    "}"
   ]
  },
  {
   "cell_type": "markdown",
   "id": "10",
   "metadata": {},
   "source": [
    "add methods to create client sessions"
   ]
  },
  {
   "cell_type": "code",
   "execution_count": null,
   "id": "11",
   "metadata": {},
   "outputs": [],
   "source": [
    "@asynccontextmanager\n",
    "async def create_stdio_mcp_session(\n",
    "    *,\n",
    "    command: str,\n",
    "    arguments: list[str],\n",
    "    environment: dict[str, str] | None = None,\n",
    "    working_dir: str | Path | None = None,\n",
    "    encoding: str = DEFAULT_TEXT_ENCODING,\n",
    "    encoding_error_handler: EncodingErrorHandlerType = DEFAULT_TEXT_ENCODING_ERROR_HANDLER,\n",
    "    session_options: dict[str, Any] | None = None,\n",
    ") -> AsyncIterator[ClientSession]:\n",
    "    \"\"\"\n",
    "    Create a new session to an MCP server using stdio\n",
    "\n",
    "    Args:\n",
    "        command: Command to execute\n",
    "        arguments: Arguments for the command\n",
    "        environment: Environment variables for the command\n",
    "        working_dir: Working directory for the command\n",
    "        encoding: Character encoding\n",
    "        encoding_error_handler: How to handle encoding errors\n",
    "        session_options: Additional keyword arguments to pass to the ClientSession\n",
    "    \"\"\"\n",
    "\n",
    "    environment = environment or {}\n",
    "    if \"PATH\" not in environment:\n",
    "        environment[\"PATH\"] = os.environ.get(\"PATH\", \"\")\n",
    "\n",
    "    server_params = StdioServerParameters(\n",
    "        command=command,\n",
    "        args=arguments,\n",
    "        env=environment,\n",
    "        cwd=working_dir,\n",
    "        encoding=encoding,\n",
    "        encoding_error_handler=encoding_error_handler,\n",
    "    )\n",
    "\n",
    "    async with (\n",
    "        stdio_client(server_params) as (reader, writer),\n",
    "        ClientSession(reader, writer, **(session_options or {})) as session,\n",
    "    ):\n",
    "        yield session\n",
    "\n",
    "\n",
    "@asynccontextmanager\n",
    "async def create_sse_mcp_session(\n",
    "    *,\n",
    "    url: str,\n",
    "    headers: dict[str, Any] | None = None,\n",
    "    timeout: float = DEFAULT_HTTP_REQUEST_TIMEOUT,\n",
    "    sse_read_timeout: float = DEFAULT_SSE_EVENT_READ_TIMEOUT,\n",
    "    session_options: dict[str, Any] | None = None,\n",
    "    httpx_client_factory: Any = None,\n",
    ") -> AsyncIterator[ClientSession]:\n",
    "    \"\"\"\n",
    "    Create a new session to an MCP server using SSE\n",
    "\n",
    "    Args:\n",
    "        url: URL of the SSE server\n",
    "        headers: HTTP headers to send to the SSE endpoint\n",
    "        timeout: HTTP timeout\n",
    "        sse_read_timeout: SSE read timeout\n",
    "        session_options: Additional keyword arguments to pass to the ClientSession\n",
    "        httpx_client_factory: Custom factory for httpx.AsyncClient (optional)\n",
    "    \"\"\"\n",
    "    kwargs = {}\n",
    "    if httpx_client_factory is not None:\n",
    "        kwargs[\"httpx_client_factory\"] = httpx_client_factory\n",
    "\n",
    "    async with (\n",
    "        sse_client(url, headers, timeout, sse_read_timeout, **kwargs) as (reader, writer),\n",
    "        ClientSession(reader, writer, **(session_options or {})) as session,\n",
    "    ):\n",
    "        yield session"
   ]
  },
  {
   "cell_type": "markdown",
   "id": "12",
   "metadata": {},
   "source": [
    "open a mcp session"
   ]
  },
  {
   "cell_type": "code",
   "execution_count": null,
   "id": "13",
   "metadata": {},
   "outputs": [],
   "source": [
    "@asynccontextmanager\n",
    "async def open_mcp_session(\n",
    "    config,\n",
    ") -> AsyncIterator[ClientSession]:\n",
    "    \"\"\"\n",
    "    Open a new session to an MCP server.\n",
    "\n",
    "    Args:\n",
    "        config: Configuration dictionary for the connection\n",
    "\n",
    "    Raises:\n",
    "        KeyError: If required parameters for the specified transport are missing\n",
    "        NotImplementedError: If transport is not recognized\n",
    "\n",
    "    Yields:\n",
    "        A ClientSession\n",
    "    \"\"\"\n",
    "    transport_type = config[\"transport\"]\n",
    "    if transport_type == \"sse\":\n",
    "        if \"url\" not in config:\n",
    "            raise KeyError(\"'url' parameter is required for SSE connection\")\n",
    "        async with create_sse_mcp_session(\n",
    "            url=config[\"url\"],\n",
    "            headers=config.get(\"headers\"),\n",
    "            timeout=config.get(\"timeout\", DEFAULT_HTTP_REQUEST_TIMEOUT),\n",
    "            sse_read_timeout=config.get(\"sse_read_timeout\", DEFAULT_SSE_EVENT_READ_TIMEOUT),\n",
    "            session_options=config.get(\"session_options\"),\n",
    "            httpx_client_factory=config.get(\"httpx_client_factory\"),\n",
    "        ) as session:\n",
    "            yield session\n",
    "    elif transport_type == \"stdio\":\n",
    "        if \"command\" not in config:\n",
    "            raise KeyError(\"'command' parameter is required for stdio connection\")\n",
    "        if \"arguments\" not in config:\n",
    "            raise KeyError(\"'arguments' parameter is required for stdio connection\")\n",
    "        async with create_stdio_mcp_session(\n",
    "            command=config[\"command\"],\n",
    "            arguments=config[\"arguments\"],\n",
    "            environment=config.get(\"environment\"),\n",
    "            working_dir=config.get(\"working_dir\"),\n",
    "            encoding=config.get(\"encoding\", DEFAULT_TEXT_ENCODING),\n",
    "            encoding_error_handler=config.get(\"encoding_error_handler\", DEFAULT_TEXT_ENCODING_ERROR_HANDLER),\n",
    "            session_options=config.get(\"session_options\"),\n",
    "        ) as session:\n",
    "            yield session\n",
    "    else:\n",
    "        raise NotImplementedError(f\"Unsupported transport: {transport_type}. Must be one of: 'stdio', 'sse'\")"
   ]
  },
  {
   "cell_type": "markdown",
   "id": "14",
   "metadata": {},
   "source": [
    "define 'mcp_agent' and assistant agent for tool execution."
   ]
  },
  {
   "cell_type": "code",
   "execution_count": null,
   "id": "15",
   "metadata": {},
   "outputs": [],
   "source": [
    "system_message = \"\"\"\n",
    "You are a mcp agent that can use mcp tools to analyze the content of the file and return the result.\n",
    "you have two mcp servers connected to you.\n",
    "1. FilesystemServer\n",
    "2. WikipediaServer\n",
    "\n",
    "you can use the tools of both the servers to analyze the content of the file and return the result.\n",
    "\n",
    "# Note:\n",
    "    - Identify the server name by analyzing the human question/initial message.\n",
    "\"\"\"\n",
    "\n",
    "mcp_agent = ConversableAgent(\n",
    "    name=\"mcp_agent\",\n",
    "    system_message=system_message,\n",
    "    llm_config=llm_config,\n",
    ")\n",
    "\n",
    "assistant = ConversableAgent(\n",
    "    name=\"assistant\",\n",
    "    system_message=\"\"\"You are an assistant agent that can use two mcp servers connected to you.\n",
    "    1. FilesystemServer\n",
    "    2. WikipediaServer\n",
    "    \"\"\",\n",
    "    llm_config=llm_config,\n",
    "    max_consecutive_auto_reply=3,\n",
    ")"
   ]
  },
  {
   "cell_type": "code",
   "execution_count": null,
   "id": "16",
   "metadata": {},
   "outputs": [],
   "source": [
    "tool_prompt = \"\"\"\n",
    "    Run the MCP agent for the given server name and query.\n",
    "    This function executes the MCP agent with the specified query and server name,\n",
    "    returning the result of the MCP agent's processing.\n",
    "    Args:\n",
    "        query (str): The query to be processed by the MCP agent.\n",
    "        server_name (str): The name of the server that is connected to the MCP agent.\n",
    "    Returns:\n",
    "        ReplyResult: The result of the MCP agent's processing.\n",
    "\"\"\"\n",
    "\n",
    "\n",
    "@mcp_agent.register_for_llm(description=tool_prompt)\n",
    "@assistant.register_for_execution(description=tool_prompt)\n",
    "async def run_mcp_agent_to_client(query: str, server_name: str) -> ReplyResult:\n",
    "    if server_name not in mcp_connections:\n",
    "        raise KeyError(\n",
    "            f\"Couldn't find a server with name '{server_name}', expected one of '{list(mcp_connections.keys())}'\"\n",
    "        )\n",
    "    async with open_mcp_session(mcp_connections[server_name]) as session:\n",
    "        await session.initialize()\n",
    "        toolkit = await create_toolkit(session=session)\n",
    "        agent = AssistantAgent(\n",
    "            name=\"assistant\",\n",
    "            llm_config=llm_config,\n",
    "            human_input_mode=\"NEVER\",\n",
    "        )\n",
    "        toolkit.register_for_llm(agent)\n",
    "        # Make a request using the MCP tool\n",
    "        result = await agent.a_run(\n",
    "            message=query,\n",
    "            tools=toolkit.tools,\n",
    "            max_turns=2,\n",
    "        )\n",
    "        res = await result.process()\n",
    "        return ReplyResult(\n",
    "            message=str(res),\n",
    "            target=AgentTarget(mcp_agent),\n",
    "        )"
   ]
  },
  {
   "cell_type": "code",
   "execution_count": null,
   "id": "17",
   "metadata": {},
   "outputs": [],
   "source": [
    "res = mcp_agent.initiate_chat(\n",
    "    message=\"search wikipedia for the term 'demon slayer movies'\", recipient=assistant, max_turns=3\n",
    ")"
   ]
  }
 ],
 "metadata": {
   "front_matter": {
   "description": "MCP Clients",
   "tags": [
    "MCP",
    "Model Context Protocol",
    "tools"
   ]
  },
  "kernelspec": {
   "display_name": "Python 3",
   "language": "python",
   "name": "python3"
  },
  "language_info": {
   "codemirror_mode": {
    "name": "ipython",
    "version": 3
   },
   "file_extension": ".py",
   "mimetype": "text/x-python",
   "name": "python",
   "nbconvert_exporter": "python",
   "pygments_lexer": "ipython3",
   "version": "3.12.8"
  }
 },
 "nbformat": 4,
 "nbformat_minor": 5
}
