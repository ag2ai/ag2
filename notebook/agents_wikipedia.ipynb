{
 "cells": [
  {
   "cell_type": "markdown",
   "metadata": {},
   "source": [
    "# Wikipedia Agent\n",
    "\n",
    "In [Wikipedia Search Tools](https://github.com/ag2ai/ag2/blob/main/notebook/tools_wikipedia_search.ipynb) notebook, we demonstrated how to create Agents with basic Wikipedia search capabilities.\n",
    "\n",
    "Now, we're taking it a step further with `WikipediaAgent`—a powerful agent equipped with built-in wiki search tools right out of the box!"
   ]
  },
  {
   "cell_type": "markdown",
   "metadata": {},
   "source": [
    "\n",
    "## Package Installation\n",
    "\n",
    "\n",
    "To get started with the Wikipedia search integration in AG2, follow these steps:\n",
    "\n",
    "Install AG2 with `\"wikipedia` and `openai` since we use OpenAI's LLMs in our example:\n",
    "\n",
    "```bash\n",
    "pip install -U \"ag2[wikipedia, openai]\"\n",
    "```\n",
    "> **Note:** If you have been using `autogen` or `pyautogen`, all you need to do is upgrade it using:\n",
    "> ```bash\n",
    "> pip install -U \"autogen[wikipedia, openai]\"\n",
    "> ```\n",
    "> or\n",
    "> ```bash\n",
    "> pip install -U \"pyautogen[wikipedia, openai]\"\n",
    "> ```\n",
    "> as `pyautogen`, `autogen`, and `ag2` are aliases for the same PyPI package.\n",
    "\n",
    "\n",
    "You're all set! Now you can start using Wikipedia Search with AG2."
   ]
  },
  {
   "cell_type": "markdown",
   "metadata": {},
   "source": [
    "## Implementation\n",
    "The `WikipediaQueryRunTool` enables agents to perform Wikipedia search."
   ]
  },
  {
   "cell_type": "markdown",
   "metadata": {},
   "source": [
    "### Imports"
   ]
  },
  {
   "cell_type": "code",
   "execution_count": null,
   "metadata": {},
   "outputs": [],
   "source": [
    "from autogen import LLMConfig\n",
    "from autogen.agentchat import UserProxyAgent\n",
    "from autogen.agents.experimental import WikipediaAgent"
   ]
  },
  {
   "cell_type": "markdown",
   "metadata": {},
   "source": [
    "### Agent Configuration\n",
    "\n",
    "Configure WikipediaAgent and user proxy to be used for LLM recommendation and execution respectively.\n"
   ]
  },
  {
   "cell_type": "code",
   "execution_count": null,
   "metadata": {},
   "outputs": [],
   "source": [
    "config_list = LLMConfig(api_type=\"openai\", model=\"gpt-4o-mini\")\n",
    "\n",
    "wiki_agent = WikipediaAgent(name=\"wiki-agent\", llm_config=config_list)\n",
    "user_proxy = UserProxyAgent(name=\"user_proxy\", human_input_mode=\"NEVER\", code_execution_config=False)\n",
    "\n",
    "# WikipediaAgent has a list of tools which are registered for LLM\n",
    "# We need to register the tools for execution with the UserProxyAgent\n",
    "for tool in wiki_agent.tools:\n",
    "    tool.register_for_execution(user_proxy)"
   ]
  },
  {
   "cell_type": "markdown",
   "metadata": {},
   "source": [
    "### Start the Conversation\n",
    "\n",
    "With the setup complete, you can now use the conversation."
   ]
  },
  {
   "cell_type": "code",
   "execution_count": null,
   "metadata": {},
   "outputs": [],
   "source": [
    "response = user_proxy.initiate_chat(\n",
    "    recipient=wiki_agent,\n",
    "    message=\"What's the population of Australia?\",\n",
    "    max_turns=2,\n",
    ")"
   ]
  },
  {
   "cell_type": "code",
   "execution_count": null,
   "metadata": {},
   "outputs": [],
   "source": []
  }
 ],
 "metadata": {
  "front_matter": {
   "description": "Perplexity Search Integration with AG2",
   "tags": [
    "tools",
    "perplexity",
    "web-search",
    "search"
   ]
  },
  "kernelspec": {
   "display_name": "Python 3",
   "language": "python",
   "name": "python3"
  },
  "language_info": {
   "codemirror_mode": {
    "name": "ipython",
    "version": 3
   },
   "file_extension": ".py",
   "mimetype": "text/x-python",
   "name": "python",
   "nbconvert_exporter": "python",
   "pygments_lexer": "ipython3",
   "version": "3.9.21"
  }
 },
 "nbformat": 4,
 "nbformat_minor": 2
}
