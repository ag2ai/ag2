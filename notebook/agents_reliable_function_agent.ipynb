{
 "cells": [
  {
   "cell_type": "markdown",
   "metadata": {},
   "source": [
    "## Installation\n",
    "\n",
    "To get started with the `crawl4ai` integration in AG2, follow these steps:\n",
    "\n",
    "1. Install AG2 with the `crawl4ai` extra:\n",
    "   ```bash\n",
    "   pip install ag2[crawl4ai]\n",
    "   ```\n",
    "   > **Note:** If you have been using `autogen` or `pyautogen`, all you need to do is upgrade it using:  \n",
    "   > ```bash\n",
    "   > pip install -U autogen[crawl4ai]\n",
    "   > ```\n",
    "   > or  \n",
    "   > ```bash\n",
    "   > pip install -U pyautogen[crawl4ai]\n",
    "   > ```\n",
    "   > as `pyautogen`, `autogen`, and `ag2` are aliases for the same PyPI package.  \n",
    "2. Set up Playwright:\n",
    "   \n",
    "   ```bash\n",
    "   # Installs Playwright and browsers for all OS\n",
    "   playwright install\n",
    "   # Additional command, mandatory for Linux only\n",
    "   playwright install-deps\n",
    "   ```\n",
    "\n",
    "3. For running the code in Jupyter, use `nest_asyncio` to allow nested event loops.\n",
    "    ```bash\n",
    "    pip install nest_asyncio\n",
    "    ```\n",
    "\n",
    "\n",
    "You're all set! Now you can start using browsing features in AG2.\n",
    "\n",
    "\n",
    "## Imports"
   ]
  },
  {
   "cell_type": "code",
   "execution_count": null,
   "metadata": {},
   "outputs": [],
   "source": []
  },
  {
   "cell_type": "markdown",
   "metadata": {},
   "source": [
    "# Demo of Reliable Function Swarm Agent with Crawl4AI"
   ]
  },
  {
   "cell_type": "code",
   "execution_count": 1,
   "metadata": {},
   "outputs": [],
   "source": [
    "import os\n",
    "\n",
    "import nest_asyncio\n",
    "from pydantic import BaseModel\n",
    "\n",
    "from autogen import AssistantAgent, UserProxyAgent\n",
    "from autogen.tools.experimental import Crawl4AITool\n",
    "\n",
    "nest_asyncio.apply()"
   ]
  },
  {
   "cell_type": "markdown",
   "metadata": {},
   "source": [
    "## Crawl4AI with LLM & Schema for Structured Data"
   ]
  },
  {
   "cell_type": "code",
   "execution_count": 2,
   "metadata": {},
   "outputs": [],
   "source": [
    "config_list = [{\"model\": \"gpt-4o-mini\", \"api_key\": os.environ[\"OPENAI_API_KEY\"]}]\n",
    "\n",
    "llm_config = {\n",
    "    \"config_list\": config_list,\n",
    "}\n"
   ]
  },
  {
   "cell_type": "code",
   "execution_count": null,
   "metadata": {},
   "outputs": [
    {
     "name": "stdout",
     "output_type": "stream",
     "text": [
      "_User (to chat_manager):\n",
      "\n",
      "Extract all notebooks urls from https://docs.ag2.ai/docs/use-cases/notebooks/Notebooks\n",
      "\n",
      "--------------------------------------------------------------------------------\n",
      "\n",
      ">>>>>>>> USING AUTO REPLY...\n",
      "\n",
      ">>>>>>>> USING AUTO REPLY...\n",
      "Crawler-Runner (to chat_manager):\n",
      "\n",
      "***** Suggested tool call (call_4duQepXHpSvYG4T0q9EkfXY8): crawl4ai_with_llm *****\n",
      "Arguments: \n",
      "{\"url\":\"https://docs.ag2.ai/docs/use-cases/notebooks/Notebooks\",\"instruction\":\"Extract all notebook URLs from the page.\",\"hypothesis\":\"The page contains links to various notebooks that can be gathered.\"}\n",
      "**********************************************************************************\n",
      "\n",
      "--------------------------------------------------------------------------------\n",
      "\n",
      ">>>>>>>> EXECUTING FUNCTION crawl4ai_with_llm...\n",
      "Call ID: call_4duQepXHpSvYG4T0q9EkfXY8\n",
      "Input arguments: {'url': 'https://docs.ag2.ai/docs/use-cases/notebooks/Notebooks', 'instruction': 'Extract all notebook URLs from the page.', 'hypothesis': 'The page contains links to various notebooks that can be gathered.', 'context_variables': {'Crawler-ReliableFunctionContext': '{\"task\":\"Extract all notebooks urls from https://docs.ag2.ai/docs/use-cases/notebooks/Notebooks\",\"result_data\":\"\",\"result_str\":\"\",\"hypothesis\":\"\",\"args\":[],\"kwargs\":{},\"swarm_result_agent\":\"\",\"validation_result\":false,\"justification\":\"\"}'}}\n",
      "[INIT].... → Crawl4AI 0.4.248\n",
      "[FETCH]... ↓ https://docs.ag2.ai/docs/use-cases/notebooks/Noteb... | Status: True | Time: 3.78s\n",
      "[SCRAPE].. ◆ Processed https://docs.ag2.ai/docs/use-cases/notebooks/Noteb... | Time: 266ms\n"
     ]
    }
   ],
   "source": [
    "class Notebook(BaseModel):\n",
    "    title: str\n",
    "    url: str\n",
    "\n",
    "class Notebooks(BaseModel):\n",
    "    blogs: list[Notebook]\n",
    "\n",
    "# Set llm_config and extraction_model to Crawl4AITool\n",
    "crawlai_tool = Crawl4AITool(llm_config=llm_config, extraction_model=Notebooks)\n",
    "from autogen.agents.experimental import ReliableFunctionAgent\n",
    "\n",
    "crawler = ReliableFunctionAgent(name=\"Crawler\", runner_llm_config=llm_config,\n",
    "                                validator_llm_config=llm_config, func_or_tool=crawlai_tool, \n",
    "                                agent_system_message=\"\"\"\n",
    "You are a web surfer agent responsible for gathering information from the web to answer the provided question.\n",
    "Call browse and define a task for a web browsing agent which will provide information to answer the question.\"\"\",\n",
    "                                validator_system_message=\"\"\"\n",
    "Validations:\n",
    "1. Validate that the URL is structurally valid\n",
    "2. Validate that there is in fact a title\n",
    "\"\"\")\n",
    "\n",
    "res = await crawler.a_run_func(task=\"Extract all notebooks urls from https://docs.ag2.ai/docs/use-cases/notebooks/Notebooks\")\n",
    "print(res)"
   ]
  },
  {
   "cell_type": "code",
   "execution_count": null,
   "metadata": {},
   "outputs": [],
   "source": []
  }
 ],
 "metadata": {
  "front_matter": {
   "description": "Supercharging Web Crawling with Crawl4AI",
   "tags": [
    "tools",
    "browser-use",
    "webscraping",
    "function calling"
   ]
  },
  "kernelspec": {
   "display_name": "ag2",
   "language": "python",
   "name": "python3"
  },
  "language_info": {
   "codemirror_mode": {
    "name": "ipython",
    "version": 3
   },
   "file_extension": ".py",
   "mimetype": "text/x-python",
   "name": "python",
   "nbconvert_exporter": "python",
   "pygments_lexer": "ipython3",
   "version": "3.13.1"
  }
 },
 "nbformat": 4,
 "nbformat_minor": 2
}
