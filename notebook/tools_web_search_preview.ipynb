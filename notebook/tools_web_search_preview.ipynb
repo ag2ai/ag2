{
 "cells": [
  {
   "cell_type": "code",
   "execution_count": null,
   "metadata": {},
   "outputs": [],
   "source": [
    "from autogen import AssistantAgent, LLMConfig\n",
    "from autogen.tools.experimental.web_search_preview import WebSearchPreviewTool"
   ]
  },
  {
   "cell_type": "code",
   "execution_count": null,
   "metadata": {},
   "outputs": [],
   "source": [
    "llm_config = LLMConfig.from_json(path=\"OAI_CONFIG_LIST\")\n",
    "\n",
    "agent = AssistantAgent(\n",
    "    name=\"assistant\",\n",
    "    llm_config=llm_config,\n",
    ")\n",
    "\n",
    "\n",
    "tool = WebSearchPreviewTool(\n",
    "    llm_config=llm_config,\n",
    "    instructions=\"\"\"Find a url with opeanapi specification for the wanted api. The specification must be in JSON or YAML format.\n",
    "I need a link to raw file (because I will use it in curl command).\n",
    "\n",
    "Output should be just:\n",
    "\n",
    "Source: <url> (where te openapi specification was found)\n",
    "OpenAPI Specification URL: <url>\n",
    "\n",
    "\n",
    "- make sure that the url which you found is not returning 4xx error, otherwise you will be penalized!\n",
    "- do not give up easily, try to find the url in different ways\n",
    "- do not use markdown [url](<url>) format\"\"\",\n",
    ")\n",
    "tool.register_for_llm(agent)"
   ]
  },
  {
   "cell_type": "code",
   "execution_count": null,
   "metadata": {},
   "outputs": [],
   "source": [
    "apis = [\"github\", \"whatsapp\", \"trello\", \"giphy\", \"pokemon\"]\n",
    "for api in apis:\n",
    "    response = agent.run(\n",
    "        message=f\"Let's find a url with openapi specification for {api}.\",\n",
    "        tools=agent.tools,\n",
    "        user_input=False,\n",
    "        max_turns=3,\n",
    "    )\n",
    "    response.process()\n",
    "    print(\"-\" * 40)"
   ]
  },
  {
   "cell_type": "code",
   "execution_count": null,
   "metadata": {},
   "outputs": [],
   "source": []
  }
 ],
 "metadata": {
  "front_matter": {
   "description": "OpenAI Assistant with retrieval augmentation.",
   "tags": [
    "RAG",
    "OpenAI Assistant"
   ]
  },
  "kernelspec": {
   "display_name": ".venv",
   "language": "python",
   "name": "python3"
  },
  "language_info": {
   "codemirror_mode": {
    "name": "ipython",
    "version": 3
   },
   "file_extension": ".py",
   "mimetype": "text/x-python",
   "name": "python",
   "nbconvert_exporter": "python",
   "pygments_lexer": "ipython3",
   "version": "3.11.8"
  }
 },
 "nbformat": 4,
 "nbformat_minor": 2
}
