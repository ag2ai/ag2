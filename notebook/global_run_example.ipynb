{
 "cells": [
  {
   "cell_type": "code",
   "execution_count": null,
   "metadata": {},
   "outputs": [],
   "source": [
    "from os import environ\n",
    "\n",
    "from autogen import ConversableAgent, run\n",
    "from autogen.messages.run_events import InputRequestEvent\n",
    "from autogen.tools import tool\n",
    "\n",
    "llm_config = {\"config_list\": [{\"api_key\": environ[\"OPENAI_API_KEY\"], \"model\": \"gpt-4o-mini\"}]}"
   ]
  },
  {
   "cell_type": "markdown",
   "metadata": {},
   "source": [
    "# Single agent run"
   ]
  },
  {
   "cell_type": "code",
   "execution_count": null,
   "metadata": {},
   "outputs": [],
   "source": [
    "@tool()\n",
    "def get_meaning_of_life():\n",
    "    return \"The meaning of life is 42.\"\n",
    "\n",
    "\n",
    "agent = ConversableAgent(name=\"Alice\", llm_config=llm_config, human_input_mode=\"TERMINATE\")\n",
    "\n",
    "response = run(\n",
    "    agent,\n",
    "    initial_message=\"What is the meaning of life? Call the appropriate function to find out\",\n",
    "    tools=[get_meaning_of_life],\n",
    ")\n",
    "\n",
    "\n",
    "for event in response.events:\n",
    "    print(f\"Got event: {event.type=}, {event=}\")\n",
    "    if isinstance(event, InputRequestEvent):\n",
    "        event.respond(input(event.prompt))\n",
    "\n",
    "print(response.summary)"
   ]
  },
  {
   "cell_type": "markdown",
   "metadata": {},
   "source": [
    "# Two agent run"
   ]
  },
  {
   "cell_type": "code",
   "execution_count": null,
   "metadata": {},
   "outputs": [],
   "source": [
    "agent_1 = ConversableAgent(name=\"Alice\", llm_config=llm_config)\n",
    "agent_2 = ConversableAgent(name=\"Bob\", llm_config=llm_config)\n",
    "\n",
    "response = run(agent_1, agent_2, initial_message=\"What is the meaning of life?\")\n",
    "\n",
    "\n",
    "for event in response.events:\n",
    "    print(f\"Got event: {event.type=}, {event=}\")\n",
    "    if isinstance(event, InputRequestEvent):\n",
    "        event.respond(input(event.prompt))\n",
    "\n",
    "print(response.summary)"
   ]
  },
  {
   "cell_type": "markdown",
   "metadata": {},
   "source": [
    "# Multi agent run with chat manager"
   ]
  },
  {
   "cell_type": "code",
   "execution_count": null,
   "metadata": {},
   "outputs": [],
   "source": [
    "from autogen.agentchat.groupchat.groupchat import GroupChatManager\n",
    "\n",
    "\n",
    "def submit_plan(plan: str) -> str:\n",
    "    return f\"Plan submitted: {plan}\"\n",
    "\n",
    "\n",
    "planner = ConversableAgent(\n",
    "    name=\"Planner\",\n",
    "    system_message=\"You are a planner. Collaborate with teacher and reviewer to create lesson plans.\",\n",
    "    llm_config=llm_config,\n",
    ")\n",
    "\n",
    "reviewer = ConversableAgent(\n",
    "    name=\"Reviewer\",\n",
    "    system_message=\"You are a reviewer. Review lesson plans against 4th grade curriculum. Provide max 3 changes.\",\n",
    "    llm_config=llm_config,\n",
    ")\n",
    "\n",
    "teacher = ConversableAgent(\n",
    "    name=\"Teacher\",\n",
    "    system_message=\"You are a teacher. Choose topics and work with planner and reviewer. Say DONE! when finished.\",\n",
    "    llm_config=llm_config,\n",
    ")\n",
    "\n",
    "teacher.register_for_llm()(submit_plan)\n",
    "planner.register_for_execution()(submit_plan)\n",
    "reviewer.register_for_execution()(submit_plan)\n",
    "\n",
    "chat_manager = GroupChatManager(llm_config=llm_config)\n",
    "\n",
    "response = run(\n",
    "    planner,\n",
    "    reviewer,\n",
    "    teacher,\n",
    "    initial_message=\"Create lesson plans for 4th grade.\",\n",
    "    chat_manager=chat_manager,\n",
    ")\n",
    "\n",
    "for event in response.events:\n",
    "    print(f\"Got event: {event.type=}, {event=}\")\n",
    "    if isinstance(event, InputRequestEvent):\n",
    "        event.respond(input(event.prompt))\n",
    "\n",
    "print(response.summary)"
   ]
  },
  {
   "cell_type": "markdown",
   "metadata": {},
   "source": [
    "# Swarm chat manager"
   ]
  },
  {
   "cell_type": "code",
   "execution_count": null,
   "metadata": {},
   "outputs": [],
   "source": [
    "from autogen import AfterWorkOption, ConversableAgent, LLMConfig\n",
    "from autogen.agentchat.groupchat.chat_managers.swarm import SwarmChatManager\n",
    "\n",
    "llm_config = LLMConfig(api_type=\"openai\", model=\"gpt-4o-mini\")\n",
    "\n",
    "# 1. Create our agents\n",
    "planner_message = \"\"\"You are a classroom lesson planner.\n",
    "Given a topic, write a lesson plan for a fourth grade class.\n",
    "If you are given revision feedback, update your lesson plan and record it.\n",
    "Use the following format:\n",
    "<title>Lesson plan title</title>\n",
    "<learning_objectives>Key learning objectives</learning_objectives>\n",
    "<script>How to introduce the topic to the kids</script>\n",
    "\"\"\"\n",
    "\n",
    "lesson_planner = ConversableAgent(name=\"planner_agent\", llm_config=llm_config, system_message=planner_message)\n",
    "\n",
    "reviewer_message = \"\"\"You are a classroom lesson reviewer.\n",
    "You compare the lesson plan to the fourth grade curriculum\n",
    "and provide a maximum of 3 recommended changes for each review.\n",
    "Make sure you provide recommendations each time the plan is updated.\n",
    "\"\"\"\n",
    "\n",
    "lesson_reviewer = ConversableAgent(name=\"reviewer_agent\", llm_config=llm_config, system_message=reviewer_message)\n",
    "\n",
    "teacher_message = \"\"\"You are a classroom teacher.\n",
    "You decide topics for lessons and work with a lesson planner.\n",
    "and reviewer to create and finalise lesson plans.\n",
    "\"\"\"\n",
    "\n",
    "teacher = ConversableAgent(\n",
    "    name=\"teacher_agent\",\n",
    "    llm_config=llm_config,\n",
    "    system_message=teacher_message,\n",
    ")\n",
    "\n",
    "chat_manager = SwarmChatManager(llm_config=llm_config, max_rounds=10, after_work=AfterWorkOption.SWARM_MANAGER)\n",
    "\n",
    "response = run(\n",
    "    planner,\n",
    "    reviewer,\n",
    "    teacher,\n",
    "    initial_message=\"Today, let's introduce our kids to the solar system.\",\n",
    "    chat_manager=chat_manager,\n",
    ")\n",
    "\n",
    "for event in response.events:\n",
    "    print(f\"Got event: {event.type=}, {event=}\")\n",
    "    if isinstance(event, InputRequestEvent):\n",
    "        event.respond(input(event.prompt))\n",
    "\n",
    "print(response.summary)"
   ]
  }
 ],
 "metadata": {
  "kernelspec": {
   "display_name": ".venv",
   "language": "python",
   "name": "python3"
  },
  "language_info": {
   "codemirror_mode": {
    "name": "ipython",
    "version": 3
   },
   "file_extension": ".py",
   "mimetype": "text/x-python",
   "name": "python",
   "nbconvert_exporter": "python",
   "pygments_lexer": "ipython3",
   "version": "3.13.1"
  }
 },
 "nbformat": 4,
 "nbformat_minor": 2
}
