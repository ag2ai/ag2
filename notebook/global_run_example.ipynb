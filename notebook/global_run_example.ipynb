{
 "cells": [
  {
   "cell_type": "code",
   "execution_count": null,
   "metadata": {},
   "outputs": [],
   "source": [
    "from os import environ\n",
    "\n",
    "from autogen import ConversableAgent, run\n",
    "from autogen.messages.run_events import InputRequestEvent\n",
    "\n",
    "llm_config = {\"config_list\": [{\"api_key\": environ[\"OPENAI_API_KEY\"], \"model\": \"gpt-4o-mini\"}]}"
   ]
  },
  {
   "cell_type": "code",
   "execution_count": null,
   "metadata": {},
   "outputs": [],
   "source": [
    "agent = ConversableAgent(name=\"Alice\", llm_config=llm_config)\n",
    "\n",
    "response = run(agent, message=\"What is the meaning of life?\")\n",
    "\n",
    "\n",
    "for event in response.events:\n",
    "    if isinstance(event, InputRequestEvent):\n",
    "        event.respond(input(event.prompt))\n",
    "    print(event)"
   ]
  },
  {
   "cell_type": "code",
   "execution_count": null,
   "metadata": {},
   "outputs": [],
   "source": []
  }
 ],
 "metadata": {
  "kernelspec": {
   "display_name": ".venv",
   "language": "python",
   "name": "python3"
  },
  "language_info": {
   "codemirror_mode": {
    "name": "ipython",
    "version": 3
   },
   "file_extension": ".py",
   "mimetype": "text/x-python",
   "name": "python",
   "nbconvert_exporter": "python",
   "pygments_lexer": "ipython3",
   "version": "3.13.1"
  }
 },
 "nbformat": 4,
 "nbformat_minor": 2
}
