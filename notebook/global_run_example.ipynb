{
 "cells": [
  {
   "cell_type": "code",
   "execution_count": 1,
   "metadata": {},
   "outputs": [
    {
     "data": {
      "text/plain": [
       "LLMConfig(config_list=[{'api_type': 'openai', 'model': 'gpt-4o-mini', 'api_key': '**********', 'tags': ['gpt-4o-mini', 'tool', 'vision']}])"
      ]
     },
     "execution_count": 1,
     "metadata": {},
     "output_type": "execute_result"
    }
   ],
   "source": [
    "from autogen import ConversableAgent, LLMConfig, run\n",
    "from autogen.agentchat.groupchat.groupchat import GroupChatManager\n",
    "from autogen.events.agent_events import InputRequestEvent\n",
    "from autogen.io.event_processors import ConsoleEventProcessor\n",
    "from autogen.tools import tool\n",
    "\n",
    "llm_config = LLMConfig.from_json(path=\"OAI_CONFIG_LIST\").where(model=[\"gpt-4o-mini\"], api_type=\"openai\")\n",
    "\n",
    "llm_config"
   ]
  },
  {
   "cell_type": "markdown",
   "metadata": {},
   "source": [
    "# Single agent run"
   ]
  },
  {
   "cell_type": "code",
   "execution_count": null,
   "metadata": {},
   "outputs": [
    {
     "name": "stdout",
     "output_type": "stream",
     "text": [
      "Got event: type='text' content=TextEvent(uuid=UUID('a50e62a6-7d7e-4e5c-8b26-32552c0f76f5'), content='What is the meaning of life?', sender_name='Alice', recipient_name='chat_manager')\n",
      "Got event: type='group_chat_run_chat' content=GroupChatRunChatEvent(uuid=UUID('47673fe8-ae21-4d8b-b24a-c146f9089b78'), speaker_name='Alice', verbose=True)\n",
      "Got event: type='using_auto_reply' content=UsingAutoReplyEvent(uuid=UUID('1031b1d3-9175-4446-8e37-023393edb415'), human_input_mode='TERMINATE', sender_name='chat_manager', recipient_name='Alice')\n",
      "Got event: type='tool_call' content=ToolCallEvent(uuid=UUID('e08a5090-edb2-4d14-9968-7b3ccc104ca8'), content=None, sender_name='Alice', recipient_name='chat_manager', refusal=None, role='assistant', audio=None, function_call=None, tool_calls=[ToolCall(id='call_ZtAx2L5lYgTt9inLFtb80GVw', function=FunctionCall(name='get_meaning_of_life', arguments='{}'), type='function')])\n",
      "Got event: type='group_chat_run_chat' content=GroupChatRunChatEvent(uuid=UUID('734dd816-2e57-4729-8f78-55d4f4584c9c'), speaker_name='Alice', verbose=True)\n",
      "Got event: type='using_auto_reply' content=UsingAutoReplyEvent(uuid=UUID('61ae9645-113b-485a-ba73-9e472d943093'), human_input_mode='TERMINATE', sender_name='chat_manager', recipient_name='Alice')\n",
      "Got event: type='execute_function' content=ExecuteFunctionEvent(uuid=UUID('80150f17-4d14-4861-89e5-32364708e7c2'), func_name='get_meaning_of_life', call_id='call_ZtAx2L5lYgTt9inLFtb80GVw', arguments={}, recipient_name='Alice')\n",
      "Got event: type='tool_response' content=ToolResponseEvent(uuid=UUID('702f6ceb-5d7b-4db5-bf60-6b91929a175d'), content='The meaning of life is 42.', sender_name='Alice', recipient_name='chat_manager', role='tool', tool_responses=[ToolResponse(tool_call_id='call_ZtAx2L5lYgTt9inLFtb80GVw', role='tool', content='The meaning of life is 42.')])\n",
      "Got event: type='group_chat_run_chat' content=GroupChatRunChatEvent(uuid=UUID('693a33c6-9bbe-49bf-a090-e78877f723bb'), speaker_name='Alice', verbose=True)\n",
      "Got event: type='using_auto_reply' content=UsingAutoReplyEvent(uuid=UUID('3cc2cc1b-c5eb-4ee0-b64a-c996a5c1bd8f'), human_input_mode='TERMINATE', sender_name='chat_manager', recipient_name='Alice')\n",
      "Got event: type='text' content=TextEvent(uuid=UUID('9f1391b7-0e0c-410a-9c7c-c903355c24c1'), content='The meaning of life is 42.', sender_name='Alice', recipient_name='chat_manager')\n",
      "Got event: type='termination' content=TerminationEvent(uuid=UUID('98ac512f-a7c4-426a-9520-6adfbce81f30'), termination_reason='Maximum rounds (4) reached')\n",
      "The meaning of life is 42.\n"
     ]
    }
   ],
   "source": [
    "from autogen.run_patterns.round_robin import RoundRobinRunPattern\n",
    "\n",
    "\n",
    "@tool()\n",
    "def get_meaning_of_life():\n",
    "    return \"The meaning of life is 42.\"\n",
    "\n",
    "\n",
    "with llm_config:\n",
    "    agent = ConversableAgent(name=\"Alice\")\n",
    "\n",
    "get_meaning_of_life.register_for_llm(agent)\n",
    "\n",
    "response = run(\n",
    "    agent, # or receiver=agent\n",
    "    message=\"What is the meaning of life?\", # or message=\"What is the meaning of life?\"\n",
    "    terminate_on=MaxTurns(4) or Keyword(\"TERMINATE\"),  # implement arithmetics for this\n",
    "    # default values for the following arguments:\n",
    "    # sender=\"user\",  # if not specified, we assume the sender is the user\n",
    "    # run_pattern=RoundRobinRunPattern(),  # default run pattern is round robin\n",
    ")\n",
    "\n",
    "\n",
    "for event in response.events:\n",
    "    print(f\"Got event: {event}\")\n",
    "    if isinstance(event, InputRequestEvent):\n",
    "        event.content.respond(input(event.content.prompt))\n",
    "\n",
    "print(response.summary)"
   ]
  },
  {
   "cell_type": "markdown",
   "metadata": {},
   "source": [
    "## With console processor"
   ]
  },
  {
   "cell_type": "code",
   "execution_count": null,
   "metadata": {},
   "outputs": [],
   "source": [
    "from autogen import UserProxyAgent\n",
    "\n",
    "\n",
    "@tool()\n",
    "def get_meaning_of_life():\n",
    "    return \"The meaning of life is 42.\"\n",
    "\n",
    "\n",
    "with llm_config:\n",
    "    agent = ConversableAgent(name=\"Alice\")\n",
    "\n",
    "user_proxy = UserProxyAgent(\"user_proxy\")\n",
    "\n",
    "get_meaning_of_life.register_for_llm(agent)\n",
    "\n",
    "response = run(sender=user_proxy, receiver=agent, message=\"What is the meaning of life?\")\n",
    "\n",
    "processor = ConsoleEventProcessor()\n",
    "processor.process(response)\n",
    "\n",
    "print(response.summary)"
   ]
  },
  {
   "cell_type": "markdown",
   "metadata": {},
   "source": [
    "# Two agent run"
   ]
  },
  {
   "cell_type": "code",
   "execution_count": null,
   "metadata": {},
   "outputs": [],
   "source": [
    "with llm_config:\n",
    "    agent_1 = ConversableAgent(name=\"Jane\")\n",
    "    agent_2 = ConversableAgent(name=\"Bob\")\n",
    "\n",
    "response = run(sender=agent_1, receiver=agent_2, message=\"have a joke off\", terminate_on=MaxTurns(5))\n",
    "\n",
    "\n",
    "for event in response.events:\n",
    "    print(f\"Got event: {event.type=}, {event=}\")\n",
    "    if isinstance(event, InputRequestEvent):\n",
    "        event.content.respond(input(event.prompt))\n",
    "\n",
    "print(response.summary)"
   ]
  },
  {
   "cell_type": "markdown",
   "metadata": {},
   "source": [
    "## With event processor"
   ]
  },
  {
   "cell_type": "code",
   "execution_count": null,
   "metadata": {},
   "outputs": [],
   "source": [
    "with llm_config:\n",
    "    agent_1 = ConversableAgent(name=\"Jane\")\n",
    "    agent_2 = ConversableAgent(name=\"Bob\")\n",
    "\n",
    "response = run(sender=agent_1, receiver=agent_2, message=\"have a joke off\", terminate_on=Keyword(\"TERMINATE\"))\n",
    "\n",
    "\n",
    "ConsoleEventProcessor().process(response)\n",
    "\n",
    "print(response.summary)"
   ]
  },
  {
   "cell_type": "markdown",
   "metadata": {},
   "source": [
    "# Multi agent run with chat manager"
   ]
  },
  {
   "cell_type": "code",
   "execution_count": null,
   "metadata": {},
   "outputs": [],
   "source": [
    "from autogen.run_patterns import GroupRunPattern\n",
    "\n",
    "\n",
    "@tool()\n",
    "def submit_plan(plan: str) -> str:\n",
    "    return f\"Plan submitted: {plan}\"\n",
    "\n",
    "\n",
    "with llm_config:\n",
    "    planner = ConversableAgent(\n",
    "        name=\"Planner\",\n",
    "        system_message=\"You are a planner. Collaborate with teacher and reviewer to create lesson plans.\",\n",
    "    )\n",
    "\n",
    "    reviewer = ConversableAgent(\n",
    "        name=\"Reviewer\",\n",
    "        system_message=\"You are a reviewer. Review lesson plans against 4th grade curriculum. Provide max 3 changes.\",\n",
    "    )\n",
    "\n",
    "    teacher = ConversableAgent(\n",
    "        name=\"Teacher\",\n",
    "        system_message=\"You are a teacher. Choose topics and work with planner and reviewer. Say DONE! when finished.\",\n",
    "    )\n",
    "    run_pattern = GroupRunPattern(planner, reviewer, teacher)\n",
    "\n",
    "submit_plan.register_for_llm(teacher)\n",
    "\n",
    "response = run(\n",
    "    receiver=planner,\n",
    "    message=\"Create lesson plans for 4th grade.\",\n",
    "    run_pattern=run_pattern,\n",
    "    terminate_on=Keyword(\"DONE!\") or MaxTurns(10),\n",
    ")\n",
    "\n",
    "for event in response.events:\n",
    "    print(f\"Got event: {event.type=}, {event=}\")\n",
    "    if isinstance(event, InputRequestEvent):\n",
    "        event.content.respond(input(event.prompt))\n",
    "\n",
    "print(response.summary)"
   ]
  },
  {
   "cell_type": "markdown",
   "metadata": {},
   "source": [
    "# Swarm chat manager"
   ]
  },
  {
   "cell_type": "code",
   "execution_count": null,
   "metadata": {},
   "outputs": [],
   "source": [
    "from autogen import AfterWorkOption, ConversableAgent\n",
    "from autogen.run_patterns import SwarmRunPattern\n",
    "\n",
    "planner_message = \"\"\"You are a classroom lesson planner.\n",
    "Given a topic, write a lesson plan for a fourth grade class.\n",
    "If you are given revision feedback, update your lesson plan and record it.\n",
    "Use the following format:\n",
    "<title>Lesson plan title</title>\n",
    "<learning_objectives>Key learning objectives</learning_objectives>\n",
    "<script>How to introduce the topic to the kids</script>\n",
    "\"\"\"\n",
    "\n",
    "reviewer_message = \"\"\"You are a classroom lesson reviewer.\n",
    "You compare the lesson plan to the fourth grade curriculum\n",
    "and provide a maximum of 3 recommended changes for each review.\n",
    "Make sure you provide recommendations each time the plan is updated.\n",
    "\"\"\"\n",
    "\n",
    "teacher_message = \"\"\"You are a classroom teacher.\n",
    "You decide topics for lessons and work with a lesson planner.\n",
    "and reviewer to create and finalise lesson plans.\n",
    "\"\"\"\n",
    "\n",
    "with llm_config:\n",
    "    # 1. Create our agents\n",
    "\n",
    "    planner = ConversableAgent(name=\"planner_agent\", system_message=planner_message)\n",
    "    reviewer = ConversableAgent(name=\"reviewer_agent\", system_message=reviewer_message)\n",
    "    teacher = ConversableAgent(name=\"teacher_agent\", system_message=teacher_message)\n",
    "\n",
    "    run_pattern = SwarmRunPattern(after_work=AfterWorkOption.SWARM_MANAGER)\n",
    "\n",
    "response = run(\n",
    "    planner,\n",
    "    message=\"Today, let's introduce our kids to the solar system.\",\n",
    "    run_pattern=run_pattern,\n",
    "    terminate_on=MaxTurns(10),\n",
    ")\n",
    "\n",
    "for event in response.events:\n",
    "    print(f\"Got event: {event.type=}, {event=}\")\n",
    "    if isinstance(event, InputRequestEvent):\n",
    "        event.content.respond(input(event.prompt))\n",
    "\n",
    "print(response.summary)"
   ]
  },
  {
   "cell_type": "markdown",
   "metadata": {},
   "source": [
    "# Sequential chat"
   ]
  },
  {
   "cell_type": "code",
   "execution_count": null,
   "metadata": {},
   "outputs": [],
   "source": []
  },
  {
   "cell_type": "markdown",
   "metadata": {},
   "source": [
    "# Nested Chat"
   ]
  },
  {
   "cell_type": "code",
   "execution_count": null,
   "metadata": {},
   "outputs": [],
   "source": []
  }
 ],
 "metadata": {
  "kernelspec": {
   "display_name": ".venv",
   "language": "python",
   "name": "python3"
  },
  "language_info": {
   "codemirror_mode": {
    "name": "ipython",
    "version": 3
   },
   "file_extension": ".py",
   "mimetype": "text/x-python",
   "name": "python",
   "nbconvert_exporter": "python",
   "pygments_lexer": "ipython3",
   "version": "3.13.1"
  }
 },
 "nbformat": 4,
 "nbformat_minor": 2
}
