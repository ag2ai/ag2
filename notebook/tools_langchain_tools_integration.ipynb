{
 "cells": [
  {
   "cell_type": "markdown",
   "metadata": {},
   "source": [
    "# Integrating LangChain Tools with the AG2 Framework\n",
    "\n",
    "In this tutorial, we demonstrate how to integrate [LangChain Tools](https://python.langchain.com/v0.1/docs/modules/tools) into the AG2 framework. This process enables smooth interoperability between the two systems, allowing developers to leverage LangChain's powerful tools within AG2's flexible agent-based architecture. By the end of this guide, you will understand how to configure agents, convert LangChain tools for use in AG2, and validate the integration with a practical example.\n"
   ]
  },
  {
   "cell_type": "markdown",
   "metadata": {},
   "source": [
    "## Installation\n",
    "To integrate LangChain tools into the AG2 framework, install the required dependencies:\n",
    "\n",
    "```bash\n",
    "pip install ag2[interop-langchain]\n",
    "```\n",
    "\n",
    "Additionally, this notebook uses LangChain's [Wikipedia Tool](https://api.python.langchain.com/en/latest/tools/langchain_community.tools.wikipedia.tool.WikipediaQueryRun.html), which requires the `wikipedia` package. Install it with:\n",
    "\n",
    "```bash\n",
    "pip install wikipedia\n",
    "```"
   ]
  },
  {
   "cell_type": "markdown",
   "metadata": {},
   "source": [
    "## Imports\n",
    "\n",
    "Import necessary modules and tools.\n",
    "- `os`: For accessing environment variables.\n",
    "- `WikipediaQueryRun` and `WikipediaAPIWrapper`: Tools for querying Wikipedia.\n",
    "- `AssistantAgent` and `UserProxyAgent`: Agents that facilitate communication in the Autogen framework.\n",
    "- `LangchainInteroperability`: A bridge for integrating LangChain tools with the Autogen framework."
   ]
  },
  {
   "cell_type": "code",
   "execution_count": 1,
   "metadata": {},
   "outputs": [],
   "source": [
    "import os\n",
    "\n",
    "from langchain_community.tools import WikipediaQueryRun\n",
    "from langchain_community.utilities import WikipediaAPIWrapper\n",
    "\n",
    "from autogen import AssistantAgent, UserProxyAgent\n",
    "from autogen.interoperability.langchain import LangchainInteroperability"
   ]
  },
  {
   "cell_type": "markdown",
   "metadata": {},
   "source": [
    "## Agent Configuration\n",
    "\n",
    "Configure the agents for the interaction.\n",
    "- `config_list` defines the LLM configurations, including the model and API key.\n",
    "- `UserProxyAgent` simulates user inputs without requiring actual human interaction (set to `NEVER`).\n",
    "- `AssistantAgent` represents the AI agent, configured with the LLM settings."
   ]
  },
  {
   "cell_type": "code",
   "execution_count": 2,
   "metadata": {},
   "outputs": [],
   "source": [
    "config_list = [{\"model\": \"gpt-4o\", \"api_key\": os.environ[\"OPENAI_API_KEY\"]}]\n",
    "user_proxy = UserProxyAgent(\n",
    "    name=\"User\",\n",
    "    human_input_mode=\"NEVER\",\n",
    ")\n",
    "\n",
    "chatbot = AssistantAgent(\n",
    "    name=\"chatbot\",\n",
    "    llm_config={\"config_list\": config_list},\n",
    ")"
   ]
  },
  {
   "cell_type": "markdown",
   "metadata": {},
   "source": [
    "## Tool Integration\n",
    "\n",
    "- Initialize and register the LangChain tool with AG2.\n",
    "- `WikipediaAPIWrapper`: Configured to fetch the top 1 result from Wikipedia with a maximum of 1000 characters per document.\n",
    "- `WikipediaQueryRun`: A LangChain tool that executes Wikipedia queries.\n",
    "- `LangchainInteroperability`: Converts the LangChain tool into a format compatible with the AG2 framework.\n",
    "- `ag2_tool.register_for_execution(user_proxy)`: Registers the tool for use by the user_proxy agent.\n",
    "- `ag2_tool.register_for_llm(chatbot)`: Registers the tool for integration with the chatbot agent.\n"
   ]
  },
  {
   "cell_type": "code",
   "execution_count": 3,
   "metadata": {},
   "outputs": [],
   "source": [
    "api_wrapper = WikipediaAPIWrapper(top_k_results=1, doc_content_chars_max=1000)\n",
    "langchain_tool = WikipediaQueryRun(api_wrapper=api_wrapper)\n",
    "\n",
    "langchain_interop = LangchainInteroperability()\n",
    "ag2_tool = langchain_interop.convert_tool(langchain_tool)\n",
    "\n",
    "ag2_tool.register_for_execution(user_proxy)\n",
    "ag2_tool.register_for_llm(chatbot)\n"
   ]
  },
  {
   "cell_type": "markdown",
   "metadata": {},
   "source": [
    "## Wikipedia Browsing\n",
    "\n",
    "- `user_proxy` queries the `chatbot`, which uses a Wikipedia tool to retrieve information.\n",
    "- The `chatbot` identifies the query's intent and fetches a summary from Wikipedia.\n",
    "- Tool execution returns a concise response from the relevant Wikipedia page."
   ]
  },
  {
   "cell_type": "code",
   "execution_count": 4,
   "metadata": {},
   "outputs": [
    {
     "name": "stdout",
     "output_type": "stream",
     "text": [
      "\u001b[33mUser\u001b[0m (to chatbot):\n",
      "\n",
      "Tell me about the history of the United States\n",
      "\n",
      "--------------------------------------------------------------------------------\n",
      "\u001b[33mchatbot\u001b[0m (to User):\n",
      "\n",
      "\u001b[32m***** Suggested tool call (call_gBcszkAyMnQ5z1InEf4aEUmn): wikipedia *****\u001b[0m\n",
      "Arguments: \n",
      "{\"tool_input\":{\"query\":\"History of the United States\"}}\n",
      "\u001b[32m**************************************************************************\u001b[0m\n",
      "\n",
      "--------------------------------------------------------------------------------\n",
      "\u001b[35m\n",
      ">>>>>>>> EXECUTING FUNCTION wikipedia...\u001b[0m\n",
      "\u001b[33mUser\u001b[0m (to chatbot):\n",
      "\n",
      "\u001b[32m***** Response from calling tool (call_gBcszkAyMnQ5z1InEf4aEUmn) *****\u001b[0m\n",
      "Page: History of the United States\n",
      "Summary: The history of the lands that became the United States began with the arrival of the first people in the Americas around 15,000 BC. After European colonization of North America began in the late 15th century, wars and epidemics decimated Indigenous societies. By the 1760s, the thirteen British colonies were established. The Southern Colonies built an agricultural system on slave labor, enslaving millions from Africa. After defeating France, the British Parliament imposed a series of taxes; resistance to these taxes, especially the Boston Tea Party in 1773, led to Parliament issuing the Intolerable Acts designed to end self-government.\n",
      "In 1776, the United States declared its independence. Led by General George Washington, it won the Revolutionary War in 1783. The Constitution was adopted in 1789, and a Bill of Rights was added in 1791 to guarantee inalienable rights. Washington, the first president, and his adviser Alexander Hamilton created a\n",
      "\u001b[32m**********************************************************************\u001b[0m\n",
      "\n",
      "--------------------------------------------------------------------------------\n",
      "\u001b[33mchatbot\u001b[0m (to User):\n",
      "\n",
      "The history of the United States started with the arrival of the first people in the Americas around 15,000 BC. The European colonization of North America began in the late 15th century, which significantly impacted Indigenous societies through wars and epidemics. By the 1760s, thirteen British colonies had been established. The Southern Colonies developed an agricultural system reliant on slave labor, bringing millions of enslaved Africans to America.\n",
      "\n",
      "Tensions rose between the colonies and British Parliament due to a series of taxes, with the Boston Tea Party in 1773 marking a major protest against these impositions. This led to the Intolerable Acts aimed at suppressing colonial self-governance.\n",
      "\n",
      "In 1776, the United States declared independence. Under the leadership of General George Washington, the U.S. emerged victorious in the Revolutionary War by 1783. The U.S. Constitution was adopted in 1789, followed by the Bill of Rights in 1791, which secured fundamental rights for its citizens. Washington became the first president, with Alexander Hamilton as a significant adviser, laying the country's early governmental foundations. \n",
      "\n",
      "TERMINATE\n",
      "\n",
      "--------------------------------------------------------------------------------\n"
     ]
    },
    {
     "data": {
      "text/plain": [
       "ChatResult(chat_id=None, chat_history=[{'content': 'Tell me about the history of the United States', 'role': 'assistant', 'name': 'User'}, {'tool_calls': [{'id': 'call_gBcszkAyMnQ5z1InEf4aEUmn', 'function': {'arguments': '{\"tool_input\":{\"query\":\"History of the United States\"}}', 'name': 'wikipedia'}, 'type': 'function'}], 'content': None, 'role': 'assistant'}, {'content': 'Page: History of the United States\\nSummary: The history of the lands that became the United States began with the arrival of the first people in the Americas around 15,000 BC. After European colonization of North America began in the late 15th century, wars and epidemics decimated Indigenous societies. By the 1760s, the thirteen British colonies were established. The Southern Colonies built an agricultural system on slave labor, enslaving millions from Africa. After defeating France, the British Parliament imposed a series of taxes; resistance to these taxes, especially the Boston Tea Party in 1773, led to Parliament issuing the Intolerable Acts designed to end self-government.\\nIn 1776, the United States declared its independence. Led by General George Washington, it won the Revolutionary War in 1783. The Constitution was adopted in 1789, and a Bill of Rights was added in 1791 to guarantee inalienable rights. Washington, the first president, and his adviser Alexander Hamilton created a', 'tool_responses': [{'tool_call_id': 'call_gBcszkAyMnQ5z1InEf4aEUmn', 'role': 'tool', 'content': 'Page: History of the United States\\nSummary: The history of the lands that became the United States began with the arrival of the first people in the Americas around 15,000 BC. After European colonization of North America began in the late 15th century, wars and epidemics decimated Indigenous societies. By the 1760s, the thirteen British colonies were established. The Southern Colonies built an agricultural system on slave labor, enslaving millions from Africa. After defeating France, the British Parliament imposed a series of taxes; resistance to these taxes, especially the Boston Tea Party in 1773, led to Parliament issuing the Intolerable Acts designed to end self-government.\\nIn 1776, the United States declared its independence. Led by General George Washington, it won the Revolutionary War in 1783. The Constitution was adopted in 1789, and a Bill of Rights was added in 1791 to guarantee inalienable rights. Washington, the first president, and his adviser Alexander Hamilton created a'}], 'role': 'tool', 'name': 'User'}, {'content': \"The history of the United States started with the arrival of the first people in the Americas around 15,000 BC. The European colonization of North America began in the late 15th century, which significantly impacted Indigenous societies through wars and epidemics. By the 1760s, thirteen British colonies had been established. The Southern Colonies developed an agricultural system reliant on slave labor, bringing millions of enslaved Africans to America.\\n\\nTensions rose between the colonies and British Parliament due to a series of taxes, with the Boston Tea Party in 1773 marking a major protest against these impositions. This led to the Intolerable Acts aimed at suppressing colonial self-governance.\\n\\nIn 1776, the United States declared independence. Under the leadership of General George Washington, the U.S. emerged victorious in the Revolutionary War by 1783. The U.S. Constitution was adopted in 1789, followed by the Bill of Rights in 1791, which secured fundamental rights for its citizens. Washington became the first president, with Alexander Hamilton as a significant adviser, laying the country's early governmental foundations. \\n\\nTERMINATE\", 'role': 'user', 'name': 'chatbot'}], summary=\"The history of the United States started with the arrival of the first people in the Americas around 15,000 BC. The European colonization of North America began in the late 15th century, which significantly impacted Indigenous societies through wars and epidemics. By the 1760s, thirteen British colonies had been established. The Southern Colonies developed an agricultural system reliant on slave labor, bringing millions of enslaved Africans to America.\\n\\nTensions rose between the colonies and British Parliament due to a series of taxes, with the Boston Tea Party in 1773 marking a major protest against these impositions. This led to the Intolerable Acts aimed at suppressing colonial self-governance.\\n\\nIn 1776, the United States declared independence. Under the leadership of General George Washington, the U.S. emerged victorious in the Revolutionary War by 1783. The U.S. Constitution was adopted in 1789, followed by the Bill of Rights in 1791, which secured fundamental rights for its citizens. Washington became the first president, with Alexander Hamilton as a significant adviser, laying the country's early governmental foundations. \\n\\n\", cost={'usage_including_cached_inference': {'total_cost': 0.00589, 'gpt-4o-2024-08-06': {'cost': 0.00589, 'prompt_tokens': 1356, 'completion_tokens': 250, 'total_tokens': 1606}}, 'usage_excluding_cached_inference': {'total_cost': 0}}, human_input=[])"
      ]
     },
     "execution_count": 4,
     "metadata": {},
     "output_type": "execute_result"
    }
   ],
   "source": [
    "message = \"Tell me about the history of the United States\"\n",
    "user_proxy.initiate_chat(recipient=chatbot, message=message, max_turns=2)"
   ]
  },
  {
   "cell_type": "code",
   "execution_count": null,
   "metadata": {},
   "outputs": [],
   "source": []
  }
 ],
 "metadata": {
  "kernelspec": {
   "display_name": ".venv",
   "language": "python",
   "name": "python3"
  },
  "language_info": {
   "codemirror_mode": {
    "name": "ipython",
    "version": 3
   },
   "file_extension": ".py",
   "mimetype": "text/x-python",
   "name": "python",
   "nbconvert_exporter": "python",
   "pygments_lexer": "ipython3",
   "version": "3.10.16"
  }
 },
 "nbformat": 4,
 "nbformat_minor": 2
}
