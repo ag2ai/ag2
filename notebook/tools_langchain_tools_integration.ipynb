{
 "cells": [
  {
   "cell_type": "code",
   "execution_count": null,
   "metadata": {},
   "outputs": [],
   "source": [
    "# ! pip install wikipedia"
   ]
  },
  {
   "cell_type": "code",
   "execution_count": 2,
   "metadata": {},
   "outputs": [],
   "source": [
    "import os\n",
    "\n",
    "from langchain_community.tools import WikipediaQueryRun\n",
    "from langchain_community.utilities import WikipediaAPIWrapper\n",
    "\n",
    "from autogen import AssistantAgent, UserProxyAgent\n",
    "from autogen.interoperability.langchain import LangchainInteroperability"
   ]
  },
  {
   "cell_type": "code",
   "execution_count": 3,
   "metadata": {},
   "outputs": [],
   "source": [
    "config_list = [{\"model\": \"gpt-4o\", \"api_key\": os.environ[\"OPENAI_API_KEY\"]}]\n",
    "user_proxy = UserProxyAgent(\n",
    "    name=\"User\",\n",
    "    human_input_mode=\"NEVER\",\n",
    ")\n",
    "\n",
    "chatbot = AssistantAgent(\n",
    "    name=\"chatbot\",\n",
    "    llm_config={\"config_list\": config_list},\n",
    ")"
   ]
  },
  {
   "cell_type": "code",
   "execution_count": 4,
   "metadata": {},
   "outputs": [],
   "source": [
    "api_wrapper = WikipediaAPIWrapper(top_k_results=1, doc_content_chars_max=1000)\n",
    "langchain_tool = WikipediaQueryRun(api_wrapper=api_wrapper)\n",
    "\n",
    "langchain_interop = LangchainInteroperability()\n",
    "ag2_tool = langchain_interop.convert_tool(langchain_tool)\n"
   ]
  },
  {
   "cell_type": "code",
   "execution_count": 5,
   "metadata": {},
   "outputs": [],
   "source": [
    "ag2_tool.register_for_execution(user_proxy)\n",
    "ag2_tool.register_for_llm(chatbot)"
   ]
  },
  {
   "cell_type": "code",
   "execution_count": 6,
   "metadata": {},
   "outputs": [
    {
     "name": "stdout",
     "output_type": "stream",
     "text": [
      "\u001b[33mUser\u001b[0m (to chatbot):\n",
      "\n",
      "Tell me about the history of the United States\n",
      "\n",
      "--------------------------------------------------------------------------------\n",
      "\u001b[33mchatbot\u001b[0m (to User):\n",
      "\n",
      "\u001b[32m***** Suggested tool call (call_gBcszkAyMnQ5z1InEf4aEUmn): wikipedia *****\u001b[0m\n",
      "Arguments: \n",
      "{\"tool_input\":{\"query\":\"History of the United States\"}}\n",
      "\u001b[32m**************************************************************************\u001b[0m\n",
      "\n",
      "--------------------------------------------------------------------------------\n",
      "\u001b[35m\n",
      ">>>>>>>> EXECUTING FUNCTION wikipedia...\u001b[0m\n",
      "\u001b[33mUser\u001b[0m (to chatbot):\n",
      "\n",
      "\u001b[32m***** Response from calling tool (call_gBcszkAyMnQ5z1InEf4aEUmn) *****\u001b[0m\n",
      "Page: History of the United States\n",
      "Summary: The history of the lands that became the United States began with the arrival of the first people in the Americas around 15,000 BC. After European colonization of North America began in the late 15th century, wars and epidemics decimated Indigenous societies. By the 1760s, the thirteen British colonies were established. The Southern Colonies built an agricultural system on slave labor, enslaving millions from Africa. After defeating France, the British Parliament imposed a series of taxes; resistance to these taxes, especially the Boston Tea Party in 1773, led to Parliament issuing the Intolerable Acts designed to end self-government.\n",
      "In 1776, the United States declared its independence. Led by General George Washington, it won the Revolutionary War in 1783. The Constitution was adopted in 1789, and a Bill of Rights was added in 1791 to guarantee inalienable rights. George Washington, the first president, and his adviser Alexander Hamilton cr\n",
      "\u001b[32m**********************************************************************\u001b[0m\n",
      "\n",
      "--------------------------------------------------------------------------------\n",
      "\u001b[33mchatbot\u001b[0m (to User):\n",
      "\n",
      "The history of the United States began with the arrival of Native Americans in North America around 15,000 BC. European colonization of North America started in the late 15th century, which severely affected Indigenous societies through wars and epidemics.\n",
      "\n",
      "By the 1760s, thirteen British colonies had been established. The Southern Colonies developed an economy heavily reliant on slave labor, enslaving millions of people brought from Africa. The British victory over France led to increased British taxation of the colonies, leading to resistance from the colonists, exemplified by events like the Boston Tea Party in 1773.\n",
      "\n",
      "The growing tensions resulted in the American colonies declaring independence in 1776. With General George Washington leading the Continental Army, the United States won the Revolutionary War against Britain in 1783. The U.S. Constitution was adopted in 1789, establishing the foundation of the federal government, and the Bill of Rights was added in 1791 to ensure individual liberties. George Washington became the nation’s first president, with Alexander Hamilton among his key advisers.\n",
      "\n",
      "This marks the early formation and foundation of the United States as an independent nation. If you need more detailed information, let me know! TERMINATE\n",
      "\n",
      "--------------------------------------------------------------------------------\n"
     ]
    },
    {
     "data": {
      "text/plain": [
       "ChatResult(chat_id=None, chat_history=[{'content': 'Tell me about the history of the United States', 'role': 'assistant', 'name': 'User'}, {'tool_calls': [{'id': 'call_gBcszkAyMnQ5z1InEf4aEUmn', 'function': {'arguments': '{\"tool_input\":{\"query\":\"History of the United States\"}}', 'name': 'wikipedia'}, 'type': 'function'}], 'content': None, 'role': 'assistant'}, {'content': 'Page: History of the United States\\nSummary: The history of the lands that became the United States began with the arrival of the first people in the Americas around 15,000 BC. After European colonization of North America began in the late 15th century, wars and epidemics decimated Indigenous societies. By the 1760s, the thirteen British colonies were established. The Southern Colonies built an agricultural system on slave labor, enslaving millions from Africa. After defeating France, the British Parliament imposed a series of taxes; resistance to these taxes, especially the Boston Tea Party in 1773, led to Parliament issuing the Intolerable Acts designed to end self-government.\\nIn 1776, the United States declared its independence. Led by General George Washington, it won the Revolutionary War in 1783. The Constitution was adopted in 1789, and a Bill of Rights was added in 1791 to guarantee inalienable rights. George Washington, the first president, and his adviser Alexander Hamilton cr', 'tool_responses': [{'tool_call_id': 'call_gBcszkAyMnQ5z1InEf4aEUmn', 'role': 'tool', 'content': 'Page: History of the United States\\nSummary: The history of the lands that became the United States began with the arrival of the first people in the Americas around 15,000 BC. After European colonization of North America began in the late 15th century, wars and epidemics decimated Indigenous societies. By the 1760s, the thirteen British colonies were established. The Southern Colonies built an agricultural system on slave labor, enslaving millions from Africa. After defeating France, the British Parliament imposed a series of taxes; resistance to these taxes, especially the Boston Tea Party in 1773, led to Parliament issuing the Intolerable Acts designed to end self-government.\\nIn 1776, the United States declared its independence. Led by General George Washington, it won the Revolutionary War in 1783. The Constitution was adopted in 1789, and a Bill of Rights was added in 1791 to guarantee inalienable rights. George Washington, the first president, and his adviser Alexander Hamilton cr'}], 'role': 'tool', 'name': 'User'}, {'content': 'The history of the United States began with the arrival of Native Americans in North America around 15,000 BC. European colonization of North America started in the late 15th century, which severely affected Indigenous societies through wars and epidemics.\\n\\nBy the 1760s, thirteen British colonies had been established. The Southern Colonies developed an economy heavily reliant on slave labor, enslaving millions of people brought from Africa. The British victory over France led to increased British taxation of the colonies, leading to resistance from the colonists, exemplified by events like the Boston Tea Party in 1773.\\n\\nThe growing tensions resulted in the American colonies declaring independence in 1776. With General George Washington leading the Continental Army, the United States won the Revolutionary War against Britain in 1783. The U.S. Constitution was adopted in 1789, establishing the foundation of the federal government, and the Bill of Rights was added in 1791 to ensure individual liberties. George Washington became the nation’s first president, with Alexander Hamilton among his key advisers.\\n\\nThis marks the early formation and foundation of the United States as an independent nation. If you need more detailed information, let me know! TERMINATE', 'role': 'user', 'name': 'chatbot'}], summary='The history of the United States began with the arrival of Native Americans in North America around 15,000 BC. European colonization of North America started in the late 15th century, which severely affected Indigenous societies through wars and epidemics.\\n\\nBy the 1760s, thirteen British colonies had been established. The Southern Colonies developed an economy heavily reliant on slave labor, enslaving millions of people brought from Africa. The British victory over France led to increased British taxation of the colonies, leading to resistance from the colonists, exemplified by events like the Boston Tea Party in 1773.\\n\\nThe growing tensions resulted in the American colonies declaring independence in 1776. With General George Washington leading the Continental Army, the United States won the Revolutionary War against Britain in 1783. The U.S. Constitution was adopted in 1789, establishing the foundation of the federal government, and the Bill of Rights was added in 1791 to ensure individual liberties. George Washington became the nation’s first president, with Alexander Hamilton among his key advisers.\\n\\nThis marks the early formation and foundation of the United States as an independent nation. If you need more detailed information, let me know! ', cost={'usage_including_cached_inference': {'total_cost': 0.00601, 'gpt-4o-2024-08-06': {'cost': 0.00601, 'prompt_tokens': 1356, 'completion_tokens': 262, 'total_tokens': 1618}}, 'usage_excluding_cached_inference': {'total_cost': 0}}, human_input=[])"
      ]
     },
     "execution_count": 6,
     "metadata": {},
     "output_type": "execute_result"
    }
   ],
   "source": [
    "message = \"Tell me about the history of the United States\"\n",
    "user_proxy.initiate_chat(recipient=chatbot, message=message, max_turns=2)"
   ]
  }
 ],
 "metadata": {
  "kernelspec": {
   "display_name": ".venv",
   "language": "python",
   "name": "python3"
  },
  "language_info": {
   "codemirror_mode": {
    "name": "ipython",
    "version": 3
   },
   "file_extension": ".py",
   "mimetype": "text/x-python",
   "name": "python",
   "nbconvert_exporter": "python",
   "pygments_lexer": "ipython3",
   "version": "3.10.16"
  }
 },
 "nbformat": 4,
 "nbformat_minor": 2
}
