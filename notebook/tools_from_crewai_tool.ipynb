{
 "cells": [
  {
   "cell_type": "code",
   "execution_count": 10,
   "metadata": {},
   "outputs": [],
   "source": [
    "# ! pip install 'crewai[tools]'"
   ]
  },
  {
   "cell_type": "code",
   "execution_count": 11,
   "metadata": {},
   "outputs": [],
   "source": [
    "import os\n",
    "import tempfile\n",
    "from pathlib import Path\n",
    "\n",
    "from crewai_tools import FileWriterTool\n",
    "\n",
    "from autogen import AssistantAgent, UserProxyAgent\n",
    "from autogen.tools import Tool"
   ]
  },
  {
   "cell_type": "code",
   "execution_count": 12,
   "metadata": {},
   "outputs": [],
   "source": [
    "config_list = [{\"model\": \"gpt-4\", \"api_key\": os.environ[\"OPENAI_API_KEY\"]}]\n",
    "user_proxy = UserProxyAgent(\n",
    "    name=\"User\",\n",
    "    human_input_mode=\"NEVER\",\n",
    ")\n",
    "\n",
    "chatbot = AssistantAgent(\n",
    "    name=\"chatbot\",\n",
    "    llm_config={\"config_list\": config_list},\n",
    ")"
   ]
  },
  {
   "cell_type": "code",
   "execution_count": 13,
   "metadata": {},
   "outputs": [
    {
     "name": "stdout",
     "output_type": "stream",
     "text": [
      "\u001b[33mUser\u001b[0m (to chatbot):\n",
      "\n",
      "Write 'Easy Migration :)' into tool_result.txt.\n",
      "Use /var/folders/79/kmq3y0pj0rbgrrnf4xlq8q0c0000gn/T/tmpplvoeszo dir.\n",
      "\n"
     ]
    },
    {
     "name": "stdout",
     "output_type": "stream",
     "text": [
      "\n",
      "--------------------------------------------------------------------------------\n",
      "\u001b[33mchatbot\u001b[0m (to User):\n",
      "\n",
      "\u001b[32m***** Suggested tool call (call_8BpLgDeuKWZJz6W21U0LmNRq): File_Writer_Tool *****\u001b[0m\n",
      "Arguments: \n",
      "{\n",
      "  \"args\": {\n",
      "    \"filename\": \"tool_result.txt\",\n",
      "    \"directory\": \"/var/folders/79/kmq3y0pj0rbgrrnf4xlq8q0c0000gn/T/tmpplvoeszo\",\n",
      "    \"overwrite\": \"True\",\n",
      "    \"content\": \"Easy Migration :)\"\n",
      "  }\n",
      "}\n",
      "\u001b[32m*********************************************************************************\u001b[0m\n",
      "\n",
      "--------------------------------------------------------------------------------\n",
      "\u001b[35m\n",
      ">>>>>>>> EXECUTING FUNCTION File_Writer_Tool...\u001b[0m\n",
      "Using Tool: File Writer Tool\n",
      "\u001b[33mUser\u001b[0m (to chatbot):\n",
      "\n",
      "\u001b[32m***** Response from calling tool (call_8BpLgDeuKWZJz6W21U0LmNRq) *****\u001b[0m\n",
      "Content successfully written to /var/folders/79/kmq3y0pj0rbgrrnf4xlq8q0c0000gn/T/tmpplvoeszo/tool_result.txt\n",
      "\u001b[32m**********************************************************************\u001b[0m\n",
      "\n",
      "--------------------------------------------------------------------------------\n",
      "\u001b[33mchatbot\u001b[0m (to User):\n",
      "\n",
      "I've successfully written the text 'Easy Migration :)' into the file named 'tool_result.txt' located in the directory '/var/folders/79/kmq3y0pj0rbgrrnf4xlq8q0c0000gn/T/tmpplvoeszo'. \n",
      "\n",
      "TERMINATE\n",
      "\n",
      "--------------------------------------------------------------------------------\n"
     ]
    }
   ],
   "source": [
    "with tempfile.TemporaryDirectory() as tmpdirname:\n",
    "    crewai_tool = FileWriterTool()\n",
    "    ag2_tool = Tool.from_crewai_tool(crewai_tool)\n",
    "\n",
    "    ag2_tool.register_for_execution(user_proxy)\n",
    "    ag2_tool.register_for_llm(chatbot)\n",
    "\n",
    "    filename = \"tool_result.txt\"\n",
    "    message = f\"\"\"Write 'Easy Migration :)' into {filename}.\n",
    "Use {tmpdirname} dir.\n",
    "\"\"\"\n",
    "    user_proxy.initiate_chat(recipient=chatbot, message=message, max_turns=2)\n",
    "\n",
    "    assert Path(tmpdirname, filename).read_text() == \"Easy Migration :)\"\n"
   ]
  }
 ],
 "metadata": {
  "kernelspec": {
   "display_name": ".venv",
   "language": "python",
   "name": "python3"
  },
  "language_info": {
   "codemirror_mode": {
    "name": "ipython",
    "version": 3
   },
   "file_extension": ".py",
   "mimetype": "text/x-python",
   "name": "python",
   "nbconvert_exporter": "python",
   "pygments_lexer": "ipython3",
   "version": "3.10.16"
  }
 },
 "nbformat": 4,
 "nbformat_minor": 2
}
