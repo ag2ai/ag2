{
 "cells": [
  {
   "cell_type": "markdown",
   "metadata": {},
   "source": [
    "# OpenAI Response API with Structured Output\n",
    "\n",
    "This example demonstrates how to use Structured Output with OpenAI response API client."
   ]
  },
  {
   "cell_type": "code",
   "execution_count": null,
   "metadata": {},
   "outputs": [],
   "source": [
    "import json\n",
    "import os\n",
    "\n",
    "from pydantic import BaseModel\n",
    "\n",
    "import autogen\n",
    "\n",
    "\n",
    "# ---------------------------------------------------------------------\n",
    "# 1. Define the response format (a Pydantic model)\n",
    "# ---------------------------------------------------------------------\n",
    "class QA(BaseModel):\n",
    "    question: str\n",
    "    answer: str\n",
    "    reasoning: str\n",
    "\n",
    "\n",
    "# ---------------------------------------------------------------------\n",
    "# 2. Build an llm_config that opts-in to the Responses endpoint\n",
    "#    and attaches the structured-output model\n",
    "# ---------------------------------------------------------------------\n",
    "llm_config = {\n",
    "    \"config_list\": [\n",
    "        {\n",
    "            \"api_type\": \"responses\",  # <─ use /responses\n",
    "            \"model\": \"gpt-4o\",  # any supported model\n",
    "            \"api_key\": os.getenv(\"OPENAI_API_KEY\"),\n",
    "            \"response_format\": QA,  # <─ structured output!\n",
    "        }\n",
    "    ]\n",
    "}\n",
    "\n",
    "# ---------------------------------------------------------------------\n",
    "# 3. Create two simple chat actors\n",
    "# ---------------------------------------------------------------------\n",
    "user = autogen.UserProxyAgent(\n",
    "    name=\"User\",\n",
    "    system_message=\"Human admin\",\n",
    "    human_input_mode=\"NEVER\",\n",
    ")\n",
    "\n",
    "assistant = autogen.AssistantAgent(\n",
    "    name=\"StructuredBot\",\n",
    "    llm_config=llm_config,\n",
    "    system_message=(\n",
    "        \"You are a Q&A bot. Always return a JSON object that matches the QA schema: {question, answer, reasoning}\"\n",
    "    ),\n",
    ")\n",
    "\n",
    "# ---------------------------------------------------------------------\n",
    "# 4. Start the conversation\n",
    "# ---------------------------------------------------------------------\n",
    "result = user.initiate_chat(\n",
    "    assistant,\n",
    "    message=\"What causes seasons on Earth?\",\n",
    "    max_turns=1,\n",
    "    summary_method=\"last_msg\",\n",
    ")"
   ]
  },
  {
   "cell_type": "code",
   "execution_count": null,
   "metadata": {},
   "outputs": [],
   "source": [
    "print(\"RAW LLM OUTPUT:\", result.summary)  # already parsed!\n",
    "print()\n",
    "print(\"Pretty-printed ➜\")\n",
    "obj = json.loads(result.summary)  # or result.summary if you added .format()\n",
    "print(json.dumps(obj, indent=2))\n",
    "\n",
    "# Expected output:\n",
    "# RAW LLM OUTPUT: {\"question\":\"What causes seasons on Earth?\",\"answer\":\"The tilt of Earth's rotational axis relative to its orbital plane.\",\"reasoning\":\"Earth’s axis is tilted about 23.5°...\"}"
   ]
  }
 ],
 "metadata": {
  "front_matter": {
   "description": "This example demonstrates how to use Structured Output with OpenAI response API client.",
   "tags": [
    "code generation",
    "debugging"
   ]
  },
  "kernelspec": {
   "display_name": "Python 3",
   "language": "python",
   "name": "python3"
  },
  "language_info": {
   "codemirror_mode": {
    "name": "ipython",
    "version": 3
   },
   "file_extension": ".py",
   "mimetype": "text/x-python",
   "name": "python",
   "nbconvert_exporter": "python",
   "pygments_lexer": "ipython3",
   "version": "3.11.12"
  }
 },
 "nbformat": 4,
 "nbformat_minor": 2
}
