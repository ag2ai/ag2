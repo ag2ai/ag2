{
 "cells": [
  {
   "cell_type": "code",
   "execution_count": null,
   "id": "0",
   "metadata": {},
   "outputs": [],
   "source": [
    "from typing import Optional\n",
    "\n",
    "from autogen import ConversableAgent, LLMConfig\n",
    "from autogen.events.agent_events import ExecutedFunctionEvent\n",
    "from autogen.io.processors.base import EventProcessorProtocol\n",
    "from autogen.io.processors.console_event_processor import ConsoleEventProcessor\n",
    "from autogen.io.run_response import RunResponseProtocol\n",
    "from autogen.tools import tool"
   ]
  },
  {
   "cell_type": "code",
   "execution_count": null,
   "id": "1",
   "metadata": {},
   "outputs": [],
   "source": [
    "llm_config = LLMConfig(api_type=\"openai\", model=\"gpt-4o-mini\")\n",
    "agent = ConversableAgent(\n",
    "    name=\"agent\",\n",
    "    llm_config=llm_config,\n",
    ")\n",
    "\n",
    "\n",
    "@tool(description=\"List files and folders\")\n",
    "def list_files(\n",
    "    folder_name: str,\n",
    ") -> str:\n",
    "    raise NotImplementedError(\"This function is not implemented yet.\")\n",
    "\n",
    "\n",
    "list_files.register_for_llm(agent)"
   ]
  },
  {
   "cell_type": "code",
   "execution_count": null,
   "id": "2",
   "metadata": {},
   "outputs": [],
   "source": [
    "def custom_response_process(\n",
    "    response: RunResponseProtocol,\n",
    "    processor: Optional[EventProcessorProtocol] = None,\n",
    "    fail_on_error_messages_list: Optional[list[str]] = None,\n",
    ") -> None:\n",
    "    processor = processor or ConsoleEventProcessor()\n",
    "    for event in response.events:\n",
    "        if (\n",
    "            fail_on_error_messages_list\n",
    "            and isinstance(event, ExecutedFunctionEvent)\n",
    "            and not event.content.is_exec_success\n",
    "            and any(error_msg in event.content.content for error_msg in fail_on_error_messages_list)\n",
    "        ):\n",
    "            raise RuntimeError(f\"Function execution failed: {event.content}\")\n",
    "        processor.process_event(event)\n",
    "\n",
    "\n",
    "# use this instead of the default response.process() to handle custom error messages"
   ]
  },
  {
   "cell_type": "code",
   "execution_count": null,
   "id": "3",
   "metadata": {},
   "outputs": [],
   "source": [
    "response = agent.run(\n",
    "    message=\"List all files and folders in the 'root' folder\",\n",
    "    tools=agent.tools,\n",
    "    user_input=False,\n",
    "    max_turns=3,\n",
    ")\n",
    "\n",
    "fail_on_error_messages_list = [\"Some other error message\"]\n",
    "# The tool will raise NotImplementedError(\"This function is not implemented yet.\") and we won't kill the process\n",
    "custom_response_process(response=response, fail_on_error_messages_list=fail_on_error_messages_list)"
   ]
  },
  {
   "cell_type": "code",
   "execution_count": null,
   "id": "4",
   "metadata": {},
   "outputs": [],
   "source": [
    "response = agent.run(\n",
    "    message=\"List all files and folders in the 'root' folder\",\n",
    "    tools=agent.tools,\n",
    "    user_input=False,\n",
    "    max_turns=3,\n",
    ")\n",
    "\n",
    "\n",
    "fail_on_error_messages_list = [\"This function is not implemented yet.\"]\n",
    "# The tool will raise NotImplementedError(\"This function is not implemented yet.\") and we WILL kill the process\n",
    "custom_response_process(response=response, fail_on_error_messages_list=fail_on_error_messages_list)"
   ]
  },
  {
   "cell_type": "code",
   "execution_count": null,
   "id": "5",
   "metadata": {},
   "outputs": [],
   "source": []
  }
 ],
 "metadata": {
  "kernelspec": {
   "display_name": ".venv",
   "language": "python",
   "name": "python3"
  },
  "language_info": {
   "codemirror_mode": {
    "name": "ipython",
    "version": 3
   },
   "file_extension": ".py",
   "mimetype": "text/x-python",
   "name": "python",
   "nbconvert_exporter": "python",
   "pygments_lexer": "ipython3",
   "version": "3.11.8"
  }
 },
 "nbformat": 4,
 "nbformat_minor": 5
}
